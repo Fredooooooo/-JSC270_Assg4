{
  "nbformat": 4,
  "nbformat_minor": 0,
  "metadata": {
    "accelerator": "GPU",
    "colab": {
      "name": "JSC270 Assignment 4.ipynb",
      "provenance": [],
      "collapsed_sections": [],
      "include_colab_link": true
    },
    "kernelspec": {
      "display_name": "Python 3",
      "name": "python3"
    },
    "language_info": {
      "name": "python"
    }
  },
  "cells": [
    {
      "cell_type": "markdown",
      "metadata": {
        "id": "view-in-github",
        "colab_type": "text"
      },
      "source": [
        "<a href=\"https://colab.research.google.com/github/Fredooooooo/JSC270_Assg4/blob/main/JSC270_Assignment_4.ipynb\" target=\"_parent\"><img src=\"https://colab.research.google.com/assets/colab-badge.svg\" alt=\"Open In Colab\"/></a>"
      ]
    },
    {
      "cell_type": "code",
      "metadata": {
        "id": "x3UrS-0qOUvw"
      },
      "source": [
        "api_key = 'RnHS3Y3lkrv9pzkHVFcVYVArH'\n",
        "api_secret_key = 'xLMxTxhEHluPlcsPgb2rur07hBR4qSuzGdIVhJg0hpEiR1nTBm'\n",
        "access_key = '1376070608950267904-AlJkcNLLxsAByp9NmFU854synmuzq5'\n",
        "access_secret = 'dtH18I0v8Ob44BAUXhrJB9TNvnFfQykBafXY4fl4JtdJB'"
      ],
      "execution_count": 2,
      "outputs": []
    },
    {
      "cell_type": "code",
      "metadata": {
        "id": "F72g4PAcF15A"
      },
      "source": [
        "import re\n",
        "import numpy as np\n",
        "import pandas as pd \n",
        "import io\n",
        "import nltk\n",
        "from nltk.corpus import stopwords\n",
        "from nltk.stem.porter import *\n",
        "from nltk.stem.snowball import SnowballStemmer\n",
        "from nltk.stem import WordNetLemmatizer\n",
        "from sklearn.feature_extraction.text import CountVectorizer\n",
        "from sklearn.feature_extraction.text import TfidfTransformer\n",
        "from sklearn.model_selection import train_test_split\n",
        "from sklearn.naive_bayes import MultinomialNB\n",
        "from sklearn.metrics import accuracy_score, roc_curve\n",
        "import matplotlib.pyplot as plt"
      ],
      "execution_count": 3,
      "outputs": []
    },
    {
      "cell_type": "code",
      "metadata": {
        "id": "uE1wq9IoSAYJ"
      },
      "source": [
        "import tweepy as tw\n",
        "# Use credentials to authorize access\n",
        "auth = tw.OAuthHandler(api_key, api_secret_key)\n",
        "auth.set_access_token(access_key, access_secret)\n",
        "api = tw.API(auth, wait_on_rate_limit=True)\n",
        "search_words = ' -filter:retweets'\n",
        "date_since = \"2021-03-09\"\n",
        "\n",
        "#Collect tweets (here, I get only 20)\n",
        "tweets = tw.Cursor(api.search,\n",
        "              q=search_words,\n",
        "              lang=\"en\",\n",
        "              since=date_since).items(200)\n",
        "\n",
        "# The result is an iterable\n",
        "a = []\n",
        "b = []\n",
        "for tweet in tweets:\n",
        "  a.append(tweet.text)\n",
        "  b.append(tweet.user.followers_count)"
      ],
      "execution_count": 9,
      "outputs": []
    },
    {
      "cell_type": "code",
      "metadata": {
        "colab": {
          "base_uri": "https://localhost:8080/"
        },
        "id": "6aflpf2XOu5Y",
        "outputId": "7b7b534a-a14b-4796-db70-1b6ecf5f66c4"
      },
      "source": [
        "import pandas as pd\n",
        "import re\n",
        "\n",
        "# tweet_list = [tweet.text for tweet in tweets]\n",
        "df = pd.DataFrame(a, columns = ['tweet'])\n",
        "df['followers'] = b\n",
        "print(df.count())"
      ],
      "execution_count": 10,
      "outputs": [
        {
          "output_type": "stream",
          "text": [
            "tweet        200\n",
            "followers    200\n",
            "dtype: int64\n"
          ],
          "name": "stdout"
        }
      ]
    },
    {
      "cell_type": "code",
      "metadata": {
        "colab": {
          "base_uri": "https://localhost:8080/",
          "height": 195
        },
        "id": "SqD7I8wEYmdg",
        "outputId": "642c63cb-fc60-4dd3-83f1-f6fe6dda58c3"
      },
      "source": [
        "handle_regex = '@[A-Za-z|0-9|_]+'\n",
        "\n",
        "d = []\n",
        "for row in df['tweet']:\n",
        "  d.append(re.sub(handle_regex,'', row))\n",
        "\n",
        "df['tweet'] = d\n",
        "df.head()"
      ],
      "execution_count": 24,
      "outputs": [
        {
          "output_type": "execute_result",
          "data": {
            "text/html": [
              "<div>\n",
              "<style scoped>\n",
              "    .dataframe tbody tr th:only-of-type {\n",
              "        vertical-align: middle;\n",
              "    }\n",
              "\n",
              "    .dataframe tbody tr th {\n",
              "        vertical-align: top;\n",
              "    }\n",
              "\n",
              "    .dataframe thead th {\n",
              "        text-align: right;\n",
              "    }\n",
              "</style>\n",
              "<table border=\"1\" class=\"dataframe\">\n",
              "  <thead>\n",
              "    <tr style=\"text-align: right;\">\n",
              "      <th></th>\n",
              "      <th>tweet</th>\n",
              "      <th>followers</th>\n",
              "      <th>labels</th>\n",
              "      <th>tokens</th>\n",
              "    </tr>\n",
              "  </thead>\n",
              "  <tbody>\n",
              "    <tr>\n",
              "      <th>0</th>\n",
              "      <td>Do the #Braves just not care about winning any...</td>\n",
              "      <td>8979</td>\n",
              "      <td>1</td>\n",
              "      <td>[brave, just, not, care, about, winning, anymo...</td>\n",
              "    </tr>\n",
              "    <tr>\n",
              "      <th>1</th>\n",
              "      <td>a special gift for all coin hod1ers out there...</td>\n",
              "      <td>440</td>\n",
              "      <td>1</td>\n",
              "      <td>[special, gift, all, coin, hod1ers, out, there...</td>\n",
              "    </tr>\n",
              "    <tr>\n",
              "      <th>2</th>\n",
              "      <td>being ate UP😭</td>\n",
              "      <td>1698</td>\n",
              "      <td>1</td>\n",
              "      <td>[ate, up]</td>\n",
              "    </tr>\n",
              "    <tr>\n",
              "      <th>3</th>\n",
              "      <td>The day I lose you, I will lose myself.</td>\n",
              "      <td>0</td>\n",
              "      <td>0</td>\n",
              "      <td>[day, lose, will, lose]</td>\n",
              "    </tr>\n",
              "    <tr>\n",
              "      <th>4</th>\n",
              "      <td>That dumb shit. The youth they know no better.</td>\n",
              "      <td>159</td>\n",
              "      <td>1</td>\n",
              "      <td>[dumb, shit, youth, know, no, better]</td>\n",
              "    </tr>\n",
              "  </tbody>\n",
              "</table>\n",
              "</div>"
            ],
            "text/plain": [
              "                                               tweet  ...                                             tokens\n",
              "0  Do the #Braves just not care about winning any...  ...  [brave, just, not, care, about, winning, anymo...\n",
              "1   a special gift for all coin hod1ers out there...  ...  [special, gift, all, coin, hod1ers, out, there...\n",
              "2                                      being ate UP😭  ...                                          [ate, up]\n",
              "3            The day I lose you, I will lose myself.  ...                            [day, lose, will, lose]\n",
              "4     That dumb shit. The youth they know no better.  ...              [dumb, shit, youth, know, no, better]\n",
              "\n",
              "[5 rows x 4 columns]"
            ]
          },
          "metadata": {
            "tags": []
          },
          "execution_count": 24
        }
      ]
    },
    {
      "cell_type": "code",
      "metadata": {
        "colab": {
          "base_uri": "https://localhost:8080/",
          "height": 195
        },
        "id": "u2FNKkXzTF-f",
        "outputId": "e0dae4e0-9c0d-46cc-f791-d74b7f9da460"
      },
      "source": [
        "c = []\n",
        "for x in df['followers']:\n",
        "  if 0 <= x <= 100:\n",
        "    c.append(0)\n",
        "  elif 100 < x <= 10000:\n",
        "    c.append(1)\n",
        "  else:\n",
        "    c.append(2)\n",
        "df['labels'] = c\n",
        "df.head()"
      ],
      "execution_count": 25,
      "outputs": [
        {
          "output_type": "execute_result",
          "data": {
            "text/html": [
              "<div>\n",
              "<style scoped>\n",
              "    .dataframe tbody tr th:only-of-type {\n",
              "        vertical-align: middle;\n",
              "    }\n",
              "\n",
              "    .dataframe tbody tr th {\n",
              "        vertical-align: top;\n",
              "    }\n",
              "\n",
              "    .dataframe thead th {\n",
              "        text-align: right;\n",
              "    }\n",
              "</style>\n",
              "<table border=\"1\" class=\"dataframe\">\n",
              "  <thead>\n",
              "    <tr style=\"text-align: right;\">\n",
              "      <th></th>\n",
              "      <th>tweet</th>\n",
              "      <th>followers</th>\n",
              "      <th>labels</th>\n",
              "      <th>tokens</th>\n",
              "    </tr>\n",
              "  </thead>\n",
              "  <tbody>\n",
              "    <tr>\n",
              "      <th>0</th>\n",
              "      <td>Do the #Braves just not care about winning any...</td>\n",
              "      <td>8979</td>\n",
              "      <td>1</td>\n",
              "      <td>[brave, just, not, care, about, winning, anymo...</td>\n",
              "    </tr>\n",
              "    <tr>\n",
              "      <th>1</th>\n",
              "      <td>a special gift for all coin hod1ers out there...</td>\n",
              "      <td>440</td>\n",
              "      <td>1</td>\n",
              "      <td>[special, gift, all, coin, hod1ers, out, there...</td>\n",
              "    </tr>\n",
              "    <tr>\n",
              "      <th>2</th>\n",
              "      <td>being ate UP😭</td>\n",
              "      <td>1698</td>\n",
              "      <td>1</td>\n",
              "      <td>[ate, up]</td>\n",
              "    </tr>\n",
              "    <tr>\n",
              "      <th>3</th>\n",
              "      <td>The day I lose you, I will lose myself.</td>\n",
              "      <td>0</td>\n",
              "      <td>0</td>\n",
              "      <td>[day, lose, will, lose]</td>\n",
              "    </tr>\n",
              "    <tr>\n",
              "      <th>4</th>\n",
              "      <td>That dumb shit. The youth they know no better.</td>\n",
              "      <td>159</td>\n",
              "      <td>1</td>\n",
              "      <td>[dumb, shit, youth, know, no, better]</td>\n",
              "    </tr>\n",
              "  </tbody>\n",
              "</table>\n",
              "</div>"
            ],
            "text/plain": [
              "                                               tweet  ...                                             tokens\n",
              "0  Do the #Braves just not care about winning any...  ...  [brave, just, not, care, about, winning, anymo...\n",
              "1   a special gift for all coin hod1ers out there...  ...  [special, gift, all, coin, hod1ers, out, there...\n",
              "2                                      being ate UP😭  ...                                          [ate, up]\n",
              "3            The day I lose you, I will lose myself.  ...                            [day, lose, will, lose]\n",
              "4     That dumb shit. The youth they know no better.  ...              [dumb, shit, youth, know, no, better]\n",
              "\n",
              "[5 rows x 4 columns]"
            ]
          },
          "metadata": {
            "tags": []
          },
          "execution_count": 25
        }
      ]
    },
    {
      "cell_type": "code",
      "metadata": {
        "colab": {
          "base_uri": "https://localhost:8080/"
        },
        "id": "bA827RNGTsId",
        "outputId": "8a5c7ddf-f6dc-4612-824b-54538e8fcabc"
      },
      "source": [
        "low_proportion = df['labels'].tolist().count(0)\n",
        "medium_proportion = df['labels'].tolist().count(1)\n",
        "high_proportion = df['labels'].tolist().count(2)\n",
        "print(low_proportion, medium_proportion, high_proportion)\n",
        "print(df.followers.mean)"
      ],
      "execution_count": 26,
      "outputs": [
        {
          "output_type": "stream",
          "text": [
            "52 138 10\n",
            "<bound method Series.mean of 0       8979\n",
            "1        440\n",
            "2       1698\n",
            "3          0\n",
            "4        159\n",
            "       ...  \n",
            "195    20783\n",
            "196       33\n",
            "197      449\n",
            "198      187\n",
            "199      789\n",
            "Name: followers, Length: 200, dtype: int64>\n"
          ],
          "name": "stdout"
        }
      ]
    },
    {
      "cell_type": "code",
      "metadata": {
        "colab": {
          "base_uri": "https://localhost:8080/"
        },
        "id": "RL_64K3CUge4",
        "outputId": "17ecfddc-50be-4cf8-f6fc-2e93d33c41f9"
      },
      "source": [
        "import nltk\n",
        "# Download the tokenizer\n",
        "nltk.download('punkt')\n",
        "\n",
        "# Create a new column in our DF that contains token lists instead of raw text\n",
        "df['tokens'] = df['tweet'].apply(nltk.word_tokenize)\n",
        "\n",
        "print(df['tokens'].head(5))"
      ],
      "execution_count": 27,
      "outputs": [
        {
          "output_type": "stream",
          "text": [
            "[nltk_data] Downloading package punkt to /root/nltk_data...\n",
            "[nltk_data]   Package punkt is already up-to-date!\n",
            "0    [Do, the, #, Braves, just, not, care, about, w...\n",
            "1    [a, special, gift, for, all, coin, hod1ers, ou...\n",
            "2                                    [being, ate, UP😭]\n",
            "3    [The, day, I, lose, you, ,, I, will, lose, mys...\n",
            "4    [That, dumb, shit, ., The, youth, they, know, ...\n",
            "Name: tokens, dtype: object\n"
          ],
          "name": "stdout"
        }
      ]
    },
    {
      "cell_type": "code",
      "metadata": {
        "colab": {
          "base_uri": "https://localhost:8080/"
        },
        "id": "DWbn9FWbU1Ok",
        "outputId": "5d9ed1d8-9634-40ff-888b-62b818cd2f5e"
      },
      "source": [
        "##### Convert tokens into lowercase ####\n",
        "lowercase_tokens = []\n",
        "# Create a list of lists with what we want\n",
        "for row in df['tokens']:\n",
        "  lowercase_tokens.append([t.lower() for t in row])\n",
        "# add the new info to our df\n",
        "df['lowercase_tokens'] = lowercase_tokens\n",
        "\n",
        "print(df['lowercase_tokens'].head(5))"
      ],
      "execution_count": 28,
      "outputs": [
        {
          "output_type": "stream",
          "text": [
            "0    [do, the, #, braves, just, not, care, about, w...\n",
            "1    [a, special, gift, for, all, coin, hod1ers, ou...\n",
            "2                                    [being, ate, up😭]\n",
            "3    [the, day, i, lose, you, ,, i, will, lose, mys...\n",
            "4    [that, dumb, shit, ., the, youth, they, know, ...\n",
            "Name: lowercase_tokens, dtype: object\n"
          ],
          "name": "stdout"
        }
      ]
    },
    {
      "cell_type": "code",
      "metadata": {
        "colab": {
          "base_uri": "https://localhost:8080/"
        },
        "id": "fcPfkbmyVGxl",
        "outputId": "ae18660f-e8ec-4b17-be4d-bcb7e0a40dd6"
      },
      "source": [
        "##### Let's remove punctuation #####\n",
        "\n",
        "# Note we've been keeping different columns for different steps (not necessary)\n",
        "list(df)\n",
        "\n",
        "# Same process as before\n",
        "tokens_no_punct = []\n",
        "# Create a list of lists with what we want\n",
        "for row in df['lowercase_tokens']:\n",
        "  tokens_no_punct.append([re.sub('[^\\w\\s]','', t) for t in row])\n",
        "# add the new info to our df\n",
        "df['tokens_no_punct'] = tokens_no_punct\n",
        "\n",
        "print(df['tokens_no_punct'].head(5))"
      ],
      "execution_count": 29,
      "outputs": [
        {
          "output_type": "stream",
          "text": [
            "0    [do, the, , braves, just, not, care, about, wi...\n",
            "1    [a, special, gift, for, all, coin, hod1ers, ou...\n",
            "2                                     [being, ate, up]\n",
            "3    [the, day, i, lose, you, , i, will, lose, myse...\n",
            "4    [that, dumb, shit, , the, youth, they, know, n...\n",
            "Name: tokens_no_punct, dtype: object\n"
          ],
          "name": "stdout"
        }
      ]
    },
    {
      "cell_type": "code",
      "metadata": {
        "colab": {
          "base_uri": "https://localhost:8080/"
        },
        "id": "SuTtFVDGWBL_",
        "outputId": "e8b87b18-6b28-431f-f633-630cedb0b7dd"
      },
      "source": [
        "##### Time to remove Stopwords #####\n",
        "import numpy as np\n",
        "from nltk.corpus import stopwords\n",
        "nltk.download('stopwords')\n",
        "sw = stopwords.words('english')[:75]\n",
        "tokens_no_sw = []\n",
        "for row in df['tokens_no_punct']:\n",
        "  tokens_no_sw.append([w for w in row if w not in sw])\n",
        "# Add column to df\n",
        "df['tokens_no_sw'] = tokens_no_sw\n",
        "\n",
        "# Print some examples\n",
        "print(df['tokens_no_sw'].head(5))"
      ],
      "execution_count": 31,
      "outputs": [
        {
          "output_type": "stream",
          "text": [
            "[nltk_data] Downloading package stopwords to /root/nltk_data...\n",
            "[nltk_data]   Package stopwords is already up-to-date!\n",
            "0    [, braves, just, not, care, about, winning, an...\n",
            "1    [special, gift, all, coin, hod1ers, out, there...\n",
            "2                                            [ate, up]\n",
            "3                          [day, lose, , will, lose, ]\n",
            "4            [dumb, shit, , youth, know, no, better, ]\n",
            "Name: tokens_no_sw, dtype: object\n"
          ],
          "name": "stdout"
        }
      ]
    },
    {
      "cell_type": "code",
      "metadata": {
        "colab": {
          "base_uri": "https://localhost:8080/"
        },
        "id": "fAu8XA3gWese",
        "outputId": "bff88d97-6d1c-41d5-d6be-c8d5919f7e24"
      },
      "source": [
        "from nltk.stem.porter import *\n",
        "stemmer = PorterStemmer()\n",
        "stemmed_tokens = []\n",
        "for row in df['tokens_no_sw']:\n",
        "  stemmed_tokens.append([stemmer.stem(t) for t in row])\n",
        "\n",
        "df['stemmed_tokens'] = stemmed_tokens\n",
        "print('Before stemming:\\n', df['tokens_no_sw'].head(3))\n",
        "print('After stemming:\\n', df['stemmed_tokens'].head(3))"
      ],
      "execution_count": 32,
      "outputs": [
        {
          "output_type": "stream",
          "text": [
            "Before stemming:\n",
            " 0    [, braves, just, not, care, about, winning, an...\n",
            "1    [special, gift, all, coin, hod1ers, out, there...\n",
            "2                                            [ate, up]\n",
            "Name: tokens_no_sw, dtype: object\n",
            "After stemming:\n",
            " 0    [, brave, just, not, care, about, win, anymor,...\n",
            "1    [special, gift, all, coin, hod1er, out, there,...\n",
            "2                                            [ate, up]\n",
            "Name: stemmed_tokens, dtype: object\n"
          ],
          "name": "stdout"
        }
      ]
    },
    {
      "cell_type": "code",
      "metadata": {
        "colab": {
          "base_uri": "https://localhost:8080/"
        },
        "id": "DEXAj2laa3s_",
        "outputId": "24f67246-2d3e-409b-c7b3-e11413173a3f"
      },
      "source": [
        "from nltk.stem import WordNetLemmatizer\n",
        "nltk.download('wordnet')\n",
        "lemmatizer = WordNetLemmatizer()\n",
        "lem_tokens = []\n",
        "for row in df['tokens_no_sw']:\n",
        "  lem_tokens.append([lemmatizer.lemmatize(t) for t in row])\n",
        "\n",
        "df['lem_tokens'] = lem_tokens\n",
        "\n",
        "# Print results\n",
        "print(df['lem_tokens'].head(5))"
      ],
      "execution_count": 33,
      "outputs": [
        {
          "output_type": "stream",
          "text": [
            "[nltk_data] Downloading package wordnet to /root/nltk_data...\n",
            "[nltk_data]   Package wordnet is already up-to-date!\n",
            "0    [, brave, just, not, care, about, winning, any...\n",
            "1    [special, gift, all, coin, hod1ers, out, there...\n",
            "2                                            [ate, up]\n",
            "3                          [day, lose, , will, lose, ]\n",
            "4            [dumb, shit, , youth, know, no, better, ]\n",
            "Name: lem_tokens, dtype: object\n"
          ],
          "name": "stdout"
        }
      ]
    },
    {
      "cell_type": "code",
      "metadata": {
        "colab": {
          "base_uri": "https://localhost:8080/"
        },
        "id": "n05PsKhobZ51",
        "outputId": "0a942e82-08ed-4904-d3de-631b1ba58d12"
      },
      "source": [
        "# Drop some intermediate columns\n",
        "list(df)\n",
        "df = df.drop(['tokens','lowercase_tokens', 'tokens_no_punct','tokens_no_sw','stemmed_tokens'], axis = 1)\n",
        "\n",
        "print('After removal:\\n', list(df))\n",
        "\n",
        "# Remove blank tokens\n",
        "no_blanks = []\n",
        "for row in df['lem_tokens']:\n",
        "  no_blanks.append([t for t in row if t != ''])\n",
        "df['tokens'] = no_blanks\n",
        "\n",
        "print(df['tokens'].head(5))\n",
        "\n",
        "# drop the last intermediate column\n",
        "df = df.drop(['lem_tokens'], axis = 1)\n",
        "\n",
        "# Now we should have only the label, original text, and cleaned token lists\n",
        "print('Current Columns:\\n',list(df))"
      ],
      "execution_count": 34,
      "outputs": [
        {
          "output_type": "stream",
          "text": [
            "After removal:\n",
            " ['tweet', 'followers', 'labels', 'lem_tokens']\n",
            "0    [brave, just, not, care, about, winning, anymo...\n",
            "1    [special, gift, all, coin, hod1ers, out, there...\n",
            "2                                            [ate, up]\n",
            "3                              [day, lose, will, lose]\n",
            "4                [dumb, shit, youth, know, no, better]\n",
            "Name: tokens, dtype: object\n",
            "Current Columns:\n",
            " ['tweet', 'followers', 'labels', 'tokens']\n"
          ],
          "name": "stdout"
        }
      ]
    },
    {
      "cell_type": "code",
      "metadata": {
        "colab": {
          "base_uri": "https://localhost:8080/",
          "height": 198
        },
        "id": "NfsmjBiFST7N",
        "outputId": "69aeb34a-fdee-40aa-ef17-1550a63ad454"
      },
      "source": [
        "from wordcloud import WordCloud, STOPWORDS, ImageColorGenerator\n",
        "popular = df['labels'] > 1\n",
        "df_pop = df[popular]\n",
        "text = []\n",
        "for lst in df_pop['tokens']:\n",
        "  text.extend(lst)\n",
        "text = ' '.join(text)\n",
        "wordcloud = WordCloud().generate(text)\n",
        "\n",
        "# Display the generated image:\n",
        "plt.imshow(wordcloud, interpolation='bilinear')\n",
        "plt.axis(\"off\")\n",
        "plt.show()"
      ],
      "execution_count": 42,
      "outputs": [
        {
          "output_type": "display_data",
          "data": {
            "image/png": "[encoded data removed]",
            "text/plain": [
              "<Figure size 432x288 with 1 Axes>"
            ]
          },
          "metadata": {
            "tags": [],
            "needs_background": "light"
          }
        }
      ]
    },
    {
      "cell_type": "code",
      "metadata": {
        "colab": {
          "base_uri": "https://localhost:8080/"
        },
        "id": "FS3jZTZ7bpYX",
        "outputId": "ae2ff408-e150-472d-bddd-55bf301a3e8e"
      },
      "source": [
        "from sklearn.feature_extraction.text import CountVectorizer\n",
        "from sklearn.feature_extraction.text import TfidfTransformer\n",
        "from sklearn.model_selection import train_test_split\n",
        "\n",
        "# Separate labels from features, converting to numpy arrays\n",
        "X, y = df['tokens'].to_numpy(), df['labels'].to_numpy()\n",
        "\n",
        "\n",
        "def override_fcn(doc):\n",
        "  # We expect a list of tokens as input\n",
        "  return doc\n",
        "\n",
        "# Count Vectorizer\n",
        "count_vec = CountVectorizer(\n",
        "    analyzer='word',\n",
        "    tokenizer= override_fcn,\n",
        "    preprocessor= override_fcn,\n",
        "    token_pattern= None)\n",
        "\n",
        "# Remember this output is a Scipy Sparse Array\n",
        "counts = count_vec.fit_transform(X)\n",
        "print(counts.toarray())\n",
        "\n",
        "# Print the names of each of the features (1000 total))\n",
        "print(count_vec.get_feature_names())\n",
        "# Print this mapping as dictionary\n",
        "print(count_vec.vocabulary_)"
      ],
      "execution_count": 35,
      "outputs": [
        {
          "output_type": "stream",
          "text": [
            "[[0 0 0 ... 0 0 0]\n",
            " [0 0 0 ... 0 0 0]\n",
            " [0 0 0 ... 0 0 0]\n",
            " ...\n",
            " [0 0 0 ... 0 0 0]\n",
            " [0 0 0 ... 0 0 0]\n",
            " [0 0 0 ... 0 0 0]]\n",
            "['1', '12', '15', '1991', '2010s', '2021', '205a', '23april2017', '3', '40', '5', '7', '9', '9toeternitywithexo', '9years', '9yearswithexo', 'aaa', 'about', 'above', 'accident', 'account', 'actual', 'actually', 'ada', 'addie', 'adding', 'af', 'affair', 'after', 'again', 'against', 'agree', 'ahhhhhhh', 'aired', 'all', 'already', 'also', 'always', 'amp', 'android', 'anime', 'another', 'answer', 'any', 'anymore', 'anyone', 'anyway', 'app', 'appear', 'area', 'arianagrande', 'around', 'article', 'artist', 'artpop', 'as', 'asap', 'asked', 'assuming', 'ate', 'audit', 'available', 'aw', 'award', 'aww', 'babe', 'babyyy', 'back', 'bad', 'banger', 'bark', 'base', 'based', 'bash', 'bc', 'bear', 'bed', 'beef', 'beep', 'beer', 'before', 'best', 'bestfanarmy', 'bestie', 'bestlyrics', 'bestmusicvideo', 'better', 'between', 'bihar', 'birthday', 'bitch', 'black', 'bless', 'bob', 'body', 'boi', 'bondly', 'boris', 'bottle', 'bout', 'brave', 'breakin', 'bro', 'broke', 'brotha', 'bsf', 'btsarmy', 'bunny', 'buster', 'buy', 'bw', 'bxf', 'ca', 'call', 'calling', 'cam', 'campus', 'can', 'cant', 'capture', 'car', 'care', 'caring', 'cathy', 'caught', 'cause', 'ccaa', 'chance', 'chapter', 'character', 'chaser', 'chasing', 'check', 'child', 'childhood', 'chose', 'cinco', 'citizen', 'citrus', 'class', 'clementine', 'close', 'clout', 'club', 'cmoon', 'cocky', 'coin', 'come', 'comedy', 'coming', 'comment', 'concernin', 'confused', 'congrats', 'congratulation', 'constant', 'continues', 'convinced', 'cook', 'cool', 'cooling', 'corporatization', 'correct', 'could', 'couldn', 'coup', 'coz', 'crash', 'crashed', 'cried', 'cruising', 'cuatroooo', 'cursed', 'cuz', 'd', 'damn', 'dan', 'dance', 'dated', 'dating', 'day', 'de', 'deal', 'death', 'decision', 'defines', 'deinonychus', 'deleted', 'delicious', 'denied', 'deserves', 'destitute', 'detail', 'development', 'die', 'dieciocho', 'died', 'different', 'dipa', 'discord', 'disgruntled', 'disney', 'distance', 'district', 'ditch', 'dixiedamelio', 'dm', 'doesn', 'dog', 'dom', 'don', 'done', 'dont', 'down', 'drinking', 'dropped', 'drum', 'duh', 'dumb', 'dxesi_', 'dying', 'dynamite', 'e', 'early', 'egg', 'election', 'elgibile', 'else', 'emmerdale', 'end', 'energizer', 'english', 'enjoy', 'enter', 'entertainment', 'eula', 'even', 'ever', 'every1one', 'everyone', 'everythingiwanted', 'exactly', 'exam', 'excluding', 'exo', 'expect', 'expressed', 'f', 'face', 'fact', 'fall', 'falling', 'fam', 'family', 'fashion', 'favorite', 'fed', 'female', 'femaleartistoftheyear', 'femalefounder', 'few', 'film', 'fineeee', 'finish', 'first', 'fish', 'fix', 'flash', 'follow', 'forbes', 'forci', 'forgot', 'format', 'fossil', 'foster', 'found', 'free', 'from', 'fun', 'fundraiser', 'funny', 'future', 'fwb', 'fwbsolo', 'gaa', 'game', 'gaming', 'gang', 'gangsta', 'gay', 'genius', 'gerrymandering', 'get', 'gift', 'girl', 'giveth', 'go', 'goat', 'god', 'goddamn', 'golf', 'gon', 'gone', 'good', 'goodbye', 'goodnight', 'goon', 'got', 'grade', 'grandma', 'great', 'green', 'grown', 'gt', 'gulf', 'guy', 'gwangju', 'happen', 'happens', 'happy', 'hard', 'hate', 'hbdakhilakkineni', 'hear', 'heard', 'heart', 'heartbroken', 'help', 'hempen', 'here', 'hey', 'hi', 'high', 'hit', 'hobi', 'hod1ers', 'hollering', 'home', 'honestly', 'hope', 'hot', 'hotstar', 'hour', 'housing', 'how', 'http', 'hug', 'hypeback', 'hyundai', 'ig', 'iheartawards', 'im', 'ima', 'image', 'imessage', 'import', 'in', 'income', 'india', 'indonesia', 'industry', 'infinity', 'inflammatory', 'infrastructure', 'intervene', 'interview', 'intro', 'ive', 'jack', 'jacob', 'james', 'jaw', 'jeon', 'ji', 'jig', 'jo', 'job', 'jobsworths', 'join', 'jordan', 'jumper', 'jungkook', 'just', 'justice', 'karo', 'kelley', 'killed', 'kind', 'know', 'knoww', 'korean', 'kyle', 'l1485', 'la', 'large', 'last', 'late', 'laughing', 'least', 'leaving', 'lebron', 'left', 'legislation', 'let', 'level', 'like', 'lil', 'lionel', 'list', 'listen', 'listened', 'listening', 'lit', 'literally', 'little', 'live', 'livestream', 'll', 'lmao', 'lmaooooo', 'lnvited', 'lockdown', 'lol', 'long', 'look', 'looook', 'lose', 'losing', 'louies', 'love', 'lovely', 'loverboy', 'lovethis', 'luck', 'lulu', 'm', 'made', 'makan', 'make', 'making', 'man', 'market', 'master', 'mate', 'mcm', 'mean', 'meet', 'mehn', 'men', 'mentioned', 'messi', 'messichallenge', 'meta', 'mf', 'mhrise', 'mickey', 'middle', 'might', 'military', 'min', 'mind', 'mindblowingly', 'mindnumbingly', 'minute', 'misery', 'miss', 'missed', 'mix', 'mnet', 'modi', 'monogamous', 'month', 'more', 'morning', 'mosome', 'mr', 'much', 'mugwagwa', 'murder', 'must', 'myanmar', 'n', 'na', 'narrow', 'naspers', 'nba', 'ne', 'neoliberalism', 'never', 'new', 'news', 'nfts', 'niall', 'nice', 'nico', 'nigga', 'niner', 'nintendoswitch', 'no', 'noles', 'noreen', 'normal', 'not', 'note', 'notice', 'now', 'nowplaying', 'nut', 'nyasha', 'obscurity', 'ochem', 'offended', 'oh', 'okay', 'old', 'on', 'one', 'only', 'onpse', 'orange', 'order', 'out', 'outliving', 'outro', 'over', 'own', 'painted', 'parent', 'part', 'partner', 'pavlo', 'pee', 'peel', 'people', 'per', 'perch', 'perfectly', 'personally', 'pic', 'pick', 'pickaw', 'picked', 'picturing', 'pint', 'place', 'platform', 'playin', 'playlist', 'please', 'pm', 'po', 'porn', 'post', 'potion', 'ppl', 'pqrt', 'prahari', 'pratap', 'pro', 'prost', 'prosus', 'provider', 'pull', 'pulling', 'pundit', 'qq', 'qualify', 'quiz', 'ra', 'raise', 'rana', 'ranked', 're', 'reacting', 'reaffirming', 'real', 'realized', 'really', 'recieve', 'red', 'redneck', 'relationship', 'released', 'relevance', 'repay', 'repeated', 'reply', 'republic', 'republican', 'rerun', 'reservation', 'respected', 'retire', 'review', 'ride', 'right', 'righthandman', 'rise', 'rlly', 'rum', 's', 'sadge', 'said', 'same', 'savage', 'say', 'season', 'second', 'secure', 'see', 'seeing', 'sehun', 'selldown', 'semi', 'send', 'separated', 'set', 'several', 'share', 'shark', 'shigaraki', 'shit', 'short', 'shotgun', 'should', 'show', 'shuffle', 'sibling', 'sick', 'sige', 'silly', 'since', 'sing', 'singh', 'sir', 'siswellstarting', 'sleep', 'slump', 'smh', 'so', 'soaked', 'socdems', 'socialstaraward', 'solo', 'some', 'something', 'song', 'sorry', 'sou', 'south', 'spdr', 'special', 'spotted', 'stage', 'stake', 'stan', 'star', 'started', 'state', 'steamy', 'step', 'stf', 'stock', 'stop', 'stopped', 'story', 'streamer', 'street', 'stuck', 'student', 'stupid', 'sturgeon', 'style', 'suck', 'sunny', 'sunrise', 'supposed', 'sure', 'svensvensson', 'swear', 'sweet', 'swig', 'swimming', 'syo', 't', 'ta', 'tak', 'take', 'taketh', 'talking', 'tasteful', 'taurus', 'tax', 'taylorswift', 'tco0wrrph4kgf', 'tco0zzrjvbcxl', 'tco1lbhqzukdt', 'tco5cmvrqh2kv', 'tco5im5rwhuii', 'tco78rwt7q5sb', 'tco7zdkthsolb', 'tco8ucwz4cos6', 'tco94uivgfqjo', 'tco97hego3ef2', 'tco9jko4iuwwg', 'tco9lectmdd0k', 'tco9sqvjyxkqg', 'tcobbxq9bldc6', 'tcobicfeufox9', 'tcobusjkhffcr', 'tcobws2lgcvqv', 'tcodjmbua81px', 'tcoewrd1zdjsw', 'tcofezxdndotl', 'tcogaf3rcd1ix', 'tcoglfbsatzsb', 'tcoh7mlhxxnpm', 'tcoh9ghs5cux5', 'tcohb21wkxixp', 'tcohpexzmfktd', 'tcoi7jl3ww1pg', 'tcoij4kmbr9wc', 'tcoir7lt3mqof', 'tcojauuahzvp7', 'tcojmxvuorezl', 'tcojqh91xebyc', 'tcokdkp9zuxi1', 'tcokduk0pjomk', 'tcokfiqwuyq6i', 'tcol9cychxdxm', 'tcold9cp5dpdu', 'tcomd7ucykgcj', 'tcomdpihodlqg', 'tcomei1mdnx5w', 'tcomyopmnvxrl', 'tcon1ruyshrgn', 'tconphmjiotjc', 'tconqxn1nmxmc', 'tcooeic5pql7w', 'tcoplxaj94exk', 'tcopqecsykhrk', 'tcopstjwpjtb8', 'tcoqkkit08872', 'tcoqruibgy5gk', 'tcorlmjggmrtw', 'tcorvsykawkem', 'tcosh17ygvvyp', 'tcosqal5lewpt', 'tcosqmrnvrnxi', 'tcossed5zt9zp', 'tcosw9w0jjarj', 'tcot2f6cy98sl', 'tcou2rrqldmu4', 'tcounmfaqervm', 'tcourbf9jx96b', 'tcouuyjahq3cm', 'tcouxocqtizdb', 'tcow85jqnezm0', 'tcoweaipvycum', 'tcowobwhpkq9v', 'tcox5tmurydbl', 'tcoxhjbhasoiz', 'tcoy1znls9je8', 'tcoyq3yu3qret', 'team', 'tech', 'tell', 'tencent', 'than', 'thank', 'thanks', 'thats', 'there', 'theu', 'thing', 'think', 'thread', 'three', 'tiktokbop', 'tiktoks', 'time', 'to', 'today', 'together', 'tonebender', 'tonight', 'too', 'top', 'touch', 'trae', 'tragic', 'trex', 'triceratops', 'trifling', 'triple', 'triumphantcat', 'true', 'try', 'tub', 'tumblr', 'turn', 'tv', 'tweet', 'twitch', 'twitter', 'txt', 'u', 'up', 'update', 'ure', 'use', 'usoc2020', 'usoc2021', 'vaccine', 'value', 'vamos', 'vdd', 've', 'venue', 'verge', 'version', 'very', 'video', 'viewer', 'vote', 'voting', 'w', 'wake', 'wan', 'want', 'wanting', 'washing', 'watch', 'water', 'watermelonsugar', 'way', 'weird', 'well', 'wellness', 'wendy', 'went', 'when', 'where', 'whereas', 'white', 'why', 'will', 'william', 'winning', 'wish', 'with', 'without', 'won', 'woodwork', 'word', 'worked', 'would', 'wrestlinginc', 'written', 'wtf', 'wwe', 'wwwaprilgift', 'x0kaira0x', 'xdd', 'xxx', 'y', 'ya', 'year', 'yes', 'yesterday', 'yesterdayme', 'yet', 'yg', 'yo', 'yoddha', 'young', 'youre', 'youth', 'youtubers', 'yt', 'zest', 'ztreamingparty', 'モンハン', 'モンハンライズ', '엑소', '𝗖𝗼𝗺𝗲𝗯𝗮𝗰𝗸', '𝗜𝗰𝗼𝗻𝗶𝗰', '𝗢𝗻𝗲', '𝗪𝗲', '𝗮', '𝗮𝗻𝗼𝘁𝗵𝗲𝗿', '𝗮𝗿𝗲', '𝗴𝗶𝘃𝗲', '𝗵𝗼𝗽𝗲𝗳𝘂𝗹𝗹𝘆', '𝘁𝗵𝗲𝘆', '𝘂𝘀']\n",
            "{'brave': 100, 'just': 382, 'not': 502, 'care': 121, 'about': 17, 'winning': 848, 'anymore': 44, 'smh': 638, 'special': 651, 'gift': 293, 'all': 34, 'coin': 146, 'hod1ers': 335, 'out': 521, 'there': 772, 'more': 472, 'detail': 192, 'gt': 313, 'wwwaprilgift': 861, 'every1one': 238, 'lnvited': 420, 'ate': 59, 'up': 807, 'day': 180, 'lose': 426, 'will': 846, 'dumb': 218, 'shit': 621, 'youth': 877, 'know': 388, 'no': 498, 'better': 86, 'm': 435, 'guy': 315, 'doesn': 207, 't': 684, 'watch': 832, 'nba': 485, 'yet': 871, 'get': 292, 'confused': 152, 'when': 841, 'people': 533, 'try': 797, 'to': 781, 'bash': 73, 'trae': 789, 'young': 875, 'lebron': 400, 'james': 370, 'http': 345, 'tcounmfaqervm': 753, 'go': 296, 'back': 67, 'sleep': 636, 'n': 481, 'wake': 827, 'again': 29, 'oh': 512, 'hey': 330, 'cool': 159, 'black': 91, 'bear': 75, 'spotted': 652, 'very': 821, 'close': 141, 'where': 842, 'live': 415, 's': 600, 'supposed': 676, 'concernin': 151, 'tcoij4kmbr9wc': 721, 'jaw': 371, 'dropped': 215, 'vote': 824, 'everythingiwanted': 240, 'bestlyrics': 84, 'iheartawards': 350, 'dieciocho': 195, 'actually': 22, 'so': 639, 'true': 796, 'tell': 766, 'jordan': 379, 'exactly': 241, 'dom': 209, 'solo': 643, 'ada': 23, 'yg': 872, 'makan': 437, 'here': 329, 'cmoon': 144, 'one': 516, 'only': 517, 'fwb': 282, 'partner': 529, 'gone': 302, 'fwbsolo': 283, 'hbdakhilakkineni': 322, 'award': 63, 'list': 408, 'aired': 33, 'tcokduk0pjomk': 727, 'honestly': 338, 'should': 624, 'game': 285, 'let': 403, 'tcojqh91xebyc': 725, 'asked': 57, 'coz': 166, 'mentioned': 449, 'caught': 124, 'on': 515, 'cam': 115, 'sir': 634, 'broke': 103, 'dating': 179, 'app': 47, '15': 2, 'min': 459, 'already': 35, 'deleted': 187, 'literally': 413, 'much': 476, 'don': 210, 'even': 236, 'why': 845, 'forci': 270, 'tco94uivgfqjo': 702, 'expressed': 246, 'yesterday': 869, 'reservation': 590, 'with': 850, 'infrastructure': 363, 'legislation': 402, 'reaffirming': 574, 'tcoir7lt3mqof': 722, '3': 8, 'fossil': 273, 'egg': 224, 'ride': 594, 'potion': 553, 'trex': 791, 'x0kaira0x': 862, 'ure': 809, 'based': 72, 'cuz': 173, 'think': 775, 'same': 603, 'd': 174, 'im': 351, 'base': 71, 'syo': 683, 'yes': 868, 'love': 429, 'hug': 346, 'u': 806, 'hard': 320, 'okay': 513, 'nice': 493, 'article': 52, 'lovethis': 432, 'follow': 268, 'in': 356, 'touch': 788, 'femalefounder': 259, 'dont': 212, 'started': 657, 'william': 847, 'reacting': 573, 'could': 163, 'went': 840, 'own': 525, 'grown': 312, 'tcow85jqnezm0': 757, 'done': 211, 'come': 147, 'around': 51, 'playin': 546, 'gangsta': 288, 'cause': 125, 'gon': 301, 'call': 113, 'happy': 319, 'birthday': 89, 'xxx': 864, 'future': 281, 'way': 835, 'entertainment': 234, 'defines': 185, 'tech': 765, 'wellness': 838, 'forbes': 269, 'tcol9cychxdxm': 729, 'damn': 175, 'well': 837, 'na': 482, 'stuck': 668, 'level': 404, '40': 9, 'txt': 805, 'aaa': 16, 'thank': 769, 'fam': 252, 'forgot': 271, 'congrats': 153, 'triple': 794, 'jumper': 380, 'three': 777, 'qualify': 566, 'area': 49, '205a': 6, 'district': 203, 'meet': 446, 'tcojmxvuorezl': 724, 'knoww': 389, 'tcomd7ucykgcj': 731, 'answer': 42, 'chose': 135, 'messichallenge': 451, 'quiz': 567, '23april2017': 7, 'take': 687, 'part': 528, 'chance': 127, 'recieve': 578, 'lionel': 407, 'messi': 450, 'from': 277, 'tcosqal5lewpt': 747, 'voting': 825, 'louies': 428, 'bestfanarmy': 82, 'tcorvsykawkem': 745, 'deinonychus': 186, 'triceratops': 792, 'can': 117, 'narrow': 483, 'down': 213, 'too': 786, 'arianagrande': 50, 'femaleartistoftheyear': 258, 'cant': 118, 'hear': 323, 'word': 854, 'clementine': 140, 'without': 851, 'picturing': 542, 'goddamn': 299, 'fish': 265, 'bottle': 98, 'send': 614, 'help': 327, 'golf': 300, 'niall': 492, 'notice': 504, 'lmao': 418, 'falling': 251, 'taurus': 691, 'man': 440, 'suck': 673, 'btsarmy': 106, '2021': 5, 'ra': 568, 'interview': 365, 'few': 260, 'minute': 463, 'wish': 849, 'boi': 95, 'some': 644, 'luck': 433, 'bout': 99, 'secure': 608, 'free': 276, 'housing': 343, 'correct': 162, 'after': 28, 'seeing': 610, 'listened': 410, 'gang': 287, 'street': 667, 'loverboy': 431, 'dynamite': 221, 'bestmusicvideo': 85, 'great': 310, 'format': 272, 'update': 808, 'place': 544, 'english': 231, 'version': 820, 'chapter': 128, '5': 10, 'tcouuyjahq3cm': 755, 'svensvensson': 678, 'righthandman': 596, 'tco9jko4iuwwg': 704, 'enter': 233, 'now': 505, 'amp': 38, 'cruising': 170, 'best': 81, 'value': 814, 'hyundai': 348, 'venue': 818, 'tcosw9w0jjarj': 750, 'android': 39, 'ztreamingparty': 881, 'tcopqecsykhrk': 740, 'sorry': 647, 'listen': 409, 'disgruntled': 200, 'old': 514, 'how': 344, 'pundit': 564, 'jobsworths': 377, 'order': 520, 'want': 829, 'say': 605, '1': 0, 'tasteful': 690, 'than': 768, 'stf': 661, 'stan': 655, 'tco9sqvjyxkqg': 706, 'mehn': 447, 'tcold9cp5dpdu': 730, 'lmaooooo': 419, 'look': 424, 'lit': 412, 'tcorlmjggmrtw': 744, '𝗵𝗼𝗽𝗲𝗳𝘂𝗹𝗹𝘆': 893, '𝘁𝗵𝗲𝘆': 894, '𝗴𝗶𝘃𝗲': 892, '𝘂𝘀': 895, '𝗮': 889, '𝗮𝗻𝗼𝘁𝗵𝗲𝗿': 890, '𝗜𝗰𝗼𝗻𝗶𝗰': 886, '𝗖𝗼𝗺𝗲𝗯𝗮𝗰𝗸': 885, '𝗪𝗲': 888, '𝗮𝗿𝗲': 891, '𝗢𝗻𝗲': 887, 'hi': 331, 'disney': 201, 'hotstar': 341, 'available': 61, 'india': 358, 'indonesia': 359, 'whereas': 843, 'ca': 112, 'tcoqruibgy5gk': 743, 'heard': 324, 'dog': 208, 'bark': 70, 'else': 227, 'kind': 387, 'late': 396, 'another': 41, 'lockdown': 421, 'see': 609, 'pro': 558, 'sturgeon': 671, 'gerrymandering': 291, 'election': 225, 'tco8ucwz4cos6': 701, 'rlly': 598, 'use': 810, 'discord': 199, 'qq': 565, 'jacob': 369, 'always': 37, 'theu': 773, 'tco5im5rwhuii': 698, 'naspers': 484, 'prosus': 560, 'slump': 637, 'news': 490, 'selldown': 612, 'tencent': 767, 'stake': 654, 'tcosqmrnvrnxi': 748, 'tcox5tmurydbl': 760, 'jeon': 372, 'jungkook': 381, 'god': 298, 'hobi': 334, 'found': 275, 'large': 394, 'white': 844, 'shark': 619, 'swimming': 682, 'gulf': 314, 'hate': 321, 'lulu': 434, 'like': 405, 'sunny': 674, 'perch': 535, 'triumphantcat': 795, 'tcoyq3yu3qret': 763, 'tcomdpihodlqg': 732, 'season': 606, 'over': 524, 'fun': 278, 'listening': 411, 'playlist': 547, 'shuffle': 626, 'tcojauuahzvp7': 723, 'spdr': 650, 'bondly': 96, 'nfts': 491, 'top': 787, 'pick': 539, 'month': 471, 'team': 764, 'released': 582, 'tcoh7mlhxxnpm': 716, 'weird': 836, 'inflammatory': 362, 'anime': 40, 'youtubers': 878, 'turn': 800, 'outliving': 522, 'relevance': 583, 'dying': 220, 'obscurity': 509, 'noles': 499, 'really': 577, 'funny': 280, 'comment': 150, 'thread': 776, 'mate': 443, 'good': 303, 'please': 548, 'post': 552, 'pic': 538, 'happens': 318, 'neoliberalism': 487, 'corporatization': 161, 'onpse': 518, 'before': 80, '1991': 3, 'sure': 677, 'ccaa': 126, 'stage': 653, 'watermelonsugar': 834, 'middle': 456, 'tcouxocqtizdb': 756, 'tcohb21wkxixp': 718, 'short': 622, 'platform': 545, 'crashed': 168, 'mcm': 444, 'hope': 339, 'enjoy': 232, 'bw': 110, 'film': 261, 'dated': 178, 'fashion': 254, 'body': 94, 'ppl': 554, 'any': 43, 'industry': 360, 'south': 649, 'f': 247, 'tcoewrd1zdjsw': 712, 'sunrise': 675, 'll': 417, 'dance': 177, 'hempen': 328, 'jig': 374, 'raise': 569, 'pint': 543, 'rum': 599, 'swig': 681, 'tco5cmvrqh2kv': 697, 'might': 457, 'retire': 592, 'account': 20, 'energizer': 230, 'bunny': 107, 'last': 395, 'real': 575, 'long': 423, 'mf': 453, 'lovely': 430, 'tumblr': 799, 'girl': 294, 'vdd': 816, 'karo': 384, 'nyasha': 508, 'mugwagwa': 477, 'tcot2f6cy98sl': 751, 'babyyy': 66, 'tcoi7jl3ww1pg': 720, 'cursed': 172, 'image': 353, 'bestie': 83, 'jack': 368, 'eula': 235, 'won': 852, 'pull': 562, 'anyway': 46, 'xdd': 863, 'reply': 586, 'tweet': 802, 'got': 307, 'hollering': 336, 'tcoxhjbhasoiz': 761, 'cathy': 123, 'kelley': 385, 'appear': 48, 'wwe': 860, 'show': 625, 'tonight': 785, 'wrestlinginc': 857, 'tcobusjkhffcr': 709, 'continues': 156, 'make': 438, 'mindnumbingly': 462, 'stupid': 670, 'decision': 184, 'usoc2020': 811, 'usoc2021': 812, 'tcoglfbsatzsb': 715, 'note': 503, 'tcohpexzmfktd': 719, 'thing': 774, 'buy': 109, 'share': 618, 'red': 579, 'stock': 662, 'ive': 367, 'y': 865, 'stop': 663, 'pqrt': 555, 'bitch': 90, 'said': 602, 'hypeback': 347, 'thanks': 770, 'tco1lbhqzukdt': 696, 'twitter': 804, 'thats': 771, 'realized': 576, 'campus': 116, 'grade': 308, 'above': 18, 'tcooeic5pql7w': 738, 'justice': 383, 'ta': 685, 'lil': 406, 'cried': 169, 'yt': 879, 'step': 660, 'grandma': 309, 'picked': 541, 'congratulation': 154, 'kyle': 391, 'morning': 473, 'tco0zzrjvbcxl': 695, 'delicious': 188, 'ne': 486, 'style': 672, 'dipa': 198, 'semi': 613, 'sweet': 680, 'citrus': 138, 'finish': 263, 'orange': 519, 'peel': 532, 'zest': 880, 'prost': 559, 'drinking': 214, 'breakin': 101, 'tcoh9ghs5cux5': 717, 'looook': 425, 'job': 376, 'pulling': 563, 'everyone': 239, 'together': 783, 'happen': 317, 'fix': 266, 're': 572, 'coming': 149, 'duh': 217, 'ahhhhhhh': 32, 'wanting': 830, 'sing': 632, 'aw': 62, 'mickey': 455, 'deserves': 190, 'mean': 445, 'expect': 245, 'repay': 584, 'market': 441, 'giveth': 295, 'taketh': 688, 'w': 826, 'tcosh17ygvvyp': 746, 'l1485': 392, '9years': 14, 'infinity': 361, 'exo': 244, '9toeternitywithexo': 13, 'tcou2rrqldmu4': 752, 'fed': 256, 'killed': 386, 'nigga': 495, 'couldn': 164, 'capture': 119, 'swear': 679, 'would': 856, 'die': 194, 'babe': 65, 'water': 833, 'cooling': 160, 'tco0wrrph4kgf': 694, 'fall': 250, 'boris': 97, 'ditch': 204, 'imessage': 354, 'lol': 422, 'tcowobwhpkq9v': 759, 'hit': 333, 'dm': 206, 'brotha': 104, 'verge': 819, 'second': 607, 'new': 489, 'deal': 182, 'first': 264, 'green': 311, 'excluding': 243, 'anyone': 45, 'agree': 31, 'clout': 142, 'chaser': 130, 'woodwork': 853, 'tcokfiqwuyq6i': 728, 'bro': 102, 'story': 665, 'yesterdayme': 870, 'siswellstarting': 635, 'today': 782, 'least': 398, 'pavlo': 530, 'laughing': 397, 'distance': 202, 'right': 595, 'savage': 604, 'tiktokbop': 778, 'cocky': 145, 'af': 26, 'pickaw': 540, 'cinco': 136, 'respected': 591, 'pm': 549, 'modi': 469, 'ji': 373, 'student': 669, 'class': 139, '12': 1, 'elgibile': 226, 'year': 867, 'never': 488, 'tco97hego3ef2': 703, 'assuming': 58, 'adding': 25, 'intro': 366, 'outro': 523, 'video': 822, 'also': 36, 'tax': 692, 'income': 357, 'made': 436, 'destitute': 191, 'bc': 74, 'silly': 630, 'tconqxn1nmxmc': 737, 'nico': 494, 'niner': 496, 'written': 858, 'tconphmjiotjc': 736, 'sadge': 601, 'normal': 501, 'streamer': 666, 'hot': 340, 'tub': 798, 'meta': 452, 'actual': 21, 'porn': 551, 'star': 656, 'twitch': 803, 'gaming': 286, 'tcobws2lgcvqv': 710, 'bad': 68, 'character': 129, 'development': 193, 'missed': 466, 'tcomyopmnvxrl': 734, 'aww': 64, 'addie': 24, 'tcoy1znls9je8': 762, 'check': 132, 'dxesi_': 219, 'ig': 349, 'gay': 289, 'early': 223, '2010s': 4, 'mindblowingly': 461, 've': 817, 'chasing': 131, 'high': 332, 'personally': 537, 'tcon1ruyshrgn': 735, 'talking': 689, 'tco78rwt7q5sb': 699, 'mnet': 468, 'tcodjmbua81px': 711, 'korean': 390, 'artist': 53, 'gwangju': 316, 'painted': 526, 'myanmar': 480, 'citizen': 137, 'against': 30, 'military': 458, 'coup': 165, 'sou': 648, 'tcoplxaj94exk': 739, 'worked': 855, 'monogamous': 470, 'relationship': 581, 'ever': 237, 'tcoqkkit08872': 742, 'ya': 866, 'la': 393, 'ranked': 571, 'bxf': 111, 'beep': 78, 'favorite': 255, 'little': 414, 'mix': 467, 'song': 646, 'child': 133, 'losing': 427, 'childhood': 134, 'crash': 167, 'provider': 561, 'constant': 155, 'shigaraki': 620, 'banger': 69, 'livestream': 416, 'vaccine': 813, 'fact': 249, 'wtf': 859, 'ima': 352, 'yo': 873, 'trifling': 793, 'as': 55, 'tcossed5zt9zp': 749, 'audit': 60, 'denied': 189, 'repeated': 585, 'several': 617, 'time': 780, 'republican': 588, 'state': 658, 'republic': 587, 'tcourbf9jx96b': 754, 'calling': 114, 'parent': 527, 'tcobicfeufox9': 708, 'asap': 56, 'cuatroooo': 171, '7': 11, 'sibling': 627, 'separated': 615, 'between': 87, 'different': 197, 'foster': 274, 'home': 337, 'died': 196, 'tragic': 790, 'car': 120, 'accident': 19, 'tcoweaipvycum': 758, 'miss': 465, 'misery': 464, 'since': 631, 'goodbye': 304, 'youre': 876, 'mr': 475, 'perfectly': 536, 'fineeee': 262, 'making': 439, 'tiktoks': 779, 'something': 645, 'face': 248, 'beef': 77, 'yoddha': 874, 'comedy': 148, 'taylorswift': 693, 'socdems': 641, 'socialstaraward': 642, 'dixiedamelio': 205, 'soaked': 640, 'washing': 831, 'noreen': 500, 'pee': 531, 'wan': 828, 'bed': 76, 'sick': 628, 'death': 183, 'cook': 158, 'sige': 629, 'po': 550, 'goodnight': 305, 'bless': 92, 'rise': 597, 'モンハンライズ': 883, 'mhrise': 454, 'モンハン': 882, 'nintendoswitch': 497, 'tcokdkp9zuxi1': 726, 'goat': 297, 'beer': 79, '9': 12, '9yearswithexo': 15, '엑소': 884, 'ochem': 510, 'exam': 242, 'end': 229, 'hour': 342, 'left': 401, 'join': 378, 'gaa': 284, 'club': 143, 'master': 442, 'buster': 108, 'fundraiser': 279, 'jo': 375, 'tcofezxdndotl': 713, 'rerun': 589, 'tv': 801, 'tco9lectmdd0k': 705, 'per': 534, 'bihar': 88, 'tak': 686, 'bsf': 105, 'prahari': 556, 'rana': 570, 'pratap': 557, 'singh': 633, 'goon': 306, 'must': 479, 'intervene': 364, 'family': 253, 'murder': 478, 'tcopstjwpjtb8': 741, 'offended': 511, 'female': 257, 'stopped': 664, 'caring': 122, 'men': 448, 'import': 355, 'tcobbxq9bldc6': 707, 'e': 222, 'vamos': 815, 'de': 181, 'mind': 460, 'artpop': 54, 'heart': 325, 'flash': 267, 'review': 593, 'emmerdale': 228, 'viewer': 823, 'convinced': 157, 'wendy': 839, 'dan': 176, 'set': 616, 'steamy': 659, 'affair': 27, 'leaving': 399, 'bob': 93, 'heartbroken': 326, 'tcogaf3rcd1ix': 714, 'drum': 216, 'shotgun': 623, 'tco7zdkthsolb': 700, 'nowplaying': 506, 'nut': 507, 'mosome': 474, 'tonebender': 784, 'redneck': 580, 'genius': 290, 'tcomei1mdnx5w': 733, 'sehun': 611}\n"
          ],
          "name": "stdout"
        }
      ]
    },
    {
      "cell_type": "code",
      "metadata": {
        "id": "CFoIe0avcpVt"
      },
      "source": [
        "#### TF-IDF Vectorize ####\n",
        "\n",
        "# Note that smoothing is done by default\n",
        "tfidf = TfidfTransformer()\n",
        "\n",
        "tfs = tfidf.fit_transform(counts)\n",
        "\n",
        "# Let's use the TFIDF counts for modelling\n",
        "X = tfs.toarray()\n",
        "\n",
        "# Split the data into training and test sets\n",
        "X_train, X_test, y_train, y_test = train_test_split(X, y, test_size = 0.2, random_state = 42)\n",
        "\n",
        "# First three rows of training features and labels"
      ],
      "execution_count": 36,
      "outputs": []
    },
    {
      "cell_type": "code",
      "metadata": {
        "colab": {
          "base_uri": "https://localhost:8080/",
          "height": 312
        },
        "id": "pduyxC3-dBxz",
        "outputId": "13f32921-b97b-4e45-a05d-00347c0a9bd8"
      },
      "source": [
        "from sklearn.naive_bayes import MultinomialNB\n",
        "from sklearn.metrics import accuracy_score, roc_curve\n",
        "import matplotlib.pyplot as plt\n",
        "\n",
        "# Let's fit the Naive Bayes model to our training data\n",
        "nb = MultinomialNB()\n",
        "# Fit model to training data\n",
        "nb.fit(X_train, y_train)\n",
        "# Predict on test data\n",
        "y_preds = nb.predict(X_test)\n",
        "\n",
        "print('Test accuracy with simple Naive Bayes:',accuracy_score(y_test,y_preds))\n",
        "\n",
        "fpr, tpr, thresholds = roc_curve(y_test, y_preds, pos_label = 1)\n",
        "\n",
        "plt.plot(fpr,tpr)\n",
        "plt.xlabel('False Positive Rate')\n",
        "plt.ylabel('True Positive Rate')\n",
        "plt.title('Receiver Operator Characteristic (ROC) Curve for RF')\n",
        "plt.show()"
      ],
      "execution_count": 43,
      "outputs": [
        {
          "output_type": "stream",
          "text": [
            "Test accuracy with simple Naive Bayes: 0.725\n"
          ],
          "name": "stdout"
        },
        {
          "output_type": "display_data",
          "data": {
            "image/png": "[encoded data removed]",
            "text/plain": [
              "<Figure size 432x288 with 1 Axes>"
            ]
          },
          "metadata": {
            "tags": [],
            "needs_background": "light"
          }
        }
      ]
    }
  ]
}