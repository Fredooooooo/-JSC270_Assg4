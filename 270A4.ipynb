{
  "nbformat": 4,
  "nbformat_minor": 0,
  "metadata": {
    "colab": {
      "name": "270A4.ipynb",
      "provenance": [],
      "collapsed_sections": [],
      "authorship_tag": "ABX9TyMPVgWprVp46DM86bRewx14",
      "include_colab_link": true
    },
    "kernelspec": {
      "name": "python3",
      "display_name": "Python 3"
    },
    "language_info": {
      "name": "python"
    }
  },
  "cells": [
    {
      "cell_type": "markdown",
      "metadata": {
        "id": "view-in-github",
        "colab_type": "text"
      },
      "source": [
        "<a href=\"https://colab.research.google.com/github/Fredooooooo/JSC270_Assg4/blob/main/270A4.ipynb\" target=\"_parent\"><img src=\"https://colab.research.google.com/assets/colab-badge.svg\" alt=\"Open In Colab\"/></a>"
      ]
    },
    {
      "cell_type": "markdown",
      "metadata": {
        "id": "bM_EeLoZo6nj"
      },
      "source": [
        "API key: RnHS3Y3lkrv9pzkHVFcVYVArH \\\\\n",
        "API secret key: xLMxTxhEHluPlcsPgb2rur07hBR4qSuzGdIVhJg0hpEiR1nTBm \\\\\n",
        "Bearer token: \n",
        "AAAAAAAAAAAAAAAAAAAAAJ6bOAEAAAAAx7r6xai0HEcEhCREYGRBCePMops%3DnI0dVPhA0eFSBFrlc6M33YznpLELExxZGq0Mv3ZTXUTaj8C7Sq"
      ]
    },
    {
      "cell_type": "markdown",
      "metadata": {
        "id": "zkNYudP59MfH"
      },
      "source": [
        "##Q1"
      ]
    },
    {
      "cell_type": "code",
      "metadata": {
        "id": "ktZYj_X78HAg"
      },
      "source": [
        ""
      ],
      "execution_count": null,
      "outputs": []
    }
  ]
}