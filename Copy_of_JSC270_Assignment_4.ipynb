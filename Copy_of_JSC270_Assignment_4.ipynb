{
  "nbformat": 4,
  "nbformat_minor": 0,
  "metadata": {
    "colab": {
      "name": "Copy of JSC270 Assignment 4.ipynb",
      "provenance": [],
      "collapsed_sections": [],
      "include_colab_link": true
    },
    "kernelspec": {
      "display_name": "Python 3",
      "name": "python3"
    },
    "language_info": {
      "name": "python"
    }
  },
  "cells": [
    {
      "cell_type": "markdown",
      "metadata": {
        "id": "view-in-github",
        "colab_type": "text"
      },
      "source": [
        "<a href=\"https://colab.research.google.com/github/Fredooooooo/JSC270_Assg4/blob/main/Copy_of_JSC270_Assignment_4.ipynb\" target=\"_parent\"><img src=\"https://colab.research.google.com/assets/colab-badge.svg\" alt=\"Open In Colab\"/></a>"
      ]
    },
    {
      "cell_type": "code",
      "metadata": {
        "id": "x3UrS-0qOUvw"
      },
      "source": [
        "api_key = 'RnHS3Y3lkrv9pzkHVFcVYVArH'\n",
        "api_secret_key = 'xLMxTxhEHluPlcsPgb2rur07hBR4qSuzGdIVhJg0hpEiR1nTBm'\n",
        "access_key = '1376070608950267904-AlJkcNLLxsAByp9NmFU854synmuzq5'\n",
        "access_secret = 'dtH18I0v8Ob44BAUXhrJB9TNvnFfQykBafXY4fl4JtdJB'"
      ],
      "execution_count": null,
      "outputs": []
    },
    {
      "cell_type": "code",
      "metadata": {
        "id": "F72g4PAcF15A"
      },
      "source": [
        "import re\n",
        "import numpy as np\n",
        "import pandas as pd \n",
        "import io\n",
        "import nltk\n",
        "from nltk.corpus import stopwords\n",
        "from nltk.stem.porter import *\n",
        "from nltk.stem.snowball import SnowballStemmer\n",
        "from nltk.stem import WordNetLemmatizer\n",
        "from sklearn.feature_extraction.text import CountVectorizer\n",
        "from sklearn.feature_extraction.text import TfidfTransformer\n",
        "from sklearn.model_selection import train_test_split\n",
        "from sklearn.naive_bayes import MultinomialNB\n",
        "from sklearn.metrics import accuracy_score, roc_curve\n",
        "import matplotlib.pyplot as plt"
      ],
      "execution_count": null,
      "outputs": []
    },
    {
      "cell_type": "markdown",
      "metadata": {
        "id": "6O4V-EemKBJl"
      },
      "source": [
        "## Section 1"
      ]
    },
    {
      "cell_type": "markdown",
      "metadata": {
        "id": "GA3vLziMKFC2"
      },
      "source": [
        "**Load datasets**"
      ]
    },
    {
      "cell_type": "code",
      "metadata": {
        "id": "7J10898QKD8O",
        "colab": {
          "resources": {
            "http://localhost:8080/nbextensions/google.colab/files.js": {
              "data": "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",
              "ok": true,
              "headers": [
                [
                  "content-type",
                  "application/javascript"
                ]
              ],
              "status": 200,
              "status_text": ""
            }
          },
          "base_uri": "https://localhost:8080/",
          "height": 76
        },
        "outputId": "1dda06d2-0d32-4dc2-8b44-1e474816d764"
      },
      "source": [
        "from google.colab import files\n",
        "data_to_load = files.upload()"
      ],
      "execution_count": null,
      "outputs": [
        {
          "output_type": "display_data",
          "data": {
            "text/html": [
              "\n",
              "     <input type=\"file\" id=\"files-04abd11a-c584-4eff-994d-0f15784449d5\" name=\"files[]\" multiple disabled\n",
              "        style=\"border:none\" />\n",
              "     <output id=\"result-04abd11a-c584-4eff-994d-0f15784449d5\">\n",
              "      Upload widget is only available when the cell has been executed in the\n",
              "      current browser session. Please rerun this cell to enable.\n",
              "      </output>\n",
              "      <script src=\"/nbextensions/google.colab/files.js\"></script> "
            ],
            "text/plain": [
              "<IPython.core.display.HTML object>"
            ]
          },
          "metadata": {
            "tags": []
          }
        },
        {
          "output_type": "stream",
          "text": [
            "Saving covid-tweets-train.csv to covid-tweets-train (1).csv\n"
          ],
          "name": "stdout"
        }
      ]
    },
    {
      "cell_type": "code",
      "metadata": {
        "id": "dx6oIfzxKO6q",
        "colab": {
          "base_uri": "https://localhost:8080/"
        },
        "outputId": "bdf55315-4bf9-41f4-db58-31da669b1695"
      },
      "source": [
        "train_data = pd.read_csv(io.BytesIO(data_to_load['covid-tweets-train.csv']), encoding = 'latin1') \n",
        "print(train_data.head(5))"
      ],
      "execution_count": null,
      "outputs": [
        {
          "output_type": "stream",
          "text": [
            "   Unnamed: 0                                      OriginalTweet Sentiment\n",
            "0           0  @MeNyrbie @Phil_Gahan @Chrisitv https://t.co/i...         1\n",
            "1           1  advice Talk to your neighbours family to excha...         2\n",
            "2           2  Coronavirus Australia: Woolworths to give elde...         2\n",
            "3           3  My food stock is not the only one which is emp...         2\n",
            "4           4  Me, ready to go at supermarket during the #COV...         0\n"
          ],
          "name": "stdout"
        }
      ]
    },
    {
      "cell_type": "code",
      "metadata": {
        "id": "Ot2UlfUiKmNO",
        "colab": {
          "resources": {
            "http://localhost:8080/nbextensions/google.colab/files.js": {
              "data": "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",
              "ok": true,
              "headers": [
                [
                  "content-type",
                  "application/javascript"
                ]
              ],
              "status": 200,
              "status_text": ""
            }
          },
          "base_uri": "https://localhost:8080/",
          "height": 76
        },
        "outputId": "4a895f41-39d9-4c18-edf1-89421665a59e"
      },
      "source": [
        "data_to_load = files.upload()"
      ],
      "execution_count": null,
      "outputs": [
        {
          "output_type": "display_data",
          "data": {
            "text/html": [
              "\n",
              "     <input type=\"file\" id=\"files-c5627496-b95a-4536-9d81-d825e02a999b\" name=\"files[]\" multiple disabled\n",
              "        style=\"border:none\" />\n",
              "     <output id=\"result-c5627496-b95a-4536-9d81-d825e02a999b\">\n",
              "      Upload widget is only available when the cell has been executed in the\n",
              "      current browser session. Please rerun this cell to enable.\n",
              "      </output>\n",
              "      <script src=\"/nbextensions/google.colab/files.js\"></script> "
            ],
            "text/plain": [
              "<IPython.core.display.HTML object>"
            ]
          },
          "metadata": {
            "tags": []
          }
        },
        {
          "output_type": "stream",
          "text": [
            "Saving covid-tweets-test.csv to covid-tweets-test (1).csv\n"
          ],
          "name": "stdout"
        }
      ]
    },
    {
      "cell_type": "code",
      "metadata": {
        "id": "emmtJRJYKsMe",
        "colab": {
          "base_uri": "https://localhost:8080/"
        },
        "outputId": "18c3ff62-bc85-4b09-b707-c5e472804a3b"
      },
      "source": [
        "test_data = pd.read_csv(io.BytesIO(data_to_load['covid-tweets-test.csv']), encoding = 'latin1') \n",
        "print(test_data.head(5))"
      ],
      "execution_count": null,
      "outputs": [
        {
          "output_type": "stream",
          "text": [
            "   Unnamed: 0                                      OriginalTweet  Sentiment\n",
            "0           0  TRENDING: New Yorkers encounter empty supermar...          0\n",
            "1           1  When I couldn't find hand sanitizer at Fred Me...          2\n",
            "2           2  Find out how you can protect yourself and love...          2\n",
            "3           3  #Panic buying hits #NewYork City as anxious sh...          0\n",
            "4           4  #toiletpaper #dunnypaper #coronavirus #coronav...          1\n"
          ],
          "name": "stdout"
        }
      ]
    },
    {
      "cell_type": "code",
      "metadata": {
        "id": "ju5iAPhwKyW2"
      },
      "source": [
        "def tokenization(data, col):\n",
        "  nltk.download('punkt')\n",
        "\n",
        "  # Create a new column in our DF that contains token lists instead of raw text\n",
        "  data['tokens'] = data[col].apply(nltk.word_tokenize)"
      ],
      "execution_count": null,
      "outputs": []
    },
    {
      "cell_type": "code",
      "metadata": {
        "id": "GlvIL8zLK16G"
      },
      "source": [
        "def remove_url(data, col, n):\n",
        "  lst = []\n",
        "  for i in range(0,n):\n",
        "    lst.append(re.sub(r'http\\S+', '', data[col][i]))\n",
        "  data['url_removed'] = lst"
      ],
      "execution_count": null,
      "outputs": []
    },
    {
      "cell_type": "code",
      "metadata": {
        "id": "UUlbO-E8LhEu"
      },
      "source": [
        "def evaluate(X_test, y_test, model):\n",
        "  y_preds = model.predict(X_test)\n",
        "\n",
        "  print('Test accuracy with our model:',accuracy_score(y_test,y_preds))"
      ],
      "execution_count": null,
      "outputs": []
    },
    {
      "cell_type": "markdown",
      "metadata": {
        "id": "Hw3FkPYULQy2"
      },
      "source": [
        "**(A)**"
      ]
    },
    {
      "cell_type": "code",
      "metadata": {
        "id": "iZ76OXcCK4hj",
        "colab": {
          "base_uri": "https://localhost:8080/"
        },
        "outputId": "b6ce67ea-cdf2-4126-9177-d9bfd44703e4"
      },
      "source": [
        "nega = 0\n",
        "neut = 0\n",
        "posi = 0\n",
        "num_train = len(train_data)\n",
        "num_test = len(test_data)\n",
        "for sentiment in train_data['Sentiment']:\n",
        "  if sentiment == '0':\n",
        "    nega += 1\n",
        "  elif sentiment == '1':\n",
        "    neut += 1\n",
        "  elif sentiment == '2':\n",
        "    posi += 1\n",
        "print('the proportion of negative sentiment: ', nega/num_train)\n",
        "print('the proportion of neutral sentiment: ', neut/num_train)\n",
        "print('the proportion of positive sentiment: ', posi/num_train)"
      ],
      "execution_count": null,
      "outputs": [
        {
          "output_type": "stream",
          "text": [
            "the proportion of negative sentiment:  0.374122220872312\n",
            "the proportion of neutral sentiment:  0.18738913862228163\n",
            "the proportion of positive sentiment:  0.4383914469687766\n"
          ],
          "name": "stdout"
        }
      ]
    },
    {
      "cell_type": "markdown",
      "metadata": {
        "id": "kKfm5b3HLkZy"
      },
      "source": [
        "**(B)**"
      ]
    },
    {
      "cell_type": "code",
      "metadata": {
        "colab": {
          "base_uri": "https://localhost:8080/"
        },
        "id": "egsJvPEYLmVj",
        "outputId": "2bb2e55c-3463-45f1-f14b-54d7f04cfa64"
      },
      "source": [
        "tokenization(train_data, 'OriginalTweet')\n",
        "tokenization(test_data, 'OriginalTweet')"
      ],
      "execution_count": null,
      "outputs": [
        {
          "output_type": "stream",
          "text": [
            "[nltk_data] Downloading package punkt to /root/nltk_data...\n",
            "[nltk_data]   Package punkt is already up-to-date!\n",
            "[nltk_data] Downloading package punkt to /root/nltk_data...\n",
            "[nltk_data]   Package punkt is already up-to-date!\n"
          ],
          "name": "stdout"
        }
      ]
    },
    {
      "cell_type": "code",
      "metadata": {
        "id": "LPHMcU1BmC3J",
        "colab": {
          "base_uri": "https://localhost:8080/"
        },
        "outputId": "4885cb9f-5e72-4c46-9595-568567e5e34e"
      },
      "source": [
        "print(train_data['tokens'].head(5))\n",
        "print(test_data['tokens'].head(5))"
      ],
      "execution_count": null,
      "outputs": [
        {
          "output_type": "stream",
          "text": [
            "0    [@, MeNyrbie, @, Phil_Gahan, @, Chrisitv, http...\n",
            "1    [advice, Talk, to, your, neighbours, family, t...\n",
            "2    [Coronavirus, Australia, :, Woolworths, to, gi...\n",
            "3    [My, food, stock, is, not, the, only, one, whi...\n",
            "4    [Me, ,, ready, to, go, at, supermarket, during...\n",
            "Name: tokens, dtype: object\n",
            "0    [TRENDING, :, New, Yorkers, encounter, empty, ...\n",
            "1    [When, I, could, n't, find, hand, sanitizer, a...\n",
            "2    [Find, out, how, you, can, protect, yourself, ...\n",
            "3    [#, Panic, buying, hits, #, NewYork, City, as,...\n",
            "4    [#, toiletpaper, #, dunnypaper, #, coronavirus...\n",
            "Name: tokens, dtype: object\n"
          ],
          "name": "stdout"
        }
      ]
    },
    {
      "cell_type": "markdown",
      "metadata": {
        "id": "9RQHB8iaL5ZZ"
      },
      "source": [
        "**(C)**"
      ]
    },
    {
      "cell_type": "code",
      "metadata": {
        "colab": {
          "base_uri": "https://localhost:8080/",
          "height": 435
        },
        "id": "SGpVhjh4L7gT",
        "outputId": "743beed0-6f3f-4433-c172-d088d18bb422"
      },
      "source": [
        "remove_url(train_data, 'OriginalTweet', num_train)\n",
        "tokenization(train_data, 'url_removed')\n",
        "train_data"
      ],
      "execution_count": null,
      "outputs": [
        {
          "output_type": "stream",
          "text": [
            "[nltk_data] Downloading package punkt to /root/nltk_data...\n",
            "[nltk_data]   Package punkt is already up-to-date!\n"
          ],
          "name": "stdout"
        },
        {
          "output_type": "execute_result",
          "data": {
            "text/html": [
              "<div>\n",
              "<style scoped>\n",
              "    .dataframe tbody tr th:only-of-type {\n",
              "        vertical-align: middle;\n",
              "    }\n",
              "\n",
              "    .dataframe tbody tr th {\n",
              "        vertical-align: top;\n",
              "    }\n",
              "\n",
              "    .dataframe thead th {\n",
              "        text-align: right;\n",
              "    }\n",
              "</style>\n",
              "<table border=\"1\" class=\"dataframe\">\n",
              "  <thead>\n",
              "    <tr style=\"text-align: right;\">\n",
              "      <th></th>\n",
              "      <th>Unnamed: 0</th>\n",
              "      <th>OriginalTweet</th>\n",
              "      <th>Sentiment</th>\n",
              "      <th>tokens</th>\n",
              "      <th>url_removed</th>\n",
              "    </tr>\n",
              "  </thead>\n",
              "  <tbody>\n",
              "    <tr>\n",
              "      <th>0</th>\n",
              "      <td>0</td>\n",
              "      <td>@MeNyrbie @Phil_Gahan @Chrisitv https://t.co/i...</td>\n",
              "      <td>1</td>\n",
              "      <td>[@, MeNyrbie, @, Phil_Gahan, @, Chrisitv, and,...</td>\n",
              "      <td>@MeNyrbie @Phil_Gahan @Chrisitv  and  and</td>\n",
              "    </tr>\n",
              "    <tr>\n",
              "      <th>1</th>\n",
              "      <td>1</td>\n",
              "      <td>advice Talk to your neighbours family to excha...</td>\n",
              "      <td>2</td>\n",
              "      <td>[advice, Talk, to, your, neighbours, family, t...</td>\n",
              "      <td>advice Talk to your neighbours family to excha...</td>\n",
              "    </tr>\n",
              "    <tr>\n",
              "      <th>2</th>\n",
              "      <td>2</td>\n",
              "      <td>Coronavirus Australia: Woolworths to give elde...</td>\n",
              "      <td>2</td>\n",
              "      <td>[Coronavirus, Australia, :, Woolworths, to, gi...</td>\n",
              "      <td>Coronavirus Australia: Woolworths to give elde...</td>\n",
              "    </tr>\n",
              "    <tr>\n",
              "      <th>3</th>\n",
              "      <td>3</td>\n",
              "      <td>My food stock is not the only one which is emp...</td>\n",
              "      <td>2</td>\n",
              "      <td>[My, food, stock, is, not, the, only, one, whi...</td>\n",
              "      <td>My food stock is not the only one which is emp...</td>\n",
              "    </tr>\n",
              "    <tr>\n",
              "      <th>4</th>\n",
              "      <td>4</td>\n",
              "      <td>Me, ready to go at supermarket during the #COV...</td>\n",
              "      <td>0</td>\n",
              "      <td>[Me, ,, ready, to, go, at, supermarket, during...</td>\n",
              "      <td>Me, ready to go at supermarket during the #COV...</td>\n",
              "    </tr>\n",
              "    <tr>\n",
              "      <th>...</th>\n",
              "      <td>...</td>\n",
              "      <td>...</td>\n",
              "      <td>...</td>\n",
              "      <td>...</td>\n",
              "      <td>...</td>\n",
              "    </tr>\n",
              "    <tr>\n",
              "      <th>41150</th>\n",
              "      <td>41150</td>\n",
              "      <td>Airline pilots offering to stock supermarket s...</td>\n",
              "      <td>1</td>\n",
              "      <td>[Airline, pilots, offering, to, stock, superma...</td>\n",
              "      <td>Airline pilots offering to stock supermarket s...</td>\n",
              "    </tr>\n",
              "    <tr>\n",
              "      <th>41151</th>\n",
              "      <td>41151</td>\n",
              "      <td>Response to complaint not provided citing COVI...</td>\n",
              "      <td>0</td>\n",
              "      <td>[Response, to, complaint, not, provided, citin...</td>\n",
              "      <td>Response to complaint not provided citing COVI...</td>\n",
              "    </tr>\n",
              "    <tr>\n",
              "      <th>41152</th>\n",
              "      <td>41152</td>\n",
              "      <td>You know itÃÂs getting tough when @KameronWi...</td>\n",
              "      <td>2</td>\n",
              "      <td>[You, know, itÃÂs, getting, tough, when, @, ...</td>\n",
              "      <td>You know itÃÂs getting tough when @KameronWi...</td>\n",
              "    </tr>\n",
              "    <tr>\n",
              "      <th>41153</th>\n",
              "      <td>41153</td>\n",
              "      <td>Is it wrong that the smell of hand sanitizer i...</td>\n",
              "      <td>1</td>\n",
              "      <td>[Is, it, wrong, that, the, smell, of, hand, sa...</td>\n",
              "      <td>Is it wrong that the smell of hand sanitizer i...</td>\n",
              "    </tr>\n",
              "    <tr>\n",
              "      <th>41154</th>\n",
              "      <td>41154</td>\n",
              "      <td>@TartiiCat Well new/used Rift S are going for ...</td>\n",
              "      <td>0</td>\n",
              "      <td>[@, TartiiCat, Well, new/used, Rift, S, are, g...</td>\n",
              "      <td>@TartiiCat Well new/used Rift S are going for ...</td>\n",
              "    </tr>\n",
              "  </tbody>\n",
              "</table>\n",
              "<p>41155 rows × 5 columns</p>\n",
              "</div>"
            ],
            "text/plain": [
              "       Unnamed: 0  ...                                        url_removed\n",
              "0               0  ...         @MeNyrbie @Phil_Gahan @Chrisitv  and  and \n",
              "1               1  ...  advice Talk to your neighbours family to excha...\n",
              "2               2  ...  Coronavirus Australia: Woolworths to give elde...\n",
              "3               3  ...  My food stock is not the only one which is emp...\n",
              "4               4  ...  Me, ready to go at supermarket during the #COV...\n",
              "...           ...  ...                                                ...\n",
              "41150       41150  ...  Airline pilots offering to stock supermarket s...\n",
              "41151       41151  ...  Response to complaint not provided citing COVI...\n",
              "41152       41152  ...  You know itÃÂs getting tough when @KameronWi...\n",
              "41153       41153  ...  Is it wrong that the smell of hand sanitizer i...\n",
              "41154       41154  ...  @TartiiCat Well new/used Rift S are going for ...\n",
              "\n",
              "[41155 rows x 5 columns]"
            ]
          },
          "metadata": {
            "tags": []
          },
          "execution_count": 46
        }
      ]
    },
    {
      "cell_type": "code",
      "metadata": {
        "colab": {
          "base_uri": "https://localhost:8080/",
          "height": 435
        },
        "id": "SHbgS44_MPyj",
        "outputId": "815e9abc-d641-4c21-b112-1fefc3d2e3e1"
      },
      "source": [
        "remove_url(test_data, 'OriginalTweet', num_test)\n",
        "tokenization(test_data, 'url_removed')\n",
        "test_data"
      ],
      "execution_count": null,
      "outputs": [
        {
          "output_type": "stream",
          "text": [
            "[nltk_data] Downloading package punkt to /root/nltk_data...\n",
            "[nltk_data]   Package punkt is already up-to-date!\n"
          ],
          "name": "stdout"
        },
        {
          "output_type": "execute_result",
          "data": {
            "text/html": [
              "<div>\n",
              "<style scoped>\n",
              "    .dataframe tbody tr th:only-of-type {\n",
              "        vertical-align: middle;\n",
              "    }\n",
              "\n",
              "    .dataframe tbody tr th {\n",
              "        vertical-align: top;\n",
              "    }\n",
              "\n",
              "    .dataframe thead th {\n",
              "        text-align: right;\n",
              "    }\n",
              "</style>\n",
              "<table border=\"1\" class=\"dataframe\">\n",
              "  <thead>\n",
              "    <tr style=\"text-align: right;\">\n",
              "      <th></th>\n",
              "      <th>Unnamed: 0</th>\n",
              "      <th>OriginalTweet</th>\n",
              "      <th>Sentiment</th>\n",
              "      <th>tokens</th>\n",
              "      <th>url_removed</th>\n",
              "    </tr>\n",
              "  </thead>\n",
              "  <tbody>\n",
              "    <tr>\n",
              "      <th>0</th>\n",
              "      <td>0</td>\n",
              "      <td>TRENDING: New Yorkers encounter empty supermar...</td>\n",
              "      <td>0</td>\n",
              "      <td>[TRENDING, :, New, Yorkers, encounter, empty, ...</td>\n",
              "      <td>TRENDING: New Yorkers encounter empty supermar...</td>\n",
              "    </tr>\n",
              "    <tr>\n",
              "      <th>1</th>\n",
              "      <td>1</td>\n",
              "      <td>When I couldn't find hand sanitizer at Fred Me...</td>\n",
              "      <td>2</td>\n",
              "      <td>[When, I, could, n't, find, hand, sanitizer, a...</td>\n",
              "      <td>When I couldn't find hand sanitizer at Fred Me...</td>\n",
              "    </tr>\n",
              "    <tr>\n",
              "      <th>2</th>\n",
              "      <td>2</td>\n",
              "      <td>Find out how you can protect yourself and love...</td>\n",
              "      <td>2</td>\n",
              "      <td>[Find, out, how, you, can, protect, yourself, ...</td>\n",
              "      <td>Find out how you can protect yourself and love...</td>\n",
              "    </tr>\n",
              "    <tr>\n",
              "      <th>3</th>\n",
              "      <td>3</td>\n",
              "      <td>#Panic buying hits #NewYork City as anxious sh...</td>\n",
              "      <td>0</td>\n",
              "      <td>[#, Panic, buying, hits, #, NewYork, City, as,...</td>\n",
              "      <td>#Panic buying hits #NewYork City as anxious sh...</td>\n",
              "    </tr>\n",
              "    <tr>\n",
              "      <th>4</th>\n",
              "      <td>4</td>\n",
              "      <td>#toiletpaper #dunnypaper #coronavirus #coronav...</td>\n",
              "      <td>1</td>\n",
              "      <td>[#, toiletpaper, #, dunnypaper, #, coronavirus...</td>\n",
              "      <td>#toiletpaper #dunnypaper #coronavirus #coronav...</td>\n",
              "    </tr>\n",
              "    <tr>\n",
              "      <th>...</th>\n",
              "      <td>...</td>\n",
              "      <td>...</td>\n",
              "      <td>...</td>\n",
              "      <td>...</td>\n",
              "      <td>...</td>\n",
              "    </tr>\n",
              "    <tr>\n",
              "      <th>3793</th>\n",
              "      <td>3793</td>\n",
              "      <td>Meanwhile In A Supermarket in Israel -- People...</td>\n",
              "      <td>2</td>\n",
              "      <td>[Meanwhile, In, A, Supermarket, in, Israel, --...</td>\n",
              "      <td>Meanwhile In A Supermarket in Israel -- People...</td>\n",
              "    </tr>\n",
              "    <tr>\n",
              "      <th>3794</th>\n",
              "      <td>3794</td>\n",
              "      <td>Did you panic buy a lot of non-perishable item...</td>\n",
              "      <td>0</td>\n",
              "      <td>[Did, you, panic, buy, a, lot, of, non-perisha...</td>\n",
              "      <td>Did you panic buy a lot of non-perishable item...</td>\n",
              "    </tr>\n",
              "    <tr>\n",
              "      <th>3795</th>\n",
              "      <td>3795</td>\n",
              "      <td>Asst Prof of Economics @cconces was on @NBCPhi...</td>\n",
              "      <td>1</td>\n",
              "      <td>[Asst, Prof, of, Economics, @, cconces, was, o...</td>\n",
              "      <td>Asst Prof of Economics @cconces was on @NBCPhi...</td>\n",
              "    </tr>\n",
              "    <tr>\n",
              "      <th>3796</th>\n",
              "      <td>3796</td>\n",
              "      <td>Gov need to do somethings instead of biar je r...</td>\n",
              "      <td>0</td>\n",
              "      <td>[Gov, need, to, do, somethings, instead, of, b...</td>\n",
              "      <td>Gov need to do somethings instead of biar je r...</td>\n",
              "    </tr>\n",
              "    <tr>\n",
              "      <th>3797</th>\n",
              "      <td>3797</td>\n",
              "      <td>I and @ForestandPaper members are committed to...</td>\n",
              "      <td>2</td>\n",
              "      <td>[I, and, @, ForestandPaper, members, are, comm...</td>\n",
              "      <td>I and @ForestandPaper members are committed to...</td>\n",
              "    </tr>\n",
              "  </tbody>\n",
              "</table>\n",
              "<p>3798 rows × 5 columns</p>\n",
              "</div>"
            ],
            "text/plain": [
              "      Unnamed: 0  ...                                        url_removed\n",
              "0              0  ...  TRENDING: New Yorkers encounter empty supermar...\n",
              "1              1  ...  When I couldn't find hand sanitizer at Fred Me...\n",
              "2              2  ...  Find out how you can protect yourself and love...\n",
              "3              3  ...  #Panic buying hits #NewYork City as anxious sh...\n",
              "4              4  ...  #toiletpaper #dunnypaper #coronavirus #coronav...\n",
              "...          ...  ...                                                ...\n",
              "3793        3793  ...  Meanwhile In A Supermarket in Israel -- People...\n",
              "3794        3794  ...  Did you panic buy a lot of non-perishable item...\n",
              "3795        3795  ...  Asst Prof of Economics @cconces was on @NBCPhi...\n",
              "3796        3796  ...  Gov need to do somethings instead of biar je r...\n",
              "3797        3797  ...  I and @ForestandPaper members are committed to...\n",
              "\n",
              "[3798 rows x 5 columns]"
            ]
          },
          "metadata": {
            "tags": []
          },
          "execution_count": 47
        }
      ]
    },
    {
      "cell_type": "markdown",
      "metadata": {
        "id": "IoVFfcsidvGe"
      },
      "source": [
        "(D)"
      ]
    },
    {
      "cell_type": "code",
      "metadata": {
        "colab": {
          "base_uri": "https://localhost:8080/"
        },
        "id": "kiWUmhHxduTa",
        "outputId": "918708a3-0e2f-4fc8-c27f-a586fb009756"
      },
      "source": [
        "##### Convert tokens into lowercase ####\n",
        "lowercase_tokens = []\n",
        "# Create a list of lists with what we want\n",
        "for row in train_data['tokens']:\n",
        "  lowercase_tokens.append([t.lower() for t in row])\n",
        "# add the new info to our df\n",
        "train_data['lowercase_tokens'] = lowercase_tokens\n",
        "\n",
        "print(train_data['lowercase_tokens'].head(5))"
      ],
      "execution_count": null,
      "outputs": [
        {
          "output_type": "stream",
          "text": [
            "0    [@, menyrbie, @, phil_gahan, @, chrisitv, and,...\n",
            "1    [advice, talk, to, your, neighbours, family, t...\n",
            "2    [coronavirus, australia, :, woolworths, to, gi...\n",
            "3    [my, food, stock, is, not, the, only, one, whi...\n",
            "4    [me, ,, ready, to, go, at, supermarket, during...\n",
            "Name: lowercase_tokens, dtype: object\n"
          ],
          "name": "stdout"
        }
      ]
    },
    {
      "cell_type": "code",
      "metadata": {
        "colab": {
          "base_uri": "https://localhost:8080/"
        },
        "id": "HDKbo084d0CE",
        "outputId": "d9f686c1-992c-450d-ed0c-083d77ffbad7"
      },
      "source": [
        "##### Let's remove punctuation #####\n",
        "\n",
        "# Note we've been keeping different columns for different steps (not necessary)\n",
        "list(train_data)\n",
        "\n",
        "# Same process as before\n",
        "tokens_no_punct = []\n",
        "# Create a list of lists with what we want\n",
        "for row in train_data['lowercase_tokens']:\n",
        "  tokens_no_punct.append([re.sub('[^\\w\\s]','', t) for t in row])\n",
        "# add the new info to our df\n",
        "train_data['tokens_no_punct'] = tokens_no_punct\n",
        "\n",
        "print(train_data['tokens_no_punct'].head(5))"
      ],
      "execution_count": null,
      "outputs": [
        {
          "output_type": "stream",
          "text": [
            "0     [, menyrbie, , phil_gahan, , chrisitv, and, and]\n",
            "1    [advice, talk, to, your, neighbours, family, t...\n",
            "2    [coronavirus, australia, , woolworths, to, giv...\n",
            "3    [my, food, stock, is, not, the, only, one, whi...\n",
            "4    [me, , ready, to, go, at, supermarket, during,...\n",
            "Name: tokens_no_punct, dtype: object\n"
          ],
          "name": "stdout"
        }
      ]
    },
    {
      "cell_type": "code",
      "metadata": {
        "colab": {
          "base_uri": "https://localhost:8080/"
        },
        "id": "w1zIXosxeA9Q",
        "outputId": "d47ae5db-fd9d-4836-86ff-5f11afdea9df"
      },
      "source": [
        "##### Convert tokens into lowercase ####\n",
        "lowercase_tokens = []\n",
        "# Create a list of lists with what we want\n",
        "for row in test_data['tokens']:\n",
        "  lowercase_tokens.append([t.lower() for t in row])\n",
        "# add the new info to our df\n",
        "test_data['lowercase_tokens'] = lowercase_tokens\n",
        "\n",
        "print(test_data['lowercase_tokens'].head(5))"
      ],
      "execution_count": null,
      "outputs": [
        {
          "output_type": "stream",
          "text": [
            "0    [trending, :, new, yorkers, encounter, empty, ...\n",
            "1    [when, i, could, n't, find, hand, sanitizer, a...\n",
            "2    [find, out, how, you, can, protect, yourself, ...\n",
            "3    [#, panic, buying, hits, #, newyork, city, as,...\n",
            "4    [#, toiletpaper, #, dunnypaper, #, coronavirus...\n",
            "Name: lowercase_tokens, dtype: object\n"
          ],
          "name": "stdout"
        }
      ]
    },
    {
      "cell_type": "code",
      "metadata": {
        "colab": {
          "base_uri": "https://localhost:8080/"
        },
        "id": "oNHmfqWxeEoj",
        "outputId": "6cfd4741-728f-4968-d600-931dc9be6019"
      },
      "source": [
        "##### Let's remove punctuation #####\n",
        "\n",
        "# Note we've been keeping different columns for different steps (not necessary)\n",
        "list(test_data)\n",
        "\n",
        "# Same process as before\n",
        "tokens_no_punct = []\n",
        "# Create a list of lists with what we want\n",
        "for row in test_data['lowercase_tokens']:\n",
        "  tokens_no_punct.append([re.sub('[^\\w\\s]','', t) for t in row])\n",
        "# add the new info to our df\n",
        "test_data['tokens_no_punct'] = tokens_no_punct\n",
        "\n",
        "print(test_data['tokens_no_punct'].head(5))"
      ],
      "execution_count": null,
      "outputs": [
        {
          "output_type": "stream",
          "text": [
            "0    [trending, , new, yorkers, encounter, empty, s...\n",
            "1    [when, i, could, nt, find, hand, sanitizer, at...\n",
            "2    [find, out, how, you, can, protect, yourself, ...\n",
            "3    [, panic, buying, hits, , newyork, city, as, a...\n",
            "4    [, toiletpaper, , dunnypaper, , coronavirus, ,...\n",
            "Name: tokens_no_punct, dtype: object\n"
          ],
          "name": "stdout"
        }
      ]
    },
    {
      "cell_type": "markdown",
      "metadata": {
        "id": "xjg_pfhMeP1B"
      },
      "source": [
        "(E)"
      ]
    },
    {
      "cell_type": "code",
      "metadata": {
        "colab": {
          "base_uri": "https://localhost:8080/"
        },
        "id": "svobhavreNtp",
        "outputId": "e4213007-07a0-4c6b-d2cb-a9ededce05c0"
      },
      "source": [
        "#### Stemming tokens ####\n",
        "from nltk.stem.porter import *\n",
        "stemmer = PorterStemmer()\n",
        "stemmed_tokens = []\n",
        "for row in train_data['tokens_no_punct']:\n",
        "  stemmed_tokens.append([stemmer.stem(t) for t in row])\n",
        "\n",
        "train_data['stemmed_tokens'] = stemmed_tokens\n",
        "print('After stemming:\\n', train_data['stemmed_tokens'].head(3))"
      ],
      "execution_count": null,
      "outputs": [
        {
          "output_type": "stream",
          "text": [
            "After stemming:\n",
            " 0      [, menyrbi, , phil_gahan, , chrisitv, and, and]\n",
            "1    [advic, talk, to, your, neighbour, famili, to,...\n",
            "2    [coronaviru, australia, , woolworth, to, give,...\n",
            "Name: stemmed_tokens, dtype: object\n"
          ],
          "name": "stdout"
        }
      ]
    },
    {
      "cell_type": "code",
      "metadata": {
        "colab": {
          "base_uri": "https://localhost:8080/"
        },
        "id": "Zrdf89TneZ8U",
        "outputId": "ce086deb-9dc8-4fc6-9251-bd42705c8211"
      },
      "source": [
        "#### Stemming tokens ####\n",
        "from nltk.stem.porter import *\n",
        "stemmer = PorterStemmer()\n",
        "stemmed_tokens = []\n",
        "for row in test_data['tokens_no_punct']:\n",
        "  stemmed_tokens.append([stemmer.stem(t) for t in row])\n",
        "\n",
        "test_data['stemmed_tokens'] = stemmed_tokens\n",
        "print('After stemming:\\n', test_data['stemmed_tokens'].head(3))"
      ],
      "execution_count": null,
      "outputs": [
        {
          "output_type": "stream",
          "text": [
            "After stemming:\n",
            " 0    [trend, , new, yorker, encount, empti, superma...\n",
            "1    [when, i, could, nt, find, hand, sanit, at, fr...\n",
            "2    [find, out, how, you, can, protect, yourself, ...\n",
            "Name: stemmed_tokens, dtype: object\n"
          ],
          "name": "stdout"
        }
      ]
    },
    {
      "cell_type": "code",
      "metadata": {
        "colab": {
          "base_uri": "https://localhost:8080/",
          "height": 136
        },
        "id": "b8kefcsO2PlW",
        "outputId": "2886b6a7-58a2-4bef-8244-cbc54735c8ac"
      },
      "source": [
        "# Let's use the TFIDF counts for modelling\n",
        "X_train = tfs_train.toarray()\n",
        "X_test = tfs_test.toarray()\n",
        "y_train = y_train.tolist()\n",
        "y_test = y_test.tolist()\n",
        "# Let's fit the Naive Bayes model to our training data\n",
        "nb = MultinomialNB()\n",
        "# Fit model to training data\n",
        "nb.fit(X_train, y_train)\n",
        "# Predict on test data\n",
        "y_train_preds = nb.predict(X_train)\n",
        "\n",
        "# Get fitted values from test set\n",
        "y_test_preds = nb.predict(X_test)\n",
        "\n",
        "# Print train and test errors\n",
        "train_acc = accuracy_score(y_train, y_train_preds)\n",
        "test_acc = accuracy_score(y_test, y_test_preds)\n",
        "\n",
        "print('Train Accuracy: ',train_acc)\n",
        "print('Test Accuracy: ',test_acc)from nltk.stem.porter import *\n",
        "stemmer = PorterStemmer()\n",
        "stemmed_tokens = []\n",
        "for row in df['tokens_no_sw']:\n",
        "  stemmed_tokens.append([stemmer.stem(t) for t in row])\n",
        "\n",
        "df['stemmed_tokens'] = stemmed_tokens\n",
        "print('Before stemming:\\n', df['tokens_no_sw'].head(3))\n",
        "print('After stemming:\\n', df['stemmed_tokens'].head(3))"
      ],
      "execution_count": null,
      "outputs": [
        {
          "output_type": "error",
          "ename": "SyntaxError",
          "evalue": "ignored",
          "traceback": [
            "\u001b[0;36m  File \u001b[0;32m\"<ipython-input-24-51f9e4cf8aef>\"\u001b[0;36m, line \u001b[0;32m21\u001b[0m\n\u001b[0;31m    print('Test Accuracy: ',test_acc)from nltk.stem.porter import *\u001b[0m\n\u001b[0m                                        ^\u001b[0m\n\u001b[0;31mSyntaxError\u001b[0m\u001b[0;31m:\u001b[0m invalid syntax\n"
          ]
        }
      ]
    },
    {
      "cell_type": "code",
      "metadata": {
        "colab": {
          "base_uri": "https://localhost:8080/"
        },
        "id": "ipLc94IxenTK",
        "outputId": "355c200b-2c7f-4e0e-acef-271907e53697"
      },
      "source": [
        "# Drop some intermediate columns\n",
        "list(train_data)\n",
        "train_data = train_data.drop(['tokens','lowercase_tokens', 'tokens_no_punct','url_removed'],axis=1)\n",
        "\n",
        "print('After removal:\\n', list(train_data))\n",
        "\n",
        "no_blanks = []\n",
        "for row in train_data['stemmed_tokens']:\n",
        "  no_blanks.append([t for t in row if t != ''])\n",
        "train_data['tokens'] = no_blanks\n",
        "\n",
        "print(train_data['tokens'].head(5))\n",
        "\n",
        "# drop the last intermediate column\n",
        "train_data = train_data.drop(['stemmed_tokens'], axis = 1)\n",
        "\n",
        "# Now we should have only the label, original text, and cleaned token lists\n",
        "print('Current Columns:\\n',list(train_data))"
      ],
      "execution_count": null,
      "outputs": [
        {
          "output_type": "stream",
          "text": [
            "After removal:\n",
            " ['Unnamed: 0', 'OriginalTweet', 'Sentiment', 'stemmed_tokens']\n",
            "0            [menyrbi, phil_gahan, chrisitv, and, and]\n",
            "1    [advic, talk, to, your, neighbour, famili, to,...\n",
            "2    [coronaviru, australia, woolworth, to, give, e...\n",
            "3    [my, food, stock, is, not, the, onli, one, whi...\n",
            "4    [me, readi, to, go, at, supermarket, dure, the...\n",
            "Name: tokens, dtype: object\n",
            "Current Columns:\n",
            " ['Unnamed: 0', 'OriginalTweet', 'Sentiment', 'tokens']\n"
          ],
          "name": "stdout"
        }
      ]
    },
    {
      "cell_type": "code",
      "metadata": {
        "colab": {
          "base_uri": "https://localhost:8080/"
        },
        "id": "VjUhU5q4evED",
        "outputId": "02e9a129-9fa7-4766-9aef-ea133d62134a"
      },
      "source": [
        "# Drop some intermediate columns\n",
        "test_data = test_data.drop(['tokens','lowercase_tokens', 'tokens_no_punct','url_removed'],axis=1)\n",
        "\n",
        "print('After removal:\\n', list(test_data))\n",
        "\n",
        "no_blanks = []\n",
        "for row in test_data['stemmed_tokens']:\n",
        "  no_blanks.append([t for t in row if t != ''])\n",
        "test_data['tokens'] = no_blanks\n",
        "\n",
        "\n",
        "# drop the last intermediate column\n",
        "test_data = test_data.drop(['stemmed_tokens'], axis = 1)\n",
        "\n",
        "# Now we should have only the label, original text, and cleaned token lists\n",
        "print('Current Columns:\\n',list(test_data))"
      ],
      "execution_count": null,
      "outputs": [
        {
          "output_type": "stream",
          "text": [
            "After removal:\n",
            " ['Unnamed: 0', 'OriginalTweet', 'Sentiment', 'stemmed_tokens']\n",
            "Current Columns:\n",
            " ['Unnamed: 0', 'OriginalTweet', 'Sentiment', 'tokens']\n"
          ],
          "name": "stdout"
        }
      ]
    },
    {
      "cell_type": "markdown",
      "metadata": {
        "id": "ZnKWEXV_exQP"
      },
      "source": [
        "(F)"
      ]
    },
    {
      "cell_type": "code",
      "metadata": {
        "colab": {
          "base_uri": "https://localhost:8080/"
        },
        "id": "aaD_kL9de0If",
        "outputId": "072c57be-5e86-40e8-f2b3-3ded09be0e91"
      },
      "source": [
        "##### Time to remove Stopwords #####\n",
        "\n",
        "from nltk.corpus import stopwords\n",
        "nltk.download('stopwords')\n",
        "# print the top 100 most popular english words\n",
        "sw = stopwords.words('english')[:100]\n",
        "\n"
      ],
      "execution_count": null,
      "outputs": [
        {
          "output_type": "stream",
          "text": [
            "[nltk_data] Downloading package stopwords to /root/nltk_data...\n",
            "[nltk_data]   Unzipping corpora/stopwords.zip.\n"
          ],
          "name": "stdout"
        }
      ]
    },
    {
      "cell_type": "code",
      "metadata": {
        "colab": {
          "base_uri": "https://localhost:8080/"
        },
        "id": "_TYU1RDWe2kn",
        "outputId": "02d3f035-6497-4afe-8bdc-51996508775c"
      },
      "source": [
        "# Now let's remove them\n",
        "tokens_no_sw = []\n",
        "for row in train_data['tokens']:\n",
        "  tokens_no_sw.append([w for w in row if w not in sw])\n",
        "# Add column to df\n",
        "train_data['tokens'] = tokens_no_sw\n",
        "\n",
        "# Print some examples\n",
        "print(train_data['tokens'].tail(5))"
      ],
      "execution_count": null,
      "outputs": [
        {
          "output_type": "stream",
          "text": [
            "41150    [airlin, pilot, offer, stock, supermarket, she...\n",
            "41151    [respons, complaint, not, provid, cite, covid1...\n",
            "41152    [know, itãâ, get, tough, when, kameronwild, ra...\n",
            "41153    [wrong, smell, hand, sanit, start, turn, coron...\n",
            "41154    [tartiicat, well, newus, rift, s, go, 70000, a...\n",
            "Name: tokens, dtype: object\n"
          ],
          "name": "stdout"
        }
      ]
    },
    {
      "cell_type": "code",
      "metadata": {
        "colab": {
          "base_uri": "https://localhost:8080/"
        },
        "id": "NgM5f5y6e65-",
        "outputId": "b628ba02-2a11-46c2-f840-f03d9e6b1194"
      },
      "source": [
        "# Now let's remove them\n",
        "tokens_no_sw = []\n",
        "for row in test_data['tokens']:\n",
        "  tokens_no_sw.append([w for w in row if w not in sw])\n",
        "# Add column to df\n",
        "test_data['tokens'] = tokens_no_sw\n",
        "\n",
        "# Print some examples\n",
        "print(test_data['tokens'].tail(5))"
      ],
      "execution_count": null,
      "outputs": [
        {
          "output_type": "stream",
          "text": [
            "3793    [meanwhil, supermarket, israel, peopl, danc, s...\n",
            "3794    [panic, buy, lot, nonperish, item, echo, need,...\n",
            "3795    [asst, prof, econom, cconc, wa, nbcphiladelphi...\n",
            "3796    [gov, need, someth, instead, biar, je, rakyat,...\n",
            "3797    [forestandpap, member, commit, safeti, employe...\n",
            "Name: tokens, dtype: object\n"
          ],
          "name": "stdout"
        }
      ]
    },
    {
      "cell_type": "markdown",
      "metadata": {
        "id": "dugqwa__fAGo"
      },
      "source": [
        "（G）"
      ]
    },
    {
      "cell_type": "code",
      "metadata": {
        "id": "ZJfFh_0BgWzf",
        "colab": {
          "base_uri": "https://localhost:8080/"
        },
        "outputId": "5f3cf622-6795-4690-ce6d-cb2954bd9217"
      },
      "source": [
        "for i in range(0, len(train_data['Sentiment'])):\n",
        "  if type(train_data['Sentiment'][i]) == str:\n",
        "    if train_data['Sentiment'][i].isnumeric():\n",
        "      train_data['Sentiment'][i] = int(train_data['Sentiment'][i])\n",
        "    else:\n",
        "      train_data['Sentiment'][i] = 1\n",
        "for i in range(0, len(test_data['Sentiment'])):\n",
        "  if type(test_data['Sentiment'][i]) == str:\n",
        "    if test_data['Sentiment'][i].isnumeric():\n",
        "      test_data['Sentiment'][i] = int(test_data['Sentiment'][i])\n",
        "    else:\n",
        "      test_data['Sentiment'][i] = 1"
      ],
      "execution_count": null,
      "outputs": [
        {
          "output_type": "stream",
          "text": [
            "/usr/local/lib/python3.7/dist-packages/ipykernel_launcher.py:4: SettingWithCopyWarning: \n",
            "A value is trying to be set on a copy of a slice from a DataFrame\n",
            "\n",
            "See the caveats in the documentation: https://pandas.pydata.org/pandas-docs/stable/user_guide/indexing.html#returning-a-view-versus-a-copy\n",
            "  after removing the cwd from sys.path.\n",
            "/usr/local/lib/python3.7/dist-packages/ipykernel_launcher.py:6: SettingWithCopyWarning: \n",
            "A value is trying to be set on a copy of a slice from a DataFrame\n",
            "\n",
            "See the caveats in the documentation: https://pandas.pydata.org/pandas-docs/stable/user_guide/indexing.html#returning-a-view-versus-a-copy\n",
            "  \n"
          ],
          "name": "stderr"
        }
      ]
    },
    {
      "cell_type": "code",
      "metadata": {
        "colab": {
          "base_uri": "https://localhost:8080/"
        },
        "id": "jDaoRskbe-Um",
        "outputId": "80f05b54-31aa-4abe-ec7a-cb48cf47bd45"
      },
      "source": [
        "for i in range(0, len(test_data['Sentiment'])):\n",
        "  if np.isnan(int(test_data['Sentiment'][i])):\n",
        "    test_data['Sentiment'][i] = 1\n",
        "  else:\n",
        "    test_data['Sentiment'][i] = int(test_data['Sentiment'][i])\n",
        "\n",
        "X_train, y_train = train_data['tokens'].to_numpy(), train_data['Sentiment'].to_numpy()\n",
        "X_test, y_test = test_data['tokens'].to_numpy(), test_data['Sentiment'].to_numpy()\n",
        "def override_fcn(doc):\n",
        "  # We expect a list of tokens as input\n",
        "  return doc\n",
        "\n",
        "# Count Vectorizer\n",
        "count_vec = CountVectorizer(\n",
        "    analyzer='word',\n",
        "    tokenizer= override_fcn,\n",
        "    preprocessor= override_fcn,\n",
        "    token_pattern= None,\n",
        "    max_features = 1000)\n",
        "\n",
        "# Remember this output is a Scipy Sparse Array\n",
        "counts_train = count_vec.fit_transform(X_train)\n",
        "counts_test = count_vec.fit_transform(X_test)\n",
        "\n",
        "X_train = counts_train.toarray()\n",
        "X_test = counts_test.toarray()"
      ],
      "execution_count": null,
      "outputs": [
        {
          "output_type": "stream",
          "text": [
            "/usr/local/lib/python3.7/dist-packages/ipykernel_launcher.py:5: SettingWithCopyWarning: \n",
            "A value is trying to be set on a copy of a slice from a DataFrame\n",
            "\n",
            "See the caveats in the documentation: https://pandas.pydata.org/pandas-docs/stable/user_guide/indexing.html#returning-a-view-versus-a-copy\n",
            "  \"\"\"\n"
          ],
          "name": "stderr"
        }
      ]
    },
    {
      "cell_type": "code",
      "metadata": {
        "id": "d-KxdmLCdYgf"
      },
      "source": [
        "for i in range(0, len(y_train)):\n",
        "  if np.isnan(y_train[i]):\n",
        "    y_train[i] = 1\n",
        "\n",
        "\n",
        "y_test = y_test.tolist()"
      ],
      "execution_count": null,
      "outputs": []
    },
    {
      "cell_type": "code",
      "metadata": {
        "id": "aoR2FwZMxMgz"
      },
      "source": [
        "y_train = y_train.tolist()"
      ],
      "execution_count": null,
      "outputs": []
    },
    {
      "cell_type": "code",
      "metadata": {
        "colab": {
          "base_uri": "https://localhost:8080/"
        },
        "id": "BZ90gQfRxf36",
        "outputId": "b7038e2c-19c6-426e-c301-a5002df1a5a8"
      },
      "source": [
        "print(len(count_vec.vocabulary_))"
      ],
      "execution_count": null,
      "outputs": [
        {
          "output_type": "stream",
          "text": [
            "1000\n"
          ],
          "name": "stdout"
        }
      ]
    },
    {
      "cell_type": "markdown",
      "metadata": {
        "id": "yObGjPUpdFRS"
      },
      "source": [
        "**(H)**"
      ]
    },
    {
      "cell_type": "code",
      "metadata": {
        "id": "SDNhxxKyfJm7",
        "colab": {
          "base_uri": "https://localhost:8080/"
        },
        "outputId": "dfd77470-13dd-43e4-c793-9ecd94ead11e"
      },
      "source": [
        "nb = MultinomialNB()\n",
        "# Fit model to training data\n",
        "nb.fit(X_train, y_train)\n",
        "# Predict on test data\n",
        "y_train_preds = nb.predict(X_train)\n",
        "\n",
        "# Get fitted values from test set\n",
        "y_test_preds = nb.predict(X_test)\n",
        "\n",
        "# Print train and test errors\n",
        "train_acc = accuracy_score(y_train, y_train_preds)\n",
        "test_acc = accuracy_score(y_test, y_test_preds)\n",
        "\n",
        "print('Train Accuracy: ',train_acc)\n",
        "print('Test Accuracy: ',test_acc)"
      ],
      "execution_count": null,
      "outputs": [
        {
          "output_type": "stream",
          "text": [
            "Train Accuracy:  0.68234722390961\n",
            "Test Accuracy:  0.42338072669826227\n"
          ],
          "name": "stdout"
        }
      ]
    },
    {
      "cell_type": "code",
      "metadata": {
        "colab": {
          "base_uri": "https://localhost:8080/",
          "height": 243
        },
        "id": "zQAb_2sY3ZIo",
        "outputId": "b1e4858a-7be2-44c0-e370-ed1b065f7dbc"
      },
      "source": [
        "for lst in test_data['tokens']:\n",
        "  text.extend(lst)\n",
        "text = ' '.join(text)\n",
        "wordcloud = WordCloud().generate(text)\n",
        "\n",
        "# Display the generated image:\n",
        "plt.imshow(wordcloud, interpolation='bilinear')\n",
        "plt.axis(\"off\")\n",
        "plt.show()"
      ],
      "execution_count": null,
      "outputs": [
        {
          "output_type": "error",
          "ename": "NameError",
          "evalue": "ignored",
          "traceback": [
            "\u001b[0;31m---------------------------------------------------------------------------\u001b[0m",
            "\u001b[0;31mNameError\u001b[0m                                 Traceback (most recent call last)",
            "\u001b[0;32m<ipython-input-31-de200864314b>\u001b[0m in \u001b[0;36m<module>\u001b[0;34m()\u001b[0m\n\u001b[0;32m----> 1\u001b[0;31m \u001b[0;32mfor\u001b[0m \u001b[0mlst\u001b[0m \u001b[0;32min\u001b[0m \u001b[0mdf_lst_pop\u001b[0m\u001b[0;34m[\u001b[0m\u001b[0;34m'tokens'\u001b[0m\u001b[0;34m]\u001b[0m\u001b[0;34m:\u001b[0m\u001b[0;34m\u001b[0m\u001b[0;34m\u001b[0m\u001b[0m\n\u001b[0m\u001b[1;32m      2\u001b[0m   \u001b[0mtext\u001b[0m\u001b[0;34m.\u001b[0m\u001b[0mextend\u001b[0m\u001b[0;34m(\u001b[0m\u001b[0mlst\u001b[0m\u001b[0;34m)\u001b[0m\u001b[0;34m\u001b[0m\u001b[0;34m\u001b[0m\u001b[0m\n\u001b[1;32m      3\u001b[0m \u001b[0mtext\u001b[0m \u001b[0;34m=\u001b[0m \u001b[0;34m' '\u001b[0m\u001b[0;34m.\u001b[0m\u001b[0mjoin\u001b[0m\u001b[0;34m(\u001b[0m\u001b[0mtext\u001b[0m\u001b[0;34m)\u001b[0m\u001b[0;34m\u001b[0m\u001b[0;34m\u001b[0m\u001b[0m\n\u001b[1;32m      4\u001b[0m \u001b[0mwordcloud\u001b[0m \u001b[0;34m=\u001b[0m \u001b[0mWordCloud\u001b[0m\u001b[0;34m(\u001b[0m\u001b[0;34m)\u001b[0m\u001b[0;34m.\u001b[0m\u001b[0mgenerate\u001b[0m\u001b[0;34m(\u001b[0m\u001b[0mtext\u001b[0m\u001b[0;34m)\u001b[0m\u001b[0;34m\u001b[0m\u001b[0;34m\u001b[0m\u001b[0m\n\u001b[1;32m      5\u001b[0m \u001b[0;34m\u001b[0m\u001b[0m\n",
            "\u001b[0;31mNameError\u001b[0m: name 'df_lst_pop' is not defined"
          ]
        }
      ]
    },
    {
      "cell_type": "code",
      "metadata": {
        "id": "7zGEu52P3hvL"
      },
      "source": [
        "for lst in train_data['tokens']:\n",
        "  text.extend(lst)\n",
        "text = ' '.join(text)\n",
        "wordcloud = WordCloud().generate(text)\n",
        "\n",
        "# Display the generated image:\n",
        "plt.imshow(wordcloud, interpolation='bilinear')\n",
        "plt.axis(\"off\")\n",
        "plt.show()"
      ],
      "execution_count": null,
      "outputs": []
    },
    {
      "cell_type": "markdown",
      "metadata": {
        "id": "1IzEf59vMdB1"
      },
      "source": [
        "**(I)**"
      ]
    },
    {
      "cell_type": "markdown",
      "metadata": {
        "id": "XgGYBUVmMxEK"
      },
      "source": [
        "No, because ROC curve is not suitable for labels involving multiple classes"
      ]
    },
    {
      "cell_type": "markdown",
      "metadata": {
        "id": "azAsQTvdNCns"
      },
      "source": [
        "**(J)**"
      ]
    },
    {
      "cell_type": "code",
      "metadata": {
        "colab": {
          "base_uri": "https://localhost:8080/"
        },
        "id": "EAhMXh1BMk5z",
        "outputId": "3b92a41f-b94e-4941-8c8d-4911ddbaf137"
      },
      "source": [
        "X_train, y_train = train_data['tokens'].to_numpy(), train_data['Sentiment'].to_numpy()\n",
        "X_test, y_test = test_data['tokens'].to_numpy(), test_data['Sentiment'].to_numpy()\n",
        "def override_fcn(doc):\n",
        "  # We expect a list of tokens as input\n",
        "  return doc\n",
        "\n",
        "# Count Vectorizer\n",
        "count_vec = CountVectorizer(\n",
        "    analyzer='word',\n",
        "    tokenizer= override_fcn,\n",
        "    preprocessor= override_fcn,\n",
        "    token_pattern= None,\n",
        "    max_features = 1000)\n",
        "\n",
        "# Remember this output is a Scipy Sparse Array\n",
        "counts_train = count_vec.fit_transform(X_train)\n",
        "counts_test = count_vec.fit_transform(X_test)\n",
        "#### TF-IDF Vectorize ####\n",
        "\n",
        "# Note that smoothing is done by default\n",
        "tfidf = TfidfTransformer()\n",
        "\n",
        "tfs_train = tfidf.fit_transform(counts_train)\n",
        "tfs_test = tfidf.fit_transform(counts_test)\n",
        "\n",
        "# Let's use the TFIDF counts for modelling\n",
        "X_train = tfs_train.toarray()\n",
        "X_test = tfs_test.toarray()\n",
        "print(X_test)\n",
        "y_train = y_train.tolist()\n",
        "y_test = y_test.tolist()\n",
        "# Let's fit the Naive Bayes model to our training data\n",
        "nb = MultinomialNB()\n",
        "# Fit model to training data\n",
        "nb.fit(X_train, y_train)\n",
        "# Predict on test data\n",
        "y_train_preds = nb.predict(X_train)\n",
        "\n",
        "# Get fitted values from test set\n",
        "y_test_preds = nb.predict(X_test)\n",
        "\n",
        "# Print train and test errors\n",
        "train_acc = accuracy_score(y_train, y_train_preds)\n",
        "test_acc = accuracy_score(y_test, y_test_preds)\n",
        "\n",
        "print('Train Accuracy: ',train_acc)\n",
        "print('Test Accuracy: ',test_acc)\n"
      ],
      "execution_count": null,
      "outputs": [
        {
          "output_type": "stream",
          "text": [
            "[[0. 0. 0. ... 0. 0. 0.]\n",
            " [0. 0. 0. ... 0. 0. 0.]\n",
            " [0. 0. 0. ... 0. 0. 0.]\n",
            " ...\n",
            " [0. 0. 0. ... 0. 0. 0.]\n",
            " [0. 0. 0. ... 0. 0. 0.]\n",
            " [0. 0. 0. ... 0. 0. 0.]]\n",
            "Train Accuracy:  0.6654841453043373\n",
            "Test Accuracy:  0.42627698788836227\n"
          ],
          "name": "stdout"
        }
      ]
    },
    {
      "cell_type": "markdown",
      "metadata": {
        "id": "gHAsPXPrcmkm"
      },
      "source": [
        "**(K)**"
      ]
    },
    {
      "cell_type": "code",
      "metadata": {
        "id": "Z9ORcHCSck4i",
        "colab": {
          "base_uri": "https://localhost:8080/"
        },
        "outputId": "5714f58d-75f9-4622-acba-7b052d311867"
      },
      "source": [
        "from nltk.stem import WordNetLemmatizer\n",
        "nltk.download('wordnet')\n",
        "lemmatizer = WordNetLemmatizer()\n",
        "lem_tokens = []\n",
        "for row in train_data['tokens']:\n",
        "  lem_tokens.append([lemmatizer.lemmatize(t) for t in row])\n",
        "\n",
        "train_data['lem_tokens'] = lem_tokens\n",
        "\n",
        "# Print results\n",
        "print(train_data['lem_tokens'].head(5))\n",
        "## For test data\n",
        "lemmatizer = WordNetLemmatizer()\n",
        "lem_tokens = []\n",
        "for row in test_data['tokens']:\n",
        "  lem_tokens.append([lemmatizer.lemmatize(t) for t in row])\n",
        "\n",
        "test_data['lem_tokens'] = lem_tokens\n",
        "\n",
        "# Print results\n",
        "print(test_data['lem_tokens'].head(5))\n",
        "\n",
        "tokens_no_sw = []\n",
        "for row in train_data['tokens']:\n",
        "  tokens_no_sw.append([w for w in row if w not in sw])\n",
        "# Add column to df\n",
        "train_data['tokens'] = tokens_no_sw\n",
        "\n",
        "tokens_no_sw = []\n",
        "for row in test_data['tokens']:\n",
        "  tokens_no_sw.append([w for w in row if w not in sw])\n",
        "# Add column to df\n",
        "test_data['tokens'] = tokens_no_sw\n",
        "\n",
        "X_train, y_train = train_data['tokens'].to_numpy(), train_data['Sentiment'].to_numpy()\n",
        "X_test, y_test = test_data['tokens'].to_numpy(), test_data['Sentiment'].to_numpy()\n",
        "def override_fcn(doc):\n",
        "  # We expect a list of tokens as input\n",
        "  return doc\n",
        "\n",
        "# Count Vectorizer\n",
        "count_vec = CountVectorizer(\n",
        "    analyzer='word',\n",
        "    tokenizer= override_fcn,\n",
        "    preprocessor= override_fcn,\n",
        "    token_pattern= None,\n",
        "    max_features = 1000)\n",
        "\n",
        "# Remember this output is a Scipy Sparse Array\n",
        "counts_train = count_vec.fit_transform(X_train)\n",
        "counts_test = count_vec.fit_transform(X_test)\n",
        "#### TF-IDF Vectorize ####\n",
        "\n",
        "# Note that smoothing is done by default\n",
        "tfidf = TfidfTransformer()\n",
        "\n",
        "tfs_train = tfidf.fit_transform(counts_train)\n",
        "tfs_test = tfidf.fit_transform(counts_test)\n",
        "\n",
        "# Let's use the TFIDF counts for modelling\n",
        "X_train = tfs_train.toarray()\n",
        "X_test = tfs_test.toarray()\n",
        "y_train = y_train.tolist()\n",
        "y_test = y_test.tolist()\n",
        "# Let's fit the Naive Bayes model to our training data\n",
        "nb = MultinomialNB()\n",
        "# Fit model to training data\n",
        "nb.fit(X_train, y_train)\n",
        "# Predict on test data\n",
        "y_train_preds = nb.predict(X_train)\n",
        "\n",
        "# Get fitted values from test set\n",
        "y_test_preds = nb.predict(X_test)\n",
        "\n",
        "# Print train and test errors\n",
        "train_acc = accuracy_score(y_train, y_train_preds)\n",
        "test_acc = accuracy_score(y_test, y_test_preds)\n",
        "\n",
        "print('Train Accuracy: ',train_acc)\n",
        "print('Test Accuracy: ',test_acc)"
      ],
      "execution_count": null,
      "outputs": [
        {
          "output_type": "stream",
          "text": [
            "[nltk_data] Downloading package wordnet to /root/nltk_data...\n",
            "[nltk_data]   Package wordnet is already up-to-date!\n",
            "0                      [menyrbi, phil_gahan, chrisitv]\n",
            "1    [advic, talk, neighbour, famili, exchang, phon...\n",
            "2    [coronaviru, australia, woolworth, give, elder...\n",
            "3    [food, stock, not, onli, one, empti, plea, nt,...\n",
            "4    [readi, go, supermarket, dure, covid19, outbre...\n",
            "Name: lem_tokens, dtype: object\n",
            "0    [trend, new, yorker, encount, empti, supermark...\n",
            "1    [when, could, nt, find, hand, sanit, fred, mey...\n",
            "2     [find, how, can, protect, love, one, coronaviru]\n",
            "3    [panic, buy, hit, newyork, citi, anxiou, shopp...\n",
            "4    [toiletpap, dunnypap, coronaviru, coronavirusa...\n",
            "Name: lem_tokens, dtype: object\n",
            "Train Accuracy:  0.6654841453043373\n",
            "Test Accuracy:  0.42627698788836227\n"
          ],
          "name": "stdout"
        }
      ]
    },
    {
      "cell_type": "markdown",
      "metadata": {
        "id": "XvTLkxxDJ2ks"
      },
      "source": [
        "## Section 2"
      ]
    },
    {
      "cell_type": "code",
      "metadata": {
        "id": "uE1wq9IoSAYJ"
      },
      "source": [
        "import tweepy as tw\n",
        "# Use credentials to authorize access\n",
        "auth = tw.OAuthHandler(api_key, api_secret_key)\n",
        "auth.set_access_token(access_key, access_secret)\n",
        "api = tw.API(auth, wait_on_rate_limit=True)\n",
        "search_words = ' -filter:retweets'\n",
        "date_since = \"2021-04-02\"\n",
        "\n",
        "#Collect tweets (here, I get only 20)\n",
        "tweets = tw.Cursor(api.search,\n",
        "              q=search_words,\n",
        "              lang=\"en\",\n",
        "              since=date_since).items(1000)\n",
        "\n",
        "# The result is an iterable\n",
        "a = []\n",
        "b = []\n",
        "for tweet in tweets:\n",
        "  a.append(tweet.text)\n",
        "  b.append(tweet.user.followers_count)"
      ],
      "execution_count": null,
      "outputs": []
    },
    {
      "cell_type": "code",
      "metadata": {
        "id": "6aflpf2XOu5Y",
        "colab": {
          "base_uri": "https://localhost:8080/"
        },
        "outputId": "911d69c4-58e9-46f2-99a0-2a4e91a6d6ad"
      },
      "source": [
        "import pandas as pd\n",
        "import re\n",
        "\n",
        "# tweet_list = [tweet.text for tweet in tweets]\n",
        "df = pd.DataFrame(a, columns = ['tweet'])\n",
        "df['followers'] = b\n",
        "print(df.count())"
      ],
      "execution_count": null,
      "outputs": [
        {
          "output_type": "stream",
          "text": [
            "tweet        1000\n",
            "followers    1000\n",
            "dtype: int64\n"
          ],
          "name": "stdout"
        }
      ]
    },
    {
      "cell_type": "code",
      "metadata": {
        "colab": {
          "base_uri": "https://localhost:8080/",
          "height": 195
        },
        "id": "SqD7I8wEYmdg",
        "outputId": "904b9bfa-58bf-4a74-9d67-69ac6301d53e"
      },
      "source": [
        "handle_regex = '@[A-Za-z|0-9|_]+'\n",
        "\n",
        "d = []\n",
        "for row in df['tweet']:\n",
        "  d.append(re.sub(handle_regex,'', row))\n",
        "\n",
        "df['tweet'] = d\n",
        "df.head()"
      ],
      "execution_count": null,
      "outputs": [
        {
          "output_type": "execute_result",
          "data": {
            "text/html": [
              "<div>\n",
              "<style scoped>\n",
              "    .dataframe tbody tr th:only-of-type {\n",
              "        vertical-align: middle;\n",
              "    }\n",
              "\n",
              "    .dataframe tbody tr th {\n",
              "        vertical-align: top;\n",
              "    }\n",
              "\n",
              "    .dataframe thead th {\n",
              "        text-align: right;\n",
              "    }\n",
              "</style>\n",
              "<table border=\"1\" class=\"dataframe\">\n",
              "  <thead>\n",
              "    <tr style=\"text-align: right;\">\n",
              "      <th></th>\n",
              "      <th>tweet</th>\n",
              "      <th>followers</th>\n",
              "    </tr>\n",
              "  </thead>\n",
              "  <tbody>\n",
              "    <tr>\n",
              "      <th>0</th>\n",
              "      <td>Kid at heart, Yes☺️</td>\n",
              "      <td>145</td>\n",
              "    </tr>\n",
              "    <tr>\n",
              "      <th>1</th>\n",
              "      <td>im trolling bro i dont care what so ever cool...</td>\n",
              "      <td>394</td>\n",
              "    </tr>\n",
              "    <tr>\n",
              "      <th>2</th>\n",
              "      <td>Veintiocho. \\nHagan stream y Shazam.\\nI vote f...</td>\n",
              "      <td>133</td>\n",
              "    </tr>\n",
              "    <tr>\n",
              "      <th>3</th>\n",
              "      <td>No problem</td>\n",
              "      <td>160</td>\n",
              "    </tr>\n",
              "    <tr>\n",
              "      <th>4</th>\n",
              "      <td>if having 6 drops is your reasoning for why ...</td>\n",
              "      <td>448</td>\n",
              "    </tr>\n",
              "  </tbody>\n",
              "</table>\n",
              "</div>"
            ],
            "text/plain": [
              "                                               tweet  followers\n",
              "0                                Kid at heart, Yes☺️        145\n",
              "1   im trolling bro i dont care what so ever cool...        394\n",
              "2  Veintiocho. \\nHagan stream y Shazam.\\nI vote f...        133\n",
              "3                                         No problem        160\n",
              "4    if having 6 drops is your reasoning for why ...        448"
            ]
          },
          "metadata": {
            "tags": []
          },
          "execution_count": 75
        }
      ]
    },
    {
      "cell_type": "code",
      "metadata": {
        "colab": {
          "base_uri": "https://localhost:8080/",
          "height": 195
        },
        "id": "u2FNKkXzTF-f",
        "outputId": "0b9e33f3-964b-4c4f-937a-80bf6f7066af"
      },
      "source": [
        "c = []\n",
        "for x in df['followers']:\n",
        "  if 0 <= x <= 100:\n",
        "    c.append(0)\n",
        "  elif 100 < x <= 10000:\n",
        "    c.append(1)\n",
        "  else:\n",
        "    c.append(2)\n",
        "df['labels'] = c\n",
        "df.head()"
      ],
      "execution_count": null,
      "outputs": [
        {
          "output_type": "execute_result",
          "data": {
            "text/html": [
              "<div>\n",
              "<style scoped>\n",
              "    .dataframe tbody tr th:only-of-type {\n",
              "        vertical-align: middle;\n",
              "    }\n",
              "\n",
              "    .dataframe tbody tr th {\n",
              "        vertical-align: top;\n",
              "    }\n",
              "\n",
              "    .dataframe thead th {\n",
              "        text-align: right;\n",
              "    }\n",
              "</style>\n",
              "<table border=\"1\" class=\"dataframe\">\n",
              "  <thead>\n",
              "    <tr style=\"text-align: right;\">\n",
              "      <th></th>\n",
              "      <th>tweet</th>\n",
              "      <th>followers</th>\n",
              "      <th>labels</th>\n",
              "    </tr>\n",
              "  </thead>\n",
              "  <tbody>\n",
              "    <tr>\n",
              "      <th>0</th>\n",
              "      <td>Kid at heart, Yes☺️</td>\n",
              "      <td>145</td>\n",
              "      <td>1</td>\n",
              "    </tr>\n",
              "    <tr>\n",
              "      <th>1</th>\n",
              "      <td>im trolling bro i dont care what so ever cool...</td>\n",
              "      <td>394</td>\n",
              "      <td>1</td>\n",
              "    </tr>\n",
              "    <tr>\n",
              "      <th>2</th>\n",
              "      <td>Veintiocho. \\nHagan stream y Shazam.\\nI vote f...</td>\n",
              "      <td>133</td>\n",
              "      <td>1</td>\n",
              "    </tr>\n",
              "    <tr>\n",
              "      <th>3</th>\n",
              "      <td>No problem</td>\n",
              "      <td>160</td>\n",
              "      <td>1</td>\n",
              "    </tr>\n",
              "    <tr>\n",
              "      <th>4</th>\n",
              "      <td>if having 6 drops is your reasoning for why ...</td>\n",
              "      <td>448</td>\n",
              "      <td>1</td>\n",
              "    </tr>\n",
              "  </tbody>\n",
              "</table>\n",
              "</div>"
            ],
            "text/plain": [
              "                                               tweet  followers  labels\n",
              "0                                Kid at heart, Yes☺️        145       1\n",
              "1   im trolling bro i dont care what so ever cool...        394       1\n",
              "2  Veintiocho. \\nHagan stream y Shazam.\\nI vote f...        133       1\n",
              "3                                         No problem        160       1\n",
              "4    if having 6 drops is your reasoning for why ...        448       1"
            ]
          },
          "metadata": {
            "tags": []
          },
          "execution_count": 76
        }
      ]
    },
    {
      "cell_type": "code",
      "metadata": {
        "colab": {
          "base_uri": "https://localhost:8080/"
        },
        "id": "bA827RNGTsId",
        "outputId": "dafda2b4-4fda-4d6b-920f-9f722ae5627a"
      },
      "source": [
        "low_proportion = df['labels'].tolist().count(0)\n",
        "medium_proportion = df['labels'].tolist().count(1)\n",
        "high_proportion = df['labels'].tolist().count(2)\n",
        "print(low_proportion, medium_proportion, high_proportion)\n",
        "print(df.followers.mean)"
      ],
      "execution_count": null,
      "outputs": [
        {
          "output_type": "stream",
          "text": [
            "289 686 25\n",
            "<bound method Series.mean of 0       145\n",
            "1       394\n",
            "2       133\n",
            "3       160\n",
            "4       448\n",
            "       ... \n",
            "995       3\n",
            "996     181\n",
            "997    1095\n",
            "998     393\n",
            "999     114\n",
            "Name: followers, Length: 1000, dtype: int64>\n"
          ],
          "name": "stdout"
        }
      ]
    },
    {
      "cell_type": "code",
      "metadata": {
        "colab": {
          "base_uri": "https://localhost:8080/"
        },
        "id": "RL_64K3CUge4",
        "outputId": "903c420c-edb2-4026-bbdd-9eee0357def6"
      },
      "source": [
        "import nltk\n",
        "# Download the tokenizer\n",
        "nltk.download('punkt')\n",
        "\n",
        "# Create a new column in our DF that contains token lists instead of raw text\n",
        "df['tokens'] = df['tweet'].apply(nltk.word_tokenize)\n",
        "\n",
        "print(df['tokens'].head(5))"
      ],
      "execution_count": null,
      "outputs": [
        {
          "output_type": "stream",
          "text": [
            "[nltk_data] Downloading package punkt to /root/nltk_data...\n",
            "[nltk_data]   Package punkt is already up-to-date!\n",
            "0                           [Kid, at, heart, ,, Yes☺️]\n",
            "1    [im, trolling, bro, i, dont, care, what, so, e...\n",
            "2    [Veintiocho, ., Hagan, stream, y, Shazam, ., I...\n",
            "3                                        [No, problem]\n",
            "4    [if, having, 6, drops, is, your, reasoning, fo...\n",
            "Name: tokens, dtype: object\n"
          ],
          "name": "stdout"
        }
      ]
    },
    {
      "cell_type": "code",
      "metadata": {
        "colab": {
          "base_uri": "https://localhost:8080/"
        },
        "id": "DWbn9FWbU1Ok",
        "outputId": "0217107b-d730-42e4-e403-69f83236a881"
      },
      "source": [
        "##### Convert tokens into lowercase ####\n",
        "lowercase_tokens = []\n",
        "# Create a list of lists with what we want\n",
        "for row in df['tokens']:\n",
        "  lowercase_tokens.append([t.lower() for t in row])\n",
        "# add the new info to our df\n",
        "df['lowercase_tokens'] = lowercase_tokens\n",
        "\n",
        "print(df['lowercase_tokens'].head(5))"
      ],
      "execution_count": null,
      "outputs": [
        {
          "output_type": "stream",
          "text": [
            "0                           [kid, at, heart, ,, yes☺️]\n",
            "1    [im, trolling, bro, i, dont, care, what, so, e...\n",
            "2    [veintiocho, ., hagan, stream, y, shazam, ., i...\n",
            "3                                        [no, problem]\n",
            "4    [if, having, 6, drops, is, your, reasoning, fo...\n",
            "Name: lowercase_tokens, dtype: object\n"
          ],
          "name": "stdout"
        }
      ]
    },
    {
      "cell_type": "code",
      "metadata": {
        "colab": {
          "base_uri": "https://localhost:8080/"
        },
        "id": "fcPfkbmyVGxl",
        "outputId": "da2745a3-a612-4249-e019-8f48d355929b"
      },
      "source": [
        "##### Let's remove punctuation #####\n",
        "\n",
        "# Note we've been keeping different columns for different steps (not necessary)\n",
        "list(df)\n",
        "\n",
        "# Same process as before\n",
        "tokens_no_punct = []\n",
        "# Create a list of lists with what we want\n",
        "for row in df['lowercase_tokens']:\n",
        "  tokens_no_punct.append([re.sub('[^\\w\\s]','', t) for t in row])\n",
        "# add the new info to our df\n",
        "df['tokens_no_punct'] = tokens_no_punct\n",
        "\n",
        "print(df['tokens_no_punct'].head(5))"
      ],
      "execution_count": null,
      "outputs": [
        {
          "output_type": "stream",
          "text": [
            "0                              [kid, at, heart, , yes]\n",
            "1    [im, trolling, bro, i, dont, care, what, so, e...\n",
            "2    [veintiocho, , hagan, stream, y, shazam, , i, ...\n",
            "3                                        [no, problem]\n",
            "4    [if, having, 6, drops, is, your, reasoning, fo...\n",
            "Name: tokens_no_punct, dtype: object\n"
          ],
          "name": "stdout"
        }
      ]
    },
    {
      "cell_type": "code",
      "metadata": {
        "colab": {
          "base_uri": "https://localhost:8080/"
        },
        "id": "SuTtFVDGWBL_",
        "outputId": "a5fa31d3-6ca4-4a7b-aa13-3155f8489747"
      },
      "source": [
        "##### Time to remove Stopwords #####\n",
        "import numpy as np\n",
        "from nltk.corpus import stopwords\n",
        "nltk.download('stopwords')\n",
        "sw = stopwords.words('english')[:75]\n",
        "tokens_no_sw = []\n",
        "for row in df['tokens_no_punct']:\n",
        "  tokens_no_sw.append([w for w in row if w not in sw])\n",
        "# Add column to df\n",
        "df['tokens_no_sw'] = tokens_no_sw\n",
        "\n",
        "# Print some examples\n",
        "print(df['tokens_no_sw'].head(5))"
      ],
      "execution_count": null,
      "outputs": [
        {
          "output_type": "stream",
          "text": [
            "[nltk_data] Downloading package stopwords to /root/nltk_data...\n",
            "[nltk_data]   Package stopwords is already up-to-date!\n",
            "0                                  [kid, heart, , yes]\n",
            "1    [im, trolling, bro, dont, care, so, ever, cool...\n",
            "2    [veintiocho, , hagan, stream, y, shazam, , vot...\n",
            "3                                        [no, problem]\n",
            "4    [6, drops, reasoning, why, isn, , t, top, 10, ...\n",
            "Name: tokens_no_sw, dtype: object\n"
          ],
          "name": "stdout"
        }
      ]
    },
    {
      "cell_type": "code",
      "metadata": {
        "colab": {
          "base_uri": "https://localhost:8080/"
        },
        "id": "DEXAj2laa3s_",
        "outputId": "86bb8783-3a42-4345-a87f-79079d28b524"
      },
      "source": [
        "from nltk.stem import WordNetLemmatizer\n",
        "nltk.download('wordnet')\n",
        "lemmatizer = WordNetLemmatizer()\n",
        "lem_tokens = []\n",
        "for row in df['tokens_no_sw']:\n",
        "  lem_tokens.append([lemmatizer.lemmatize(t) for t in row])\n",
        "\n",
        "df['lem_tokens'] = lem_tokens\n",
        "\n",
        "# Print results\n",
        "print(df['lem_tokens'].head(5))"
      ],
      "execution_count": null,
      "outputs": [
        {
          "output_type": "stream",
          "text": [
            "[nltk_data] Downloading package wordnet to /root/nltk_data...\n",
            "[nltk_data]   Package wordnet is already up-to-date!\n",
            "0                                  [kid, heart, , yes]\n",
            "1    [im, trolling, bro, dont, care, so, ever, cool...\n",
            "2    [veintiocho, , hagan, stream, y, shazam, , vot...\n",
            "3                                        [no, problem]\n",
            "4    [6, drop, reasoning, why, isn, , t, top, 10, ,...\n",
            "Name: lem_tokens, dtype: object\n"
          ],
          "name": "stdout"
        }
      ]
    },
    {
      "cell_type": "code",
      "metadata": {
        "colab": {
          "base_uri": "https://localhost:8080/"
        },
        "id": "n05PsKhobZ51",
        "outputId": "7e2a15f6-2644-425c-c081-91677569a8c4"
      },
      "source": [
        "# Drop some intermediate columns\n",
        "list(df)\n",
        "df = df.drop(['tokens','lowercase_tokens', 'tokens_no_punct','tokens_no_sw','stemmed_tokens'], axis = 1)\n",
        "\n",
        "print('After removal:\\n', list(df))\n",
        "\n",
        "# Remove blank tokens\n",
        "no_blanks = []\n",
        "for row in df['lem_tokens']:\n",
        "  no_blanks.append([t for t in row if t != ''])\n",
        "df['tokens'] = no_blanks\n",
        "\n",
        "print(df['tokens'].head(5))\n",
        "\n",
        "# drop the last intermediate column\n",
        "df = df.drop(['lem_tokens'], axis = 1)\n",
        "\n",
        "# Now we should have only the label, original text, and cleaned token lists\n",
        "print('Current Columns:\\n',list(df))"
      ],
      "execution_count": null,
      "outputs": [
        {
          "output_type": "stream",
          "text": [
            "After removal:\n",
            " ['tweet', 'followers', 'labels', 'lem_tokens']\n",
            "0                                    [kid, heart, yes]\n",
            "1    [im, trolling, bro, dont, care, so, ever, cool...\n",
            "2    [veintiocho, hagan, stream, y, shazam, vote, h...\n",
            "3                                        [no, problem]\n",
            "4    [6, drop, reasoning, why, isn, t, top, 10, the...\n",
            "Name: tokens, dtype: object\n",
            "Current Columns:\n",
            " ['tweet', 'followers', 'labels', 'tokens']\n"
          ],
          "name": "stdout"
        }
      ]
    },
    {
      "cell_type": "code",
      "metadata": {
        "colab": {
          "base_uri": "https://localhost:8080/",
          "height": 198
        },
        "id": "NfsmjBiFST7N",
        "outputId": "74ad5e77-3bc4-4445-fe26-1af36fe70129"
      },
      "source": [
        "from wordcloud import WordCloud, STOPWORDS, ImageColorGenerator\n",
        "popular = df['labels'] > 1\n",
        "df_pop = df[popular]\n",
        "text = []\n",
        "for lst in df_pop['tokens']:\n",
        "  text.extend(lst)\n",
        "text = ' '.join(text)\n",
        "wordcloud = WordCloud().generate(text)\n",
        "\n",
        "# Display the generated image:\n",
        "plt.imshow(wordcloud, interpolation='bilinear')\n",
        "plt.axis(\"off\")\n",
        "plt.show()"
      ],
      "execution_count": null,
      "outputs": [
        {
          "output_type": "display_data",
          "data": {
            "image/png": "[encoded data removed]",
            "text/plain": [
              "<Figure size 432x288 with 1 Axes>"
            ]
          },
          "metadata": {
            "tags": [],
            "needs_background": "light"
          }
        }
      ]
    },
    {
      "cell_type": "code",
      "metadata": {
        "colab": {
          "base_uri": "https://localhost:8080/",
          "height": 198
        },
        "id": "bHC2NTf_c2H5",
        "outputId": "48e0dfc5-4021-4bbe-d1e7-43ebbb49fd35"
      },
      "source": [
        "from wordcloud import WordCloud, STOPWORDS, ImageColorGenerator\n",
        "popular = df['labels'] == 1\n",
        "df_less_pop = df[popular]\n",
        "text = []\n",
        "for lst in df_less_pop['tokens']:\n",
        "  text.extend(lst)\n",
        "text = ' '.join(text)\n",
        "wordcloud = WordCloud().generate(text)\n",
        "\n",
        "# Display the generated image:\n",
        "plt.imshow(wordcloud, interpolation='bilinear')\n",
        "plt.axis(\"off\")\n",
        "plt.show()"
      ],
      "execution_count": null,
      "outputs": [
        {
          "output_type": "display_data",
          "data": {
            "image/png": "[encoded data removed]",
            "text/plain": [
              "<Figure size 432x288 with 1 Axes>"
            ]
          },
          "metadata": {
            "tags": [],
            "needs_background": "light"
          }
        }
      ]
    },
    {
      "cell_type": "code",
      "metadata": {
        "colab": {
          "base_uri": "https://localhost:8080/",
          "height": 198
        },
        "id": "zX2P1m_SeKDR",
        "outputId": "582922f9-d490-46d0-efd4-c99a8c444699"
      },
      "source": [
        "from wordcloud import WordCloud, STOPWORDS, ImageColorGenerator\n",
        "popular = df['labels'] < 1\n",
        "df_lst_pop = df[popular]\n",
        "text = []\n",
        "for lst in df_lst_pop['tokens']:\n",
        "  text.extend(lst)\n",
        "text = ' '.join(text)\n",
        "wordcloud = WordCloud().generate(text)\n",
        "\n",
        "# Display the generated image:\n",
        "plt.imshow(wordcloud, interpolation='bilinear')\n",
        "plt.axis(\"off\")\n",
        "plt.show()"
      ],
      "execution_count": null,
      "outputs": [
        {
          "output_type": "display_data",
          "data": {
            "image/png": "[encoded data removed]",
            "text/plain": [
              "<Figure size 432x288 with 1 Axes>"
            ]
          },
          "metadata": {
            "tags": [],
            "needs_background": "light"
          }
        }
      ]
    },
    {
      "cell_type": "code",
      "metadata": {
        "colab": {
          "base_uri": "https://localhost:8080/",
          "height": 195
        },
        "id": "67ZqIYLPSBrE",
        "outputId": "70051cf1-fc45-45f7-81e7-4b23ff025234"
      },
      "source": [
        "df_pop.head()"
      ],
      "execution_count": null,
      "outputs": [
        {
          "output_type": "execute_result",
          "data": {
            "text/html": [
              "<div>\n",
              "<style scoped>\n",
              "    .dataframe tbody tr th:only-of-type {\n",
              "        vertical-align: middle;\n",
              "    }\n",
              "\n",
              "    .dataframe tbody tr th {\n",
              "        vertical-align: top;\n",
              "    }\n",
              "\n",
              "    .dataframe thead th {\n",
              "        text-align: right;\n",
              "    }\n",
              "</style>\n",
              "<table border=\"1\" class=\"dataframe\">\n",
              "  <thead>\n",
              "    <tr style=\"text-align: right;\">\n",
              "      <th></th>\n",
              "      <th>tweet</th>\n",
              "      <th>followers</th>\n",
              "      <th>labels</th>\n",
              "      <th>tokens</th>\n",
              "    </tr>\n",
              "  </thead>\n",
              "  <tbody>\n",
              "    <tr>\n",
              "      <th>26</th>\n",
              "      <td>oo this is noice</td>\n",
              "      <td>27069</td>\n",
              "      <td>2</td>\n",
              "      <td>[oo, noice]</td>\n",
              "    </tr>\n",
              "    <tr>\n",
              "      <th>53</th>\n",
              "      <td>The Clippers had a 41-10 second quarter agains...</td>\n",
              "      <td>16748</td>\n",
              "      <td>2</td>\n",
              "      <td>[clipper, 4110, second, quarter, against, hous...</td>\n",
              "    </tr>\n",
              "    <tr>\n",
              "      <th>71</th>\n",
              "      <td>Just a friendly reminder that grains are a fam...</td>\n",
              "      <td>11886</td>\n",
              "      <td>2</td>\n",
              "      <td>[just, friendly, reminder, grain, famine, food...</td>\n",
              "    </tr>\n",
              "    <tr>\n",
              "      <th>75</th>\n",
              "      <td>Group 3  Adrian Knox Stakes - #13 Bargain \\n\\n...</td>\n",
              "      <td>10775</td>\n",
              "      <td>2</td>\n",
              "      <td>[group, 3, adrian, knox, stake, 13, bargain, l...</td>\n",
              "    </tr>\n",
              "    <tr>\n",
              "      <th>86</th>\n",
              "      <td>Tulsa County Sheriff's Office sees drastic ris...</td>\n",
              "      <td>76772</td>\n",
              "      <td>2</td>\n",
              "      <td>[tulsa, county, sheriff, s, office, see, drast...</td>\n",
              "    </tr>\n",
              "  </tbody>\n",
              "</table>\n",
              "</div>"
            ],
            "text/plain": [
              "                                                tweet  ...                                             tokens\n",
              "26                                   oo this is noice  ...                                        [oo, noice]\n",
              "53  The Clippers had a 41-10 second quarter agains...  ...  [clipper, 4110, second, quarter, against, hous...\n",
              "71  Just a friendly reminder that grains are a fam...  ...  [just, friendly, reminder, grain, famine, food...\n",
              "75  Group 3  Adrian Knox Stakes - #13 Bargain \\n\\n...  ...  [group, 3, adrian, knox, stake, 13, bargain, l...\n",
              "86  Tulsa County Sheriff's Office sees drastic ris...  ...  [tulsa, county, sheriff, s, office, see, drast...\n",
              "\n",
              "[5 rows x 4 columns]"
            ]
          },
          "metadata": {
            "tags": []
          },
          "execution_count": 88
        }
      ]
    },
    {
      "cell_type": "code",
      "metadata": {
        "colab": {
          "base_uri": "https://localhost:8080/"
        },
        "id": "FS3jZTZ7bpYX",
        "outputId": "307f4e31-6622-4bd5-b230-9e5aa5e34b55"
      },
      "source": [
        "from sklearn.feature_extraction.text import CountVectorizer\n",
        "from sklearn.feature_extraction.text import TfidfTransformer\n",
        "from sklearn.model_selection import train_test_split\n",
        "\n",
        "# Separate labels from features, converting to numpy arrays\n",
        "X, y = df['tokens'].to_numpy(), df['labels'].to_numpy()\n",
        "\n",
        "\n",
        "def override_fcn(doc):\n",
        "  # We expect a list of tokens as input\n",
        "  return doc\n",
        "\n",
        "# Count Vectorizer\n",
        "count_vec = CountVectorizer(\n",
        "    analyzer='word',\n",
        "    tokenizer= override_fcn,\n",
        "    preprocessor= override_fcn,\n",
        "    token_pattern= None)\n",
        "\n",
        "# Remember this output is a Scipy Sparse Array\n",
        "counts = count_vec.fit_transform(X)\n",
        "print(counts.toarray())\n",
        "\n",
        "# Print the names of each of the features (1000 total))\n",
        "print(count_vec.get_feature_names())\n",
        "# Print this mapping as dictionary\n",
        "print(count_vec.vocabulary_)"
      ],
      "execution_count": null,
      "outputs": [
        {
          "output_type": "stream",
          "text": [
            "[[0 0 0 ... 0 0 0]\n",
            " [0 0 0 ... 0 0 0]\n",
            " [0 0 0 ... 0 0 0]\n",
            " ...\n",
            " [0 0 0 ... 0 0 0]\n",
            " [0 0 0 ... 0 0 0]\n",
            " [0 0 0 ... 0 0 0]]\n",
            "['010', '1', '10', '100', '100k', '1010', '10k', '10mเมนชนของคณบกกลฟ', '11', '12', '13', '13अपरल_नववरष', '14', '15', '152', '15x', '16', '17', '18', '19', '1939', '1969', '1mlikesforpushparajintro', '1st', '2', '20', '2000', '2011', '2019', '2020', '2021', '20210410', '2022', '2070', '20k', '20th', '21', '21000', '21st', '22', '2200', '221', '24', '25', '28', '2nd', '3', '30', '33', '34', '35', '350', '3bed', '3d', '4', '4110', '46', '4744', '48', '4am', '5', '50', '53', '54', '555', '6', '600', '7', '70', '74bn', '75', '7x', '85', '8600k', '89fm', '9', '911', '_', 'aaa', 'aap', 'ab', 'able', 'about', 'above', 'abramov', 'abril', 'absolute', 'absolutely', 'abt', 'abusive', 'ac', 'accident', 'accomplishment', 'account', 'acct', 'achievement', 'acid', 'acquisition', 'across', 'act', 'activate', 'actual', 'actually', 'ad', 'add', 'additional', 'address', 'admin', 'administration', 'admirable', 'admiri', 'adoption', 'adorable', 'adore', 'adoreyou', 'adrian', 'adult', 'adversarial', 'adverse', 'advice', 'aew', 'af', 'afford', 'afraid', 'after', 'again', 'against', 'age', 'agenda', 'agent', 'aggressive', 'agnation', 'ago', 'agonizing', 'agree', 'agust', 'ah', 'ahagsgshqkwokl', 'ahhh', 'ai', 'ain', 'aint', 'air', 'airbnb', 'airdrop', 'al', 'albert', 'album', 'alive', 'aliya', 'all', 'allowed', 'almost', 'aln', 'alone', 'already', 'alright', 'also', 'although', 'always', 'amazing', 'ambphibia', 'amen', 'america', 'amigis', 'amo', 'among', 'amp', 'anatomy', 'ancient', 'andaming', 'android', 'angle', 'angry', 'anim', 'anniv', 'annoying', 'anokhi', 'anomaly', 'anonymous', 'another', 'answer', 'anthony', 'anxiety', 'any', 'anyone', 'anything', 'anyways', 'anywhere', 'aot', 'apart', 'app', 'appreciate', 'appreciated', 'approved', 'apps', 'apr10coup', 'april', 'area', 'arena', 'argued', 'arguing', 'ariana', 'armor', 'around', 'art', 'as', 'asap', 'asf', 'ask', 'asked', 'asleep', 'ass', 'asshole', 'astros', 'ate', 'ateez', 'atlantis', 'atleast', 'atr', 'attach', 'attendee', 'attractive', 'audacity', 'audiogirl', 'aura', 'austin', 'authentic', 'avail', 'avocado', 'awa', 'away', 'awesome', 'awful', 'aww', 'ayo', 'ayun', 'ayyye', 'b', 'baathism', 'babe', 'baby', 'back', 'backkkkk', 'backlinks', 'bacon', 'bad', 'bae', 'bag', 'balance', 'balik', 'ball', 'ballroom', 'ban', 'band', 'bank', 'banned', 'barb', 'bare', 'barely', 'bargain', 'barnes', 'base', 'based', 'baseline', 'bat', 'bath', 'bathurst', 'bbadv', 'bbbut', 'bbcakes', 'bbucks', 'bc', 'beast', 'beat', 'beauany', 'beautiful', 'beautifully', 'become', 'bed', 'beer', 'before', 'behave', 'behaving', 'believe', 'belive', 'below', 'belt', 'bengal', 'berserker', 'best', 'bestcoversong', 'bestfanarmy', 'bestie', 'besties', 'bestlyrics', 'bestmusicvideo', 'better', 'between', 'beyond', 'bfb', 'bhutto', 'bibby', 'bid', 'bien', 'big', 'bigger', 'biggie', 'bigot', 'bike', 'bill', 'billion', 'biopic', 'birthday', 'biru', 'bisexual', 'bit', 'bitch', 'bizarre', 'bjp', 'black', 'blackpink', 'blade', 'blame', 'blanket', 'blocked', 'blown', 'blue', 'bluff', 'blunt', 'blurry', 'bm', 'bnb', 'board', 'bob', 'body', 'bolt', 'bomb', 'bonnet', 'bonus', 'boo', 'book', 'booklet', 'bookstore', 'booted', 'bop', 'boric', 'bos', 'boss', 'bot', 'both', 'bottom', 'bout', 'boutta', 'boy', 'braaaaaabo', 'brain', 'brake', 'brand', 'branny', 'brawl', 'break', 'breaking', 'breath', 'breed', 'brilliant', 'bringing', 'bringwynonnahome', 'bro', 'broadcast', 'brook', 'brother', 'bruh', 'bruv', 'btsarmy', 'bu', 'buddy', 'buff', 'bug', 'building', 'buildthewallaroundtexas', 'bull', 'bully', 'bullying', 'bum', 'bunch', 'bunnyroadrunner', 'bureaucrat', 'business', 'busy', 'butt', 'buttttt', 'buy', 'buying', 'buyout', 'buzzing', 'c', 'ca', 'cable', 'cady', 'cal', 'california', 'call', 'calling', 'calm', 'came', 'campaign', 'campus', 'can', 'cant', 'canteen', 'capacity', 'capital', 'car', 'caray', 'care', 'career', 'carlson', 'carpet', 'carraway', 'carrd', 'case', 'cash', 'cashmere', 'cashtag', 'cassava', 'cast', 'cat', 'catalogue', 'category', 'catting', 'cause', 'celebrate', 'celebrating', 'centre', 'century', 'ceo', 'chabot', 'chad', 'challenge', 'chalo', 'chance', 'change', 'changed', 'changing', 'chapter', 'charger', 'chase', 'chat', 'cheat', 'check', 'checked', 'cheerleading', 'chemistry', 'cheptam', 'cher', 'cherry', 'chest', 'chick', 'child', 'chill', 'chilling', 'china', 'chinese', 'chit', 'choose', 'chop', 'chris', 'christ', 'church', 'city', 'civil', 'cj', 'clash', 'class', 'clean', 'clear', 'clearly', 'click', 'clinical', 'clio', 'clip', 'clipper', 'closer', 'cloud', 'cmere', 'cmon', 'coa', 'coar', 'cock', 'cockroach', 'code', 'cody', 'coffee', 'cold', 'college', 'color', 'combining', 'come', 'comfortable', 'coming', 'comma', 'commitment', 'communi', 'community', 'company', 'compare', 'compared', 'competed', 'completely', 'complex', 'con', 'condiment', 'confederate', 'conference', 'confidenc', 'conflict', 'congrats', 'congratulation', 'connecting', 'conservative', 'consider', 'contact', 'context', 'continue', 'contribute', 'conversation', 'cook', 'cool', 'cooler', 'cop', 'copy', 'correct', 'could', 'couldn', 'count', 'county', 'course', 'court', 'cover', 'covered', 'covering', 'cow', 'cp', 'crackhead', 'crackheads', 'crap', 'crashed', 'crawl', 'craxy우아', 'crazy', 'create', 'creativehallo', 'credit', 'cried', 'crime', 'crisis', 'critical', 'crop', 'cross', 'crossed', 'crossroad', 'crph', 'cry', 'cryptos', 'crystal', 'ctto', 'culture', 'cum', 'cup', 'custom', 'customer', 'cut', 'cute', 'cutie', 'd', 'd18', 'da', 'daddy', 'daily', 'damage', 'damaged', 'damaging', 'damn', 'dancing', 'dangabaaz', 'dark', 'dating', 'david', 'day', 'daytona', 'dayy', 'dayyyy', 'dc', 'dcc', 'de', 'dead', 'deadass', 'deadpool', 'deal', 'death', 'decent', 'deciding', 'declining', 'dedication', 'deep', 'deez', 'def', 'defence', 'defending', 'defi', 'definitely', 'deity', 'del', 'delete', 'delicious', 'delightful', 'delirium', 'delivery', 'demar', 'demo', 'democrat', 'denali', 'departure', 'depressed', 'depression', 'der', 'describe', 'deserve', 'deserved', 'deserves', 'desi', 'designing', 'desolate', 'destroy', 'destroying', 'destruction', 'deuk', 'develop', 'development', 'diaper', 'dick', 'dickhead', 'die', 'diff', 'different', 'diggin', 'digital', 'dilf', 'dillashaw', 'dip', 'dirty', 'disastrous', 'disc', 'discord', 'discount', 'discovered', 'disinformation', 'dispenser', 'disrespect', 'dissolved', 'district', 'divorcee', 'dizzy', 'dlc', 'dm', 'dmthank', 'dmx', 'dnsbajdbkd', 'docket', 'doctor', 'documented', 'doesn', 'doesnt', 'dog', 'doin', 'dollar', 'dom', 'don', 'done', 'donnie', 'donny', 'dont', 'door', 'dos', 'dose', 'dot', 'double', 'down', 'downloaded', 'dragon', 'dramatic', 'drastic', 'drawdigital', 'dream', 'dreamt', 'dress', 'drink', 'drip', 'drive', 'driver', 'driving', 'drop', 'drowns', 'drunk', 'duanxingxing', 'duck', 'dude', 'dumela', 'dump', 'dumping', 'during', 'dusted', 'duty', 'dying', 'dynamite', 'dysfunctional', 'e', 'each', 'ear', 'earpers', 'earthdemic', 'east', 'easy', 'eat', 'eating', 'ecofriendly', 'ecpg', 'ed', 'eddy', 'edible', 'edit', 'edits', 'edward', 'eerie', 'effect', 'eh', 'ehs', 'elected', 'election', 'electronic', 'eless', 'eligible', 'elongated', 'else', 'em', 'emasculation', 'embarrassing', 'embittered', 'embraced', 'empathy', 'emporium', 'enclosure', 'encore', 'encounter', 'end', 'endeavor', 'ended', 'ending', 'energy', 'engineer', 'english', 'enj', 'enjoy', 'enough', 'ensure', 'entered', 'enterprise', 'enuh', 'envy', 'epilogue', 'episode', 'eradicate', 'eric', 'error', 'etc', 'eternal', 'eternal7y', 'ethnicity', 'even', 'ever', 'evergreen', 'every', 'everybod', 'everybody', 'everyday_with_twice', 'everyone', 'everything', 'everywhere', 'evidence', 'evil', 'ewetru', 'examination', 'except', 'exceptional', 'excited', 'exclusive', 'excuse', 'existed', 'existent', 'existing', 'exols', 'expect', 'expensive', 'experience', 'expert', 'explain', 'exponential', 'expose', 'exposing', 'express', 'eye', 'f', 'f1', 'f500', 'face', 'facility', 'fact', 'fail', 'fake', 'fall', 'fame', 'family', 'famine', 'fan', 'fanart', 'fancy', 'fandom', 'fantastic', 'fantasy', 'far', 'farmer', 'fascis', 'fast', 'fatten', 'fault', 'fav', 'favechoreography', 'favo', 'favorito', 'fawkin', 'fde', 'fear', 'fearlesstaylorsversion', 'feat', 'feature', 'fed', 'federal', 'feel', 'feeling', 'fellow', 'felt', 'female', 'feral', 'fever', 'few', 'fey', 'fic', 'fight', 'fighting', 'fil', 'filled', 'filler', 'film', 'filmed', 'fin', 'final', 'finally', 'find', 'fine', 'finish', 'finished', 'finite', 'finna', 'finnish', 'fire', 'fired', 'firework', 'first', 'fix', 'fixed', 'fkn', 'fkng', 'flag', 'flashing', 'flexing', 'fluffy', 'fn', 'follow', 'follower', 'fomo', 'food', 'fool', 'foot', 'forced', 'forehead', 'forever', 'forget', 'forgot', 'form', 'former', 'forward', 'fought', 'found', 'four', 'fourth', 'fr', 'frankly', 'frat', 'fraudulent', 'freckle', 'fred', 'free', 'freedom', 'freewifi', 'fresh', 'friday', 'friend', 'friendly', 'frisbee', 'from', 'front', 'frustrating', 'fry', 'fse', 'fuck', 'fucked', 'fucking', 'full', 'fun', 'funny', 'fur', 'future', 'fw', 'g', 'ga', 'gabby', 'gaetz', 'gain', 'gained', 'game', 'gamechange', 'gangster', 'garag', 'garbage', 'gas', 'gate', 'gcw', 'gen', 'general', 'generation', 'genius', 'genocide', 'genre', 'genshin', 'genshintwt', 'gentleman', 'george', 'germany', 'get', 'gettin', 'getting', 'getvwork', 'gf', 'ghost', 'ghsi', 'gif', 'gift', 'ginger', 'girl', 'girlflux', 'girlfriend', 'girly', 'give', 'given', 'gj', 'gl', 'glad', 'global', 'gm', 'gmorning', 'gn', 'gna', 'go', 'goal', 'goat', 'god', 'godmorningsaturday', 'going', 'golden', 'golf', 'gon', 'gone', 'goo', 'good', 'goodbye', 'goodnight', 'goofed', 'goofy', 'google', 'gooo', 'goooo', 'gooooo', 'goooooo', 'gooooooooo', 'gordita', 'gorgeous', 'gosh', 'got', 'gotchu', 'government', 'govt', 'goxavs', 'gp', 'grab', 'grace', 'gracias', 'graduation', 'grain', 'grammar', 'grandma', 'granny', 'grease', 'great', 'greatest', 'green', 'grew', 'grey', 'ground', 'group', 'grow', 'growth', 'gt', 'guarantee', 'guard', 'gucci', 'guess', 'guitarist', 'gulf', 'gulfkanawut', 'gun', 'gunda', 'gurumin', 'gut', 'guy', 'gym', 'h', 'h8club', 'ha', 'hagan', 'haha', 'hahaha', 'hahahaha', 'hahahahaha', 'hai', 'halfbaked', 'halfway', 'hall', 'hamburger', 'hanagami', 'hand', 'handled', 'handsome', 'happen', 'happened', 'happeni', 'happening', 'happens', 'happiness', 'happy', 'hard', 'harder', 'harga', 'hat', 'hate', 'haunted', 'hayyy', 'hbu', 'head', 'header', 'headphone', 'heal', 'healthy', 'hear', 'hearing', 'heart', 'heartofglass', 'heather', 'hegelianism', 'height', 'heinnnnnnnn', 'helena', 'helep', 'hell', 'hello', 'help', 'hemorrhoid', 'hendery', 'here', 'hero', 'heron', 'heshe', 'hey', 'heyy', 'hhhhh', 'hi', 'high', 'higher', 'himher', 'hiring', 'history', 'hit', 'hitchhiker', 'hitter', 'hl', 'hm', 'ho', 'hold', 'holding', 'hole', 'holiday', 'hollering', 'holy', 'hom', 'home', 'homer', 'hometown', 'honestly', 'honey', 'honeyboo', 'honky', 'hooked', 'hope', 'hopefully', 'hopi', 'hoping', 'hormone', 'hornet', 'horny', 'horrible', 'horse', 'hoseok', 'hospital', 'host', 'hot', 'hotel', 'hottie', 'hour', 'house', 'housing', 'houston', 'how', 'howyoulikethat', 'hr', 'http', 'hug', 'huge', 'huh', 'human', 'hundred', 'hungover', 'hurt', 'hurting', 'husband', 'hyvä', 'i5', 'ice', 'icon', 'id', 'idea', 'identification', 'idk', 'idol', 'ignored', 'iheart', 'iheartawards', 'iii', 'ikea', 'ikon', 'ikr', 'ilang', 'ilk', 'ill', 'illegal', 'illey', 'im', 'ima', 'imagine', 'imma', 'immaculate', 'immediately', 'imo', 'impact', 'implicate', 'improv', 'in', 'ina', 'inc', 'incentive', 'inch', 'incl', 'increasing', 'indacha', 'india', 'individually', 'industry', 'info', 'infront', 'ing', 'init', 'inoculated', 'insane', 'inside', 'insider', 'insomia', 'instagram', 'instead', 'integrity', 'intense', 'interested', 'interesting', 'interferome', 'interim', 'into', 'introducingpushparaj', 'invasion', 'investigation', 'invitation', 'ip', 'iphone', 'iris', 'irl', 'ironic', 'irregular', 'isn', 'isnt', 'israel', 'isso', 'issueinterimconstitution', 'item', 'itll', 'itzelsmoth', 'ive', 'iz', 'izone', 'j', 'jack', 'jackbox', 'jackie', 'jackson', 'jacqueline', 'jaebeom', 'jaemin', 'jang', 'jank', 'jao', 'jayson', 'jbd', 'jealous', 'jennie', 'jeon', 'jeongin', 'jersey', 'jesus', 'jfirc', 'jimin', 'jimmy', 'jn', 'joalina', 'job', 'joe', 'jogo', 'johnny', 'johnnycash', 'join', 'joining', 'joke', 'joking', 'jol', 'joni', 'josh', 'jp', 'jr', 'jschlatt', 'judge', 'judging', 'juice', 'jump', 'june', 'jung', 'jungkook', 'jus', 'just', 'justice', 'justify', 'juuse', 'kabir', 'kachin', 'kakie', 'kan', 'kans', 'karl', 'karnan', 'kashtam', 'kdhshfhd', 'kdramas', 'ke', 'keep', 'keeping', 'kennedy', 'kept', 'key', 'kid', 'kidnapped', 'kiervi', 'kill', 'killer', 'killmonger', 'kind', 'king', 'kiss', 'kissing', 'klaus', 'kmp_हइव_बद_ह', 'knew', 'knight', 'knock', 'know', 'known', 'knox', 'ko', 'koichisama', 'korean', 'kprc', 'kulaks', 'kusama', 'kuteee', 'kyle', 'l', 'l5r', 'labrador', 'lace', 'ladke', 'lady', 'lahnuhwin', 'landlord', 'lanez', 'last', 'late', 'latest', 'launchzone', 'law', 'lawd', 'lawl', 'lawsuit', 'lay', 'layer', 'layout', 'lazer', 'le', 'lead', 'league', 'leagueoflegends', 'lean', 'learn', 'least', 'leav', 'leave', 'leaving', 'led', 'lee', 'left', 'leg', 'legend', 'legion', 'legit', 'lego', 'lehengas', 'length', 'leo', 'let', 'level', 'liberal', 'liberian', 'liberty', 'lie', 'life', 'light', 'lighter', 'lightsabers', 'likaa', 'like', 'liked', 'liking', 'limited', 'line', 'link', 'listen', 'listening', 'lit', 'literally', 'little', 'live', 'livefamily', 'liverty', 'livestock', 'living', 'liy', 'lizziespoty', 'll', 'lmao', 'lmaoo', 'lmaooo', 'lmfaooooo', 'lo', 'load', 'loan', 'locked', 'logan', 'logo', 'lol', 'lolgoods', 'loling', 'london', 'loneliness', 'long', 'look', 'looking', 'lookinh', 'loon', 'lopez', 'lord', 'lose', 'losing', 'loss', 'lost', 'lot', 'louder', 'louies', 'love', 'loved', 'lovehate', 'loving', 'low', 'lowkey', 'lp', 'lt', 'lucas', 'luck', 'luckily', 'lucky', 'luma', 'lwts', 'm', 'ma', 'maaafukka', 'macdonalds', 'machine', 'mad', 'made', 'magui', 'mainly', 'mainstream', 'major', 'make', 'makeitwithizone', 'making', 'male', 'man', 'management', 'many', 'maoist', 'map', 'mar', 'marco', 'mari', 'mario', 'mark', 'marked', 'market', 'marketcap', 'married', 'martin', 'mask', 'massive', 'master', 'mate', 'matter', 'mau', 'maxnat', 'maxwell', 'may', 'maybe', 'mayo', 'mb', 'mc1r', 'mdk', 'mean', 'medical', 'medicare', 'medication', 'medium', 'meek', 'meet', 'meeting', 'melissa', 'meltdown', 'member', 'memo', 'men', 'mental', 'mentally', 'mercy', 'mere', 'messing', 'messy', 'met', 'meta', 'mew', 'mewgulf', 'mewlions', 'mewning', 'mewsuppasit', 'mexicannn', 'mexico', 'mf', 'mi', 'miatp', 'michael', 'midnight', 'might', 'mighty', 'migue', 'mile', 'milker', 'mill', 'million', 'min', 'mind', 'mine', 'minute', 'misery', 'misplaced', 'miss', 'missed', 'missing', 'missionary', 'mitski', 'ml1', 'mmaxmax', 'mmo', 'mmorpg', 'mob', 'mobi', 'mod', 'model', 'moderator', 'modi', 'molly', 'mom', 'moment', 'mommy', 'monarch', 'monday', 'money', 'monster', 'month', 'monty', 'mood', 'moon', 'morality', 'more', 'morgan', 'morning', 'moron', 'morty', 'most', 'mourned', 'mouth', 'move', 'moved', 'movement', 'movie', 'moving', 'mp', 'mr', 'mssvlive1blikes', 'msutoday', 'much', 'mug', 'muh', 'musgrove', 'music', 'must', 'mustard', 'mute', 'mv', 'myitkyina', 'n', 'na', 'nah', 'nai', 'nail', 'naive', 'naman', 'name', 'nascar', 'natasitt', 'national', 'nationwide', 'native', 'nature', 'naw', 'nazareth', 'ncaa', 'nder', 'nearing', 'necro', 'need', 'needed', 'needle', 'negativity', 'negotiation', 'neighbor', 'nerd', 'netflix', 'never', 'new', 'newfoundland', 'news', 'newyorkforever', 'next', 'nfl', 'nfts', 'nice', 'nickname', 'nigga', 'night', 'nightstand', 'niteflirt', 'no', 'noart', 'nobody', 'nohitter', 'noice', 'noise', 'nonchalantradio', 'noowwww', 'nope', 'norcalscores', 'normal', 'norris', 'nosh', 'not', 'note', 'nothin', 'nothing', 'noticed', 'notification', 'nove', 'now', 'nowadays', 'nowplaying', 'np', 'nt', 'numbing', 'nut', 'o', 'obvious', 'oc', 'ocean', 'oceanography', 'od', 'off', 'office', 'officer', 'ofmb', 'og', 'oh', 'ohh', 'ohhh', 'ok', 'okay', 'okayy', 'okies', 'okta', 'old', 'oli', 'oliverainbow', 'omega', 'omg', 'on', 'once', 'one', 'oneus', 'onl', 'onlineshopping', 'only', 'onwt', 'oo', 'oof', 'oooh', 'open', 'operation', 'operator', 'opinion', 'oppa', 'option', 'order', 'ordered', 'oregairu', 'oriented', 'original', 'othe', 'other', 'ousi', 'out', 'outhea', 'outscoring', 'outside', 'outsider', 'over', 'own', 'owned', 'oxford', 'pa', 'pace', 'pack', 'package', 'packing', 'padre', 'page', 'paid', 'pain', 'paint', 'pairaskeets', 'palestinian', 'palette', 'palta', 'pangolin', 'panii', 'paper', 'papl', 'paranjith', 'parent', 'park', 'parking', 'part', 'particular', 'party', 'pas', 'passionate', 'passport', 'past', 'pasta', 'pay', 'pc', 'pe', 'peace', 'peacefully', 'pee', 'peed', 'peek', 'pekka', 'pencil', 'pending', 'pennant', 'pennsylvania', 'penny', 'people', 'percentage', 'perfect', 'performance', 'period', 'permanently', 'person', 'persona', 'personal', 'personally', 'perspective', 'peso', 'pete', 'petition', 'petr', 'petty', 'pez', 'pfizer', 'phase', 'phd', 'phiballs', 'phone', 'photoshop', 'pic', 'pick', 'picture', 'pierce', 'piercings', 'pillow', 'pink', 'pinto', 'pitch', 'pl', 'place', 'plagirizing', 'plain', 'plan', 'plausibly', 'play', 'played', 'player', 'playing', 'playlist', 'playoff', 'playstation', 'plea', 'please', 'pleased', 'pls', 'plsss', 'plsssss', 'plug', 'plus', 'plz', 'pm', 'podcast', 'point', 'pol', 'polkadot', 'polo', 'polynesian', 'popular', 'pork', 'porn', 'portable', 'pose', 'positivity', 'poslaju', 'possessed', 'post', 'pot', 'pour', 'power', 'ppl', 'pploy', 'pr', 'pray', 'pre', 'predator', 'pregnant', 'premium', 'present', 'president', 'press', 'pretend', 'pretending', 'prettiest', 'pretty', 'prettyyy', 'price', 'prince', 'printing', 'prism', 'privacy', 'private', 'pro', 'probably', 'problem', 'production', 'prof', 'professional', 'profile', 'program', 'project', 'promax', 'promise', 'promo', 'pronoun', 'propulsio', 'prosperous', 'protagonist', 'protect', 'protest', 'protester', 'protrump', 'prove', 'proved', 'provide', 'province', 'ps4live', 'pshh', 'psycho', 'pt', 'public', 'pujols', 'pupdate', 'purchase', 'pure', 'purge', 'purpose', 'pursuit', 'pusing', 'pussy', 'put', 'putting', 'pv', 'q', 'qcyn3', 'quackitys', 'quarantine', 'quarter', 'quartz', 'que', 'queen', 'question', 'quick', 'quincy', 'quitter', 'raa', 'race', 'rachael', 'racism', 'racist', 'radio', 'rahi', 'rainbow', 'raise', 'rakunda', 'rally', 'ram', 'ranch', 'random', 'ranger', 'rank', 'rap', 'raspberry', 'rasta', 'rather', 'raze', 'rb', 'rd', 're', 'reach', 'reached', 'read', 'readiness', 'reading', 'ready', 'real', 'reality', 'realized', 'realizes', 'really', 'reallyyy', 'reason', 'reasoning', 'received', 'receiving', 'recognized', 'recommended', 'recorded', 'red', 'reference', 'refug', 'regard', 'reggae', 'register', 'regulate', 'regulating', 'reigen', 'reizinho', 'relation', 'relationship', 'released', 'relentless', 'religion', 'religious', 'remaining', 'remake', 'remark', 'remember', 'remind', 'reminder', 'reminding', 'reminds', 'remote', 'renault', 'rent', 'reopening', 'repeal', 'repeat', 'reply', 'report', 'reported', 'representative', 'reputation', 'requires', 'resentful', 'resource', 'respected', 'respond', 'response', 'ressies', 'rest', 'resume', 'retarded', 'return', 'retweet', 'retweeted', 'review', 'rich', 'richie', 'rick', 'ridiculous', 'rifle', 'right', 'ring', 'rio', 'rioteer', 'rip', 'rise', 'river', 'rj', 'rlly', 'rly', 'rn', 'road', 'roaming', 'robin', 'robot', 'rock', 'rocket', 'rodg', 'roll', 'rookhunt', 'room', 'rosie', 'routine', 'rp', 'rspringbreak', 'rude', 'run', 'runforrestrun', 'running', 's', 'sack', 'sad', 'safe', 'said', 'sail', 'same', 'sampling', 'samthaan', 'sandhagen', 'sapno', 'sarge', 'saskatchewan', 'sat', 'saturday', 'saturyay', 'sauce', 'sava', 'saw', 'say', 'saying', 'sbi', 'scale', 'scar', 'scene', 'schoenheit', 'school', 'schrier', 'science', 'scope', 'score', 'scorpio', 'scratch', 'scream', 'scribbled', 'scripture', 'scrum', 'sdi', 'sears', 'season', 'seattle', 'second', 'sector', 'see', 'seeing', 'seek', 'seem', 'seen', 'selcas', 'self', 'sell', 'sending', 'senior', 'sensing', 'sentimental', 'series', 'seriously', 'session', 'set', 'setting', 'settle', 'settling', 'sexting', 'sexu', 'sexy', 'shaky', 'shared', 'shaurya', 'shaving', 'shazam', 'sheriff', 'shes', 'shiny', 'ship', 'shipped', 'shipping', 'shirt', 'shit', 'shitttttttttttt', 'shitty', 'shl', 'shoot', 'shopee', 'shopping', 'short', 'shot', 'should', 'show', 'showed', 'showing', 'si', 'sick', 'side', 'sided', 'sideways', 'sigh', 'sight', 'sign', 'signed', 'silence', 'simple', 'simply', 'sin', 'since', 'sincerely', 'sindh', 'singing', 'single', 'sitcho', 'site', 'situation', 'size', 'skill', 'skull', 'sky', 'slackin', 'slade', 'slam', 'slave', 'sleep', 'sleeping', 'slid', 'slowest', 'smack', 'small', 'smallstreamersconnect', 'smart', 'smh', 'smile', 'smoke', 'smol', 'snail', 'snake', 'so', 'sob', 'social', 'socialist', 'soft', 'software', 'sokolov', 'solution', 'some', 'someone', 'something', 'sometime', 'sometimes', 'somewhere', 'son', 'song', 'soon', 'sorry', 'sound', 'soupswapsmartchain', 'sour', 'south', 'space', 'spaceship', 'spamming', 'speak', 'special', 'spent', 'sperm', 'spice', 'spieth', 'spinning', 'spiral', 'spirit', 'splattering', 'spm', 'spoiled', 'spouse', 'spring', 'stage', 'stake', 'staking', 'stan', 'stans', 'stanworld', 'star', 'start', 'started', 'starting', 'state', 'statical', 'station', 'stats', 'status', 'stay', 'stayed', 'steam', 'step', 'stephen', 'steve', 'sticker', 'still', 'stolen', 'stop', 'story', 'straightforward', 'strange', 'strangely', 'strangle', 'stream', 'streaming', 'street', 'stress', 'strict', 'stroked', 'strong', 'stronger', 'stuff', 'stupid', 'stupidest', 'stützle', 'submitted', 'substandard', 'such', 'suck', 'sudden', 'suffering', 'suh', 'suit', 'sum', 'summer', 'sun', 'sung', 'super', 'superstar', 'supervision', 'support', 'supporter', 'supporting', 'suppressing', 'supremacist', 'supreme', 'sure', 'surely', 'surprise', 'surprised', 'surprising', 'survive', 'sus', 'sushant', 'sweater', 'sweep', 'sweet', 'sweetie', 'swi', 'swim', 't', 't3k', 't_______t', 'ta', 'tag', 'tail', 'takane', 'takane6', 'take', 'taken', 'taking', 'talkin', 'talking', 'tank', 'tat', 'tatum', 'taylor', 'tbh', 'tbz', 'tco0cyeaqbpop', 'tco0j7tsbvqwb', 'tco0sekdrcek8', 'tco1cwidakdli', 'tco1gobfu4e7r', 'tco1mgdl3j56b', 'tco1nwqaxbfq3', 'tco22gjwhre9a', 'tco2801r7hewk', 'tco2kvx1sz8vu', 'tco2ozkgxdi35', 'tco2utfhtsle6', 'tco343eldsqhu', 'tco3bkc1817gy', 'tco3gxiccyidm', 'tco3hjduyjqek', 'tco3j2ahbgkgh', 'tco3pq5fwstq3', 'tco3vkdnmkryv', 'tco42w8jbvrm1', 'tco46lptlt6nj', 'tco47lqt6su9q', 'tco4cfhfrsppo', 'tco4e248wthwb', 'tco4hrsagxl8p', 'tco4kjh7cgjqx', 'tco4kxxsri1og', 'tco4qa7w085df', 'tco4vxaizbzj5', 'tco4zssoynpoh', 'tco5idvhxj6ua', 'tco5jn9jgq1hr', 'tco5kgsmwo2lk', 'tco5ui4gzgy05', 'tco60kagecgfs', 'tco61je6pkioa', 'tco6bzpnh2wmj', 'tco6kdyrhdqoy', 'tco6miq1ncyou', 'tco6nlfz4pkzn', 'tco6pbngcrous', 'tco6qp4tfleho', 'tco6vgduj7r2e', 'tco6wommtgfog', 'tco6ynqai1aul', 'tco6zitcu6x0j', 'tco7adhyrvvrv', 'tco7dg1mbm1fa', 'tco7mdmzfroqp', 'tco7nzqomoc9c', 'tco7oujcb7wdk', 'tco7qakcc3wzf', 'tco7uiovrnsd2', 'tco7w4x1ab97s', 'tco8nhvxlng1d', 'tco8tlh5xuict', 'tco8zuepdihrk', 'tco93g3uhj1v3', 'tco95vv091gb5', 'tco9nhmtxn6kx', 'tco9peq9lf0lv', 'tco9uioesdckv', 'tcoa36rxtdpxq', 'tcoaartuwapeu', 'tcoabutqqcpjb', 'tcoae85ejbf4q', 'tcoahhtgi26hf', 'tcoapypu4bqr1', 'tcoaruvdsuoeb', 'tcoaufumcge2z', 'tcoavx0ffx0jg', 'tcoazq7ox2lsr', 'tcob4btyjkvrb', 'tcob52gboesqo', 'tcob8tnf4jzko', 'tcobyie76fhxo', 'tcobzbuzposmi', 'tcoc0gqpvh9fk', 'tcoc7gmhvgk9i', 'tcoc87miiibaf', 'tcocfbkompiyf', 'tcocgf30ky1fi', 'tcocgmuojfy7x', 'tcociwhh5hszy', 'tcoclujg18sym', 'tcocn2nwfgegm', 'tcocrdppwzmnj', 'tcocrdtx3shdz', 'tcocswlyeg3po', 'tcocuheavetrm', 'tcocy0oop37uz', 'tcoczwmpekocl', 'tcod01dcgnsv1', 'tcod8yjyxtey2', 'tcod93ycdeqip', 'tcodgxzshukyq', 'tcodpjejlzwss', 'tcodpl6gswe8a', 'tcodwv4igzjch', 'tcoehmg1xx6lz', 'tcoeitnzjtadd', 'tcoeo1nowvfg6', 'tcofbcvrtingm', 'tcofczyybocli', 'tcofhpkddabfy', 'tcofirx2lw6gj', 'tcofrk4pa3kkf', 'tcofskfdguog4', 'tcofuith2bpsy', 'tcofycdy5xgyv', 'tcogaruaiapkm', 'tcogbsefnompu', 'tcogd0i2eubpb', 'tcogd9nlgjhcd', 'tcoggsczh12a7', 'tcogoqm4rovgc', 'tcoguivuogogq', 'tcogxtrvxiyfn', 'tcogxyjm2toqx', 'tcoh1wctqw5xr', 'tcoh3xxxkpjkp', 'tcoh8edvq6eju', 'tcohayu82nzog', 'tcohjpj7hwpfx', 'tcohkez6glrcx', 'tcohvawrlpdh0', 'tcohwios5sqcm', 'tcohxxriu3gm8', 'tcoi0rvtdutgu', 'tcoi3lkk4edaj', 'tcoi7nvkutxwb', 'tcoibfcod4vcm', 'tcoicoytjrzrc', 'tcoiiz7lkd92d', 'tcoin4diw6b1v', 'tcoinlortbrlb', 'tcoirec1ekxkf', 'tcoisbxjterw5', 'tcoisrjgenlnk', 'tcoivoqlgj5qp', 'tcoivw0dg0vx3', 'tcoivxy8btrkv', 'tcoiyfhy2qukc', 'tcoj3pe84ry7m', 'tcoj5hmhx7nj0', 'tcoj6ujc42snf', 'tcoja8pkbmoiy', 'tcojaptcgjann', 'tcoje1rmzr0an', 'tcojf3wpjm7wm', 'tcojlrrujekby', 'tcojnckfhy5nf', 'tcojuaoinqsis', 'tcojuxvxhmzqn', 'tcojxjyua8czt', 'tcojy28oajuxa', 'tcojyozm2zytl', 'tcok1ftywl98l', 'tcok7ghlel8xs', 'tcokbslw3cx7r', 'tcokcyrhvtv8k', 'tcoke5ozzrwkk', 'tcoknfojcrkdo', 'tcokrkpglzp1f', 'tcokvzqoqaclw', 'tcokwiygveoer', 'tcokxfivjvwif', 'tcol1temg3nfo', 'tcol1vzlm2vjn', 'tcol2avhysccj', 'tcolb2ccrggb1', 'tcolfcounppjn', 'tcolhrtfbwxtq', 'tcoljic7jxqxv', 'tcolmlgeidcpc', 'tcoloefdugcwl', 'tcolplvekb00b', 'tcolrwqpa52tm', 'tcolxtymm3yrb', 'tcom1ac8koqig', 'tcom2pr1gcidn', 'tcom94sefhdtg', 'tcomdlzyc3qa6', 'tcomljxwk6oys', 'tcomv3xmuju9a', 'tcomxblyv773r', 'tcon0pcvq5qcs', 'tcon5bsjvc9kn', 'tcon75qbumueq', 'tcondakrmtcsw', 'tconjraby2n7p', 'tconkbb0ds11t', 'tconkhvhxshbx', 'tconklsa7cnci', 'tconoh1xbnkrh', 'tconpkofibgpd', 'tconua87oagab', 'tconwsihxv4kf', 'tcoo6dnadnrsc', 'tcoocb3wxoapn', 'tcoocvnjtrmfd', 'tcooikpt7r25r', 'tcook1hi2irni', 'tcoool6ed9l5b', 'tcoosafdk11yx', 'tcoosoxijiqgc', 'tcoow1qxjq3jg', 'tcooz7zgphele', 'tcop4hrsr8xki', 'tcopd5rff6x0j', 'tcoperxpaledk', 'tcophbd8ormta', 'tcopldbpf36wx', 'tcoponn0bknbj', 'tcopsttwl87aq', 'tcopuociyqkhm', 'tcopxkul25jep', 'tcoq4wyxjdqar', 'tcoq4zsl5kj0j', 'tcoqcxi8ff6xg', 'tcoqdvwfvmue0', 'tcoqfsywaie3n', 'tcoqg1bvznfs4', 'tcoqi6rofhjbd', 'tcoqmo1n4tayf', 'tcoqqnlee8yor', 'tcoqr0wcxrvwn', 'tcoquwgqpw0n5', 'tcoqwt7r1rh8n', 'tcor6zbxirgy0', 'tcor7c4zgiwz4', 'tcor82e3yvxyw', 'tcoray8mp1esx', 'tcorleh2vcxqf', 'tcorp0e500sqa', 'tcorpxsiegvt2', 'tcorvjjqzw3ba', 'tcorvmn14jpfb', 'tcory2bscmnb7', 'tcorzcy4wpgnh', 'tcos1gl2akoqm', 'tcos6i7zqfgfn', 'tcos73k2yookz', 'tcos8gz99vref', 'tcos9iaodyrua', 'tcosajwo0oodh', 'tcosdxm8azc8g', 'tcosic83gkfgk', 'tcosmxmvgefjv', 'tcosn6qvfrqad', 'tcosniyn2xvj6', 'tcostptok4zhm', 'tcoszxy9vv7jz', 'tcot7cegsocxu', 'tcotbcmi6jufx', 'tcotfxo0unvbs', 'tcotkfrriz8me', 'tcotkppdewflm', 'tcotlodfcmfrm', 'tcotvls0830sg', 'tcotx1ysbw4bs', 'tcou2vnxiquxz', 'tcou5r8z0fveu', 'tcou88yszjzmn', 'tcoue1pj3kemh', 'tcoug8i6r0xjb', 'tcouuv9lsldkg', 'tcouv86lbupc6', 'tcouvivnlnrgd', 'tcouwci2b00l2', 'tcouzonamlchg', 'tcov0whxotv5f', 'tcovcvnpkbpjd', 'tcoveivbsgarj', 'tcovlac8trcp6', 'tcovovk0r5evb', 'tcovrnbsat1ji', 'tcovtsn9kjt0j', 'tcow5e8n9nwnt', 'tcowamce4biil', 'tcowhhanhdhdy', 'tcowjx1ysgath', 'tcowkqjq04la6', 'tcowmjnfchavn', 'tcownbzdtf7ty', 'tcowp3owz6nwa', 'tcowrlm9fgzhv', 'tcowsgbskhda7', 'tcowtjqopeq4c', 'tcowup8hpi6yp', 'tcowvuwvpdkrv', 'tcowwlqoqc81f', 'tcowwuok9utd5', 'tcowyjellybtz', 'tcox1hl4huuwh', 'tcox2fyelsse4', 'tcox3l9tqgqfd', 'tcox3lrwgugns', 'tcox6l6je1sw7', 'tcox9i8oizvj8', 'tcoxe5fxden9p', 'tcoxgu6yw9upt', 'tcoxgybb48paf', 'tcoxgzmwmszsn', 'tcoxmftoxi1om', 'tcoxpzm7myp1g', 'tcoxtdy4beity', 'tcoxwv0k8eduu', 'tcoxxar0sgzjh', 'tcoy2vw3vffah', 'tcoycpiqgkegd', 'tcoyhjnaedx5x', 'tcoyi7leug0qb', 'tcoyia6bomchu', 'tcoyj8d0qbcj6', 'tcoykofaamlgt', 'tcoymuieu7jnt', 'tcoynkc8fmn5u', 'tcoyoiikf4xlc', 'tcoyp1s0xn1k4', 'tcoyphniw3dza', 'tcoyt94z0ww5s', 'tcoytne1fwtjo', 'tcoytzfby3fn7', 'tcoyukzoe6nmc', 'tcoyuscdo2y3r', 'tcoywdocw4yoh', 'tcoyxjefhstvj', 'tcoz0o5kdcic4', 'tcoz2zljaylk3', 'tcoz38lafrzhz', 'tcozibdb0byfg', 'tcozimwomeut1', 'tcozizlu1gerz', 'tcozkkmzym5md', 'tcozpfakuk4yp', 'tcozq7ye101s8', 'tcozw6tkwwrc3', 'tcozykkujzrpo', 'te', 'tea', 'team', 'teamdancingfish', 'teammate', 'tear', 'tell', 'telling', 'ten', 'territory', 'test', 'tester', 'texas', 'tf', 'tgcw', 'th', 'tha', 'thaggedhele', 'than', 'thank', 'thankfully', 'thanks', 'thankyouu', 'thats', 'thecollective', 'thefalconandthewintersoldier', 'theme', 'then', 'therapy', 'there', 'theresa', 'thetrendingsaturday', 'theyll', 'thi', 'thief', 'thing', 'think', 'thinking', 'tho', 'thou', 'though', 'thought', 'thoughtless', 'thousand', 'thread', 'threat', 'threw', 'through', 'throwing', 'thrown', 'thsi', 'thug', 'thus', 'thx', 'tied', 'tigrayans', 'tiktok', 'time', 'timeee', 'timeout', 'tired', 'tirelessly', 'title', 'tkachuk', 'tl', 'tm', 'to', 'today', 'toe', 'together', 'tommorrow', 'tommy', 'tomorrow', 'tone', 'tonight', 'tony', 'too', 'took', 'top', 'torture', 'tory', 'totally', 'tou', 'tournament', 'toward', 'towards', 'township', 'toxic', 'tracked', 'tracking', 'trade', 'traded', 'trae', 'trailer', 'trained', 'traitor', 'trance', 'trancefamily', 'trans', 'translation', 'traumatized', 'travel', 'treadmill', 'treasure', 'treasuring', 'treat', 'trevor', 'tribalism', 'tribune', 'trijicon', 'trip', 'trolling', 'trouble', 'tru', 'true', 'truly', 'trust', 'truth', 'try', 'trying', 'tryna', 'tua', 'tub', 'tucker', 'tulsa', 'tumbasno', 'tumblr', 'tunnel', 'turbo', 'turned', 'turntable', 'tuscaloosa', 'tuttle', 'tv', 'tweet', 'tweeting', 'twice', 'twilight', 'twinjad', 'twistedwonderland', 'twitch', 'twitter', 'two', 'twohour', 'txlege', 'tycoon', 'tyler', 'typa', 'type', 'té', 'u', 'ugh', 'uh', 'ultimat', 'ultimately', 'ultramoment', 'umbro', 'umm', 'unacceptable', 'under', 'understand', 'understood', 'underwater', 'unfair', 'unfollowed', 'union', 'unisex', 'unite', 'unlame', 'unpack', 'unveilers', 'up', 'updated', 'updating', 'upgrade', 'uplift', 'upload', 'uptown', 'upvote', 'ur', 'uscownit2021', 'use', 'used', 'user', 'usually', 'uu', 'uv', 'v', 'vacation', 'vaccin', 'vaccinated', 'vaccine', 'vagas', 'valtrex', 'value', 'vanvleet', 'vbuck', 'vcog', 'vcs', 've', 'vees', 'vega', 'veggie', 'vehicle', 'veil', 'veintiocho', 'ver', 'verification', 'verizon', 'version', 'very', 'via', 'vibe', 'vibing', 'victim', 'victory', 'video', 'view', 'vil', 'villain', 'villainy', 'vilschoenheit', 'vincenzo', 'violent', 'virgin', 'visit', 'vista', 'viu', 'vivaldi', 'vlive', 'voice', 'vol', 'volume', 'vote', 'voter', 'voting', 'w', 'waduhh', 'wagon', 'waiat', 'wait', 'wake', 'walk', 'walker', 'wall', 'wan', 'wanga', 'want', 'wanted', 'war', 'wardrobe', 'warm', 'warming', 'warmth', 'warning', 'washboard', 'washington', 'wasn', 'waste', 'watch', 'watched', 'watching', 'water', 'way', 'wdym', 'weakness', 'wear', 'wearing', 'weather', 'webcam', 'website', 'wedding', 'week', 'weekend', 'weighing', 'weight', 'weird', 'welcome', 'well', 'wendy', 'went', 'wenzhou', 'westbrook', 'whats', 'whatshappeninginmyanmar', 'whatshappeninglnmyanmar', 'whatttt', 'wheel', 'wheerrreeee', 'when', 'where', 'whereas', 'wheres', 'whether', 'whipped', 'whiskey', 'white', 'whoa', 'whole', 'whomping', 'why', 'whyy', 'wide', 'widely', 'widener', 'wife', 'wiki', 'wikilinkrobot', 'wikipedia', 'wild', 'wildly', 'will', 'wimme', 'win', 'window', 'wing', 'wink', 'winner', 'winning', 'winter', 'wireless', 'wirh', 'wish', 'with', 'without', 'wizardsmoment', 'wizones', 'wml', 'wo', 'woa', 'woman', 'won', 'wonder', 'wonderful', 'wonk', 'wonyoung', 'wooah', 'wor', 'word', 'work', 'workin', 'working', 'workout', 'world', 'worldview', 'worried', 'worry', 'worse', 'worsened', 'worst', 'would', 'wow', 'write', 'writing', 'writingcommnunity', 'written', 'wrong', 'wrote', 'wtf', 'wts', 'wtt', 'wynonnaearp', 'x', 'x2', 'xingxing', 'xion', 'xiv', 'xx', 'y', 'ya', 'yaaaayy', 'yaas', 'yall', 'yank', 'yankee', 'yankin', 'yard', 'yas', 'yay', 'yea', 'yeaaaah', 'yeah', 'yeahhh', 'yeahhhhh', 'year', 'yeeeaaaaaaaahhhhh', 'yepp', 'yes', 'yesterday', 'yet', 'yona', 'yono', 'yooo', 'young', 'youre', 'youthwithyou3', 'youu', 'youunlike', 'yuk', 'yusuke', 'ywy3', 'zero', 'zinda', 'zjoin', 'zont', 'zoom', 'zzh', 'ทมอรชชยมาเสะ', 'ผาน', '人', '青春有你3', '아이콘', '에이티즈', '우아', '제니', '트와이스와_함께한_2000일의_기억']\n",
            "{'kid': 1312, 'heart': 1085, 'yes': 3037, 'im': 1185, 'trolling': 2761, 'bro': 368, 'dont': 682, 'care': 415, 'so': 2176, 'ever': 780, 'cool': 528, 'gp': 1013, 'veintiocho': 2855, 'hagan': 1049, 'stream': 2245, 'y': 3018, 'shazam': 2112, 'vote': 2883, 'honeyboo': 1129, 'kyle': 1337, 'hanagami': 1059, 'favechoreography': 837, 'iheartawards': 1175, 'no': 1640, 'problem': 1866, '6': 65, 'drop': 702, 'reasoning': 1954, 'why': 2950, 'isn': 1234, 't': 2292, 'top': 2728, '10': 2, 'then': 2677, 'll': 1409, 'always': 159, 'love': 1439, 'wanga': 2896, 'gut': 1043, 'oh': 1678, 'rainbow': 1924, 'not': 1653, 'jimmy': 1266, 's': 2043, 'rather': 1936, 'small': 2167, 'tub': 2772, 'sure': 2278, 'getting': 961, 'workout': 2992, 'tonight': 2724, 'with': 2973, 'karl': 1301, 'yeahhh': 3032, 'blue': 327, 'raspberry': 1934, 'cherry': 456, 'also': 157, 'belive': 285, 'fact': 817, 'still': 2237, 'happeni': 1065, 'http': 1154, 'tco6pbngcrous': 2351, 'wrong': 3006, 'to': 2716, 'all': 150, 'cash': 422, 'fomo': 890, 'keep': 1307, 'messing': 1514, 'head': 1078, 'same': 2049, 'time': 2707, 'buy': 392, 'in': 1195, 'feel': 848, 'hey': 1102, 'guy': 1044, 'streaming': 2246, 'genshin': 954, 'impact': 1192, 'about': 82, '15': 13, 'minute': 1540, 'hope': 1132, 'check': 450, 'out': 1716, 'tcoi3lkk4edaj': 2440, 'saying': 2063, 'blame': 323, 'lady': 1343, 'tcofycdy5xgyv': 2420, 'mexico': 1524, 'btsarmy': 374, 'bestfanarmy': 292, 'only': 1697, 'never': 1626, 'wan': 2895, 'na': 1599, 'fail': 818, 'slackin': 2158, 'on': 1691, 'need': 1618, 'let': 1380, 'go': 983, 'peek': 1762, 'into': 1223, 'black': 320, 'man': 1468, 'worldview': 2994, 'tcoymuieu7jnt': 2627, 'ethnicity': 778, 'race': 1918, 'perspective': 1779, 'empathy': 750, 'god': 986, 'pupdate': 1894, 'tcor82e3yvxyw': 2542, 'nowplaying': 1662, 'trancefamily': 2747, 'trance': 2746, 'rodg': 2031, 'crossroad': 561, 'tcogd9nlgjhcd': 2424, 'tcoveivbsgarj': 2584, 'can': 408, 'fix': 879, 'everything': 787, 'sudden': 2261, 'positivity': 1835, 'negativity': 1621, 'released': 1972, 'would': 3000, 'space': 2198, 'tcoisbxjterw5': 2448, 'interesting': 1220, 'very': 2860, 'funny': 930, 'thanks': 2671, 'please': 1815, 'should': 2129, 'keeping': 1308, 'u': 2800, 'updated': 2822, 'xingxing': 3014, 'going': 988, 'work': 2989, '20210410': 31, 'ctto': 566, 'youthwithyou3': 3045, '青春有你3': 3060, 'ywy3': 3050, 'qcyn3': 1906, 'duanxingxing': 705, 'x': 3012, 'tcoaufumcge2z': 2380, 'done': 679, 'thank': 2669, 'oo': 1699, 'noice': 1644, 'tied': 2704, 'vibing': 2863, 'teamdancingfish': 2653, 'elected': 738, 'crph': 562, 'apr10coup': 196, 'whatshappeninginmyanmar': 2934, 'issueinterimconstitution': 1238, 'tcofrk4pa3kkf': 2417, 'missed': 1544, 'hug': 1155, 'much': 1588, 'protrump': 1883, 'sound': 2194, 'completely': 509, 'blown': 326, 'up': 2821, 'tiktok': 2706, 'woman': 2980, 'tcoxpzm7myp1g': 2616, 'alright': 156, 'tuscaloosa': 2781, 'melissa': 1505, 'thats': 2673, 'deep': 605, 'level': 1381, 'tcowkqjq04la6': 2593, 'sorry': 2193, 'loss': 1434, 'good': 994, 'morning': 1573, 'say': 2062, 'louder': 1437, 'people': 1769, 'back': 242, 'taylor': 2308, 'when': 2939, 'wrote': 3007, 'lucky': 1450, 'one': 1693, 'joni': 1279, 'nothing': 1656, 'will': 2961, 'make': 1464, 'respond': 1999, 'm': 1453, 'talking': 2304, 'someone': 2185, 'else': 744, 'jump': 1287, 'conversation': 526, 'nt': 1664, 'know': 1327, 'how': 1151, 'swim': 2291, 'more': 1571, 'pose': 1834, 'underwater': 2812, 'tcoirec1ekxkf': 2447, 'tm': 2715, 'boutta': 353, 'beat': 274, 'true': 2764, 'just': 1292, 'got': 1008, 'compared': 507, 'feeling': 849, 'here': 1098, 'album': 147, 'amp': 167, 'chill': 460, 'audiogirl': 224, 'tcolmlgeidcpc': 2485, 'awesome': 232, 'well': 2928, 'day': 589, 'best': 290, 'place': 1802, 'smoke': 2172, 'dumela': 708, 'ousi': 1715, 'almost': 152, 'think': 2686, 'thetrendingsaturday': 2681, 'song': 2191, 'ya': 3019, 'migue': 1532, 'tcomdlzyc3qa6': 2493, 'fire': 875, 'listening': 1398, 'great': 1023, 'project': 1872, 'soupswapsmartchain': 2195, 'tcoisrjgenlnk': 2449, 'living': 1406, 'son': 2190, 'tcoyia6bomchu': 2624, 'cried': 554, 'lol': 1420, 'clipper': 482, '4110': 55, 'second': 2084, 'quarter': 1909, 'against': 126, 'houston': 1150, 'rocket': 2030, 'wow': 3001, 'phiballs': 1789, 'loving': 1442, 'gulf': 1038, 'tirelessly': 2711, '10mเมนชนของคณบกกลฟ': 7, 'hate': 1074, 'fandom': 827, 'really': 1951, 'again': 125, 'nobody': 1642, 'supporting': 2274, 'lay': 1355, 'even': 779, 'ca': 397, 'find': 868, 'way': 2913, 'onl': 1695, 'tcocswlyeg3po': 2399, 'matter': 1487, 'short': 2127, 'sweet': 2288, 'perfect': 1771, 'like': 1391, 'watch': 2909, 'something': 2186, 'uplift': 2825, 'spirit': 2209, 'help': 1095, 'wait': 2890, 'shared': 2109, 'before': 281, 'tcoo6dnadnrsc': 2509, 'city': 470, 'there': 2679, 'used': 2832, 'another': 180, 'business': 388, 'left': 1371, 'tcox3lrwgugns': 2608, 'see': 2086, 'other': 1714, 'started': 2223, 'b': 238, 'live': 1402, 'demo': 620, 'pre': 1846, 'approved': 194, 'personal': 1777, 'loan': 1416, 'papl': 1742, 'from': 920, 'sbi': 2064, 'yono': 3041, 'mobi': 1553, 'tcoj3pe84ry7m': 2454, 'via': 2861, 'tcoqfsywaie3n': 2532, 'yaaaayy': 3020, 're': 1940, 'able': 81, 'choose': 465, 'already': 155, 'sleeping': 2163, 'dickhead': 642, 'long': 1425, 'kill': 1315, 'rlly': 2022, 'v': 2837, 'yeah': 3031, 'strange': 2242, 'could': 533, 'worse': 2997, 'weather': 2918, 'south': 2197, 'east': 722, 'coa': 487, 'tcos8gz99vref': 2554, 'donny': 681, 'o': 1667, 'get': 959, 'fan': 824, 'buzzing': 395, 'tco4e248wthwb': 2334, 'both': 350, 'beautiful': 276, 'friendly': 918, 'reminder': 1981, 'grain': 1018, 'famine': 823, 'food': 891, 'fatten': 834, 'cow': 542, 'livestock': 1405, 'huh': 1157, 'thing': 2685, 'right': 2014, 'name': 1605, 'hahahahaha': 1053, 'anything': 186, 'come': 498, 'nazareth': 1613, 'ofmb': 1676, 'feat': 844, 'richie': 2010, 'stephen': 2234, 'reggae': 1964, 'christ': 468, 'vol': 2881, '2': 24, 'tcol1temg3nfo': 2478, 'group': 1029, '3': 46, 'adrian': 115, 'knox': 1329, 'stake': 2216, '13': 10, 'bargain': 260, 'lizziespoty': 1408, 'vega': 2851, 'host': 1143, 'family': 822, 'bull': 381, 'shit': 2120, 'some': 2184, 'traitor': 2745, 'tcoow1qxjq3jg': 2517, 'gn': 981, 'too': 2726, 'okay': 1682, 'eat': 724, 'mf': 1525, 'must': 1593, 'stupid': 2254, 'written': 3005, 'across': 98, 'forehead': 895, 'tone': 2723, 'pls': 1817, 'jang': 1253, 'wonyoung': 2985, 'makeitwithizone': 1465, 'yooo': 3042, 'bae': 247, 'ur': 2829, 'layout': 1357, 'cute': 573, 'si': 2133, 'con': 511, 'mi': 1526, 'whipped': 2944, 'coffee': 493, 'tulsa': 2774, 'county': 536, 'sheriff': 2113, 'office': 1674, 'drastic': 692, 'rise': 2019, 'child': 459, 'predator': 1847, 'case': 421, 'tcowtjqopeq4c': 2599, 'take': 2300, 'l': 1338, 'bot': 349, 'nowadays': 1661, 'bm': 331, 'most': 1576, 'violent': 2873, 'aggressive': 130, 'male': 1467, 'tco2ozkgxdi35': 2321, 'wtf': 3008, 'amigis': 164, 'bomb': 337, 'af': 121, 'nigga': 1636, 'wheerrreeee': 2938, 'jackbox': 1247, 'tcoaruvdsuoeb': 2379, 'pretty': 1856, 'queen': 1912, 'braaaaaabo': 355, 'itll': 1240, 'fun': 929, 'worry': 2996, 'dm': 665, 'tag': 2296, 'spoiled': 2212, 'plausibly': 1806, 'move': 1579, 'needle': 1620, 'combining': 497, 'ip': 1228, 'buyout': 394, 'tcofhpkddabfy': 2415, 'prof': 1868, 'gas': 945, 'hard': 1070, 'world': 2993, 'inch': 1199, 'toward': 2734, 'reopening': 1987, 'light': 1387, 'end': 755, 'tunnel': 2777, 'crisis': 556, 'oriented': 1711, 'among': 166, 'tcom2pr1gcidn': 2491, 'abril': 85, 'godmorningsaturday': 987, 'eternal': 776, 'kabir': 1296, 'ocean': 1670, 'peace': 1758, 'happiness': 1068, 'destroy': 634, 'sin': 2145, 'refug': 1962, 'tco3vkdnmkryv': 2329, 'twitch': 2790, 'oliverainbow': 1688, 'don': 678, 'ask': 209, 'free': 912, 'gift': 967, 'jeon': 1260, 'jungkook': 1290, 'diggin': 646, 'tcoycpiqgkegd': 2621, 'deserve': 628, 'wo': 2978, 'forget': 897, 'tcowrlm9fgzhv': 2597, 'sitcho': 2151, 'dizzy': 663, 'as': 206, 'down': 688, 'tcow5e8n9nwnt': 2589, 'describe': 627, 'final': 866, 'season': 2082, 'gurumin': 1042, '100': 3, 'made': 1459, 'tcoj5hmhx7nj0': 2455, 'usually': 2834, 'calm': 404, 'que': 1911, 'isso': 1237, 'heinnnnnnnn': 1090, 'purpose': 1898, 'life': 1386, 'every': 782, 'person': 1775, 'rich': 2009, 'fuck': 925, 'dead': 596, 'uu': 2835, 'raa': 1917, '1': 1, 'million': 1536, '1mlikesforpushparajintro': 22, 'tcos6i7zqfgfn': 2552, 'thaggedhele': 2667, 'introducingpushparaj': 1224, 'tco0sekdrcek8': 2313, 'heather': 1087, 'gorgeous': 1006, 'smile': 2171, 'coar': 488, 'reallyyy': 1952, 'suit': 2264, 'tcoivxy8btrkv': 2452, 'attach': 220, 'yeeeaaaaaaaahhhhh': 3035, 'step': 2233, 'scale': 2065, 'damage': 580, 'today': 2717, 'proved': 1885, 'shitty': 2122, 'mood': 1568, 'anyone': 185, 'gosh': 1007, 'treasuring': 2754, 'spieth': 2206, 'win': 2963, 'master': 1485, 'tcofirx2lw6gj': 2416, 'additional': 105, 'layer': 1356, 'verification': 2857, 'may': 1491, 'provide': 1886, 'customer': 571, 'purchase': 1895, 'lead': 1360, 'tcoqi6rofhjbd': 2534, 'jao': 1255, 'normal': 1650, 'ending': 758, 'del': 613, 'dlc': 664, 'de': 595, 'april': 197, 'fool': 892, 'insane': 1211, 'omg': 1690, 'frankly': 907, 'want': 2897, 'agent': 129, 'cheerleading': 452, 'le': 1359, 'abt': 88, 'hormone': 1136, 'than': 2668, 'bc': 272, 'professional': 1869, 'kind': 1318, 'understand': 2810, 'tco7nzqomoc9c': 2360, 'tucker': 2773, 'carlson': 417, 'playing': 1810, 'fake': 819, 'genocide': 952, 'victim': 2864, 'decent': 601, 'tcou2vnxiquxz': 2572, 'honey': 1128, 'adoreyou': 114, 'bestlyrics': 295, 'drink': 697, 'better': 297, 'breaking': 362, 'id': 1168, 'walk': 2892, 'through': 2697, 'broadcast': 369, 'playstation': 1813, '4': 54, 'ps4live': 1888, 'fantasy': 829, 'xiv': 3016, 'tcoxmftoxi1om': 2615, 'actually': 102, 'bad': 246, 'adore': 113, 'owned': 1723, 'episode': 771, 'tco0j7tsbvqwb': 2312, 'bruh': 372, 'youre': 3044, 'mine': 1539, '2000': 26, 'twice': 2786, 'everyday_with_twice': 785, '트와이스와_함께한_2000일의_기억': 3065, 'mouth': 1578, 'filled': 861, 'correct': 532, 'lot': 1436, 'young': 3043, 'sick': 2134, 'death': 600, 'thankfully': 2670, 'stayed': 2231, 'low': 1443, 'yesterday': 3038, 'believe': 284, 'province': 1887, 'wide': 2952, 'king': 1319, 'dayy': 591, 'aew': 120, 'star': 2221, 'reached': 1942, 'steve': 2235, 'austin': 226, 'joining': 1275, 'tcoz0o5kdcic4': 2639, 'mean': 1497, 'prove': 1884, 'suck': 2260, 'asked': 210, 'reference': 1961, 'worst': 2999, 'gooo': 1000, 'd': 575, 'tcodpjejlzwss': 2407, 'changing': 444, 'experience': 804, 'wynonnaearp': 3011, 'single': 2150, 'human': 1158, 'embraced': 749, 'cher': 455, 'tcon0pcvq5qcs': 2497, 'killmonger': 1317, 'deadass': 597, 'tcogaruaiapkm': 2421, 'tracking': 2739, 'remaining': 1976, 'item': 1239, 'post': 1838, 'yet': 3039, 'use': 2831, 'poslaju': 1836, 'immediately': 1190, 'tcopd5rff6x0j': 2520, 'fresh': 915, 'lace': 1341, 'jealous': 1258, 'surprising': 2282, 'hear': 1083, 'now': 1660, 'drunk': 704, 'lmfaooooo': 1413, 'vagas': 2842, 'team': 2652, 'nosh': 1652, '010': 0, 'noart': 1641, 'joalina': 1268, 'beauany': 275, 'deserved': 629, 'congrats': 517, 'joe': 1270, 'soon': 2192, 'outhea': 1717, 'fucking': 927, 'popular': 1830, 'bum': 384, 'crackheads': 545, 'mad': 1458, 'crackhead': 544, 'happen': 1063, 'existing': 800, 'complex': 510, 'nature': 1611, 'conflict': 516, 'worsened': 2998, 'crime': 555, 'tigrayans': 2705, 'luckily': 1449, 'documented': 671, 'tcowwlqoqc81f': 2602, 'piercings': 1796, 'particular': 1748, 'mainly': 1461, 'remember': 1979, 'othe': 1713, 'tcoyp1s0xn1k4': 2630, 'dream': 694, 'jr': 1282, 'tco4qa7w085df': 2338, 'ikon': 1178, '아이콘': 3061, 'messy': 1515, 'iheart': 1174, 'blackpink': 321, 'howyoulikethat': 1152, 'bestmusicvideo': 296, 'tco1cwidakdli': 2314, 'imma': 1188, 'act': 99, 'ain': 140, 'seen': 2090, 'nothin': 1655, 'tcofczyybocli': 2414, 'imagine': 1187, 'tcoug8i6r0xjb': 2576, 'lighter': 1388, 'note': 1654, 'new': 1627, 'rick': 2011, 'morty': 1575, 'start': 2222, 'june': 1288, 'tat': 2306, 'such': 2259, 'eric': 773, 'tweet': 2784, 'tcogxyjm2toqx': 2429, 'mighty': 1531, 'duck': 706, 'jersey': 1262, 'logo': 1419, 'amazing': 160, 'agnation': 131, 'ball': 251, 'sack': 2044, 'water': 2912, 'yall': 3022, 'wild': 2959, 'tcorleh2vcxqf': 2544, 'baby': 241, 'condiment': 512, 'fw': 933, 'hot': 1144, 'sauce': 2059, 'ranch': 1929, 'mustard': 1594, 'n': 1598, 'sour': 2196, 'chick': 458, 'fil': 860, 'polynesian': 1829, 'tcox6l6je1sw7': 2609, 'happy': 1069, 'birthday': 313, 'legend': 1373, 'annoying': 176, 'won': 2981, 'tcoguivuogogq': 2427, 'tell': 2656, 'show': 2130, 'wonder': 2982, 'bob': 334, 'maoist': 1471, 'baathism': 239, 'ecofriendly': 726, 'cashmere': 423, 'cat': 427, 'major': 1463, 'lazer': 1358, 'tory': 2730, 'lanez': 1346, 'miss': 1543, 'trying': 2769, 'rude': 2039, 'absolutely': 87, 'fantastic': 828, 'model': 1555, 'tcojy28oajuxa': 2466, 'stolen': 2238, 'hit': 1111, 'w': 2886, 'shot': 2128, 'tcoyoiikf4xlc': 2629, 'unacceptable': 2808, 'threat': 2695, 'readiness': 1944, 'look': 1426, 'market': 1479, 'nice': 1634, 'launchzone': 1350, 'operation': 1703, 'simple': 2143, 'straightforward': 2241, 'production': 1867, 'tcoqdvwfvmue0': 2531, 'interested': 1219, 'saturyay': 2058, 'quincy': 1915, 'iz': 1243, 'backkkkk': 243, 'tcojyozm2zytl': 2467, 'goo': 993, 'call': 402, 'johnny': 1272, 'cause': 431, 'hurt': 1161, 'johnnycash': 1273, 'working': 2991, 'building': 379, 'resume': 2003, 'hemorrhoid': 1096, 'asshole': 213, 'wheres': 2942, 'feral': 853, 'boy': 354, 'glad': 977, 'night': 1637, 'tony': 2725, 'hold': 1117, 'shaky': 2108, 'hand': 1060, 'warmth': 2903, 'moment': 1560, 'tcox1hl4huuwh': 2605, 'boss': 348, 'tcoclujg18sym': 2395, 'jp': 1281, 'morgan': 1572, 'chase': 447, 'bank': 255, 'paid': 1732, 'fraudulent': 909, 'account': 93, '2019': 28, 'double': 687, 'dip': 650, 'tcoxwv0k8eduu': 2618, 'any': 184, 'word': 2988, 'express': 810, 'tcor7c4zgiwz4': 2541, 'dreamt': 695, 'kissing': 1321, 'remake': 1977, 'irl': 1231, 'tcoue1pj3kemh': 2575, 'hero': 1099, 'biru': 314, 'tua': 2771, 'warm': 2901, 'tcoinlortbrlb': 2446, 'pork': 1831, 'chop': 466, 'roaming': 2026, 'around': 204, 'without': 2974, 'ugh': 2801, 'mom': 1559, 'spamming': 2200, 'gone': 992, 'count': 535, 'accomplishment': 92, 'female': 852, 'rap': 1933, 'category': 429, 'tcou88yszjzmn': 2574, 'read': 1943, 'english': 761, 'translation': 2749, 'air': 142, 'gna': 982, 'cry': 563, 'literally': 1400, 'idea': 1169, 'ok': 1681, 'rly': 2023, 'sad': 2045, 'viu': 2877, 'premium': 1849, 'price': 1858, '14': 12, 'peso': 1780, 'month': 1566, '35': 50, '70': 68, '12': 9, '85': 72, 'tcot7cegsocxu': 2564, 'found': 903, 'bizarre': 318, 'wikipedia': 2958, 'page': 1731, 'where': 2940, 'exols': 801, 'mod': 1554, 'arguing': 201, 'tcol2avhysccj': 2480, 'tcojuxvxhmzqn': 2464, 'pussy': 1901, 've': 2849, 'ate': 215, 'stroked': 2250, 'favo': 838, 'forever': 896, 'tcoquwgqpw0n5': 2538, 'lmaooo': 1412, 'pain': 1733, 'fear': 842, 'disinformation': 657, 'order': 1708, 'rank': 1932, 'thinking': 2687, 'thoughtless': 2692, 'min': 1537, 'tcownbzdtf7ty': 2595, 'settle': 2103, 'india': 1203, 'farmer': 831, 'peacefully': 1759, 'protest': 1881, 'mr': 1585, 'modi': 1557, 'government': 1010, 'repeal': 1988, 'law': 1351, 'kmp_हइव_बद_ह': 1323, 'support': 2272, 'tcozw6tkwwrc3': 2648, 'sleep': 2162, 'haunted': 1075, 'supporter': 2273, 'dick': 641, 'tcokvzqoqaclw': 2475, 'whats': 2933, 'last': 1347, 'illegal': 1183, 'tcolrwqpa52tm': 2488, 'haha': 1050, 'celebrating': 433, 'ironic': 1232, 'making': 1466, 'ilk': 1181, 'tco6vgduj7r2e': 2353, 'yeahhhhh': 3033, 'onlineshopping': 1696, 'unisex': 2816, 'winter': 2969, 'hat': 1073, 'skull': 2156, 'tcofbcvrtingm': 2413, 'tcovrnbsat1ji': 2587, 'although': 158, 'slade': 2159, 'villainy': 2870, 'deadpool': 598, 'slowest': 2165, 'delivery': 618, 'received': 1955, 'ordered': 1709, '2020': 29, 'shipped': 2117, '5': 60, 'tcoxgzmwmszsn': 2614, 'cum': 568, 'daddy': 578, 'ta': 2295, 'pee': 1760, 'frustrating': 922, 'part': 1747, 'spent': 2203, '350': 51, 'fancy': 826, 'hotel': 1145, 'halfway': 1056, 'between': 298, 'vaccin': 2839, 'tcox9i8oizvj8': 2610, 'hell': 1093, 'angry': 173, 'video': 2866, 'evidence': 789, 'gj': 975, 'zzh': 3056, 'wenzhou': 2931, 'cp': 543, 'rest': 2002, 'shl': 2123, 'cast': 426, 'married': 1481, 'tcozpfakuk4yp': 2646, 'welcome': 2927, 'home': 1124, 'sail': 2048, 'trip': 2760, 'ship': 2116, 'sometime': 2187, 'okta': 1685, '19': 19, 'cock': 489, 'torture': 2729, 'tcokrkpglzp1f': 2474, 'helep': 1092, 'thefalconandthewintersoldier': 2675, 'scene': 2067, 'unpack': 2819, 'walker': 2893, 'after': 124, 'putting': 1903, 'tcoloefdugcwl': 2486, 'ateez': 216, 'stanworld': 2220, '에이티즈': 3062, 'mewning': 1521, 'mewgulf': 1519, 'mewsuppasit': 1522, 'gulfkanawut': 1039, 'mewlions': 1520, 'raise': 1925, 'twitter': 2791, 'permanently': 1774, 'banned': 256, 'tcocrdppwzmnj': 2397, 'member': 1507, 'verizon': 2858, 'wireless': 2970, 'ensure': 765, 'plea': 1814, 'tcocrdtx3shdz': 2398, 'exclusive': 796, 'play': 1807, 'station': 2227, 'option': 1707, 'pc': 1756, 'running': 2042, 'filler': 862, 'ohhh': 1680, 'saw': 2061, 'jn': 1267, 'handsome': 1062, 'ignored': 1173, 'moved': 1580, 'everyone': 786, 'tcorpxsiegvt2': 2546, 'gon': 991, 'finish': 870, 'desi': 631, 'outside': 1719, 'requires': 1995, 'tcocgmuojfy7x': 2393, 'definitely': 611, 'personally': 1778, 'enjoy': 763, 'midnight': 1529, 'nascar': 1606, 'once': 1692, 'moon': 1569, 'tea': 2651, 'mug': 1589, 'idk': 1171, 'age': 127, 'ppl': 1842, 'lie': 1385, 'muh': 1590, 'tcostptok4zhm': 2562, 'special': 2202, 'bien': 304, 'hahaha': 1051, 'maybe': 1492, 'leo': 1379, 'tcorvjjqzw3ba': 2547, 'reply': 1990, 'carrd': 420, 'seem': 2089, 'pangolin': 1739, 'lose': 1432, 'weight': 2925, 'buying': 393, 'whole': 2948, 'wardrobe': 2900, 'lehengas': 1377, 'etc': 775, 'flexing': 885, 'tco6qp4tfleho': 2352, 'singing': 2149, 'bringing': 366, 'rachael': 1919, 'tcoq4zsl5kj0j': 2529, 'jacqueline': 1250, 'kennedy': 1309, 'picture': 1794, 'mourned': 1577, 'husband': 1163, 'president': 1851, 'tcolxtymm3yrb': 2489, 'rj': 2021, 'pic': 1792, 'tcoyt94z0ww5s': 2632, 'grew': 1026, 'watching': 2911, 'bug': 378, 'bunnyroadrunner': 386, 'hour': 1147, 'saturday': 2057, 'spinning': 2207, 'lp': 1445, 'turntable': 2780, 'leave': 1367, 'plz': 1822, 'dmthank': 666, 'truth': 2767, 'tco7oujcb7wdk': 2361, 'pol': 1826, 'pot': 1839, 'sdi': 2080, 'add': 104, 'bisexual': 315, 'protagonist': 1879, 'persona': 1776, 'game': 940, 'friend': 917, 'answer': 181, 'padre': 1730, 'blurry': 330, 'hole': 1119, 'wall': 2894, 'uptown': 2827, 'shopping': 2126, 'centre': 434, 'vehicle': 2853, 'crashed': 547, 'parking': 1746, 'garag': 943, 'tcoazq7ox2lsr': 2382, 'forgot': 898, 'cut': 572, '20th': 35, 'century': 435, 'balance': 249, '21st': 38, 'mental': 1510, 'nah': 1600, 'intense': 1218, 'jimin': 1265, 'color': 496, 'palette': 1737, 'immaculate': 1189, 'ahhh': 138, 'listen': 1397, 'movie': 1582, 'book': 341, 'scribbled': 2077, 'story': 2240, 'kakie': 1298, '2nd': 45, 'anniv': 175, '25': 43, 'lookinh': 1428, 'forward': 901, 'zoom': 3055, 'meeting': 1504, 'facility': 816, 'tkachuk': 2713, 'chabot': 437, 'norris': 1651, 'bath': 266, 'stützle': 2256, 'branny': 359, 'jbd': 1257, 'pinto': 1799, 'form': 899, 'abramov': 84, 'sokolov': 2182, 'tcociwhh5hszy': 2394, 'tcouzonamlchg': 2581, 'bit': 316, 'stronger': 2252, 'together': 2719, 'petty': 1784, 'remark': 1978, 'gen': 948, 'agree': 134, 'pack': 1727, 'texas': 2662, 'tcos73k2yookz': 2553, 'yeaaaah': 3030, 'yay': 3028, 'sending': 2094, 'invitation': 1227, 'graduation': 1017, 'penny': 1768, 'alone': 154, 'tcoz2zljaylk3': 2640, 'discord': 654, 'tco9nhmtxn6kx': 2370, 'gracias': 1016, 'magui': 1460, 'dnsbajdbkd': 668, 'waste': 2908, 'sperm': 2204, 'jesus': 1263, 'guess': 1036, 'finnish': 874, 'dude': 707, 'hyvä': 1164, 'juuse': 1295, 'pekka': 1763, 'leav': 1366, 'tcoa36rxtdpxq': 2373, '1st': 23, 'pfizer': 1786, 'monday': 1563, 'fearlesstaylorsversion': 843, 'playlist': 1811, 'tco46lptlt6nj': 2331, 'disrespect': 659, 'disc': 653, 'golf': 990, 'f': 812, 'ing': 1208, 'theyll': 2682, 'paper': 1741, 'tcoahhtgi26hf': 2377, 'exposing': 809, 'tco2801r7hewk': 2319, 'ridiculous': 2012, 'wish': 2972, 'endeavor': 756, 'luck': 1448, 'deserves': 630, 'fired': 876, 'hollering': 1121, 'tho': 2688, 'base': 262, 'percentage': 1770, 'pour': 1840, 'mercy': 1512, 'set': 2101, 'history': 1110, 'louies': 1438, '2022': 32, 'travel': 2751, 'docket': 669, 'stan': 2218, 'crystal': 565, 'prism': 1861, 'pink': 1798, 'quartz': 1910, 'tco4kxxsri1og': 2337, 'tcok7ghlel8xs': 2469, 'vaccinated': 2840, 'honky': 1130, 'crawl': 548, 'mile': 1533, 'desolate': 633, 'snake': 2175, '人': 3059, '_': 77, 'tcodgxzshukyq': 2406, 'zjoin': 3053, 'instagram': 1215, 'ikr': 1179, 'celebrate': 432, 'mari': 1475, 'karnan': 1302, 'credit': 553, 'ram': 1928, 'paranjith': 1743, 'tcoz38lafrzhz': 2641, 'prettyyy': 1857, 'said': 2047, 'i5': 1165, '8600k': 73, '2070': 33, 'super': 2269, 'latest': 1349, 'driver': 700, 'swi': 2290, 'tcok1ftywl98l': 2468, 'view': 2867, 'above': 83, 'foot': 893, 'bare': 258, 'each': 718, 'side': 2135, 'surely': 2279, 'realizes': 1950, 'give': 973, 'tcowvuwvpdkrv': 2601, 'pshh': 1889, 'gm': 979, 'dayyyy': 592, 'evil': 790, 'clearly': 477, 'big': 305, 'q': 1905, 'late': 1348, 'uv': 2836, 'changed': 443, 'old': 1686, 'maaafukka': 1455, 'cmon': 486, 'limited': 1394, 'room': 2034, 'bill': 310, 'tcocy0oop37uz': 2401, 'airbnb': 143, 'landlord': 1345, '10k': 6, 'vacation': 2838, 'actual': 101, 'housing': 1149, 'tgcw': 2664, 'conference': 514, 'bookstore': 343, 'weekend': 2923, 'relentless': 1973, 'tconoh1xbnkrh': 2505, 'lovehate': 1441, 'moderator': 1556, 'capacity': 411, 'rp': 2037, 'site': 2152, '11': 8, 'year': 3034, 'tcoqr0wcxrvwn': 2537, 'l5r': 1339, 'session': 2100, 'goofed': 997, 'real': 1947, 'gooooo': 1002, 'cant': 409, 'heal': 1081, 'comfortable': 499, 'enough': 764, 'probably': 1865, 'telling': 2657, 'trouble': 2762, 'eye': 811, 'contact': 522, 'sometimes': 2188, 'excited': 795, 'lowkey': 1444, 'sus': 2284, 'leaving': 1368, 'house': 1148, 'blanket': 324, 'pillow': 1797, 'goodbye': 995, 'question': 1913, 'tco4hrsagxl8p': 2335, 'next': 1631, 'california': 401, 'federal': 847, 'holiday': 1120, 'tco4cfhfrsppo': 2333, 'tcobyie76fhxo': 2386, 'oceanography': 1671, 'jol': 1278, 'effect': 735, 'random': 1930, 'phase': 1787, 'error': 774, 'baseline': 264, 'roll': 2032, 'angle': 172, 'eddy': 729, 'identification': 1170, 'interferome': 1221, 'tco6bzpnh2wmj': 2347, 'ariana': 202, 'tconkbb0ds11t': 2502, '20': 25, 'finna': 873, '3bed': 52, 'pray': 1845, 'tired': 2710, 'rasta': 1935, 'pasta': 1754, 'pairaskeets': 1735, 'wirh': 2971, 'clear': 476, 'first': 878, 'buildthewallaroundtexas': 380, 'few': 855, 'dumping': 710, 'ground': 1028, 'tcod01dcgnsv1': 2403, 'dark': 586, 'ive': 1242, 'bed': 279, 'umm': 2807, 'over': 1721, 'genshintwt': 955, '16': 16, 'lawl': 1353, 'tcoqg1bvznfs4': 2533, 'fred': 911, 'vanvleet': 2845, '54': 63, 'higher': 1107, 'career': 416, 'high': 1106, 'jayson': 1256, 'tatum': 2307, '53': 62, 'prettiest': 1855, 'judge': 1284, 'dusted': 712, 'tcohvawrlpdh0': 2436, 'sigh': 2138, 'bibby': 302, 'entered': 766, 'fde': 841, 'fn': 887, 'scar': 2066, '17': 17, 'rifle': 2013, 'trijicon': 2759, 'vcog': 2847, 'scope': 2072, 'guard': 1034, 'dog': 674, 'body': 335, 'armor': 203, 'package': 1728, 'tconkhvhxshbx': 2503, 'maxwell': 1490, 'crop': 558, 'district': 661, 'under': 2809, 'supervision': 2271, 'statical': 2226, 'officer': 1675, 'aww': 234, 'music': 1592, 'tv': 2783, 'likaa': 1390, 'tcowyjellybtz': 2604, 'insomia': 1214, 'buddy': 376, 'fast': 833, 'delete': 614, 'tl': 2714, 'everybody': 784, 'ab': 80, 'seeing': 2087, 'porn': 1832, 'rip': 2018, 'dump': 709, 'grab': 1014, 'sears': 2081, 'catalogue': 428, 'np': 1663, 'thug': 2701, 'memo': 1508, 'nonchalantradio': 1646, 'height': 1089, 'cutie': 574, 'apart': 190, 'designing': 632, 'printing': 1860, 'enclosure': 752, 'electronic': 740, 'load': 1415, 'competed': 508, 'ready': 1946, 'tcoq4wyxjdqar': 2528, 'conservative': 520, '75': 70, 'e': 717, 'tcoyi7leug0qb': 2623, 'em': 745, 'off': 1673, 'palta': 1738, 'dying': 714, 'inside': 1212, 'holding': 1118, 'tear': 2655, 'throwing': 2698, 'beer': 280, 'remind': 1980, 'drive': 699, 'crazy': 550, 'change': 442, 'tco8tlh5xuict': 2366, 'boric': 346, 'acid': 96, 'eradicate': 772, 'cockroach': 490, 'trust': 2766, 'whoa': 2947, 'hiring': 1109, 'tco6miq1ncyou': 2349, 'own': 1722, 'gun': 1040, 'nightstand': 1638, 'invasion': 1225, 'tcocgf30ky1fi': 2392, 'superstar': 2270, 'hhhhh': 1104, 't_______t': 2294, 'consider': 521, 'religious': 1975, 'far': 830, 'awa': 230, 'tcor6zbxirgy0': 2540, '13अपरल_नववरष': 11, 'scripture': 2078, 'flag': 883, 'pennant': 1766, 'fame': 821, 'victory': 2865, 'tcouuv9lsldkg': 2577, 'many': 1470, 'misery': 1541, 'suffering': 2262, 'kiss': 1320, 'bop': 345, 'pick': 1793, 'reigen': 1968, 'mob': 1552, 'psycho': 1890, 'tumblr': 2776, 'sexy': 2107, 'gentleman': 956, 'different': 645, 'red': 1960, 'bluff': 328, 'enterprise': 767, 'yard': 3026, 'line': 1395, '152': 14, 'timeout': 2709, 'hornet': 1137, 'rb': 1938, '28': 44, 'ehs': 737, '21': 36, 'norcalscores': 1649, 'vincenzo': 2872, 'tcoyukzoe6nmc': 2635, 'happens': 1067, 'xx': 3017, 'needed': 1619, 'oli': 1687, 'london': 1423, 'pronoun': 1876, 'korean': 1332, 'tcojf3wpjm7wm': 2460, 'mau': 1488, 'ga': 935, 'nder': 1615, 'tcoeo1nowvfg6': 2412, '2021': 30, 'spiral': 2208, 'catting': 430, 'goat': 985, 'tcoqmo1n4tayf': 2535, 'dynamite': 715, 'sung': 2268, 'deuk': 637, 'tcoyhjnaedx5x': 2622, 'played': 1808, 'meta': 1517, 'knight': 1325, 'brawl': 360, 'lmao': 1410, 'gained': 939, 'follower': 889, 'lost': 1435, 'stats': 2228, 'tcopuociyqkhm': 2526, 'treat': 2755, 'himher': 1108, 'heshe': 1101, 'liy': 1407, 'halfbaked': 1055, 'thought': 2691, 'damaging': 582, 'critical': 557, 'thi': 2683, 'tcoehmg1xx6lz': 2410, 'tyler': 2796, '48': 58, 'tcolhrtfbwxtq': 2483, '911': 76, 'operator': 1704, 'thrown': 2699, 'situation': 2153, 'key': 1311, 'tco5jn9jgq1hr': 2342, 'ml1': 1548, 'coming': 500, 'jfirc': 1264, 'jeongin': 1261, 'stans': 2219, 'fed': 846, 'selcas': 2091, 'f500': 814, 't3k': 2293, '20k': 34, 'yuk': 3048, 'tomorrow': 2722, 'g': 934, 'silence': 2142, 'pl': 1801, 'tcoggsczh12a7': 2425, 'sell': 2093, 'fight': 858, 'during': 711, '2011': 27, 'ncaa': 1614, 'tournament': 2733, 'mc1r': 1495, 'astros': 214, 'losing': 1433, 'pv': 1904, 'dmx': 667, 'kept': 1310, 'original': 1712, 'instead': 1216, 'garbage': 944, 'freckle': 910, 'wonderful': 2983, 'tco3pq5fwstq3': 2328, 'okayy': 1683, 'ill': 1182, 'header': 1079, 'gotchu': 1009, 'gf': 963, 'seriously': 2099, 'girly': 972, 'liking': 1393, 'fr': 906, 'confederate': 513, 'cooler': 529, 'damn': 583, 'racist': 1921, 'mario': 1476, 'voice': 2880, 'tco4zssoynpoh': 2340, 'whatttt': 2936, 'scrum': 2079, 'run': 2040, 'soft': 2180, 'agenda': 128, 'mmaxmax': 1549, 'natasitt': 1607, 'maxnat': 1489, 'ทมอรชชยมาเสะ': 3057, 'tco1mgdl3j56b': 2316, 'gl': 976, 'bestie': 293, 'upvote': 2828, 'attendee': 221, 'receiving': 1956, 'program': 1871, 'discount': 655, 'code': 491, 'uscownit2021': 2830, 'tcouvivnlnrgd': 2579, 'parent': 1744, 'spouse': 2213, 'tcoyphniw3dza': 2631, 'tco22gjwhre9a': 2318, 'daily': 579, 'board': 333, 'lt': 1446, 'tcop4hrsr8xki': 2519, 'zero': 3051, '100k': 4, 'passionate': 1751, 'cable': 398, 'management': 1469, 'ma': 1454, 'tcofuith2bpsy': 2419, 'anonymous': 179, 'tcowhhanhdhdy': 2591, 'bjp': 319, 'future': 932, 'development': 639, 'prosperous': 1878, 'bengal': 288, 'tcoin4diw6b1v': 2445, 'sat': 2056, 'took': 2727, 'toe': 2718, 'nail': 1602, 'numbing': 1665, 'medication': 1500, 'killer': 1316, 'might': 1530, 'tcovlac8trcp6': 2585, 'white': 2946, 'supremacist': 2276, 'plan': 1805, 'nationwide': 1609, 'rally': 1927, 'tconua87oagab': 2507, 'register': 1965, 'regulate': 1966, 'tco7w4x1ab97s': 2364, 'lawd': 1352, 'whyy': 2951, 'noowwww': 1647, 'goooo': 1001, 'staking': 2217, 'polkadot': 1827, 'kusama': 1335, 'return': 2005, 'yepp': 3036, 'fine': 869, 'point': 1825, 'bos': 347, 'encounter': 754, 'chapter': 445, 'player': 1809, 'tcolfcounppjn': 2482, 'kiervi': 1314, 'rock': 2029, 'writing': 3003, 'epilogue': 770, 'bbadv': 268, 'txlege': 2794, 'ban': 253, 'vaccine': 2841, 'passport': 1752, 'govt': 1011, 'private': 1863, 'tcod93ycdeqip': 2405, 'tank': 2305, 'gt': 1032, 'tcocfbkompiyf': 2391, 'eating': 725, 'wing': 2965, 'ha': 1048, 'wts': 3009, 'wtt': 3010, 'follow': 888, 'ver': 2856, 'booklet': 342, 'bottom': 351, 'tcozkkmzym5md': 2645, 'ass': 212, 'gain': 938, 'band': 254, 'wagon': 2888, 'past': 1753, 'tco6zitcu6x0j': 2356, 'legion': 1374, 'tcohjpj7hwpfx': 2434, 'izone': 1244, 'alive': 148, 'pt': 1891, 'aot': 189, 'trade': 2740, 'tcowjx1ysgath': 2592, 'uh': 2802, 'ai': 139, 'talkin': 2303, 'bag': 248, 'cover': 539, 'ear': 719, 'mere': 1513, 'sapno': 2053, 'ke': 1306, 'ladke': 1342, 'samthaan': 2051, 'tco7mdmzfroqp': 2359, 'examination': 792, 'week': 2922, 'plus': 1821, 'pas': 1750, 'recorded': 1959, 'rd': 1939, 'tcotvls0830sg': 2570, 'happening': 1066, 'two': 2792, 'afraid': 123, 'explain': 806, 'exponential': 807, 'propulsio': 1877, 'tco1nwqaxbfq3': 2317, 'known': 1328, 'adult': 116, 'diaper': 640, 'tcozizlu1gerz': 2644, 'besties': 294, 'booted': 344, '3d': 53, 'holy': 1122, 'crap': 546, 'felt': 851, 'ancient': 169, 'misplaced': 1542, 'copy': 531, 'tcopldbpf36wx': 2523, 'mind': 1538, 'absolute': 86, 'meltdown': 1506, 'helena': 1091, 'tcoyuscdo2y3r': 2636, 'tcox2fyelsse4': 2606, 'loved': 1440, 'response': 2000, 'couldn': 534, 'handled': 1061, 'imo': 1191, 'agonizing': 133, 'tcogbsefnompu': 2422, 'horny': 1138, 'cross': 559, 'realized': 1949, 'strangely': 2243, 'tcojuaoinqsis': 2463, 'tcozykkujzrpo': 2649, 'bnb': 332, '74bn': 69, 'marketcap': 1480, 'crossed': 560, 'billion': 311, 'mark': 1477, 'looking': 1427, 'tcoponn0bknbj': 2524, 'showed': 2131, 'trae': 2742, 'tcowmjnfchavn': 2594, 'calling': 403, 'yankee': 3024, 'albert': 146, 'pujols': 1893, 'nickname': 1635, 'unfair': 2813, 'compare': 506, 'machine': 1457, 'eh': 736, 'quitter': 1916, 'atlantis': 217, 'unveilers': 2820, 'eternal7y': 777, 'mexicannn': 1523, 'cashtag': 424, 'itzelsmoth': 1241, 'money': 1564, 'dress': 696, 'summer': 2266, 'learn': 1364, 'photoshop': 1791, 'paint': 1734, 'easy': 723, 'edits': 732, 'disastrous': 652, 'kdhshfhd': 1304, 'recommended': 1958, 'scratch': 2075, 'tcotx1ysbw4bs': 2571, 'tribune': 2758, 'public': 1892, 'road': 2025, 'blocked': 325, 'supreme': 2277, 'court': 538, 'tco7uiovrnsd2': 2363, 'grace': 1015, 'grow': 1030, 'develop': 638, 'version': 2859, 'everybod': 783, 'tcoxgybb48paf': 2613, 'ayun': 236, 'tcowp3owz6nwa': 2596, 'tcoh3xxxkpjkp': 2431, 'sushant': 2285, 'goal': 984, 'beyond': 299, 'reach': 1941, 'fellow': 850, 'user': 2833, '4am': 59, 'noise': 1645, 'flashing': 884, 'infront': 1207, 'twinjad': 2788, 'gif': 966, 'strangle': 2244, 'whomping': 2949, 'treadmill': 2752, 'legit': 1375, 'cryptos': 564, '50': 61, '7': 67, 'retarded': 2004, 'tco4kjh7cgjqx': 2336, '7x': 71, 'palestinian': 1736, 'area': 198, 'protester': 1882, 'arena': 199, 'mommy': 1561, 'milker': 1534, 'yas': 3027, 'tco6wommtgfog': 2354, 'anim': 174, 'tweeting': 2785, 'honestly': 1127, 'respected': 1998, 'anywhere': 188, 'jaebeom': 1251, 'gym': 1045, 'scream': 2076, 'ahagsgshqkwokl': 137, 'brook': 370, 'lopez': 1430, 'embarrassing': 747, 'robin': 2027, 'wdym': 2914, 'die': 643, 'youu': 3046, '33': 48, 'denali': 622, 'four': 904, 'scorpio': 2074, 'press': 1852, 'national': 1608, 'waiat': 2889, 'ayo': 235, 'kulaks': 1334, 'tcoapypu4bqr1': 2378, 'jschlatt': 1283, 'fanart': 825, 'tommorrow': 2720, 'tommy': 2721, 'ayyye': 237, 'tcophbd8ormta': 2522, 'smack': 2166, 'hl': 1114, 'promo': 1875, 'acct': 94, 'tcokwiygveoer': 2476, 'tcoqcxi8ff6xg': 2530, '18': 18, 'wear': 2916, 'size': 2154, 'kan': 1299, 'kans': 1300, 'huge': 1156, 'deal': 599, 'gordita': 1005, 'shipping': 2118, 'tcorzcy4wpgnh': 2550, 'tco3gxiccyidm': 2325, 'lmaoo': 1411, 'led': 1369, 'loneliness': 1424, 'tcoczwmpekocl': 2402, 'naive': 1603, 'schrier': 2070, 'dramatic': 691, 'tcox3l9tqgqfd': 2607, 'kprc': 1333, 'stupidest': 2255, 'report': 1991, '2200': 40, 'democrat': 621, 'representative': 1993, 'sexu': 2106, 'tcodpl6gswe8a': 2408, 'native': 1610, 'ad': 103, 'adversarial': 117, 'obvious': 1668, 'plug': 1820, 'digital': 647, 'hegelianism': 1088, 'def': 607, 'podcast': 1824, 'heyy': 1103, 'guitarist': 1037, 'molly': 1558, 'tuttle': 2782, 'martin': 1482, 'd18': 576, 'authentic': 227, '1939': 20, 'emporium': 751, 'tcotkppdewflm': 2568, 'sincerely': 2147, 'men': 1509, 'period': 1773, 'test': 2660, 'put': 1902, 'liberal': 1382, 'wor': 2987, 'tcojlrrujekby': 2461, 'bbbut': 269, 'relation': 1970, 'joking': 1277, 'behave': 282, 'koichisama': 1331, 'notification': 1658, 'socialist': 2179, 'bat': 265, 'sector': 2085, 'least': 1365, '22': 39, 'tf': 2663, 'anomaly': 178, 'privacy': 1862, 'sign': 2140, 'smart': 2169, 'sentimental': 2097, 'iris': 1230, 'weakness': 2915, 'warning': 2904, 'connecting': 519, 'smallstreamersconnect': 2168, 'lahnuhwin': 1344, 'tcowwuok9utd5': 2603, 'bfb': 300, 'bunch': 385, 'vcs': 2848, 'slid': 2164, 'bu': 375, 'tco6kdyrhdqoy': 2348, 'signed': 2141, 'dating': 587, 'apps': 195, 'andaming': 170, 'ilang': 1180, 'status': 2229, 'cody': 492, 'fry': 923, 'sob': 2177, 'taken': 2301, 'nohitter': 1643, 'art': 205, 'tco60kagecgfs': 2345, 'suh': 2263, 'lean': 1363, 'towards': 2735, 'dissolved': 660, 'monarch': 1562, 'tcotkfrriz8me': 2567, 'missing': 1545, 'little': 1401, '제니': 3064, 'jennie': 1259, 'tcotbcmi6jufx': 2565, 'map': 1472, 'appreciate': 192, 'surprised': 2281, 'monster': 1565, 'wml': 2977, 'tcoh8edvq6eju': 2432, 'lego': 1376, 'dc': 593, 'villain': 2869, 'tco7qakcc3wzf': 2362, 'window': 2964, 'open': 1702, 'covering': 541, 'dose': 685, 'info': 1206, 'stay': 2230, 'street': 2247, 'commitment': 502, 'jank': 1254, 'truly': 2765, 'admirable': 109, 'j': 1245, 'traumatized': 2750, 'ballroom': 252, 'dancing': 584, 'aliya': 149, 'advice': 119, 'doctor': 670, 'self': 2092, 'quarantine': 1908, 'pennsylvania': 1767, 'forced': 894, 'purge': 1897, '21000': 37, 'voter': 2884, 'election': 739, 'integrity': 1217, 'lawsuit': 1354, 'tcodwv4igzjch': 2409, 'amen': 162, 'reason': 1953, 'resentful': 1996, 'retweet': 2006, 'destroying': 635, 'confidenc': 515, 'tcoc7gmhvgk9i': 2389, 'tcory2bscmnb7': 2549, 'updating': 2823, 'nove': 1659, 'bruv': 373, 'berserker': 289, 'plain': 1804, 'plsss': 1818, 'judging': 1285, 'renault': 1985, 'clio': 480, 'volume': 2882, 'bonnet': 338, 'yona': 3040, 'tcoicoytjrzrc': 2443, 'harga': 1072, 'incl': 1200, 'packing': 1729, 'admin': 107, 'shopee': 2125, 'jaemin': 1252, 'departure': 623, 'tcofskfdguog4': 2418, 'tco5idvhxj6ua': 2341, 'weird': 2926, 'rn': 2024, 'ima': 1186, 'continue': 524, 'tcosdxm8azc8g': 2557, 'cal': 400, 'dragon': 690, 'asap': 207, 'tcosajwo0oodh': 2556, 'zont': 3054, 'hayyy': 1076, 'skill': 2155, 'senior': 2095, 'software': 2181, 'engineer': 760, 'israel': 1236, 'tcouwci2b00l2': 2580, 'wendy': 2929, 'promise': 1874, 'away': 231, 'cop': 530, 'tcoynkc8fmn5u': 2628, 'al': 145, 'fin': 865, 'hottie': 1146, 'tcolb2ccrggb1': 2481, 'tcosn6qvfrqad': 2560, 'veggie': 2852, 'tcon75qbumueq': 2499, 'opinion': 1705, 'prince': 1859, 'defi': 610, 'dot': 686, 'raze': 1937, 'gamechange': 941, 'massive': 1484, 'adoption': 111, 'tcoibfcod4vcm': 2442, 'hi': 1105, 'boo': 340, 'union': 2815, 'chemistry': 453, 'workin': 2990, 'tco9peq9lf0lv': 2371, 'petition': 1782, 'full': 928, 'length': 1378, 'feature': 845, 'film': 863, 'jackie': 1248, 'daytona': 590, 'tcov0whxotv5f': 2582, 'doesn': 672, 'bully': 382, 'youunlike': 3047, 'gmorning': 980, 'bbcakes': 270, 'timeee': 2708, 'unlame': 2818, 'wasn': 2907, 'sampling': 2050, 'buttttt': 391, 'plagirizing': 1803, 'aint': 141, 'tco61je6pkioa': 2346, 'thankyouu': 2672, 'starting': 2224, 'freewifi': 914, 'nfl': 1632, 'allowed': 151, 'fourth': 905, 'tcoh1wctqw5xr': 2430, 'tcos9iaodyrua': 2555, 'happened': 1064, 'winning': 2968, '4744': 57, 'checked': 451, 'da': 577, 'went': 2930, 'school': 2069, 'turned': 2779, 'teammate': 2654, 'tcosmxmvgefjv': 2559, 'nfts': 1633, 'address': 106, 'appreciated': 193, 'airdrop': 144, 'tha': 2666, 'tcom1ac8koqig': 2490, 'surprise': 2280, 'create': 551, 'h': 1046, 'tconjraby2n7p': 2501, 'umbro': 2806, 'tcoocb3wxoapn': 2510, 'cup': 569, 'tcoeitnzjtadd': 2411, 'asf': 208, 'tcopsttwl87aq': 2525, 'toxic': 2737, 'dysfunctional': 716, 'abusive': 89, 'relationship': 1971, 'healthy': 1082, 'hello': 1094, 'meet': 1503, 'anxiety': 183, 'depression': 625, 'become': 278, 'stop': 2239, 'ultimately': 2804, 'tco5kgsmwo2lk': 2343, 'carraway': 419, 'hospital': 1142, 'hoping': 1135, 'ghost': 964, 'sided': 2136, 'reading': 1945, 'getvwork': 962, 'anyways': 187, 'tcod8yjyxtey2': 2404, 'biopic': 312, 'biggie': 307, 'discovered': 656, 'meek': 1502, 'mill': 1535, 'steam': 2232, 'webcam': 2919, 'ambphibia': 161, 'wedding': 2921, 'party': 1749, 'lit': 1399, 'type': 2798, 'fucked': 926, 'since': 2146, 'movement': 1581, 'yankin': 3025, 'township': 2736, 'whatshappeninglnmyanmar': 2935, 'tcovovk0r5evb': 2586, 'wanted': 2898, 'doesnt': 673, 'vbuck': 2846, 'tco93g3uhj1v3': 2368, 'unite': 2817, 'bolt': 336, 'sweep': 2287, 'mp': 1584, 'outscoring': 1718, '221': 41, 'series': 2098, 'tco7dg1mbm1fa': 2358, 'bullying': 383, 'shoot': 2124, 'tcokbslw3cx7r': 2470, 'title': 2712, 'defence': 608, 'petr': 1783, 'winner': 2967, 'dillashaw': 649, 'sandhagen': 2052, 'interim': 1222, 'belt': 287, 'atleast': 218, 'tcos1gl2akoqm': 2551, 'awful': 233, 'blunt': 329, 'tcoosoxijiqgc': 2516, 'barb': 257, 'vista': 2876, 'mar': 1473, 'delightful': 616, 'improv': 1194, 'fever': 854, 'tcoxe5fxden9p': 2611, 'george': 957, 'traded': 2741, 'cj': 472, 'chance': 441, 'tcoqwt7r1rh8n': 2539, 'david': 588, 'hitter': 1113, 'wildly': 2960, 'hungover': 1160, 'netflix': 1625, 'exceptional': 794, 'job': 1269, 'f1': 813, 'survive': 2283, 'hearing': 1084, 'given': 974, 'green': 1025, 'grease': 1022, 'pencil': 1764, 'trained': 2744, 'wink': 2966, 'wonk': 2984, 'tcoabutqqcpjb': 2375, 'context': 523, 'butt': 390, 'okies': 1684, 'irregular': 1233, 'hooked': 1131, 'tco2utfhtsle6': 2322, 'tcoljic7jxqxv': 2484, 'google': 999, '89fm': 74, 'recognized': 1957, 'college': 495, 'radio': 1922, 'msutoday': 1587, 'tcozq7ye101s8': 2647, 'whiskey': 2945, 'strong': 2251, 'stuff': 2253, 'tcol1vzlm2vjn': 2479, 'deciding': 602, 'whether': 2943, 'upload': 2826, 'necro': 1617, 'fic': 857, 'tcoj6ujc42snf': 2456, 'pleased': 1816, 'liked': 1392, 'portable': 1833, 'charger': 446, 'juice': 1286, 'hopefully': 1133, 'power': 1841, 'cmere': 485, 'tcoivoqlgj5qp': 2450, 'isnt': 1235, 'website': 2920, 'adorable': 112, 'washington': 2906, 'state': 2225, 'general': 949, 'seattle': 2083, 'existed': 798, 'knew': 1324, 'twilight': 2787, 'filmed': 864, 'tco0cyeaqbpop': 2311, 'icon': 1167, 'takane': 2298, 'expect': 802, 'takane6': 2299, 'dilf': 648, 'tcoszxy9vv7jz': 2563, 'girlflux': 970, 'campus': 407, 'taking': 2302, 'class': 474, 'tcoc0gqpvh9fk': 2388, 'monty': 1567, 'hall': 1057, 'tcoxgu6yw9upt': 2612, 'loon': 1429, 'tcocuheavetrm': 2400, 'argued': 200, 'barnes': 261, 'river': 2020, 'activate': 100, 'setting': 2102, 'kdramas': 1305, 'watched': 2910, 'fkng': 882, 'fav': 836, 'mitski': 1547, 'spring': 2214, 'pierce': 1795, 'veil': 2854, 'tcoool6ed9l5b': 2514, 'clip': 481, 'hendery': 1097, 'hitchhiker': 1112, 'lucas': 1447, 'ina': 1196, 'avail': 228, 'tcom94sefhdtg': 2492, 'shirt': 2119, 'wearing': 2917, '30': 47, 'ago': 132, 'mdk': 1496, 'h8club': 1047, 'gcw': 947, 'thecollective': 2674, 'rspringbreak': 2038, 'sarge': 2054, 'wake': 2891, 'moron': 1574, 'livefamily': 1403, 'community': 504, 'cold': 494, 'war': 2899, 'custom': 570, 'brake': 357, 'enj': 762, 'tcob4btyjkvrb': 2383, 'fluffy': 886, 'tail': 2297, 'goodnight': 996, 'fall': 820, 'asleep': 211, 'promax': 1873, 'spm': 2211, 'freedom': 913, 'driving': 701, 'tcosniyn2xvj6': 2561, 'dcc': 594, 'indacha': 1202, 'ewetru': 791, 'ressies': 2001, '46': 56, '34': 49, 'goxavs': 1012, 'cook': 527, 'yusuke': 3049, 'cassava': 425, 'science': 2071, 'inc': 1197, 'sava': 2060, 'insider': 1213, 'profile': 1870, 'clinical': 479, 'stage': 2215, 'tco47lqt6su9q': 2332, 'init': 1209, 'waduhh': 2887, 'tcon5bsjvc9kn': 2498, 'gettin': 960, 'strict': 2249, 'chinese': 463, 'regulating': 1967, 'company': 505, 'tcoje1rmzr0an': 2459, 'illey': 1184, 'earpers': 720, 'bringwynonnahome': 367, 'tcojaptcgjann': 2458, 'tco4vxaizbzj5': 2339, '1969': 21, 'tester': 2661, 'solution': 2183, 'tconklsa7cnci': 2504, 'granny': 1021, 'guarantee': 1033, 'slave': 2161, 'though': 2690, 'diff': 644, 'typa': 2797, 'vibe': 2862, 'tco95vv091gb5': 2369, 'tbh': 2309, 'religion': 1974, 'front': 921, 'tco3hjduyjqek': 2326, 'jung': 1289, 'hoseok': 1141, 'sun': 2267, 'treasure': 2753, 'mv': 1596, 'tcohkez6glrcx': 2435, 'ผาน': 3058, 'shes': 2114, 'oof': 1700, 'tcogxtrvxiyfn': 2428, 'musgrove': 1591, 'threw': 2696, 'hm': 1115, 'busy': 389, 'widener': 2954, 'pitch': 1800, 'accident': 91, 'peed': 1761, 'carpet': 418, 'reizinho': 1969, 'justice': 1293, 'lee': 1370, 'bitch': 317, 'thsi': 2700, 'edible': 730, 'tco2kvx1sz8vu': 2320, 'bid': 303, 'té': 2799, 'mute': 1595, 'tcoxtdy4beity': 2617, 'yea': 3029, 'tcorvmn14jpfb': 2548, 'fighting': 859, 'protect': 1880, 'civil': 471, 'liberty': 1384, 'tcoja8pkbmoiy': 2457, 'seek': 2088, 'trans': 2748, 'evergreen': 781, 'michael': 1528, 'jackson': 1249, 'liberian': 1383, 'girl': 969, 'clean': 475, 'edit': 731, 'mentally': 1511, 'morality': 1570, 'church': 469, 'tcokcyrhvtv8k': 2471, 'hr': 1153, 'write': 3002, 'value': 2844, 'xion': 3015, 'brand': 358, 'reputation': 1994, 'challenge': 439, 'oneus': 1694, 'click': 478, 'tcogoqm4rovgc': 2426, 'tco6nlfz4pkzn': 2350, 'park': 1745, 'oooh': 1701, 'tcoaartuwapeu': 2374, 'chris': 467, 'missionary': 1546, 'defending': 609, 'jack': 1246, 'try': 2768, 'tcojnckfhy5nf': 2462, 'tcoqqnlee8yor': 2536, 'tcowamce4biil': 2590, 'understood': 2811, 'saskatchewan': 2055, 'germany': 958, 'somewhere': 2189, 'tco7adhyrvvrv': 2357, 'tcoray8mp1esx': 2543, 'increasing': 1201, 'snail': 2174, 'pace': 1726, 'reminds': 1983, 'knock': 1326, 'voting': 2885, 'westbrook': 2932, 'slam': 2160, 'ultramoment': 2805, 'wizardsmoment': 2975, 'contribute': 525, 'campaign': 406, 'myitkyina': 1597, 'kachin': 1297, 'tcotlodfcmfrm': 2569, 'hometown': 1126, 'envy': 769, 'tcoivw0dg0vx3': 2451, 'chilling': 461, 'hbu': 1077, 'logan': 1418, 'noticed': 1657, 'tcotfxo0unvbs': 2566, 'grandma': 1020, 'finally': 867, 'finished': 871, 'grey': 1027, 'anatomy': 168, 'grammar': 1019, 'audacity': 223, 'spice': 2205, 'speak': 2201, 'tcoperxpaledk': 2521, 'goofy': 998, 'plsssss': 1819, 'safe': 2046, 'writingcommnunity': 3004, 'ultimat': 2803, 'tcoytne1fwtjo': 2633, 'washboard': 2905, 'chest': 457, 'widely': 2953, 'reported': 1992, 'th': 2665, 'tcowup8hpi6yp': 2600, 'mate': 1486, 'loling': 1422, 'declining': 603, 'showing': 2132, 'rio': 2016, 'achievement': 95, 'upgrade': 2824, 'bathurst': 267, 'canteen': 410, 'tco1gobfu4e7r': 2315, 'sum': 2265, 'ten': 2658, 'turbo': 2778, 'barely': 259, 'enuh': 768, 'tcovtsn9kjt0j': 2588, 'goooooo': 1003, 'nope': 1648, 'oppa': 1706, 'closer': 483, 'horrible': 1139, 'bureaucrat': 387, 'pretend': 1853, 'medical': 1498, 'expert': 805, 'whereas': 2941, 'ac': 90, 'tco8nhvxlng1d': 2365, 'smh': 2170, 'brother': 371, 'blade': 322, 'clash': 473, 'eerie': 734, 'breath': 363, 'drowns': 703, 'lightsabers': 1389, 'tcohwios5sqcm': 2437, 'downloaded': 689, 'vlive': 2879, 'mew': 1518, '555': 64, 'mssvlive1blikes': 1586, 'playoff': 1812, 'tcou5r8z0fveu': 2573, 'afford': 122, 'pay': 1755, 'tcobzbuzposmi': 2387, 'depressed': 624, 'elongated': 743, 'splattering': 2210, 'everywhere': 788, 'luma': 1451, 'drip': 698, 'wiki': 2956, 'link': 1396, 'robot': 2028, 'review': 2008, 'bonus': 339, 'wikilinkrobot': 2957, 'cloud': 484, 'based': 263, 'backlinks': 244, 'app': 191, 'tcozimwomeut1': 2643, 'tcosic83gkfgk': 2558, 'wooah': 2986, 'creativehallo': 552, '우아': 3063, 'craxy우아': 549, 'tcoi0rvtdutgu': 2439, 'ghsi': 965, 'ceo': 436, 'justify': 1294, 'pending': 1765, 'acquisition': 97, 'negotiation': 1622, 'pr': 1844, 'tcomv3xmuju9a': 2495, 'aln': 153, 'tco343eldsqhu': 2323, 'sexting': 2105, 'niteflirt': 1639, 'tconwsihxv4kf': 2508, 'america': 163, 'liverty': 1404, 'pursuit': 1899, 'tcokxfivjvwif': 2477, 'shitttttttttttt': 2121, 'emasculation': 746, 'deez': 606, 'nut': 1666, 'macdonalds': 1456, 'vivaldi': 2878, 'join': 1274, 'ginger': 968, 'chit': 464, 'chat': 448, 'brain': 356, 'damaged': 581, 'excuse': 797, 'thou': 2689, 'tcoyxjefhstvj': 2638, 'car': 413, 'tcovcvnpkbpjd': 2583, 'reminding': 1982, 'joke': 1276, 'virgin': 2874, 'hopi': 1134, 'te': 2650, 'amo': 165, 'eless': 741, 'tcooikpt7r25r': 2512, '9': 75, '1010': 5, 'pm': 1823, 'runforrestrun': 2041, 'sky': 2157, 'horse': 1140, 'mask': 1483, 'bout': 352, 'gaetz': 937, 'pez': 1785, 'dispenser': 658, 'valtrex': 2843, 'tcohxxriu3gm8': 2438, 'kuteee': 1336, 'naw': 1612, 'tco5ui4gzgy05': 2344, 'bigger': 306, 'door': 683, 'thread': 2694, 'mayo': 1493, 'therapy': 2678, 'racism': 1920, 'tribalism': 2757, 'tcooz7zgphele': 2518, '600': 66, 'bbucks': 271, 'josh': 1280, 'tcoosafdk11yx': 2515, 'theresa': 2680, 'tumbasno': 2775, 'yank': 3023, 'bigot': 308, 'ikea': 1177, 'attractive': 222, 'expose': 808, 'pploy': 1843, 'ice': 1166, 'individually': 1204, 'met': 1516, 'ring': 2015, 'pete': 1781, 'fault': 835, 'tcozibdb0byfg': 2642, 'outsider': 1720, 'tcoy2vw3vffah': 2620, 'heartofglass': 1086, 'covered': 540, 'bestcoversong': 291, 'vil': 2868, 'schoenheit': 2068, 'vilschoenheit': 2871, 'twistedwonderland': 2789, 'rookhunt': 2033, 'oc': 1669, 'firework': 877, 'drawdigital': 693, 'tcob52gboesqo': 2384, 'delirium': 617, 'incentive': 1198, 'pa': 1725, 'tcoytzfby3fn7': 2634, 'finite': 872, 'resource': 1997, 'sight': 2139, 'pro': 1864, 'tcowsgbskhda7': 2598, 'pusing': 1900, 'tco8zuepdihrk': 2367, 'marco': 1474, 'bacon': 245, 'avocado': 229, 'hamburger': 1058, 'tco9uioesdckv': 2372, 'encore': 753, 'capital': 412, 'ecpg': 727, 'below': 286, '15x': 15, 'growth': 1031, 'ended': 757, 'tcogd0i2eubpb': 2423, 'retweeted': 2007, 'congratulation': 518, 'gucci': 1035, 'c': 396, 'dom': 677, 'bhutto': 301, 'tou': 2732, 'zinda': 3052, 'hai': 1054, 'simply': 2144, 'sindh': 2148, 'kidnapped': 1313, 'pe': 1757, 'tcoke5ozzrwkk': 2472, 'thus': 2702, 'dedication': 604, 'idol': 1172, 'deity': 612, 'present': 1850, 'existent': 799, 'rent': 1986, 'remote': 1984, 'atr': 219, 'kashtam': 1303, 'trailer': 2743, 'rakunda': 1926, 'cheptam': 454, 'genre': 953, 'yaas': 3021, 'fawkin': 840, 'reality': 1948, 'balik': 250, 'duty': 713, 'naman': 1604, 'dos': 684, 'oxford': 1724, 'comma': 501, 'tcondakrmtcsw': 2500, 'break': 361, 'locked': 1417, 'substandard': 2258, 'anthony': 182, 'edward': 733, 'newyorkforever': 1630, 'delicious': 615, 'woa': 2979, 'weighing': 2924, 'stress': 2248, 'neighbor': 1623, 'pregnant': 1848, 'jogo': 1271, 'favorito': 839, 'settling': 2104, 'worried': 2995, 'wheel': 2937, 'tco42w8jbvrm1': 2330, 'polo': 1828, 'harder': 1071, 'og': 1677, 'od': 1672, 'phd': 1788, 'embittered': 748, 'divorcee': 662, 'tcoi7nvkutxwb': 2441, 'chad': 438, 'android': 171, 'omega': 1689, 'iphone': 1229, 'ranger': 1931, 'tcolplvekb00b': 2487, 'klaus': 1322, 'frisbee': 919, 'sideways': 2137, 'dirty': 651, 'newfoundland': 1628, 'labrador': 1340, 'inoculated': 1210, 'adverse': 118, 'tru': 2763, 'tcoiyfhy2qukc': 2453, 'tcorp0e500sqa': 2545, 'suppressing': 2275, 'demar': 619, 'spaceship': 2199, 'marked': 1478, 'wizones': 2976, 'breed': 364, 'friday': 916, 'wimme': 2962, 'bike': 309, 'tcoae85ejbf4q': 2376, 'homer': 1125, 'shiny': 2115, 'fur': 931, 'tconpkofibgpd': 2506, 'smol': 2173, 'aura': 225, 'iii': 1176, 'repeat': 1989, 'tco3j2ahbgkgh': 2327, 'quick': 1914, 'vees': 2850, 'score': 2073, 'thx': 2703, 'trevor': 2756, 'performance': 1772, 'tbz': 2310, 'buff': 377, 'quackitys': 1907, 'cheat': 449, 'panii': 1740, 'beast': 273, 'sticker': 2236, 'expensive': 803, 'headphone': 1080, 'hundred': 1159, 'thousand': 2693, 'dollar': 676, 'communi': 503, 'tcob8tnf4jzko': 2385, 'implicate': 1193, 'lord': 1431, 'former': 900, 'tcoykofaamlgt': 2626, 'mb': 1494, 'rosie': 2035, 'donnie': 680, 'sweetie': 2289, 'tycoon': 2795, 'social': 2178, 'medium': 1501, 'pretending': 1854, 'nerd': 1624, 'tcoywdocw4yoh': 2637, 'anokhi': 177, 'aap': 79, 'ko': 1330, 'der': 626, 'nai': 1601, 'ho': 1116, 'rahi': 1923, 'shaurya': 2110, 'aaa': 78, 'chalo': 440, 'behaving': 283, 'wife': 2955, 'admiri': 110, 'tcoocvnjtrmfd': 2511, 'tco6ynqai1aul': 2355, 'agust': 135, 'industry': 1205, '24': 42, 'tcohayu82nzog': 2433, 'thief': 2684, 'tco3bkc1817gy': 2324, 'administration': 108, 'china': 462, 'tcojxjyua8czt': 2465, 'cady': 399, 'heron': 1100, 'tcomxblyv773r': 2496, 'tcoknfojcrkdo': 2473, 'lwts': 1452, 'gooooooooo': 1004, 'girlfriend': 971, 'moving': 1583, 'x2': 3013, 'fey': 856, 'submitted': 2257, 'unfollowed': 2814, 'tracked': 2738, 'tcouv86lbupc6': 2578, 'possessed': 1837, 'face': 815, 'ah': 136, 'caray': 414, 'global': 978, 'warming': 2902, 'earthdemic': 721, 'doin': 675, 'league': 1361, 'visit': 2875, 'tcomljxwk6oys': 2494, 'lolgoods': 1421, 'leagueoflegends': 1362, 'mmo': 1550, 'mmorpg': 1551, 'tcocn2nwfgegm': 2396, 'except': 793, 'nearing': 1616, 'medicare': 1499, 'eligible': 742, 'frat': 908, 'oregairu': 1710, 'fkn': 881, 'gate': 946, 'investigation': 1226, 'fixed': 880, 'hahahaha': 1052, 'ohh': 1679, 'culture': 567, 'gunda': 1041, 'gangster': 942, 'dangabaaz': 585, 'rioteer': 2017, 'hom': 1123, 'tcoc87miiibaf': 2390, 'regard': 1963, 'beautifully': 277, 'golden': 989, 'generation': 950, 'fought': 902, 'fascis': 832, 'tcoxxar0sgzjh': 2619, 'totally': 2731, 'course': 537, 'mainstream': 1462, 'news': 1629, 'destruction': 636, 'brilliant': 365, 'tcopxkul25jep': 2527, 'onwt': 1698, 'sensing': 2096, 'theme': 2676, 'tryna': 2770, 'babe': 240, 'came': 405, 'energy': 759, 'twohour': 2793, 'phone': 1790, 'miatp': 1527, 'territory': 2659, 'lo': 1414, 'tcoyj8d0qbcj6': 2625, 'gabby': 936, 'tcoavx0ffx0jg': 2381, 'ed': 728, 'greatest': 1024, 'pure': 1896, 'genius': 951, 'leg': 1372, 'shaving': 2111, 'routine': 2036, 'tcook1hi2irni': 2513, 'jus': 1291, 'sweater': 2286, 'fse': 924, 'tcoiiz7lkd92d': 2444, 'hurting': 1162}\n"
          ],
          "name": "stdout"
        }
      ]
    },
    {
      "cell_type": "code",
      "metadata": {
        "id": "CFoIe0avcpVt"
      },
      "source": [
        "#### TF-IDF Vectorize ####\n",
        "\n",
        "# Note that smoothing is done by default\n",
        "tfidf = TfidfTransformer()\n",
        "\n",
        "tfs = tfidf.fit_transform(counts)\n",
        "\n",
        "# Let's use the TFIDF counts for modelling\n",
        "X = tfs.toarray()\n",
        "\n",
        "# Split the data into training and test sets\n",
        "X_train, X_test, y_train, y_test = train_test_split(X, y, test_size = 0.2, random_state = 42)\n",
        "\n",
        "# First three rows of training features and labels"
      ],
      "execution_count": null,
      "outputs": []
    },
    {
      "cell_type": "code",
      "metadata": {
        "id": "pduyxC3-dBxz",
        "colab": {
          "base_uri": "https://localhost:8080/",
          "height": 535
        },
        "outputId": "7cddf502-87e3-49fb-f266-b07c1011aa93"
      },
      "source": [
        "from sklearn.naive_bayes import MultinomialNB\n",
        "from sklearn.metrics import accuracy_score, roc_curve\n",
        "import matplotlib.pyplot as plt\n",
        "from sklearn.metrics import confusion_matrix\n",
        "from sklearn.metrics import classification_report\n",
        "import matplotlib.pyplot as plt\n",
        "%matplotlib inline\n",
        "\n",
        "# Let's fit the Naive Bayes model to our training data\n",
        "nb = MultinomialNB()\n",
        "# Fit model to training data\n",
        "nb.fit(X_train, y_train)\n",
        "# Predict on test data\n",
        "y_preds = nb.predict(X_test)\n",
        "\n",
        "print('Test accuracy with simple Naive Bayes:',accuracy_score(y_test,y_preds))\n",
        "\n",
        "# fpr, tpr, thresholds = roc_curve(y_test, y_preds, pos_label = 1)\n",
        "\n",
        "# plt.plot(fpr,tpr)\n",
        "# plt.xlabel('False Positive Rate')\n",
        "# plt.ylabel('True Positive Rate')\n",
        "# plt.title('Receiver Operator Characteristic (ROC) Curve for RF')\n",
        "# plt.show()\n",
        "\n",
        "labels = [0,1,2]\n",
        "print(classification_report(y_test, y_preds, labels)) #classification report from sklearn\n",
        "cnf_matrix = confusion_matrix(y_test, y_preds, labels=labels)\n",
        "plt.imshow(cnf_matrix, cmap=plt.cm.Blues) #plot confusion matrix grid\n",
        "threshold = cnf_matrix.max() / 2 #threshold to define text color\n",
        "for i in range(cnf_matrix.shape[0]): #print text in grid\n",
        "    for j in range(cnf_matrix.shape[1]): \n",
        "        plt.text(j, i, cnf_matrix[i,j], color=\"w\" if cnf_matrix[i,j] > threshold else 'black')\n",
        "tick_marks = np.arange(len(labels)) #define labeling spacing based on number of classes\n",
        "plt.xticks(tick_marks, labels, rotation=45)\n",
        "plt.yticks(tick_marks, labels)\n",
        "plt.ylabel('True label')\n",
        "plt.xlabel('Predicted label')\n",
        "plt.colorbar()\n",
        "plt.tight_layout()"
      ],
      "execution_count": null,
      "outputs": [
        {
          "output_type": "stream",
          "text": [
            "Test accuracy with simple Naive Bayes: 0.69\n",
            "              precision    recall  f1-score   support\n",
            "\n",
            "           0       0.00      0.00      0.00        60\n",
            "           1       0.69      1.00      0.82       138\n",
            "           2       0.00      0.00      0.00         2\n",
            "\n",
            "    accuracy                           0.69       200\n",
            "   macro avg       0.23      0.33      0.27       200\n",
            "weighted avg       0.48      0.69      0.56       200\n",
            "\n"
          ],
          "name": "stdout"
        },
        {
          "output_type": "stream",
          "text": [
            "/usr/local/lib/python3.7/dist-packages/sklearn/metrics/_classification.py:1272: UndefinedMetricWarning: Precision and F-score are ill-defined and being set to 0.0 in labels with no predicted samples. Use `zero_division` parameter to control this behavior.\n",
            "  _warn_prf(average, modifier, msg_start, len(result))\n"
          ],
          "name": "stderr"
        },
        {
          "output_type": "display_data",
          "data": {
            "image/png": "[encoded data removed]",
            "text/plain": [
              "<Figure size 432x288 with 2 Axes>"
            ]
          },
          "metadata": {
            "tags": [],
            "needs_background": "light"
          }
        }
      ]
    },
    {
      "cell_type": "code",
      "metadata": {
        "id": "ZZr7Jk_p1IIv",
        "colab": {
          "base_uri": "https://localhost:8080/"
        },
        "outputId": "1c5bda44-0248-45e5-c1f4-29809c4becd6"
      },
      "source": [
        "from sklearn.ensemble import RandomForestClassifier\n",
        "\n",
        "# Instantiate the model object\n",
        "rfclf = RandomForestClassifier(n_estimators = 50, max_depth = 6, random_state = 10, max_features='log2')\n",
        "\n",
        "# Fit the model to the data\n",
        "rfclf.fit(X_train, y_train)\n",
        "\n",
        "# Get fitted values from test set\n",
        "y_test_preds_rf = rfclf.predict(X_test)\n",
        "\n",
        "test_acc = accuracy_score(y_test, y_test_preds_rf)\n",
        "\n",
        "print('Test Accuracy: ',test_acc)"
      ],
      "execution_count": null,
      "outputs": [
        {
          "output_type": "stream",
          "text": [
            "Test Accuracy:  0.69\n"
          ],
          "name": "stdout"
        }
      ]
    },
    {
      "cell_type": "markdown",
      "metadata": {
        "id": "-PvbvlnVIuIz"
      },
      "source": [
        "**export to csv**"
      ]
    },
    {
      "cell_type": "code",
      "metadata": {
        "id": "ZfwkP7-jINUh"
      },
      "source": [
        "df.to_csv(r'C:\\Users\\HP\\Documents\\output.csv', index=False)"
      ],
      "execution_count": 123,
      "outputs": []
    }
  ]
}