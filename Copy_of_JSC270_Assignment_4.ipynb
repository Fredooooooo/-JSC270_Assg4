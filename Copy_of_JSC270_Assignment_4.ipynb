{
  "nbformat": 4,
  "nbformat_minor": 0,
  "metadata": {
    "colab": {
      "name": "Copy of JSC270 Assignment 4.ipynb",
      "provenance": [],
      "collapsed_sections": [],
      "include_colab_link": true
    },
    "kernelspec": {
      "display_name": "Python 3",
      "name": "python3"
    },
    "language_info": {
      "name": "python"
    }
  },
  "cells": [
    {
      "cell_type": "markdown",
      "metadata": {
        "id": "view-in-github",
        "colab_type": "text"
      },
      "source": [
        "<a href=\"https://colab.research.google.com/github/Fredooooooo/JSC270_Assg4/blob/main/Copy_of_JSC270_Assignment_4.ipynb\" target=\"_parent\"><img src=\"https://colab.research.google.com/assets/colab-badge.svg\" alt=\"Open In Colab\"/></a>"
      ]
    },
    {
      "cell_type": "code",
      "metadata": {
        "id": "x3UrS-0qOUvw"
      },
      "source": [
        "api_key = 'RnHS3Y3lkrv9pzkHVFcVYVArH'\n",
        "api_secret_key = 'xLMxTxhEHluPlcsPgb2rur07hBR4qSuzGdIVhJg0hpEiR1nTBm'\n",
        "access_key = '1376070608950267904-AlJkcNLLxsAByp9NmFU854synmuzq5'\n",
        "access_secret = 'dtH18I0v8Ob44BAUXhrJB9TNvnFfQykBafXY4fl4JtdJB'"
      ],
      "execution_count": 116,
      "outputs": []
    },
    {
      "cell_type": "code",
      "metadata": {
        "id": "F72g4PAcF15A"
      },
      "source": [
        "import re\n",
        "import numpy as np\n",
        "import pandas as pd \n",
        "import io\n",
        "import nltk\n",
        "from nltk.corpus import stopwords\n",
        "from nltk.stem.porter import *\n",
        "from nltk.stem.snowball import SnowballStemmer\n",
        "from nltk.stem import WordNetLemmatizer\n",
        "from sklearn.feature_extraction.text import CountVectorizer\n",
        "from sklearn.feature_extraction.text import TfidfTransformer\n",
        "from sklearn.model_selection import train_test_split\n",
        "from sklearn.naive_bayes import MultinomialNB\n",
        "from sklearn.metrics import accuracy_score, roc_curve\n",
        "import matplotlib.pyplot as plt"
      ],
      "execution_count": 1,
      "outputs": []
    },
    {
      "cell_type": "markdown",
      "metadata": {
        "id": "6O4V-EemKBJl"
      },
      "source": [
        "## Section 1"
      ]
    },
    {
      "cell_type": "markdown",
      "metadata": {
        "id": "GA3vLziMKFC2"
      },
      "source": [
        "**Load datasets**"
      ]
    },
    {
      "cell_type": "code",
      "metadata": {
        "colab": {
          "resources": {
            "http://localhost:8080/nbextensions/google.colab/files.js": {
              "data": "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",
              "ok": true,
              "headers": [
                [
                  "content-type",
                  "application/javascript"
                ]
              ],
              "status": 200,
              "status_text": ""
            }
          },
          "base_uri": "https://localhost:8080/",
          "height": 75
        },
        "id": "7J10898QKD8O",
        "outputId": "eaacbd05-f532-40da-8003-458f598c5ba1"
      },
      "source": [
        "from google.colab import files\n",
        "data_to_load = files.upload()"
      ],
      "execution_count": 2,
      "outputs": [
        {
          "output_type": "display_data",
          "data": {
            "text/html": [
              "\n",
              "     <input type=\"file\" id=\"files-6e9d4c97-335f-43fb-8d00-1d9d55f2437f\" name=\"files[]\" multiple disabled\n",
              "        style=\"border:none\" />\n",
              "     <output id=\"result-6e9d4c97-335f-43fb-8d00-1d9d55f2437f\">\n",
              "      Upload widget is only available when the cell has been executed in the\n",
              "      current browser session. Please rerun this cell to enable.\n",
              "      </output>\n",
              "      <script src=\"/nbextensions/google.colab/files.js\"></script> "
            ],
            "text/plain": [
              "<IPython.core.display.HTML object>"
            ]
          },
          "metadata": {
            "tags": []
          }
        },
        {
          "output_type": "stream",
          "text": [
            "Saving covid-tweets-train.csv to covid-tweets-train.csv\n"
          ],
          "name": "stdout"
        }
      ]
    },
    {
      "cell_type": "code",
      "metadata": {
        "colab": {
          "base_uri": "https://localhost:8080/"
        },
        "id": "dx6oIfzxKO6q",
        "outputId": "c9ad9d1c-2adf-4c48-9c96-4ec2acd9acc8"
      },
      "source": [
        "train_data = pd.read_csv(io.BytesIO(data_to_load['covid-tweets-train.csv']), encoding = 'latin1') \n",
        "print(train_data.head(5))"
      ],
      "execution_count": 3,
      "outputs": [
        {
          "output_type": "stream",
          "text": [
            "   Unnamed: 0                                      OriginalTweet Sentiment\n",
            "0           0  @MeNyrbie @Phil_Gahan @Chrisitv https://t.co/i...         1\n",
            "1           1  advice Talk to your neighbours family to excha...         2\n",
            "2           2  Coronavirus Australia: Woolworths to give elde...         2\n",
            "3           3  My food stock is not the only one which is emp...         2\n",
            "4           4  Me, ready to go at supermarket during the #COV...         0\n"
          ],
          "name": "stdout"
        }
      ]
    },
    {
      "cell_type": "code",
      "metadata": {
        "id": "Ot2UlfUiKmNO",
        "colab": {
          "resources": {
            "http://localhost:8080/nbextensions/google.colab/files.js": {
              "data": "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",
              "ok": true,
              "headers": [
                [
                  "content-type",
                  "application/javascript"
                ]
              ],
              "status": 200,
              "status_text": ""
            }
          },
          "base_uri": "https://localhost:8080/",
          "height": 75
        },
        "outputId": "3a2dca9e-d70a-475e-a14e-4c15eab319cb"
      },
      "source": [
        "data_to_load = files.upload()"
      ],
      "execution_count": 4,
      "outputs": [
        {
          "output_type": "display_data",
          "data": {
            "text/html": [
              "\n",
              "     <input type=\"file\" id=\"files-26d49643-9e3b-403e-b15e-aa3283ca8d79\" name=\"files[]\" multiple disabled\n",
              "        style=\"border:none\" />\n",
              "     <output id=\"result-26d49643-9e3b-403e-b15e-aa3283ca8d79\">\n",
              "      Upload widget is only available when the cell has been executed in the\n",
              "      current browser session. Please rerun this cell to enable.\n",
              "      </output>\n",
              "      <script src=\"/nbextensions/google.colab/files.js\"></script> "
            ],
            "text/plain": [
              "<IPython.core.display.HTML object>"
            ]
          },
          "metadata": {
            "tags": []
          }
        },
        {
          "output_type": "stream",
          "text": [
            "Saving covid-tweets-test.csv to covid-tweets-test.csv\n"
          ],
          "name": "stdout"
        }
      ]
    },
    {
      "cell_type": "code",
      "metadata": {
        "colab": {
          "base_uri": "https://localhost:8080/"
        },
        "id": "emmtJRJYKsMe",
        "outputId": "afb82340-63a3-404f-e5a9-9c1b626ab3b1"
      },
      "source": [
        "test_data = pd.read_csv(io.BytesIO(data_to_load['covid-tweets-test.csv']), encoding = 'latin1') \n",
        "print(test_data.head(5))"
      ],
      "execution_count": 5,
      "outputs": [
        {
          "output_type": "stream",
          "text": [
            "   Unnamed: 0                                      OriginalTweet  Sentiment\n",
            "0           0  TRENDING: New Yorkers encounter empty supermar...          0\n",
            "1           1  When I couldn't find hand sanitizer at Fred Me...          2\n",
            "2           2  Find out how you can protect yourself and love...          2\n",
            "3           3  #Panic buying hits #NewYork City as anxious sh...          0\n",
            "4           4  #toiletpaper #dunnypaper #coronavirus #coronav...          1\n"
          ],
          "name": "stdout"
        }
      ]
    },
    {
      "cell_type": "code",
      "metadata": {
        "id": "ju5iAPhwKyW2"
      },
      "source": [
        "def tokenization(data, col):\n",
        "  nltk.download('punkt')\n",
        "\n",
        "  # Create a new column in our DF that contains token lists instead of raw text\n",
        "  data['tokens'] = data[col].apply(nltk.word_tokenize)"
      ],
      "execution_count": 6,
      "outputs": []
    },
    {
      "cell_type": "code",
      "metadata": {
        "id": "GlvIL8zLK16G"
      },
      "source": [
        "def remove_url(data, col, n):\n",
        "  lst = []\n",
        "  for i in range(0,n):\n",
        "    lst.append(re.sub(r'http\\S+', '', data[col][i]))\n",
        "  data['url_removed'] = lst"
      ],
      "execution_count": 7,
      "outputs": []
    },
    {
      "cell_type": "code",
      "metadata": {
        "id": "UUlbO-E8LhEu"
      },
      "source": [
        "def evaluate(X_test, y_test, model):\n",
        "  y_preds = model.predict(X_test)\n",
        "\n",
        "  print('Test accuracy with our model:',accuracy_score(y_test,y_preds))"
      ],
      "execution_count": 8,
      "outputs": []
    },
    {
      "cell_type": "markdown",
      "metadata": {
        "id": "Hw3FkPYULQy2"
      },
      "source": [
        "**(A)**"
      ]
    },
    {
      "cell_type": "code",
      "metadata": {
        "colab": {
          "base_uri": "https://localhost:8080/"
        },
        "id": "iZ76OXcCK4hj",
        "outputId": "1d1f24eb-b033-452b-a720-457eaccf0f9f"
      },
      "source": [
        "nega = 0\n",
        "neut = 0\n",
        "posi = 0\n",
        "num_train = len(train_data)\n",
        "num_test = len(test_data)\n",
        "for sentiment in train_data['Sentiment']:\n",
        "  if sentiment == '0':\n",
        "    nega += 1\n",
        "  elif sentiment == '1':\n",
        "    neut += 1\n",
        "  elif sentiment == '2':\n",
        "    posi += 1\n",
        "print('the proportion of negative sentiment: ', nega/num_train)\n",
        "print('the proportion of neutral sentiment: ', neut/num_train)\n",
        "print('the proportion of positive sentiment: ', posi/num_train)"
      ],
      "execution_count": 49,
      "outputs": [
        {
          "output_type": "stream",
          "text": [
            "the proportion of negative sentiment:  0.374122220872312\n",
            "the proportion of neutral sentiment:  0.18738913862228163\n",
            "the proportion of positive sentiment:  0.4383914469687766\n"
          ],
          "name": "stdout"
        }
      ]
    },
    {
      "cell_type": "markdown",
      "metadata": {
        "id": "kKfm5b3HLkZy"
      },
      "source": [
        "**(B)**"
      ]
    },
    {
      "cell_type": "code",
      "metadata": {
        "colab": {
          "base_uri": "https://localhost:8080/"
        },
        "id": "egsJvPEYLmVj",
        "outputId": "0c92c35e-62fc-4032-b68a-da65871481e2"
      },
      "source": [
        "tokenization(train_data, 'OriginalTweet')\n",
        "tokenization(test_data, 'OriginalTweet')"
      ],
      "execution_count": 50,
      "outputs": [
        {
          "output_type": "stream",
          "text": [
            "[nltk_data] Downloading package punkt to /root/nltk_data...\n",
            "[nltk_data]   Package punkt is already up-to-date!\n",
            "[nltk_data] Downloading package punkt to /root/nltk_data...\n",
            "[nltk_data]   Package punkt is already up-to-date!\n"
          ],
          "name": "stdout"
        }
      ]
    },
    {
      "cell_type": "markdown",
      "metadata": {
        "id": "9RQHB8iaL5ZZ"
      },
      "source": [
        "**(C)**"
      ]
    },
    {
      "cell_type": "code",
      "metadata": {
        "colab": {
          "base_uri": "https://localhost:8080/",
          "height": 435
        },
        "id": "SGpVhjh4L7gT",
        "outputId": "a35d96a3-9eeb-43ee-8273-c055a3af32a1"
      },
      "source": [
        "remove_url(train_data, 'OriginalTweet', num_train)\n",
        "tokenization(train_data, 'url_removed')\n",
        "train_data"
      ],
      "execution_count": 51,
      "outputs": [
        {
          "output_type": "stream",
          "text": [
            "[nltk_data] Downloading package punkt to /root/nltk_data...\n",
            "[nltk_data]   Package punkt is already up-to-date!\n"
          ],
          "name": "stdout"
        },
        {
          "output_type": "execute_result",
          "data": {
            "text/html": [
              "<div>\n",
              "<style scoped>\n",
              "    .dataframe tbody tr th:only-of-type {\n",
              "        vertical-align: middle;\n",
              "    }\n",
              "\n",
              "    .dataframe tbody tr th {\n",
              "        vertical-align: top;\n",
              "    }\n",
              "\n",
              "    .dataframe thead th {\n",
              "        text-align: right;\n",
              "    }\n",
              "</style>\n",
              "<table border=\"1\" class=\"dataframe\">\n",
              "  <thead>\n",
              "    <tr style=\"text-align: right;\">\n",
              "      <th></th>\n",
              "      <th>Unnamed: 0</th>\n",
              "      <th>OriginalTweet</th>\n",
              "      <th>Sentiment</th>\n",
              "      <th>tokens</th>\n",
              "      <th>url_removed</th>\n",
              "    </tr>\n",
              "  </thead>\n",
              "  <tbody>\n",
              "    <tr>\n",
              "      <th>0</th>\n",
              "      <td>0</td>\n",
              "      <td>@MeNyrbie @Phil_Gahan @Chrisitv https://t.co/i...</td>\n",
              "      <td>1</td>\n",
              "      <td>[@, MeNyrbie, @, Phil_Gahan, @, Chrisitv, and,...</td>\n",
              "      <td>@MeNyrbie @Phil_Gahan @Chrisitv  and  and</td>\n",
              "    </tr>\n",
              "    <tr>\n",
              "      <th>1</th>\n",
              "      <td>1</td>\n",
              "      <td>advice Talk to your neighbours family to excha...</td>\n",
              "      <td>2</td>\n",
              "      <td>[advice, Talk, to, your, neighbours, family, t...</td>\n",
              "      <td>advice Talk to your neighbours family to excha...</td>\n",
              "    </tr>\n",
              "    <tr>\n",
              "      <th>2</th>\n",
              "      <td>2</td>\n",
              "      <td>Coronavirus Australia: Woolworths to give elde...</td>\n",
              "      <td>2</td>\n",
              "      <td>[Coronavirus, Australia, :, Woolworths, to, gi...</td>\n",
              "      <td>Coronavirus Australia: Woolworths to give elde...</td>\n",
              "    </tr>\n",
              "    <tr>\n",
              "      <th>3</th>\n",
              "      <td>3</td>\n",
              "      <td>My food stock is not the only one which is emp...</td>\n",
              "      <td>2</td>\n",
              "      <td>[My, food, stock, is, not, the, only, one, whi...</td>\n",
              "      <td>My food stock is not the only one which is emp...</td>\n",
              "    </tr>\n",
              "    <tr>\n",
              "      <th>4</th>\n",
              "      <td>4</td>\n",
              "      <td>Me, ready to go at supermarket during the #COV...</td>\n",
              "      <td>0</td>\n",
              "      <td>[Me, ,, ready, to, go, at, supermarket, during...</td>\n",
              "      <td>Me, ready to go at supermarket during the #COV...</td>\n",
              "    </tr>\n",
              "    <tr>\n",
              "      <th>...</th>\n",
              "      <td>...</td>\n",
              "      <td>...</td>\n",
              "      <td>...</td>\n",
              "      <td>...</td>\n",
              "      <td>...</td>\n",
              "    </tr>\n",
              "    <tr>\n",
              "      <th>41150</th>\n",
              "      <td>41150</td>\n",
              "      <td>Airline pilots offering to stock supermarket s...</td>\n",
              "      <td>1</td>\n",
              "      <td>[Airline, pilots, offering, to, stock, superma...</td>\n",
              "      <td>Airline pilots offering to stock supermarket s...</td>\n",
              "    </tr>\n",
              "    <tr>\n",
              "      <th>41151</th>\n",
              "      <td>41151</td>\n",
              "      <td>Response to complaint not provided citing COVI...</td>\n",
              "      <td>0</td>\n",
              "      <td>[Response, to, complaint, not, provided, citin...</td>\n",
              "      <td>Response to complaint not provided citing COVI...</td>\n",
              "    </tr>\n",
              "    <tr>\n",
              "      <th>41152</th>\n",
              "      <td>41152</td>\n",
              "      <td>You know itÃÂs getting tough when @KameronWi...</td>\n",
              "      <td>2</td>\n",
              "      <td>[You, know, itÃÂs, getting, tough, when, @, ...</td>\n",
              "      <td>You know itÃÂs getting tough when @KameronWi...</td>\n",
              "    </tr>\n",
              "    <tr>\n",
              "      <th>41153</th>\n",
              "      <td>41153</td>\n",
              "      <td>Is it wrong that the smell of hand sanitizer i...</td>\n",
              "      <td>1</td>\n",
              "      <td>[Is, it, wrong, that, the, smell, of, hand, sa...</td>\n",
              "      <td>Is it wrong that the smell of hand sanitizer i...</td>\n",
              "    </tr>\n",
              "    <tr>\n",
              "      <th>41154</th>\n",
              "      <td>41154</td>\n",
              "      <td>@TartiiCat Well new/used Rift S are going for ...</td>\n",
              "      <td>0</td>\n",
              "      <td>[@, TartiiCat, Well, new/used, Rift, S, are, g...</td>\n",
              "      <td>@TartiiCat Well new/used Rift S are going for ...</td>\n",
              "    </tr>\n",
              "  </tbody>\n",
              "</table>\n",
              "<p>41155 rows × 5 columns</p>\n",
              "</div>"
            ],
            "text/plain": [
              "       Unnamed: 0  ...                                        url_removed\n",
              "0               0  ...         @MeNyrbie @Phil_Gahan @Chrisitv  and  and \n",
              "1               1  ...  advice Talk to your neighbours family to excha...\n",
              "2               2  ...  Coronavirus Australia: Woolworths to give elde...\n",
              "3               3  ...  My food stock is not the only one which is emp...\n",
              "4               4  ...  Me, ready to go at supermarket during the #COV...\n",
              "...           ...  ...                                                ...\n",
              "41150       41150  ...  Airline pilots offering to stock supermarket s...\n",
              "41151       41151  ...  Response to complaint not provided citing COVI...\n",
              "41152       41152  ...  You know itÃÂs getting tough when @KameronWi...\n",
              "41153       41153  ...  Is it wrong that the smell of hand sanitizer i...\n",
              "41154       41154  ...  @TartiiCat Well new/used Rift S are going for ...\n",
              "\n",
              "[41155 rows x 5 columns]"
            ]
          },
          "metadata": {
            "tags": []
          },
          "execution_count": 51
        }
      ]
    },
    {
      "cell_type": "code",
      "metadata": {
        "colab": {
          "base_uri": "https://localhost:8080/",
          "height": 704
        },
        "id": "SHbgS44_MPyj",
        "outputId": "f9e9eeb5-8053-4a2b-8f73-be52c258766d"
      },
      "source": [
        "remove_url(test_data, 'OriginalTweet', num_test)\n",
        "tokenization(test_data, 'url_removed')\n",
        "test_data"
      ],
      "execution_count": 52,
      "outputs": [
        {
          "output_type": "stream",
          "text": [
            "[nltk_data] Downloading package punkt to /root/nltk_data...\n",
            "[nltk_data]   Package punkt is already up-to-date!\n"
          ],
          "name": "stdout"
        },
        {
          "output_type": "execute_result",
          "data": {
            "text/html": [
              "<div>\n",
              "<style scoped>\n",
              "    .dataframe tbody tr th:only-of-type {\n",
              "        vertical-align: middle;\n",
              "    }\n",
              "\n",
              "    .dataframe tbody tr th {\n",
              "        vertical-align: top;\n",
              "    }\n",
              "\n",
              "    .dataframe thead th {\n",
              "        text-align: right;\n",
              "    }\n",
              "</style>\n",
              "<table border=\"1\" class=\"dataframe\">\n",
              "  <thead>\n",
              "    <tr style=\"text-align: right;\">\n",
              "      <th></th>\n",
              "      <th>Unnamed: 0</th>\n",
              "      <th>OriginalTweet</th>\n",
              "      <th>Sentiment</th>\n",
              "      <th>tokens</th>\n",
              "      <th>url_removed</th>\n",
              "      <th>lowercase_tokens</th>\n",
              "      <th>tokens_no_punct</th>\n",
              "      <th>stemmed_tokens</th>\n",
              "    </tr>\n",
              "  </thead>\n",
              "  <tbody>\n",
              "    <tr>\n",
              "      <th>0</th>\n",
              "      <td>0</td>\n",
              "      <td>TRENDING: New Yorkers encounter empty supermar...</td>\n",
              "      <td>0</td>\n",
              "      <td>[TRENDING, :, New, Yorkers, encounter, empty, ...</td>\n",
              "      <td>TRENDING: New Yorkers encounter empty supermar...</td>\n",
              "      <td>[trending, :, new, yorkers, encounter, empty, ...</td>\n",
              "      <td>[trending, , new, yorkers, encounter, empty, s...</td>\n",
              "      <td>[trend, , new, yorker, encount, empti, superma...</td>\n",
              "    </tr>\n",
              "    <tr>\n",
              "      <th>1</th>\n",
              "      <td>1</td>\n",
              "      <td>When I couldn't find hand sanitizer at Fred Me...</td>\n",
              "      <td>2</td>\n",
              "      <td>[When, I, could, n't, find, hand, sanitizer, a...</td>\n",
              "      <td>When I couldn't find hand sanitizer at Fred Me...</td>\n",
              "      <td>[when, i, could, n't, find, hand, sanitizer, a...</td>\n",
              "      <td>[when, i, could, nt, find, hand, sanitizer, at...</td>\n",
              "      <td>[when, i, could, nt, find, hand, sanit, at, fr...</td>\n",
              "    </tr>\n",
              "    <tr>\n",
              "      <th>2</th>\n",
              "      <td>2</td>\n",
              "      <td>Find out how you can protect yourself and love...</td>\n",
              "      <td>2</td>\n",
              "      <td>[Find, out, how, you, can, protect, yourself, ...</td>\n",
              "      <td>Find out how you can protect yourself and love...</td>\n",
              "      <td>[find, out, how, you, can, protect, yourself, ...</td>\n",
              "      <td>[find, out, how, you, can, protect, yourself, ...</td>\n",
              "      <td>[find, out, how, you, can, protect, yourself, ...</td>\n",
              "    </tr>\n",
              "    <tr>\n",
              "      <th>3</th>\n",
              "      <td>3</td>\n",
              "      <td>#Panic buying hits #NewYork City as anxious sh...</td>\n",
              "      <td>0</td>\n",
              "      <td>[#, Panic, buying, hits, #, NewYork, City, as,...</td>\n",
              "      <td>#Panic buying hits #NewYork City as anxious sh...</td>\n",
              "      <td>[#, panic, buying, hits, #, newyork, city, as,...</td>\n",
              "      <td>[, panic, buying, hits, , newyork, city, as, a...</td>\n",
              "      <td>[, panic, buy, hit, , newyork, citi, as, anxio...</td>\n",
              "    </tr>\n",
              "    <tr>\n",
              "      <th>4</th>\n",
              "      <td>4</td>\n",
              "      <td>#toiletpaper #dunnypaper #coronavirus #coronav...</td>\n",
              "      <td>1</td>\n",
              "      <td>[#, toiletpaper, #, dunnypaper, #, coronavirus...</td>\n",
              "      <td>#toiletpaper #dunnypaper #coronavirus #coronav...</td>\n",
              "      <td>[#, toiletpaper, #, dunnypaper, #, coronavirus...</td>\n",
              "      <td>[, toiletpaper, , dunnypaper, , coronavirus, ,...</td>\n",
              "      <td>[, toiletpap, , dunnypap, , coronaviru, , coro...</td>\n",
              "    </tr>\n",
              "    <tr>\n",
              "      <th>...</th>\n",
              "      <td>...</td>\n",
              "      <td>...</td>\n",
              "      <td>...</td>\n",
              "      <td>...</td>\n",
              "      <td>...</td>\n",
              "      <td>...</td>\n",
              "      <td>...</td>\n",
              "      <td>...</td>\n",
              "    </tr>\n",
              "    <tr>\n",
              "      <th>3793</th>\n",
              "      <td>3793</td>\n",
              "      <td>Meanwhile In A Supermarket in Israel -- People...</td>\n",
              "      <td>2</td>\n",
              "      <td>[Meanwhile, In, A, Supermarket, in, Israel, --...</td>\n",
              "      <td>Meanwhile In A Supermarket in Israel -- People...</td>\n",
              "      <td>[meanwhile, in, a, supermarket, in, israel, --...</td>\n",
              "      <td>[meanwhile, in, a, supermarket, in, israel, , ...</td>\n",
              "      <td>[meanwhil, in, a, supermarket, in, israel, , p...</td>\n",
              "    </tr>\n",
              "    <tr>\n",
              "      <th>3794</th>\n",
              "      <td>3794</td>\n",
              "      <td>Did you panic buy a lot of non-perishable item...</td>\n",
              "      <td>0</td>\n",
              "      <td>[Did, you, panic, buy, a, lot, of, non-perisha...</td>\n",
              "      <td>Did you panic buy a lot of non-perishable item...</td>\n",
              "      <td>[did, you, panic, buy, a, lot, of, non-perisha...</td>\n",
              "      <td>[did, you, panic, buy, a, lot, of, nonperishab...</td>\n",
              "      <td>[did, you, panic, buy, a, lot, of, nonperish, ...</td>\n",
              "    </tr>\n",
              "    <tr>\n",
              "      <th>3795</th>\n",
              "      <td>3795</td>\n",
              "      <td>Asst Prof of Economics @cconces was on @NBCPhi...</td>\n",
              "      <td>1</td>\n",
              "      <td>[Asst, Prof, of, Economics, @, cconces, was, o...</td>\n",
              "      <td>Asst Prof of Economics @cconces was on @NBCPhi...</td>\n",
              "      <td>[asst, prof, of, economics, @, cconces, was, o...</td>\n",
              "      <td>[asst, prof, of, economics, , cconces, was, on...</td>\n",
              "      <td>[asst, prof, of, econom, , cconc, wa, on, , nb...</td>\n",
              "    </tr>\n",
              "    <tr>\n",
              "      <th>3796</th>\n",
              "      <td>3796</td>\n",
              "      <td>Gov need to do somethings instead of biar je r...</td>\n",
              "      <td>0</td>\n",
              "      <td>[Gov, need, to, do, somethings, instead, of, b...</td>\n",
              "      <td>Gov need to do somethings instead of biar je r...</td>\n",
              "      <td>[gov, need, to, do, somethings, instead, of, b...</td>\n",
              "      <td>[gov, need, to, do, somethings, instead, of, b...</td>\n",
              "      <td>[gov, need, to, do, someth, instead, of, biar,...</td>\n",
              "    </tr>\n",
              "    <tr>\n",
              "      <th>3797</th>\n",
              "      <td>3797</td>\n",
              "      <td>I and @ForestandPaper members are committed to...</td>\n",
              "      <td>2</td>\n",
              "      <td>[I, and, @, ForestandPaper, members, are, comm...</td>\n",
              "      <td>I and @ForestandPaper members are committed to...</td>\n",
              "      <td>[i, and, @, forestandpaper, members, are, comm...</td>\n",
              "      <td>[i, and, , forestandpaper, members, are, commi...</td>\n",
              "      <td>[i, and, , forestandpap, member, are, commit, ...</td>\n",
              "    </tr>\n",
              "  </tbody>\n",
              "</table>\n",
              "<p>3798 rows × 8 columns</p>\n",
              "</div>"
            ],
            "text/plain": [
              "      Unnamed: 0  ...                                     stemmed_tokens\n",
              "0              0  ...  [trend, , new, yorker, encount, empti, superma...\n",
              "1              1  ...  [when, i, could, nt, find, hand, sanit, at, fr...\n",
              "2              2  ...  [find, out, how, you, can, protect, yourself, ...\n",
              "3              3  ...  [, panic, buy, hit, , newyork, citi, as, anxio...\n",
              "4              4  ...  [, toiletpap, , dunnypap, , coronaviru, , coro...\n",
              "...          ...  ...                                                ...\n",
              "3793        3793  ...  [meanwhil, in, a, supermarket, in, israel, , p...\n",
              "3794        3794  ...  [did, you, panic, buy, a, lot, of, nonperish, ...\n",
              "3795        3795  ...  [asst, prof, of, econom, , cconc, wa, on, , nb...\n",
              "3796        3796  ...  [gov, need, to, do, someth, instead, of, biar,...\n",
              "3797        3797  ...  [i, and, , forestandpap, member, are, commit, ...\n",
              "\n",
              "[3798 rows x 8 columns]"
            ]
          },
          "metadata": {
            "tags": []
          },
          "execution_count": 52
        }
      ]
    },
    {
      "cell_type": "markdown",
      "metadata": {
        "id": "IoVFfcsidvGe"
      },
      "source": [
        "(D)"
      ]
    },
    {
      "cell_type": "code",
      "metadata": {
        "colab": {
          "base_uri": "https://localhost:8080/"
        },
        "id": "kiWUmhHxduTa",
        "outputId": "b8c6e48e-6d19-41c4-9a3a-594f9f64d58a"
      },
      "source": [
        "##### Convert tokens into lowercase ####\n",
        "lowercase_tokens = []\n",
        "# Create a list of lists with what we want\n",
        "for row in train_data['tokens']:\n",
        "  lowercase_tokens.append([t.lower() for t in row])\n",
        "# add the new info to our df\n",
        "train_data['lowercase_tokens'] = lowercase_tokens\n",
        "\n",
        "print(train_data['lowercase_tokens'].head(5))"
      ],
      "execution_count": 53,
      "outputs": [
        {
          "output_type": "stream",
          "text": [
            "0    [@, menyrbie, @, phil_gahan, @, chrisitv, and,...\n",
            "1    [advice, talk, to, your, neighbours, family, t...\n",
            "2    [coronavirus, australia, :, woolworths, to, gi...\n",
            "3    [my, food, stock, is, not, the, only, one, whi...\n",
            "4    [me, ,, ready, to, go, at, supermarket, during...\n",
            "Name: lowercase_tokens, dtype: object\n"
          ],
          "name": "stdout"
        }
      ]
    },
    {
      "cell_type": "code",
      "metadata": {
        "colab": {
          "base_uri": "https://localhost:8080/"
        },
        "id": "HDKbo084d0CE",
        "outputId": "35d6339c-f125-43cf-ceee-2d163517c152"
      },
      "source": [
        "##### Let's remove punctuation #####\n",
        "\n",
        "# Note we've been keeping different columns for different steps (not necessary)\n",
        "list(train_data)\n",
        "\n",
        "# Same process as before\n",
        "tokens_no_punct = []\n",
        "# Create a list of lists with what we want\n",
        "for row in train_data['lowercase_tokens']:\n",
        "  tokens_no_punct.append([re.sub('[^\\w\\s]','', t) for t in row])\n",
        "# add the new info to our df\n",
        "train_data['tokens_no_punct'] = tokens_no_punct\n",
        "\n",
        "print(train_data['tokens_no_punct'].head(5))"
      ],
      "execution_count": 54,
      "outputs": [
        {
          "output_type": "stream",
          "text": [
            "0     [, menyrbie, , phil_gahan, , chrisitv, and, and]\n",
            "1    [advice, talk, to, your, neighbours, family, t...\n",
            "2    [coronavirus, australia, , woolworths, to, giv...\n",
            "3    [my, food, stock, is, not, the, only, one, whi...\n",
            "4    [me, , ready, to, go, at, supermarket, during,...\n",
            "Name: tokens_no_punct, dtype: object\n"
          ],
          "name": "stdout"
        }
      ]
    },
    {
      "cell_type": "code",
      "metadata": {
        "colab": {
          "base_uri": "https://localhost:8080/"
        },
        "id": "w1zIXosxeA9Q",
        "outputId": "66d1b4c7-5841-4a27-c682-0d57b479a059"
      },
      "source": [
        "##### Convert tokens into lowercase ####\n",
        "lowercase_tokens = []\n",
        "# Create a list of lists with what we want\n",
        "for row in test_data['tokens']:\n",
        "  lowercase_tokens.append([t.lower() for t in row])\n",
        "# add the new info to our df\n",
        "test_data['lowercase_tokens'] = lowercase_tokens\n",
        "\n",
        "print(test_data['lowercase_tokens'].head(5))"
      ],
      "execution_count": 55,
      "outputs": [
        {
          "output_type": "stream",
          "text": [
            "0    [trending, :, new, yorkers, encounter, empty, ...\n",
            "1    [when, i, could, n't, find, hand, sanitizer, a...\n",
            "2    [find, out, how, you, can, protect, yourself, ...\n",
            "3    [#, panic, buying, hits, #, newyork, city, as,...\n",
            "4    [#, toiletpaper, #, dunnypaper, #, coronavirus...\n",
            "Name: lowercase_tokens, dtype: object\n"
          ],
          "name": "stdout"
        }
      ]
    },
    {
      "cell_type": "code",
      "metadata": {
        "colab": {
          "base_uri": "https://localhost:8080/"
        },
        "id": "oNHmfqWxeEoj",
        "outputId": "ef516558-abdb-4101-fa01-0d83969fa7ed"
      },
      "source": [
        "##### Let's remove punctuation #####\n",
        "\n",
        "# Note we've been keeping different columns for different steps (not necessary)\n",
        "list(test_data)\n",
        "\n",
        "# Same process as before\n",
        "tokens_no_punct = []\n",
        "# Create a list of lists with what we want\n",
        "for row in test_data['lowercase_tokens']:\n",
        "  tokens_no_punct.append([re.sub('[^\\w\\s]','', t) for t in row])\n",
        "# add the new info to our df\n",
        "test_data['tokens_no_punct'] = tokens_no_punct\n",
        "\n",
        "print(test_data['tokens_no_punct'].head(5))"
      ],
      "execution_count": 56,
      "outputs": [
        {
          "output_type": "stream",
          "text": [
            "0    [trending, , new, yorkers, encounter, empty, s...\n",
            "1    [when, i, could, nt, find, hand, sanitizer, at...\n",
            "2    [find, out, how, you, can, protect, yourself, ...\n",
            "3    [, panic, buying, hits, , newyork, city, as, a...\n",
            "4    [, toiletpaper, , dunnypaper, , coronavirus, ,...\n",
            "Name: tokens_no_punct, dtype: object\n"
          ],
          "name": "stdout"
        }
      ]
    },
    {
      "cell_type": "markdown",
      "metadata": {
        "id": "xjg_pfhMeP1B"
      },
      "source": [
        "(E)"
      ]
    },
    {
      "cell_type": "code",
      "metadata": {
        "colab": {
          "base_uri": "https://localhost:8080/"
        },
        "id": "svobhavreNtp",
        "outputId": "e8a84a40-fae9-4f1c-bdbf-dd035daac5f1"
      },
      "source": [
        "#### Stemming tokens ####\n",
        "from nltk.stem.porter import *\n",
        "stemmer = PorterStemmer()\n",
        "stemmed_tokens = []\n",
        "for row in train_data['tokens_no_punct']:\n",
        "  stemmed_tokens.append([stemmer.stem(t) for t in row])\n",
        "\n",
        "train_data['stemmed_tokens'] = stemmed_tokens\n",
        "print('After stemming:\\n', train_data['stemmed_tokens'].head(3))"
      ],
      "execution_count": 57,
      "outputs": [
        {
          "output_type": "stream",
          "text": [
            "After stemming:\n",
            " 0      [, menyrbi, , phil_gahan, , chrisitv, and, and]\n",
            "1    [advic, talk, to, your, neighbour, famili, to,...\n",
            "2    [coronaviru, australia, , woolworth, to, give,...\n",
            "Name: stemmed_tokens, dtype: object\n"
          ],
          "name": "stdout"
        }
      ]
    },
    {
      "cell_type": "code",
      "metadata": {
        "colab": {
          "base_uri": "https://localhost:8080/"
        },
        "id": "Zrdf89TneZ8U",
        "outputId": "093e73b4-fc57-4b62-a205-78564abcb6be"
      },
      "source": [
        "#### Stemming tokens ####\n",
        "from nltk.stem.porter import *\n",
        "stemmer = PorterStemmer()\n",
        "stemmed_tokens = []\n",
        "for row in test_data['tokens_no_punct']:\n",
        "  stemmed_tokens.append([stemmer.stem(t) for t in row])\n",
        "\n",
        "test_data['stemmed_tokens'] = stemmed_tokens\n",
        "print('After stemming:\\n', test_data['stemmed_tokens'].head(3))"
      ],
      "execution_count": 58,
      "outputs": [
        {
          "output_type": "stream",
          "text": [
            "After stemming:\n",
            " 0    [trend, , new, yorker, encount, empti, superma...\n",
            "1    [when, i, could, nt, find, hand, sanit, at, fr...\n",
            "2    [find, out, how, you, can, protect, yourself, ...\n",
            "Name: stemmed_tokens, dtype: object\n"
          ],
          "name": "stdout"
        }
      ]
    },
    {
      "cell_type": "code",
      "metadata": {
        "colab": {
          "base_uri": "https://localhost:8080/"
        },
        "id": "ipLc94IxenTK",
        "outputId": "45e6dc80-510c-4f29-c2f7-510e31d18a76"
      },
      "source": [
        "# Drop some intermediate columns\n",
        "list(train_data)\n",
        "train_data = train_data.drop(['tokens','lowercase_tokens', 'tokens_no_punct','url_removed'],axis=1)\n",
        "\n",
        "print('After removal:\\n', list(train_data))\n",
        "\n",
        "no_blanks = []\n",
        "for row in train_data['stemmed_tokens']:\n",
        "  no_blanks.append([t for t in row if t != ''])\n",
        "train_data['tokens'] = no_blanks\n",
        "\n",
        "print(train_data['tokens'].head(5))\n",
        "\n",
        "# drop the last intermediate column\n",
        "train_data = train_data.drop(['stemmed_tokens'], axis = 1)\n",
        "\n",
        "# Now we should have only the label, original text, and cleaned token lists\n",
        "print('Current Columns:\\n',list(train_data))"
      ],
      "execution_count": 59,
      "outputs": [
        {
          "output_type": "stream",
          "text": [
            "After removal:\n",
            " ['Unnamed: 0', 'OriginalTweet', 'Sentiment', 'stemmed_tokens']\n",
            "0            [menyrbi, phil_gahan, chrisitv, and, and]\n",
            "1    [advic, talk, to, your, neighbour, famili, to,...\n",
            "2    [coronaviru, australia, woolworth, to, give, e...\n",
            "3    [my, food, stock, is, not, the, onli, one, whi...\n",
            "4    [me, readi, to, go, at, supermarket, dure, the...\n",
            "Name: tokens, dtype: object\n",
            "Current Columns:\n",
            " ['Unnamed: 0', 'OriginalTweet', 'Sentiment', 'tokens']\n"
          ],
          "name": "stdout"
        }
      ]
    },
    {
      "cell_type": "code",
      "metadata": {
        "colab": {
          "base_uri": "https://localhost:8080/"
        },
        "id": "VjUhU5q4evED",
        "outputId": "2ef13b81-f438-438c-bf41-ef90da02afd3"
      },
      "source": [
        "# Drop some intermediate columns\n",
        "test_data = test_data.drop(['tokens','lowercase_tokens', 'tokens_no_punct','url_removed'],axis=1)\n",
        "\n",
        "print('After removal:\\n', list(test_data))\n",
        "\n",
        "no_blanks = []\n",
        "for row in test_data['stemmed_tokens']:\n",
        "  no_blanks.append([t for t in row if t != ''])\n",
        "test_data['tokens'] = no_blanks\n",
        "\n",
        "\n",
        "# drop the last intermediate column\n",
        "test_data = test_data.drop(['stemmed_tokens'], axis = 1)\n",
        "\n",
        "# Now we should have only the label, original text, and cleaned token lists\n",
        "print('Current Columns:\\n',list(test_data))"
      ],
      "execution_count": 60,
      "outputs": [
        {
          "output_type": "stream",
          "text": [
            "After removal:\n",
            " ['Unnamed: 0', 'OriginalTweet', 'Sentiment', 'stemmed_tokens']\n",
            "Current Columns:\n",
            " ['Unnamed: 0', 'OriginalTweet', 'Sentiment', 'tokens']\n"
          ],
          "name": "stdout"
        }
      ]
    },
    {
      "cell_type": "markdown",
      "metadata": {
        "id": "ZnKWEXV_exQP"
      },
      "source": [
        "(F)"
      ]
    },
    {
      "cell_type": "code",
      "metadata": {
        "colab": {
          "base_uri": "https://localhost:8080/"
        },
        "id": "aaD_kL9de0If",
        "outputId": "f7a6d5e5-1dc5-45d0-aa11-890b5f6b4d41"
      },
      "source": [
        "##### Time to remove Stopwords #####\n",
        "\n",
        "from nltk.corpus import stopwords\n",
        "nltk.download('stopwords')\n",
        "# print the top 100 most popular english words\n",
        "sw = stopwords.words('english')[:100]\n",
        "\n"
      ],
      "execution_count": 61,
      "outputs": [
        {
          "output_type": "stream",
          "text": [
            "[nltk_data] Downloading package stopwords to /root/nltk_data...\n",
            "[nltk_data]   Unzipping corpora/stopwords.zip.\n"
          ],
          "name": "stdout"
        }
      ]
    },
    {
      "cell_type": "code",
      "metadata": {
        "colab": {
          "base_uri": "https://localhost:8080/"
        },
        "id": "_TYU1RDWe2kn",
        "outputId": "41d1b436-932c-4726-d3c2-12536a5f43c8"
      },
      "source": [
        "# Now let's remove them\n",
        "tokens_no_sw = []\n",
        "for row in train_data['tokens']:\n",
        "  tokens_no_sw.append([w for w in row if w not in sw])\n",
        "# Add column to df\n",
        "train_data['tokens'] = tokens_no_sw\n",
        "\n",
        "# Print some examples\n",
        "print(train_data['tokens'].tail(5))"
      ],
      "execution_count": 62,
      "outputs": [
        {
          "output_type": "stream",
          "text": [
            "41150    [airlin, pilot, offer, stock, supermarket, she...\n",
            "41151    [respons, complaint, not, provid, cite, covid1...\n",
            "41152    [know, itãâ, get, tough, when, kameronwild, ra...\n",
            "41153    [wrong, smell, hand, sanit, start, turn, coron...\n",
            "41154    [tartiicat, well, newus, rift, s, go, 70000, a...\n",
            "Name: tokens, dtype: object\n"
          ],
          "name": "stdout"
        }
      ]
    },
    {
      "cell_type": "code",
      "metadata": {
        "colab": {
          "base_uri": "https://localhost:8080/"
        },
        "id": "NgM5f5y6e65-",
        "outputId": "07ae9d97-f458-411a-aa81-9f67a484a02a"
      },
      "source": [
        "# Now let's remove them\n",
        "tokens_no_sw = []\n",
        "for row in test_data['tokens']:\n",
        "  tokens_no_sw.append([w for w in row if w not in sw])\n",
        "# Add column to df\n",
        "test_data['tokens'] = tokens_no_sw\n",
        "\n",
        "# Print some examples\n",
        "print(test_data['tokens'].tail(5))"
      ],
      "execution_count": 63,
      "outputs": [
        {
          "output_type": "stream",
          "text": [
            "3793    [meanwhil, supermarket, israel, peopl, danc, s...\n",
            "3794    [panic, buy, lot, nonperish, item, echo, need,...\n",
            "3795    [asst, prof, econom, cconc, wa, nbcphiladelphi...\n",
            "3796    [gov, need, someth, instead, biar, je, rakyat,...\n",
            "3797    [forestandpap, member, commit, safeti, employe...\n",
            "Name: tokens, dtype: object\n"
          ],
          "name": "stdout"
        }
      ]
    },
    {
      "cell_type": "markdown",
      "metadata": {
        "id": "dugqwa__fAGo"
      },
      "source": [
        "（G）"
      ]
    },
    {
      "cell_type": "code",
      "metadata": {
        "id": "ZJfFh_0BgWzf"
      },
      "source": [
        "for i in range(0, len(train_data['Sentiment'])):\n",
        "  if type(train_data['Sentiment'][i]) == str:\n",
        "    if train_data['Sentiment'][i].isnumeric():\n",
        "      train_data['Sentiment'][i] = int(train_data['Sentiment'][i])\n",
        "    else:\n",
        "      train_data['Sentiment'][i] = 1\n",
        "for i in range(0, len(test_data['Sentiment'])):\n",
        "  if type(test_data['Sentiment'][i]) == str:\n",
        "    if test_data['Sentiment'][i].isnumeric():\n",
        "      test_data['Sentiment'][i] = int(test_data['Sentiment'][i])\n",
        "    else:\n",
        "      test_data['Sentiment'][i] = 1"
      ],
      "execution_count": 99,
      "outputs": []
    },
    {
      "cell_type": "code",
      "metadata": {
        "colab": {
          "base_uri": "https://localhost:8080/"
        },
        "id": "jDaoRskbe-Um",
        "outputId": "e0aae2b0-f5f3-4710-98c7-8c0be45345fb"
      },
      "source": [
        "for i in range(0, len(test_data['Sentiment'])):\n",
        "  if np.isnan(int(test_data['Sentiment'][i])):\n",
        "    test_data['Sentiment'][i] = 1\n",
        "  else:\n",
        "    test_data['Sentiment'][i] = int(test_data['Sentiment'][i])\n",
        "\n",
        "X_train, y_train = train_data['tokens'].to_numpy(), train_data['Sentiment'].to_numpy()\n",
        "X_test, y_test = test_data['tokens'].to_numpy(), test_data['Sentiment'].to_numpy()\n",
        "def override_fcn(doc):\n",
        "  # We expect a list of tokens as input\n",
        "  return doc\n",
        "\n",
        "# Count Vectorizer\n",
        "count_vec = CountVectorizer(\n",
        "    analyzer='word',\n",
        "    tokenizer= override_fcn,\n",
        "    preprocessor= override_fcn,\n",
        "    token_pattern= None,\n",
        "    max_features = 1000)\n",
        "\n",
        "# Remember this output is a Scipy Sparse Array\n",
        "counts_train = count_vec.fit_transform(X_train)\n",
        "counts_test = count_vec.fit_transform(X_test)\n",
        "\n",
        "X_train = counts_train.toarray()\n",
        "X_test = counts_test.toarray()"
      ],
      "execution_count": 100,
      "outputs": [
        {
          "output_type": "stream",
          "text": [
            "/usr/local/lib/python3.7/dist-packages/ipykernel_launcher.py:5: SettingWithCopyWarning: \n",
            "A value is trying to be set on a copy of a slice from a DataFrame\n",
            "\n",
            "See the caveats in the documentation: https://pandas.pydata.org/pandas-docs/stable/user_guide/indexing.html#returning-a-view-versus-a-copy\n",
            "  \"\"\"\n"
          ],
          "name": "stderr"
        }
      ]
    },
    {
      "cell_type": "code",
      "metadata": {
        "id": "d-KxdmLCdYgf"
      },
      "source": [
        "for i in range(0, len(y_train)):\n",
        "  if np.isnan(y_train[i]):\n",
        "    y_train[i] = 1\n",
        "\n",
        "\n",
        "y_test = y_test.tolist()"
      ],
      "execution_count": 109,
      "outputs": []
    },
    {
      "cell_type": "markdown",
      "metadata": {
        "id": "yObGjPUpdFRS"
      },
      "source": [
        "**(H)**"
      ]
    },
    {
      "cell_type": "code",
      "metadata": {
        "id": "SDNhxxKyfJm7",
        "colab": {
          "base_uri": "https://localhost:8080/"
        },
        "outputId": "2ffaeeb6-8eb9-4fd5-96ce-fa5dd4d40ce0"
      },
      "source": [
        "nb = MultinomialNB()\n",
        "# Fit model to training data\n",
        "nb.fit(X_train, y_train)\n",
        "# Predict on test data\n",
        "y_train_preds = nb.predict(X_train)\n",
        "\n",
        "# Get fitted values from test set\n",
        "y_test_preds = nb.predict(X_test)\n",
        "\n",
        "# Print train and test errors\n",
        "train_acc = accuracy_score(y_train, y_train_preds)\n",
        "test_acc = accuracy_score(y_test, y_test_preds)\n",
        "\n",
        "print('Train Accuracy: ',train_acc)\n",
        "print('Test Accuracy: ',test_acc)"
      ],
      "execution_count": 110,
      "outputs": [
        {
          "output_type": "stream",
          "text": [
            "Train Accuracy:  0.68234722390961\n",
            "Test Accuracy:  0.42338072669826227\n"
          ],
          "name": "stdout"
        }
      ]
    },
    {
      "cell_type": "markdown",
      "metadata": {
        "id": "1IzEf59vMdB1"
      },
      "source": [
        "**(I)**"
      ]
    },
    {
      "cell_type": "markdown",
      "metadata": {
        "id": "XgGYBUVmMxEK"
      },
      "source": [
        "No, because ROC curve is not suitable for labels involving multiple classes"
      ]
    },
    {
      "cell_type": "markdown",
      "metadata": {
        "id": "azAsQTvdNCns"
      },
      "source": [
        "**(J)**"
      ]
    },
    {
      "cell_type": "code",
      "metadata": {
        "colab": {
          "base_uri": "https://localhost:8080/"
        },
        "id": "EAhMXh1BMk5z",
        "outputId": "93556b3b-38c4-43ab-e15e-e55e7691f988"
      },
      "source": [
        "X_train, y_train = train_data['tokens'].to_numpy(), train_data['Sentiment'].to_numpy()\n",
        "X_test, y_test = test_data['tokens'].to_numpy(), test_data['Sentiment'].to_numpy()\n",
        "def override_fcn(doc):\n",
        "  # We expect a list of tokens as input\n",
        "  return doc\n",
        "\n",
        "# Count Vectorizer\n",
        "count_vec = CountVectorizer(\n",
        "    analyzer='word',\n",
        "    tokenizer= override_fcn,\n",
        "    preprocessor= override_fcn,\n",
        "    token_pattern= None,\n",
        "    max_features = 1000)\n",
        "\n",
        "# Remember this output is a Scipy Sparse Array\n",
        "counts_train = count_vec.fit_transform(X_train)\n",
        "counts_test = count_vec.fit_transform(X_test)\n",
        "#### TF-IDF Vectorize ####\n",
        "\n",
        "# Note that smoothing is done by default\n",
        "tfidf = TfidfTransformer()\n",
        "\n",
        "tfs_train = tfidf.fit_transform(counts_train)\n",
        "tfs_test = tfidf.fit_transform(counts_test)\n",
        "\n",
        "# Let's use the TFIDF counts for modelling\n",
        "X_train = tfs_train.toarray()\n",
        "X_test = tfs_test.toarray()\n",
        "print(X_test)\n",
        "y_train = y_train.tolist()\n",
        "y_test = y_test.tolist()\n",
        "# Let's fit the Naive Bayes model to our training data\n",
        "nb = MultinomialNB()\n",
        "# Fit model to training data\n",
        "nb.fit(X_train, y_train)\n",
        "# Predict on test data\n",
        "y_train_preds = nb.predict(X_train)\n",
        "\n",
        "# Get fitted values from test set\n",
        "y_test_preds = nb.predict(X_test)\n",
        "\n",
        "# Print train and test errors\n",
        "train_acc = accuracy_score(y_train, y_train_preds)\n",
        "test_acc = accuracy_score(y_test, y_test_preds)\n",
        "\n",
        "print('Train Accuracy: ',train_acc)\n",
        "print('Test Accuracy: ',test_acc)\n"
      ],
      "execution_count": 112,
      "outputs": [
        {
          "output_type": "stream",
          "text": [
            "[[0. 0. 0. ... 0. 0. 0.]\n",
            " [0. 0. 0. ... 0. 0. 0.]\n",
            " [0. 0. 0. ... 0. 0. 0.]\n",
            " ...\n",
            " [0. 0. 0. ... 0. 0. 0.]\n",
            " [0. 0. 0. ... 0. 0. 0.]\n",
            " [0. 0. 0. ... 0. 0. 0.]]\n",
            "Train Accuracy:  0.6654841453043373\n",
            "Test Accuracy:  0.42627698788836227\n"
          ],
          "name": "stdout"
        }
      ]
    },
    {
      "cell_type": "markdown",
      "metadata": {
        "id": "gHAsPXPrcmkm"
      },
      "source": [
        "**(K)**"
      ]
    },
    {
      "cell_type": "code",
      "metadata": {
        "id": "Z9ORcHCSck4i",
        "colab": {
          "base_uri": "https://localhost:8080/"
        },
        "outputId": "3a9432db-7203-42f3-9404-c407bde90591"
      },
      "source": [
        "from nltk.stem import WordNetLemmatizer\n",
        "nltk.download('wordnet')\n",
        "lemmatizer = WordNetLemmatizer()\n",
        "lem_tokens = []\n",
        "for row in train_data['tokens']:\n",
        "  lem_tokens.append([lemmatizer.lemmatize(t) for t in row])\n",
        "\n",
        "train_data['lem_tokens'] = lem_tokens\n",
        "\n",
        "# Print results\n",
        "print(train_data['lem_tokens'].head(5))\n",
        "## For test data\n",
        "lemmatizer = WordNetLemmatizer()\n",
        "lem_tokens = []\n",
        "for row in test_data['tokens']:\n",
        "  lem_tokens.append([lemmatizer.lemmatize(t) for t in row])\n",
        "\n",
        "test_data['lem_tokens'] = lem_tokens\n",
        "\n",
        "# Print results\n",
        "print(test_data['lem_tokens'].head(5))\n",
        "\n",
        "tokens_no_sw = []\n",
        "for row in train_data['tokens']:\n",
        "  tokens_no_sw.append([w for w in row if w not in sw])\n",
        "# Add column to df\n",
        "train_data['tokens'] = tokens_no_sw\n",
        "\n",
        "tokens_no_sw = []\n",
        "for row in test_data['tokens']:\n",
        "  tokens_no_sw.append([w for w in row if w not in sw])\n",
        "# Add column to df\n",
        "test_data['tokens'] = tokens_no_sw\n",
        "\n",
        "X_train, y_train = train_data['tokens'].to_numpy(), train_data['Sentiment'].to_numpy()\n",
        "X_test, y_test = test_data['tokens'].to_numpy(), test_data['Sentiment'].to_numpy()\n",
        "def override_fcn(doc):\n",
        "  # We expect a list of tokens as input\n",
        "  return doc\n",
        "\n",
        "# Count Vectorizer\n",
        "count_vec = CountVectorizer(\n",
        "    analyzer='word',\n",
        "    tokenizer= override_fcn,\n",
        "    preprocessor= override_fcn,\n",
        "    token_pattern= None,\n",
        "    max_features = 1000)\n",
        "\n",
        "# Remember this output is a Scipy Sparse Array\n",
        "counts_train = count_vec.fit_transform(X_train)\n",
        "counts_test = count_vec.fit_transform(X_test)\n",
        "#### TF-IDF Vectorize ####\n",
        "\n",
        "# Note that smoothing is done by default\n",
        "tfidf = TfidfTransformer()\n",
        "\n",
        "tfs_train = tfidf.fit_transform(counts_train)\n",
        "tfs_test = tfidf.fit_transform(counts_test)\n",
        "\n",
        "# Let's use the TFIDF counts for modelling\n",
        "X_train = tfs_train.toarray()\n",
        "X_test = tfs_test.toarray()\n",
        "y_train = y_train.tolist()\n",
        "y_test = y_test.tolist()\n",
        "# Let's fit the Naive Bayes model to our training data\n",
        "nb = MultinomialNB()\n",
        "# Fit model to training data\n",
        "nb.fit(X_train, y_train)\n",
        "# Predict on test data\n",
        "y_train_preds = nb.predict(X_train)\n",
        "\n",
        "# Get fitted values from test set\n",
        "y_test_preds = nb.predict(X_test)\n",
        "\n",
        "# Print train and test errors\n",
        "train_acc = accuracy_score(y_train, y_train_preds)\n",
        "test_acc = accuracy_score(y_test, y_test_preds)\n",
        "\n",
        "print('Train Accuracy: ',train_acc)\n",
        "print('Test Accuracy: ',test_acc)"
      ],
      "execution_count": 114,
      "outputs": [
        {
          "output_type": "stream",
          "text": [
            "[nltk_data] Downloading package wordnet to /root/nltk_data...\n",
            "[nltk_data]   Package wordnet is already up-to-date!\n",
            "0                      [menyrbi, phil_gahan, chrisitv]\n",
            "1    [advic, talk, neighbour, famili, exchang, phon...\n",
            "2    [coronaviru, australia, woolworth, give, elder...\n",
            "3    [food, stock, not, onli, one, empti, plea, nt,...\n",
            "4    [readi, go, supermarket, dure, covid19, outbre...\n",
            "Name: lem_tokens, dtype: object\n",
            "0    [trend, new, yorker, encount, empti, supermark...\n",
            "1    [when, could, nt, find, hand, sanit, fred, mey...\n",
            "2     [find, how, can, protect, love, one, coronaviru]\n",
            "3    [panic, buy, hit, newyork, citi, anxiou, shopp...\n",
            "4    [toiletpap, dunnypap, coronaviru, coronavirusa...\n",
            "Name: lem_tokens, dtype: object\n",
            "Train Accuracy:  0.6654841453043373\n",
            "Test Accuracy:  0.42627698788836227\n"
          ],
          "name": "stdout"
        }
      ]
    },
    {
      "cell_type": "markdown",
      "metadata": {
        "id": "XvTLkxxDJ2ks"
      },
      "source": [
        "## Section 2"
      ]
    },
    {
      "cell_type": "code",
      "metadata": {
        "id": "uE1wq9IoSAYJ"
      },
      "source": [
        "import tweepy as tw\n",
        "# Use credentials to authorize access\n",
        "auth = tw.OAuthHandler(api_key, api_secret_key)\n",
        "auth.set_access_token(access_key, access_secret)\n",
        "api = tw.API(auth, wait_on_rate_limit=True)\n",
        "search_words = ' -filter:retweets'\n",
        "date_since = \"2021-03-09\"\n",
        "\n",
        "#Collect tweets (here, I get only 20)\n",
        "tweets = tw.Cursor(api.search,\n",
        "              q=search_words,\n",
        "              lang=\"en\",\n",
        "              since=date_since).items(2000)\n",
        "\n",
        "# The result is an iterable\n",
        "a = []\n",
        "b = []\n",
        "for tweet in tweets:\n",
        "  a.append(tweet.text)\n",
        "  b.append(tweet.user.followers_count)"
      ],
      "execution_count": null,
      "outputs": []
    },
    {
      "cell_type": "code",
      "metadata": {
        "colab": {
          "base_uri": "https://localhost:8080/",
          "height": 242
        },
        "id": "6aflpf2XOu5Y",
        "outputId": "48eb0b0f-0928-4d44-f73a-f0e418893e05"
      },
      "source": [
        "import pandas as pd\n",
        "import re\n",
        "\n",
        "# tweet_list = [tweet.text for tweet in tweets]\n",
        "df = pd.DataFrame(a, columns = ['tweet'])\n",
        "df['followers'] = b\n",
        "print(df.count())"
      ],
      "execution_count": null,
      "outputs": [
        {
          "output_type": "error",
          "ename": "NameError",
          "evalue": "ignored",
          "traceback": [
            "\u001b[0;31m---------------------------------------------------------------------------\u001b[0m",
            "\u001b[0;31mNameError\u001b[0m                                 Traceback (most recent call last)",
            "\u001b[0;32m<ipython-input-9-46b3579d3e44>\u001b[0m in \u001b[0;36m<module>\u001b[0;34m()\u001b[0m\n\u001b[1;32m      3\u001b[0m \u001b[0;34m\u001b[0m\u001b[0m\n\u001b[1;32m      4\u001b[0m \u001b[0;31m# tweet_list = [tweet.text for tweet in tweets]\u001b[0m\u001b[0;34m\u001b[0m\u001b[0;34m\u001b[0m\u001b[0;34m\u001b[0m\u001b[0m\n\u001b[0;32m----> 5\u001b[0;31m \u001b[0mdf\u001b[0m \u001b[0;34m=\u001b[0m \u001b[0mpd\u001b[0m\u001b[0;34m.\u001b[0m\u001b[0mDataFrame\u001b[0m\u001b[0;34m(\u001b[0m\u001b[0ma\u001b[0m\u001b[0;34m,\u001b[0m \u001b[0mcolumns\u001b[0m \u001b[0;34m=\u001b[0m \u001b[0;34m[\u001b[0m\u001b[0;34m'tweet'\u001b[0m\u001b[0;34m]\u001b[0m\u001b[0;34m)\u001b[0m\u001b[0;34m\u001b[0m\u001b[0;34m\u001b[0m\u001b[0m\n\u001b[0m\u001b[1;32m      6\u001b[0m \u001b[0mdf\u001b[0m\u001b[0;34m[\u001b[0m\u001b[0;34m'followers'\u001b[0m\u001b[0;34m]\u001b[0m \u001b[0;34m=\u001b[0m \u001b[0mb\u001b[0m\u001b[0;34m\u001b[0m\u001b[0;34m\u001b[0m\u001b[0m\n\u001b[1;32m      7\u001b[0m \u001b[0mprint\u001b[0m\u001b[0;34m(\u001b[0m\u001b[0mdf\u001b[0m\u001b[0;34m.\u001b[0m\u001b[0mcount\u001b[0m\u001b[0;34m(\u001b[0m\u001b[0;34m)\u001b[0m\u001b[0;34m)\u001b[0m\u001b[0;34m\u001b[0m\u001b[0;34m\u001b[0m\u001b[0m\n",
            "\u001b[0;31mNameError\u001b[0m: name 'a' is not defined"
          ]
        }
      ]
    },
    {
      "cell_type": "code",
      "metadata": {
        "colab": {
          "base_uri": "https://localhost:8080/",
          "height": 242
        },
        "id": "SqD7I8wEYmdg",
        "outputId": "b2d32d55-eeac-4254-9a3e-c09baa7ed3fe"
      },
      "source": [
        "handle_regex = '@[A-Za-z|0-9|_]+'\n",
        "\n",
        "d = []\n",
        "for row in df['tweet']:\n",
        "  d.append(re.sub(handle_regex,'', row))\n",
        "\n",
        "df['tweet'] = d\n",
        "df.head()"
      ],
      "execution_count": null,
      "outputs": [
        {
          "output_type": "error",
          "ename": "NameError",
          "evalue": "ignored",
          "traceback": [
            "\u001b[0;31m---------------------------------------------------------------------------\u001b[0m",
            "\u001b[0;31mNameError\u001b[0m                                 Traceback (most recent call last)",
            "\u001b[0;32m<ipython-input-10-78ba6062b25c>\u001b[0m in \u001b[0;36m<module>\u001b[0;34m()\u001b[0m\n\u001b[1;32m      2\u001b[0m \u001b[0;34m\u001b[0m\u001b[0m\n\u001b[1;32m      3\u001b[0m \u001b[0md\u001b[0m \u001b[0;34m=\u001b[0m \u001b[0;34m[\u001b[0m\u001b[0;34m]\u001b[0m\u001b[0;34m\u001b[0m\u001b[0;34m\u001b[0m\u001b[0m\n\u001b[0;32m----> 4\u001b[0;31m \u001b[0;32mfor\u001b[0m \u001b[0mrow\u001b[0m \u001b[0;32min\u001b[0m \u001b[0mdf\u001b[0m\u001b[0;34m[\u001b[0m\u001b[0;34m'tweet'\u001b[0m\u001b[0;34m]\u001b[0m\u001b[0;34m:\u001b[0m\u001b[0;34m\u001b[0m\u001b[0;34m\u001b[0m\u001b[0m\n\u001b[0m\u001b[1;32m      5\u001b[0m   \u001b[0md\u001b[0m\u001b[0;34m.\u001b[0m\u001b[0mappend\u001b[0m\u001b[0;34m(\u001b[0m\u001b[0mre\u001b[0m\u001b[0;34m.\u001b[0m\u001b[0msub\u001b[0m\u001b[0;34m(\u001b[0m\u001b[0mhandle_regex\u001b[0m\u001b[0;34m,\u001b[0m\u001b[0;34m''\u001b[0m\u001b[0;34m,\u001b[0m \u001b[0mrow\u001b[0m\u001b[0;34m)\u001b[0m\u001b[0;34m)\u001b[0m\u001b[0;34m\u001b[0m\u001b[0;34m\u001b[0m\u001b[0m\n\u001b[1;32m      6\u001b[0m \u001b[0;34m\u001b[0m\u001b[0m\n",
            "\u001b[0;31mNameError\u001b[0m: name 'df' is not defined"
          ]
        }
      ]
    },
    {
      "cell_type": "code",
      "metadata": {
        "colab": {
          "base_uri": "https://localhost:8080/",
          "height": 242
        },
        "id": "u2FNKkXzTF-f",
        "outputId": "cd495a26-a86c-48cf-a3a4-df3f41c6a2f9"
      },
      "source": [
        "c = []\n",
        "for x in df['followers']:\n",
        "  if 0 <= x <= 100:\n",
        "    c.append(0)\n",
        "  elif 100 < x <= 10000:\n",
        "    c.append(1)\n",
        "  else:\n",
        "    c.append(2)\n",
        "df['labels'] = c\n",
        "df.head()"
      ],
      "execution_count": null,
      "outputs": [
        {
          "output_type": "error",
          "ename": "NameError",
          "evalue": "ignored",
          "traceback": [
            "\u001b[0;31m---------------------------------------------------------------------------\u001b[0m",
            "\u001b[0;31mNameError\u001b[0m                                 Traceback (most recent call last)",
            "\u001b[0;32m<ipython-input-11-0fc78e066ca3>\u001b[0m in \u001b[0;36m<module>\u001b[0;34m()\u001b[0m\n\u001b[1;32m      1\u001b[0m \u001b[0mc\u001b[0m \u001b[0;34m=\u001b[0m \u001b[0;34m[\u001b[0m\u001b[0;34m]\u001b[0m\u001b[0;34m\u001b[0m\u001b[0;34m\u001b[0m\u001b[0m\n\u001b[0;32m----> 2\u001b[0;31m \u001b[0;32mfor\u001b[0m \u001b[0mx\u001b[0m \u001b[0;32min\u001b[0m \u001b[0mdf\u001b[0m\u001b[0;34m[\u001b[0m\u001b[0;34m'followers'\u001b[0m\u001b[0;34m]\u001b[0m\u001b[0;34m:\u001b[0m\u001b[0;34m\u001b[0m\u001b[0;34m\u001b[0m\u001b[0m\n\u001b[0m\u001b[1;32m      3\u001b[0m   \u001b[0;32mif\u001b[0m \u001b[0;36m0\u001b[0m \u001b[0;34m<=\u001b[0m \u001b[0mx\u001b[0m \u001b[0;34m<=\u001b[0m \u001b[0;36m100\u001b[0m\u001b[0;34m:\u001b[0m\u001b[0;34m\u001b[0m\u001b[0;34m\u001b[0m\u001b[0m\n\u001b[1;32m      4\u001b[0m     \u001b[0mc\u001b[0m\u001b[0;34m.\u001b[0m\u001b[0mappend\u001b[0m\u001b[0;34m(\u001b[0m\u001b[0;36m0\u001b[0m\u001b[0;34m)\u001b[0m\u001b[0;34m\u001b[0m\u001b[0;34m\u001b[0m\u001b[0m\n\u001b[1;32m      5\u001b[0m   \u001b[0;32melif\u001b[0m \u001b[0;36m100\u001b[0m \u001b[0;34m<\u001b[0m \u001b[0mx\u001b[0m \u001b[0;34m<=\u001b[0m \u001b[0;36m10000\u001b[0m\u001b[0;34m:\u001b[0m\u001b[0;34m\u001b[0m\u001b[0;34m\u001b[0m\u001b[0m\n",
            "\u001b[0;31mNameError\u001b[0m: name 'df' is not defined"
          ]
        }
      ]
    },
    {
      "cell_type": "code",
      "metadata": {
        "colab": {
          "base_uri": "https://localhost:8080/"
        },
        "id": "bA827RNGTsId",
        "outputId": "d0425323-a5fd-4c51-c450-dec9cfd00af1"
      },
      "source": [
        "low_proportion = df['labels'].tolist().count(0)\n",
        "medium_proportion = df['labels'].tolist().count(1)\n",
        "high_proportion = df['labels'].tolist().count(2)\n",
        "print(low_proportion, medium_proportion, high_proportion)\n",
        "print(df.followers.mean)"
      ],
      "execution_count": null,
      "outputs": [
        {
          "output_type": "stream",
          "text": [
            "245 723 32\n",
            "<bound method Series.mean of 0      6135\n",
            "1         0\n",
            "2       335\n",
            "3       645\n",
            "4        17\n",
            "       ... \n",
            "995    3562\n",
            "996    1325\n",
            "997    1014\n",
            "998     112\n",
            "999     357\n",
            "Name: followers, Length: 1000, dtype: int64>\n"
          ],
          "name": "stdout"
        }
      ]
    },
    {
      "cell_type": "code",
      "metadata": {
        "colab": {
          "base_uri": "https://localhost:8080/"
        },
        "id": "RL_64K3CUge4",
        "outputId": "ec49b494-059b-4d57-a1de-c5207a833a1c"
      },
      "source": [
        "import nltk\n",
        "# Download the tokenizer\n",
        "nltk.download('punkt')\n",
        "\n",
        "# Create a new column in our DF that contains token lists instead of raw text\n",
        "df['tokens'] = df['tweet'].apply(nltk.word_tokenize)\n",
        "\n",
        "print(df['tokens'].head(5))"
      ],
      "execution_count": null,
      "outputs": [
        {
          "output_type": "stream",
          "text": [
            "[nltk_data] Downloading package punkt to /root/nltk_data...\n",
            "[nltk_data]   Unzipping tokenizers/punkt.zip.\n",
            "0    [Ne-Yo, and, Wife, Reveal, 3rd, Baby, 's, Gend...\n",
            "1    [wat, is, happening, on, my, complaint, 219326...\n",
            "2                                         [Welcome, 💜]\n",
            "3    [READY, PROMO, NETFLIX, SHARING, 1, BULAN, ONL...\n",
            "4                                          [OblivionX]\n",
            "Name: tokens, dtype: object\n"
          ],
          "name": "stdout"
        }
      ]
    },
    {
      "cell_type": "code",
      "metadata": {
        "colab": {
          "base_uri": "https://localhost:8080/"
        },
        "id": "DWbn9FWbU1Ok",
        "outputId": "00b8d2e2-6bdb-40b8-8fbb-9b4c2408fbe5"
      },
      "source": [
        "##### Convert tokens into lowercase ####\n",
        "lowercase_tokens = []\n",
        "# Create a list of lists with what we want\n",
        "for row in df['tokens']:\n",
        "  lowercase_tokens.append([t.lower() for t in row])\n",
        "# add the new info to our df\n",
        "df['lowercase_tokens'] = lowercase_tokens\n",
        "\n",
        "print(df['lowercase_tokens'].head(5))"
      ],
      "execution_count": null,
      "outputs": [
        {
          "output_type": "stream",
          "text": [
            "0    [ne-yo, and, wife, reveal, 3rd, baby, 's, gend...\n",
            "1    [wat, is, happening, on, my, complaint, 219326...\n",
            "2                                         [welcome, 💜]\n",
            "3    [ready, promo, netflix, sharing, 1, bulan, onl...\n",
            "4                                          [oblivionx]\n",
            "Name: lowercase_tokens, dtype: object\n"
          ],
          "name": "stdout"
        }
      ]
    },
    {
      "cell_type": "code",
      "metadata": {
        "colab": {
          "base_uri": "https://localhost:8080/"
        },
        "id": "fcPfkbmyVGxl",
        "outputId": "6dfacea8-690d-484b-864c-8d24c2707d89"
      },
      "source": [
        "##### Let's remove punctuation #####\n",
        "\n",
        "# Note we've been keeping different columns for different steps (not necessary)\n",
        "list(df)\n",
        "\n",
        "# Same process as before\n",
        "tokens_no_punct = []\n",
        "# Create a list of lists with what we want\n",
        "for row in df['lowercase_tokens']:\n",
        "  tokens_no_punct.append([re.sub('[^\\w\\s]','', t) for t in row])\n",
        "# add the new info to our df\n",
        "df['tokens_no_punct'] = tokens_no_punct\n",
        "\n",
        "print(df['tokens_no_punct'].head(5))"
      ],
      "execution_count": null,
      "outputs": [
        {
          "output_type": "stream",
          "text": [
            "0    [neyo, and, wife, reveal, 3rd, baby, s, gender...\n",
            "1    [wat, is, happening, on, my, complaint, 219326...\n",
            "2                                          [welcome, ]\n",
            "3    [ready, promo, netflix, sharing, 1, bulan, onl...\n",
            "4                                          [oblivionx]\n",
            "Name: tokens_no_punct, dtype: object\n"
          ],
          "name": "stdout"
        }
      ]
    },
    {
      "cell_type": "code",
      "metadata": {
        "colab": {
          "base_uri": "https://localhost:8080/"
        },
        "id": "SuTtFVDGWBL_",
        "outputId": "163616a9-a917-43f3-b3c2-23f9451fa316"
      },
      "source": [
        "##### Time to remove Stopwords #####\n",
        "import numpy as np\n",
        "from nltk.corpus import stopwords\n",
        "nltk.download('stopwords')\n",
        "sw = stopwords.words('english')[:75]\n",
        "tokens_no_sw = []\n",
        "for row in df['tokens_no_punct']:\n",
        "  tokens_no_sw.append([w for w in row if w not in sw])\n",
        "# Add column to df\n",
        "df['tokens_no_sw'] = tokens_no_sw\n",
        "\n",
        "# Print some examples\n",
        "print(df['tokens_no_sw'].head(5))"
      ],
      "execution_count": null,
      "outputs": [
        {
          "output_type": "stream",
          "text": [
            "[nltk_data] Downloading package stopwords to /root/nltk_data...\n",
            "[nltk_data]   Unzipping corpora/stopwords.zip.\n",
            "0    [neyo, wife, reveal, 3rd, baby, s, gender, , n...\n",
            "1    [wat, happening, on, complaint, 21932638, rais...\n",
            "2                                          [welcome, ]\n",
            "3    [ready, promo, netflix, sharing, 1, bulan, onl...\n",
            "4                                          [oblivionx]\n",
            "Name: tokens_no_sw, dtype: object\n"
          ],
          "name": "stdout"
        }
      ]
    },
    {
      "cell_type": "code",
      "metadata": {
        "colab": {
          "base_uri": "https://localhost:8080/"
        },
        "id": "fAu8XA3gWese",
        "outputId": "bf875806-101d-4adb-8ca9-ade556a5b31c"
      },
      "source": [
        "from nltk.stem.porter import *\n",
        "stemmer = PorterStemmer()\n",
        "stemmed_tokens = []\n",
        "for row in df['tokens_no_sw']:\n",
        "  stemmed_tokens.append([stemmer.stem(t) for t in row])\n",
        "\n",
        "df['stemmed_tokens'] = stemmed_tokens\n",
        "print('Before stemming:\\n', df['tokens_no_sw'].head(3))\n",
        "print('After stemming:\\n', df['stemmed_tokens'].head(3))"
      ],
      "execution_count": null,
      "outputs": [
        {
          "output_type": "stream",
          "text": [
            "Before stemming:\n",
            " 0    [neyo, wife, reveal, 3rd, baby, s, gender, , n...\n",
            "1    [wat, happening, on, complaint, 21932638, rais...\n",
            "2                                          [welcome, ]\n",
            "Name: tokens_no_sw, dtype: object\n",
            "After stemming:\n",
            " 0    [neyo, wife, reveal, 3rd, babi, s, gender, , n...\n",
            "1    [wat, happen, on, complaint, 21932638, rais, o...\n",
            "2                                           [welcom, ]\n",
            "Name: stemmed_tokens, dtype: object\n"
          ],
          "name": "stdout"
        }
      ]
    },
    {
      "cell_type": "code",
      "metadata": {
        "colab": {
          "base_uri": "https://localhost:8080/"
        },
        "id": "DEXAj2laa3s_",
        "outputId": "5083725a-63fe-4977-baa7-f870adfe297a"
      },
      "source": [
        "from nltk.stem import WordNetLemmatizer\n",
        "nltk.download('wordnet')\n",
        "lemmatizer = WordNetLemmatizer()\n",
        "lem_tokens = []\n",
        "for row in df['tokens_no_sw']:\n",
        "  lem_tokens.append([lemmatizer.lemmatize(t) for t in row])\n",
        "\n",
        "df['lem_tokens'] = lem_tokens\n",
        "\n",
        "# Print results\n",
        "print(df['lem_tokens'].head(5))"
      ],
      "execution_count": null,
      "outputs": [
        {
          "output_type": "stream",
          "text": [
            "[nltk_data] Downloading package wordnet to /root/nltk_data...\n",
            "[nltk_data]   Unzipping corpora/wordnet.zip.\n",
            "0    [neyo, wife, reveal, 3rd, baby, s, gender, , n...\n",
            "1    [wat, happening, on, complaint, 21932638, rais...\n",
            "2                                          [welcome, ]\n",
            "3    [ready, promo, netflix, sharing, 1, bulan, onl...\n",
            "4                                          [oblivionx]\n",
            "Name: lem_tokens, dtype: object\n"
          ],
          "name": "stdout"
        }
      ]
    },
    {
      "cell_type": "code",
      "metadata": {
        "colab": {
          "base_uri": "https://localhost:8080/"
        },
        "id": "n05PsKhobZ51",
        "outputId": "485c9955-e828-485e-b333-f76dcf16e673"
      },
      "source": [
        "# Drop some intermediate columns\n",
        "list(df)\n",
        "df = df.drop(['tokens','lowercase_tokens', 'tokens_no_punct','tokens_no_sw','stemmed_tokens'], axis = 1)\n",
        "\n",
        "print('After removal:\\n', list(df))\n",
        "\n",
        "# Remove blank tokens\n",
        "no_blanks = []\n",
        "for row in df['lem_tokens']:\n",
        "  no_blanks.append([t for t in row if t != ''])\n",
        "df['tokens'] = no_blanks\n",
        "\n",
        "print(df['tokens'].head(5))\n",
        "\n",
        "# drop the last intermediate column\n",
        "df = df.drop(['lem_tokens'], axis = 1)\n",
        "\n",
        "# Now we should have only the label, original text, and cleaned token lists\n",
        "print('Current Columns:\\n',list(df))"
      ],
      "execution_count": null,
      "outputs": [
        {
          "output_type": "stream",
          "text": [
            "After removal:\n",
            " ['tweet', 'followers', 'labels', 'lem_tokens']\n",
            "0    [neyo, wife, reveal, 3rd, baby, s, gender, ney...\n",
            "1    [wat, happening, on, complaint, 21932638, rais...\n",
            "2                                            [welcome]\n",
            "3    [ready, promo, netflix, sharing, 1, bulan, onl...\n",
            "4                                          [oblivionx]\n",
            "Name: tokens, dtype: object\n",
            "Current Columns:\n",
            " ['tweet', 'followers', 'labels', 'tokens']\n"
          ],
          "name": "stdout"
        }
      ]
    },
    {
      "cell_type": "code",
      "metadata": {
        "colab": {
          "base_uri": "https://localhost:8080/",
          "height": 198
        },
        "id": "NfsmjBiFST7N",
        "outputId": "6550b327-f40c-4ea5-f1d3-8841ba365b41"
      },
      "source": [
        "from wordcloud import WordCloud, STOPWORDS, ImageColorGenerator\n",
        "popular = df['labels'] > 1\n",
        "df_pop = df[popular]\n",
        "text = []\n",
        "for lst in df_pop['tokens']:\n",
        "  text.extend(lst)\n",
        "text = ' '.join(text)\n",
        "wordcloud = WordCloud().generate(text)\n",
        "\n",
        "# Display the generated image:\n",
        "plt.imshow(wordcloud, interpolation='bilinear')\n",
        "plt.axis(\"off\")\n",
        "plt.show()"
      ],
      "execution_count": null,
      "outputs": [
        {
          "output_type": "display_data",
          "data": {
            "image/png": "[encoded data removed]",
            "text/plain": [
              "<Figure size 432x288 with 1 Axes>"
            ]
          },
          "metadata": {
            "tags": [],
            "needs_background": "light"
          }
        }
      ]
    },
    {
      "cell_type": "code",
      "metadata": {
        "colab": {
          "base_uri": "https://localhost:8080/",
          "height": 198
        },
        "id": "bHC2NTf_c2H5",
        "outputId": "2867e37e-3d66-455a-af04-3458786ecff6"
      },
      "source": [
        "from wordcloud import WordCloud, STOPWORDS, ImageColorGenerator\n",
        "popular = df['labels'] == 1\n",
        "df_less_pop = df[popular]\n",
        "text = []\n",
        "for lst in df_less_pop['tokens']:\n",
        "  text.extend(lst)\n",
        "text = ' '.join(text)\n",
        "wordcloud = WordCloud().generate(text)\n",
        "\n",
        "# Display the generated image:\n",
        "plt.imshow(wordcloud, interpolation='bilinear')\n",
        "plt.axis(\"off\")\n",
        "plt.show()"
      ],
      "execution_count": null,
      "outputs": [
        {
          "output_type": "display_data",
          "data": {
            "image/png": "[encoded data removed]",
            "text/plain": [
              "<Figure size 432x288 with 1 Axes>"
            ]
          },
          "metadata": {
            "tags": [],
            "needs_background": "light"
          }
        }
      ]
    },
    {
      "cell_type": "code",
      "metadata": {
        "colab": {
          "base_uri": "https://localhost:8080/",
          "height": 198
        },
        "id": "zX2P1m_SeKDR",
        "outputId": "c09b129d-7432-44bd-d675-5b5bffa413f0"
      },
      "source": [
        "from wordcloud import WordCloud, STOPWORDS, ImageColorGenerator\n",
        "popular = df['labels'] < 1\n",
        "df_lst_pop = df[popular]\n",
        "text = []\n",
        "for lst in df_lst_pop['tokens']:\n",
        "  text.extend(lst)\n",
        "text = ' '.join(text)\n",
        "wordcloud = WordCloud().generate(text)\n",
        "\n",
        "# Display the generated image:\n",
        "plt.imshow(wordcloud, interpolation='bilinear')\n",
        "plt.axis(\"off\")\n",
        "plt.show()"
      ],
      "execution_count": null,
      "outputs": [
        {
          "output_type": "display_data",
          "data": {
            "image/png": "[encoded data removed]",
            "text/plain": [
              "<Figure size 432x288 with 1 Axes>"
            ]
          },
          "metadata": {
            "tags": [],
            "needs_background": "light"
          }
        }
      ]
    },
    {
      "cell_type": "code",
      "metadata": {
        "colab": {
          "base_uri": "https://localhost:8080/",
          "height": 204
        },
        "id": "67ZqIYLPSBrE",
        "outputId": "b4b065c4-12d3-4ad5-e1c8-9e67348346f6"
      },
      "source": [
        "df_pop.head()"
      ],
      "execution_count": null,
      "outputs": [
        {
          "output_type": "execute_result",
          "data": {
            "text/html": [
              "<div>\n",
              "<style scoped>\n",
              "    .dataframe tbody tr th:only-of-type {\n",
              "        vertical-align: middle;\n",
              "    }\n",
              "\n",
              "    .dataframe tbody tr th {\n",
              "        vertical-align: top;\n",
              "    }\n",
              "\n",
              "    .dataframe thead th {\n",
              "        text-align: right;\n",
              "    }\n",
              "</style>\n",
              "<table border=\"1\" class=\"dataframe\">\n",
              "  <thead>\n",
              "    <tr style=\"text-align: right;\">\n",
              "      <th></th>\n",
              "      <th>tweet</th>\n",
              "      <th>followers</th>\n",
              "      <th>labels</th>\n",
              "      <th>tokens</th>\n",
              "    </tr>\n",
              "  </thead>\n",
              "  <tbody>\n",
              "    <tr>\n",
              "      <th>7</th>\n",
              "      <td>I mean, at this point I can believe anything, ...</td>\n",
              "      <td>44065</td>\n",
              "      <td>2</td>\n",
              "      <td>[mean, point, can, believe, anything, m, still...</td>\n",
              "    </tr>\n",
              "    <tr>\n",
              "      <th>54</th>\n",
              "      <td>Proud To Be Fan Of My God. #देश_की_शान_मोदीजी ...</td>\n",
              "      <td>396641</td>\n",
              "      <td>2</td>\n",
              "      <td>[proud, to, fan, god, दश_क_शन_मदज, http, tcofr...</td>\n",
              "    </tr>\n",
              "    <tr>\n",
              "      <th>57</th>\n",
              "      <td>An improved version of the Drafts Review Matri...</td>\n",
              "      <td>45745</td>\n",
              "      <td>2</td>\n",
              "      <td>[improved, version, draft, review, matrix, res...</td>\n",
              "    </tr>\n",
              "    <tr>\n",
              "      <th>62</th>\n",
              "      <td>Britney Spears Was All Smiles After She Got Th...</td>\n",
              "      <td>10653</td>\n",
              "      <td>2</td>\n",
              "      <td>[britney, spear, all, smile, after, got, covid...</td>\n",
              "    </tr>\n",
              "    <tr>\n",
              "      <th>77</th>\n",
              "      <td>Bootstrapping, managing product-led growth and...</td>\n",
              "      <td>11655</td>\n",
              "      <td>2</td>\n",
              "      <td>[bootstrapping, managing, productled, growth, ...</td>\n",
              "    </tr>\n",
              "  </tbody>\n",
              "</table>\n",
              "</div>"
            ],
            "text/plain": [
              "                                                tweet  ...                                             tokens\n",
              "7   I mean, at this point I can believe anything, ...  ...  [mean, point, can, believe, anything, m, still...\n",
              "54  Proud To Be Fan Of My God. #देश_की_शान_मोदीजी ...  ...  [proud, to, fan, god, दश_क_शन_मदज, http, tcofr...\n",
              "57  An improved version of the Drafts Review Matri...  ...  [improved, version, draft, review, matrix, res...\n",
              "62  Britney Spears Was All Smiles After She Got Th...  ...  [britney, spear, all, smile, after, got, covid...\n",
              "77  Bootstrapping, managing product-led growth and...  ...  [bootstrapping, managing, productled, growth, ...\n",
              "\n",
              "[5 rows x 4 columns]"
            ]
          },
          "metadata": {
            "tags": []
          },
          "execution_count": 19
        }
      ]
    },
    {
      "cell_type": "code",
      "metadata": {
        "colab": {
          "base_uri": "https://localhost:8080/"
        },
        "id": "FS3jZTZ7bpYX",
        "outputId": "c20be35f-a101-4b60-d2e2-759da8b94d5b"
      },
      "source": [
        "from sklearn.feature_extraction.text import CountVectorizer\n",
        "from sklearn.feature_extraction.text import TfidfTransformer\n",
        "from sklearn.model_selection import train_test_split\n",
        "\n",
        "# Separate labels from features, converting to numpy arrays\n",
        "X, y = df['tokens'].to_numpy(), df['labels'].to_numpy()\n",
        "\n",
        "\n",
        "def override_fcn(doc):\n",
        "  # We expect a list of tokens as input\n",
        "  return doc\n",
        "\n",
        "# Count Vectorizer\n",
        "count_vec = CountVectorizer(\n",
        "    analyzer='word',\n",
        "    tokenizer= override_fcn,\n",
        "    preprocessor= override_fcn,\n",
        "    token_pattern= None)\n",
        "\n",
        "# Remember this output is a Scipy Sparse Array\n",
        "counts = count_vec.fit_transform(X)\n",
        "print(counts.toarray())\n",
        "\n",
        "# Print the names of each of the features (1000 total))\n",
        "print(count_vec.get_feature_names())\n",
        "# Print this mapping as dictionary\n",
        "print(count_vec.vocabulary_)"
      ],
      "execution_count": null,
      "outputs": [
        {
          "output_type": "stream",
          "text": [
            "[[0 0 0 ... 0 0 0]\n",
            " [0 0 0 ... 0 0 0]\n",
            " [0 0 0 ... 0 0 0]\n",
            " ...\n",
            " [0 0 0 ... 0 0 0]\n",
            " [0 0 0 ... 0 0 0]\n",
            " [0 0 0 ... 0 0 0]]\n",
            "['0446', '0547', '07l', '09', '094703', '09apr21', '1', '10', '100', '10700k', '10980xe', '10am', '10k', '11', '110v', '12', '1200', '12noon', '12v', '13', '139', '14', '15k', '16', '16k', '17', '175196', '180', '1975', '1am', '1rmd75', '1st', '1stsb19whatsary', '2', '20', '200', '2004', '2008', '2009', '2011', '2012', '2013', '2017', '2020', '2021', '20k', '20th', '21932638', '21ºc', '220', '24', '241beats', '25', '2500', '2528', '27', '3', '31', '32', '34', '34999', '360', '3per', '3rd', '4', '40', '40m', '41', '412', '42999', '45', '46ghz', '4a', '4am', '4get', '4k', '4th', '5', '50', '500', '50ghz', '540522690', '545', '57', '5yearswithnctjaehyun', '6', '62', '63rd', '660w', '69f', '7', '70', '8', '8000', '8va', '9', '900', '90059', '913', '92k', '966', '__________', '_milk06', 'aaaaaaa', 'aaaaaaaaaa', 'aaaaah', 'aaaaahhhhhhhhhhh', 'aaaahhhhhh', 'ab', 'abducted', 'ability', 'able', 'abolish', 'abolitionist', 'aboriginal', 'abou', 'about', 'above', 'abroad', 'absolutely', 'absorber', 'abt', 'ac', 'ac136b1f', 'acceptance', 'accidental', 'accomplished', 'account', 'accurate', 'accused', 'ache', 'acousticelectric', 'acted', 'action', 'actually', 'adam', 'added', 'address', 'adjustable', 'adlibs', 'admit', 'af', 'affect', 'affection', 'affordable', 'affording', 'after', 'again', 'ageless', 'agent', 'agnation', 'ago', 'agree', 'agreed', 'ahead', 'ahhhh', 'ail', 'ain', 'aint', 'airport', 'aki', 'akion', 'al', 'albedo', 'albeit', 'album', 'alert', 'alex', 'alfa', 'ali', 'alive', 'all', 'allen', 'almost', 'along', 'alot', 'alpha', 'already', 'alright', 'also', 'alt', 'alwas', 'always', 'alzheimer', 'amaryllis', 'amazing', 'ambiguity', 'american', 'amigas', 'amiri', 'amo', 'amongst', 'amp', 'andachine', 'anddddddd', 'andi', 'aned', 'ang', 'angry', 'animal', 'anime', 'anniversary', 'announced', 'announcement', 'annoys', 'another', 'answer', 'antagonism', 'antisvslarries', 'anxiety', 'any', 'anyone', 'anything', 'anyway', 'anywherewithizone', 'aoty', 'ap', 'apart', 'apology', 'app', 'apparently', 'appreciate', 'appreciated', 'approach', 'apr', 'apr9coup', 'april', 'ar', 'arashi', 'arc', 'aren', 'argentina', 'army', 'around', 'arrested', 'arrived', 'arrow', 'art', 'article', 'artist', 'as', 'aseeekk', 'asf', 'ask', 'asked', 'asking', 'asleep', 'asse', 'assemble', 'asshole', 'assistance', 'associated', 'assumed', 'assured', 'asymptomatic', 'ateez', 'atlanta', 'atleast', 'atone', 'atop', 'attacked', 'attracting', 'audio', 'author', 'authority', 'authorlife', 'automate', 'autumn', 'avaa', 'aversion', 'avoid', 'away', 'aww', 'awww', 'ay', 'aye', 'ayo', 'ayupkrisxmrsblossom', 'b', 'b076f949', 'baby', 'babyy', 'back', 'backpack', 'backup', 'bad', 'baee', 'bag', 'bago', 'ballon', 'ban', 'bangyedam', 'barcelona', 'barely', 'based', 'basic', 'basil', 'battle', 'bay', 'bb', 'bby', 'bc', 'beach', 'bearish', 'beat', 'beautiful', 'became', 'become', 'becoming', 'bed', 'bedroom', 'beef', 'beefing', 'before', 'begging', 'beginning', 'begun', 'behind', 'beibi', 'believe', 'belong', 'below', 'benefit', 'benzema', 'best', 'bestcoversong', 'bestfanarmy', 'bestie', 'bestmusicvideo', 'better', 'between', 'beyond', 'bhw', 'biased', 'bible', 'biden', 'big', 'bikini', 'billie', 'binance', 'bird', 'birthday', 'bisexual', 'bish', 'bit', 'bitch', 'bitcoin', 'black', 'blackpink', 'blade', 'blame', 'blanco', 'blazer', 'bleacher', 'bless', 'blessing', 'block', 'blocked', 'blogwith', 'blondie', 'blood', 'bloodstain', 'bloody', 'blowing', 'blown', 'blue', 'board', 'boat', 'boborol', 'body', 'bog', 'boil', 'book', 'booknerd', 'bookreviews', 'bookworm', 'boomer', 'boost', 'boosterclub', 'bootlicking', 'bootstrapping', 'bop', 'border', 'bored', 'boring', 'bot', 'both', 'bothering', 'bottle', 'bought', 'bound', 'bout', 'box', 'boy', 'boyfriend', 'bp', 'bra', 'bracelet', 'brain', 'brand', 'bravery', 'brazil', 'breaaaaathhheeee', 'break', 'breaking', 'breakup', 'breathe', 'brief', 'bright', 'bring', 'britney', 'bro', 'broken', 'brother', 'brought', 'brow', 'brown', 'bruce', 'bruh', 'brushing', 'bts', 'btsarmy', 'btw', 'bu', 'bubble', 'bucket', 'bughars', 'buhleni', 'build', 'bulan', 'burn', 'burning', 'bury', 'butta', 'buy', 'buzzfeed', 'bye', 'c', 'ca', 'cabinetsnfbsjdjsn', 'cakep', 'calculation', 'call', 'called', 'calling', 'callofdutyblackopscoldwar', 'cam', 'cambodia', 'came', 'camila', 'can', 'canadian', 'cancer', 'candy', 'cant', 'cantevencontainhim', 'cantstophim', 'cap', 'capitalist', 'captain', 'capture', 'car', 'card', 'cardboard', 'care', 'career', 'cari', 'carole', 'carolina', 'carr', 'carry', 'case', 'casey', 'cassie', 'caster', 'cat', 'catie', 'caught', 'cause', 'caused', 'causeee', 'cb', 'celebrated', 'centrefold', 'certified', 'chain', 'chakra', 'chakrabracelet', 'challenge', 'challenger', 'champed', 'chanbar', 'chance', 'chanel', 'change', 'changed', 'changing', 'channel', 'chanyeol', 'chanyeoll', 'charged', 'chart', 'chase', 'chatted', 'cheap', 'cheat', 'check', 'cheek', 'cheer', 'cheese', 'cheif', 'chelsea', 'cherry', 'chicago', 'child', 'childhood', 'chill', 'choi', 'choke', 'choose', 'chopping', 'chose', 'christan', 'chromatica', 'chun', 'city', 'civill', 'cking', 'clap', 'claraaaa', 'class', 'claw', 'clean', 'cleaned', 'cleaner', 'clear', 'clearly', 'click', 'clini', 'clipper', 'clippernation', 'close', 'closed', 'closetideas', 'closetmakeover', 'closetorganization', 'cloudy', 'clue', 'coach', 'cobol', 'cocktail', 'cocky', 'cod', 'code', 'coded', 'coffee', 'coinbase', 'coingape', 'colab', 'cold', 'cole', 'collection', 'collective', 'college', 'colorado', 'columbia', 'columnist', 'come', 'comer', 'coming', 'comment', 'commit', 'commitment', 'common', 'company', 'competing', 'competition', 'compiler', 'compition', 'complain', 'complaining', 'complaint', 'completely', 'compliance', 'complicated', 'complimented', 'comprehensive', 'compressor', 'concerned', 'concert', 'confess', 'confirmed', 'confirming', 'connect', 'consider', 'constantly', 'construction', 'consumerism', 'contact', 'contemporary', 'contender', 'content', 'continent', 'continuous', 'continuously', 'contributed', 'contribution', 'control', 'controlling', 'conversation', 'convert', 'converted', 'cookiescoin', 'cool', 'cooped', 'coordination', 'coowner', 'cope', 'coppola', 'copy', 'core', 'corner', 'correct', 'correction', 'cory', 'cost', 'cotton', 'could', 'count', 'countri', 'country', 'course', 'cousin', 'cover', 'covid', 'covid19', 'cowboy', 'cp', 'cp3', 'crab', 'crack', 'crawling', 'crazy', 'creator', 'crediting', 'cricket', 'cried', 'crime', 'criminal', 'crine', 'cross', 'crph', 'crush', 'cruz', 'cry', 'cryying', 'cultural', 'cup', 'cure', 'current', 'currently', 'cursing', 'cut', 'cute', 'cutie', 'cutting', 'cuz', 'cv', 'd', 'da', 'daaaam', 'dad', 'daddy', 'damn', 'dancingwiththedevil', 'dankmemes', 'dare', 'data', 'date', 'daughter', 'dave', 'dawg', 'day', 'daylight', 'dd', 'dd4l', 'de', 'deactivate', 'dead', 'deadly', 'deadlydumbassdonaldtrump', 'dear', 'death', 'decide', 'decisivebe', 'deep', 'defend', 'definitely', 'definition', 'deleted', 'deliver', 'delivery', 'demi', 'democrcay', 'dentist', 'deobis', 'depression', 'derp', 'describe', 'deserve', 'deserves', 'desi', 'design', 'desk', 'despite', 'destinationbe', 'deuk', 'development', 'device', 'dew', 'diana', 'dickballscom', 'didn', 'didnt', 'die', 'different', 'differently', 'digital', 'dimension', 'dimitri', 'dine', 'dios', 'dipped', 'direct', 'directly', 'dis', 'disability', 'disagree', 'disappointed', 'discord', 'discus', 'disguise', 'disgusting', 'disparity', 'disqualification', 'disqualified', 'disrespect', 'disrespectful', 'disse', 'djdnt', 'djfjfj', 'dm', 'dmumt', 'dmx', 'dmxhospitalized', 'dmxupdate', 'doctor', 'dodge', 'dodgy', 'doesn', 'doesnt', 'doin', 'doja', 'dollar', 'don', 'donate', 'done', 'donkey', 'dont', 'door', 'doorknob', 'dor', 'dot', 'double', 'doubt', 'doubting', 'down', 'download', 'doy', 'draft', 'dream', 'dream11', 'dreaming', 'drink', 'drinking', 'drive', 'driving', 'drop', 'dropped', 'drum', 'dryer', 'dub', 'dude', 'duhhhhhh', 'duma', 'dumb', 'dumbfuck', 'dunno', 'during', 'durk', 'dying', 'dyinggggggg', 'dynamite', 'e', 'e15', 'ear', 'early', 'earth', 'easy', 'eat', 'eating', 'eats', 'eavesdropping', 'ebay', 'eddie', 'edge', 'edit', 'edition', 'editor', 'education', 'eh', 'either', 'electric', 'elevate', 'elris', 'else', 'em', 'email', 'emotion', 'emotional', 'employee', 'emtpy', 'en', 'end', 'energy', 'engine', 'english', 'eno', 'enough', 'entanglement', 'enterprise', 'entry', 'equality', 'equip', 'equitable', 'error', 'esperando', 'essay', 'essek', 'etf', 'eth', 'ethereal', 'ethusd', 'eu', 'evaluation', 'even', 'evening', 'eventually', 'ever', 'everest', 'every', 'everyday', 'everyone', 'everything', 'eveydwhere', 'evil', 'evolved', 'exam', 'excellent', 'exchange', 'excited', 'excuse', 'exhibiti', 'exist', 'expect', 'expensive', 'experience', 'expiry', 'explanation', 'extra', 'extreme', 'extremely', 'ey', 'eye', 'f', 'faaaadeee', 'face', 'facility', 'fact', 'fail', 'failed', 'fails', 'fairy', 'fait', 'fall', 'false', 'famili', 'family', 'fan', 'fantastic', 'fantasy', 'far', 'farewell', 'fast', 'father', 'favechoreography', 'favs', 'fax', 'fb', 'fbg', 'fbi', 'fblike', 'fearless', 'fearlesstaylorsversion', 'fecking', 'federal', 'fediel', 'feed', 'feeding', 'feel', 'feeling', 'fender', 'fer', 'fergussen', 'fetus', 'few', 'fics', 'fifteen', 'fight', 'fighter', 'fighting', 'figure', 'film', 'finally', 'find', 'fine', 'finger', 'finna', 'fire', 'firearm', 'first', 'fishe', 'fishing', 'five', 'fix', 'flashback', 'flavor', 'fledged', 'fleek', 'flight', 'flip', 'floor', 'flush', 'fly', 'focus', 'follow', 'following', 'food', 'foot', 'football', 'force', 'forecast', 'foreplay', 'forever', 'forget', 'forgetting', 'forgot', 'formal', 'former', 'formica', 'forward', 'forwarded', 'found', 'fourteenth', 'fr', 'fraud', 'fre', 'freak', 'free', 'fren', 'french', 'friday', 'fridaylivestream', 'friend', 'friendship', 'from', 'front', 'frozen', 'fruit', 'fruity', 'frustrated', 'frustrating', 'ft', 'fuck', 'fuckboi', 'fucked', 'fuckin', 'fucking', 'fulani', 'full', 'fully', 'fumbled', 'fun', 'fundraise', 'funny', 'fushiguro', 'g', 'ga', 'gaaaat', 'gai', 'gain', 'galat', 'game', 'gamenight', 'gamepass', 'ganda', 'gang', 'garlic', 'gay', 'ge', 'gender', 'general', 'generation', 'genocide', 'genre', 'genshin', 'gentleness', 'genty', 'genuine', 'genuinely', 'george', 'get', 'geto', 'getting', 'gf', 'gfs', 'gghradio', 'ghostbustersafterlife', 'gimmie', 'girl', 'giv', 'give', 'giveaway', 'glad', 'glory', 'gm', 'go', 'goated', 'gobshite', 'god', 'going', 'gold', 'goldusd', 'gon', 'gone', 'good', 'goodafternoon', 'goodbye', 'goodnight', 'google', 'goose', 'gosh', 'gospelgh', 'gossip', 'gossiping', 'got', 'gotchu', 'gotten', 'government', 'gra', 'grab', 'grand', 'grani', 'graph', 'grayscale', 'grear', 'great', 'greatest', 'greatly', 'green', 'grey', 'grief', 'grifter', 'grilled', 'grip', 'group', 'grown', 'growth', 'gt', 'gto', 'guess', 'guideline', 'guitar', 'gulf', 'gummy', 'gun', 'gunderson', 'gunfire', 'gupgup', 'gupi', 'gut', 'guy', 'h', 'hacked', 'hacker', 'hahaha', 'hahahshshha', 'hai', 'hair', 'half', 'hallelujaaaaaaaaaah', 'halluakwudh', 'haloo', 'halsey', 'hand', 'handle', 'hanger', 'hannah', 'happened', 'happening', 'happens', 'happiest', 'happy', 'har', 'harbouring', 'hard', 'harder', 'haruto', 'hasn', 'hastag', 'hat', 'hate', 'hater', 'havells', 'haven', 'havenassociated', 'havent', 'hawk', 'hayes', 'head', 'headphone', 'healing', 'hear', 'heard', 'hearing', 'heart', 'hearteuuuu', 'heat', 'heck', 'hehehexd', 'hell', 'hello', 'help', 'helpin', 'helpless', 'helppppp', 'herald', 'here', 'hermosa', 'hey', 'hi', 'high', 'higher', 'highest', 'hiii', 'hilarious', 'hill', 'hired', 'history', 'hit', 'hmmmmm', 'ho', 'hold', 'hollywood', 'holy', 'hom', 'home', 'homie', 'homo', 'honest', 'honestly', 'honey', 'hood', 'hooked', 'hope', 'horror', 'hour', 'house', 'househusband', 'how', 'howyoulikethat', 'hr', 'http', 'hug', 'huh', 'human', 'humdity68', 'hunmanity', 'hurt', 'hyejoooooooo', 'hyperfixations', 'hyunjung', 'hyx', 'i7', 'i9', 'id', 'idea', 'idek', 'identified', 'idiot', 'idiotkkk', 'idk', 'idol', 'ifake', 'ifr', 'ig', 'ignores', 'ihc', 'iheart', 'iheartawards', 'ihip', 'ikatancinta', 'ikr', 'ill', 'ily', 'ilym', 'im', 'ima', 'imagine', 'immediately', 'impeach', 'implication', 'impostor', 'improved', 'impulse', 'in', 'inch', 'included', 'including', 'income', 'inconvenience', 'increase', 'increasing', 'index', 'indian', 'indomy', 'indonesian', 'industry', 'informative', 'ing', 'initial', 'injury', 'innocent', 'insane', 'insein', 'insensitivity', 'inshallah', 'inside', 'insight', 'insta', 'instagram', 'instance', 'instantly', 'instea', 'instead', 'instinctively', 'instrumentals', 'insuperable', 'intel', 'intense', 'intention', 'interacted', 'interacting', 'international', 'internet', 'into', 'intoxicating', 'introduced', 'introduces', 'invaded', 'involved', 'involving', 'ion', 'ipa', 'irritant', 'isn', 'isolating', 'isolation', 'isso', 'issue', 'issueinterimconstitution', 'istay', 'istg', 'itching', 'ittt', 'itzy', 'iu', 'iuicfundr', 'iuicfundraisingorg', 'ive', 'izone', 'j', 'jackie', 'jaehyun', 'jamming', 'jane', 'janet', 'january', 'japan', 'japanese', 'jason', 'jaylen', 'jaylor', 'jc', 'jean', 'jen', 'jeon', 'jeopardize', 'jerk', 'jesus', 'ji', 'jinkook', 'jkekmwwns', 'joba', 'joe', 'join', 'joke', 'jonas', 'jonesmoffett', 'joseph', 'josh', 'joysti', 'jpy', 'jual', 'jubai', 'judgementfree', 'juice', 'juicy', 'july', 'jumpman', 'june', 'jungkook', 'junk', 'junta', 'just', 'justice', 'karl', 'karnan', 'ke', 'keep', 'keloun', 'kennot', 'ketauan', 'key', 'ki', 'kil', 'kill', 'killed', 'killian', 'kimmy', 'kind', 'kinda', 'kindly', 'king', 'kinsman', 'kiss', 'kissed', 'kissing', 'kit', 'kitten', 'kiyosake', 'klee', 'klled', 'kn', 'knew', 'knife', 'kniw', 'knot', 'know', 'knowing', 'known', 'ko', 'koda', 'kodrea', 'kollywood', 'korean', 'koukuntla', 'kramer', 'kstay', 'ku', 'ky', 'kyle', 'l', 'la', 'laaa', 'laat', 'label', 'labyuu', 'lacey', 'lack', 'lady', 'lakeyah', 'langa', 'lap', 'lard', 'larynx', 'laser', 'last', 'later', 'latest', 'laugh', 'laughing', 'lawyer', 'layout', 'lazada', 'le', 'lead', 'leak', 'learn', 'learning', 'least', 'leather', 'leav', 'leave', 'lee', 'left', 'leftist', 'leg', 'legend', 'lem', 'lesbian', 'lesslie', 'let', 'letting', 'level', 'li', 'lie', 'lied', 'life', 'lifeee', 'light', 'lika', 'like', 'lily', 'limited', 'limitededition', 'line', 'lined', 'link', 'linkedin', 'linux', 'lip', 'liquor', 'list', 'listen', 'listened', 'listening', 'literally', 'little', 'live', 'living', 'll', 'llamen', 'lmao', 'lmaoo', 'lmaooooo', 'lmfaoo', 'lmk', 'lock', 'lockdown', 'logical', 'lol', 'loli', 'lonely', 'long', 'longer', 'look', 'looking', 'loona', 'lord', 'loreal', 'lorealdreamlengthsxgulf', 'lose', 'losing', 'loss', 'lost', 'lot', 'loud', 'loudly', 'louies', 'lounge', 'love', 'loved', 'lovely', 'lovey', 'low', 'lower', 'lowest', 'lowkey', 'lstay', 'lt', 'luckily', 'lucky', 'lunch', 'luv', 'lvl', 'ly', 'lyric', 'm', 'ma', 'mad', 'made', 'madeon', 'madrid', 'magnifificense', 'mahesh', 'main', 'make', 'making', 'male', 'malefemale', 'mam', 'mama', 'mame', 'man', 'managing', 'manga', 'manner', 'many', 'manzini', 'map', 'march', 'marched', 'margate', 'mari', 'marica', 'mark', 'marketing', 'marleyan', 'marriage', 'martinsville', 'mask', 'masochist', 'mass', 'massage', 'massage_dammam', 'master', 'masturbator', 'mate', 'matou', 'matrix', 'matter', 'may', 'maybe', 'mayor', 'me', 'mean', 'meanwhile', 'mechanical', 'medical', 'medicare', 'medium', 'meeeee', 'meet', 'mel', 'melo', 'member', 'meme', 'memesdaily', 'memory', 'men', 'mental', 'mentally', 'mention', 'mentioned', 'mequality', 'merry', 'meta', 'metaphor', 'meth', 'method', 'mettaton', 'mettaton_ex', 'mf', 'mfckrs', 'mi', 'mic', 'mick', 'mickey', 'middle', 'middleaged', 'might', 'mike', 'mild', 'military', 'milk', 'million', 'mind', 'mine', 'mingyu', 'mini', 'miniature', 'minimum', 'minipuft', 'minor', 'minseo', 'minute', 'misplaced', 'miss', 'missed', 'mistake', 'mitski', 'mix', 'mo', 'mobile', 'modelling', 'modern', 'modi', 'mom', 'moment', 'mon', 'money', 'monkey', 'monsoon', 'monster', 'montage', 'month', 'mood', 'moot', 'mor', 'more', 'morning', 'moronic', 'most', 'mother', 'motor', 'mouse', 'mouth', 'move', 'moved', 'movement', 'movie', 'movieseries', 'movin', 'mpsc', 'mr', 'msp', 'mto', 'much', 'multicolored', 'mummy', 'munawarfaruqui', 'murder', 'music', 'must', 'muted', 'muzzies', 'mv', 'mythra', 'n', 'na', 'nah', 'nalin', 'nam', 'name', 'namo', 'nashville', 'nation', 'national', 'natnova', 'natsu', 'nba', 'nct', 'nct재현', 'nearly', 'neck', 'need', 'needed', 'negative', 'neighbor', 'neil', 'neither', 'nemizzo', 'nerdy', 'nervous', 'netflix', 'never', 'new', 'newporter', 'newrelease', 'news', 'next', 'neyo', 'nfl', 'nft', 'nftcommunity', 'ng', 'ngm', 'nice', 'nicholas', 'nicko', 'nie', 'nigga', 'night', 'ninja', 'nj', 'nkjv', 'no', 'nobody', 'noise', 'nonanimal', 'nope', 'nostalgic', 'not', 'note', 'nothin', 'nothing', 'notice', 'noticed', 'novacaine', 'now', 'nowplaying', 'npr', 'nt', 'nubsib', 'number', 'nvm', 'nxttakeover', 'o', 'o1', 'obligation', 'oblivionx', 'observation', 'obsessed', 'obvious', 'occupied', 'ocs', 'odee', 'ofc', 'off', 'offer', 'offered', 'office', 'oh', 'ohh', 'ohhh', 'ohhhh', 'ok', 'okay', 'okaysirr', 'old', 'ole', 'om', 'omfg', 'omg', 'on', 'once', 'one', 'ong', 'only', 'onouter', 'oomf', 'ooni', 'oooh', 'ooooooohhh', 'oops', 'open', 'opened', 'operating', 'opposite', 'opreps', 'optic', 'optional', 'orange', 'orbit', 'order', 'ordered', 'oreo', 'original', 'other', 'others', 'oti', 'ou', 'ouch', 'ounce', 'out', 'outage', 'outboard', 'outlook', 'outsold', 'outta', 'outtttaaaa', 'oven', 'over', 'overtly', 'own', 'owner', 'owns', 'p', 'pa', 'paaccept', 'pacing', 'pack', 'pahlejaanfirexam', 'pain', 'paint', 'painting', 'pair', 'pajama', 'pakistan', 'pandemic', 'pandemically', 'pant', 'papaal', 'parent', 'part', 'partly', 'partner', 'partnered', 'partnership', 'party', 'pass', 'passed', 'pat', 'patiently', 'paused', 'pay', 'paypal', 'paz', 'pdfs', 'peace', 'pedogaetz', 'pee', 'peeing', 'pensando', 'penser', 'people', 'peoplementionsusers', 'perdown', 'perfect', 'perfectly', 'performance', 'period', 'person', 'personal', 'pet', 'petition', 'phase', 'phawtkan', 'philippian', 'phlox', 'phone', 'photo', 'photographer', 'physical', 'physician', 'piano', 'pic', 'pick', 'pie', 'piece', 'pilot', 'pinching', 'pink', 'pinned', 'pistola', 'pitch', 'pizza', 'pjsekai', 'pjsrola', 'pjsruly', 'place', 'plan', 'plandemic', 'plane', 'planet', 'planning', 'plant', 'play', 'played', 'player', 'playing', 'playlist', 'playoff', 'please', 'pleased', 'pleaseee', 'pleaseeee', 'pleaseeeeeeeeeeee', 'pledis', 'plenty', 'pls', 'plss', 'plssss', 'plus', 'po', 'podcast', 'point', 'pointless', 'pokémongo', 'political', 'politician', 'politics', 'polo', 'pong', 'pool', 'popcorn', 'population', 'porn', 'posit', 'position', 'positivity', 'post', 'posting', 'postponed', 'posttimeskip', 'potato', 'pottery', 'pov', 'power', 'powerfull', 'ppl', 'practical', 'praying', 'pre', 'prediction', 'pregnant', 'premium', 'prepare', 'prepstar', 'president', 'pressure100850hpa', 'pretty', 'pretzel', 'price', 'pride', 'princess', 'prison', 'pro', 'probably', 'problem', 'producing', 'productled', 'professional', 'project', 'promo', 'promotion', 'prop', 'prosecuted', 'prospect', 'prostitution', 'protagonist', 'protested', 'proud', 'prove', 'providence', 'ps5share', 'puberty', 'public', 'pulled', 'punch', 'purpose', 'purr', 'purse', 'pusssy', 'pussy', 'put', 'putting', 'pvp', 'pyra', 'q', 'q2', 'qnd', 'qr', 'quacki', 'quackity', 'qual', 'qualifying', 'que', 'queen', 'query', 'quick', 'quilted', 'quit', 'quite', 'r', 'raah', 'race', 'racing', 'racist', 'radiation', 'radio', 'radioactive', 'ragaaa', 'raghvendra', 'rain', 'rainbow', 'raised', 'rajiv', 'ran', 'ranboo', 'range', 'ranked', 'rapper', 'raspberry', 'rate', 'rather', 'ratio', 'razor', 're', 'reach', 'read', 'reader', 'reading', 'ready', 'real', 'realistically', 'realized', 'realllyy', 'really', 'reason', 'rec', 'recently', 'recipe', 'recognizing', 'recommend', 'recommendation', 'recovery', 'recruitment', 'red', 'reel', 'reelected', 'refrain', 'refreshing', 'refuse', 'reg', 'regina', 'regional', 'regret', 'regular', 'regularly', 'relatable', 'relate', 'relationship', 'relative', 'release', 'released', 'releasing', 'religiously', 'remains', 'remember', 'remembering', 'remind', 'reopens', 'rep', 'repair', 'repeat', 'reply', 'report', 'reporting', 'request', 'require', 'rerecord', 'resale', 'research', 'resident', 'respect', 'responding', 'response', 'rest', 'reveal', 'revenge', 'review', 'reviewer', 'rib', 'riddiculous', 'ride', 'ridge', 'right', 'rindu', 'ring', 'riot', 'rip', 'rise', 'rite', 'rlly', 'rn', 'roach', 'road', 'roadrunner', 'robert', 'robin', 'rogue', 'roha', 'roll', 'rolling', 'romaance', 'romantic', 'rondo', 'roof', 'room', 'rosé', 'row', 'rpg', 'rubin', 'rude', 'ruined', 'rule', 'run', 'rush', 's', 's5', 'sa', 'sad', 'safe', 'safety', 'sagittarius', 'said', 'sale', 'same', 'sameee', 'sandawtwin', 'sandwich', 'sang', 'santasallet', 'saturday', 'save', 'saved', 'savelelwa', 'saw', 'say', 'sayin', 'saying', 'sb19', 'sc', 'scared', 'scarf', 'scene', 'school', 'scien', 'scoorio', 'scream', 'screamed', 'screaming', 'screen', 'screnaing', 'scrollingbs', 'se', 'seafood', 'seamos', 'searching', 'season', 'second', 'secret', 'see', 'seeing', 'seems', 'seen', 'seething', 'sejeong', 'self', 'selfcontrol', 'selfes', 'selfie', 'semblence', 'senate', 'send', 'sense', 'sent', 'sequal', 'series', 'serious', 'seriously', 'serve', 'service', 'set', 'sevenyearold', 'several', 'sex', 'shah', 'shake', 'sham', 'shan', 'shape', 'shared', 'sharing', 'sheesh', 'sheri', 'shet', 'shiit', 'shine', 'shinseido', 'shipping', 'shit', 'shitter', 'shitttttt', 'sholat', 'shook', 'shookt', 'shooter', 'shot', 'should', 'shoulder', 'shoulderupper', 'shoutout', 'show', 'showed', 'shuffle', 'shunt', 'shut', 'shy', 'si', 'sick', 'side', 'sideline', 'siganme', 'sigh', 'silly', 'silver', 'sim', 'similatiry', 'simp', 'simple', 'since', 'sing', 'singing', 'single', 'sipped', 'sir', 'sister', 'site', 'sitting', 'situation', 'six', 'size', 'sk', 'skating', 'skip', 'skipless', 'sksksksksk', 'sky', 'skz', 'slacking', 'slackjawed', 'slam', 'slap', 'sleep', 'slogan', 'slowmotion', 'sm', 'small', 'smash', 'smh', 'smile', 'smiling', 'smoking', 'smooth', 'smsm', 'sneakily', 'snow', 'snowflake', 'so', 'soared', 'social', 'society', 'sod', 'sofia', 'solo', 'solution', 'some', 'somebody', 'someday', 'somehow', 'someone', 'somethin', 'something', 'sometime', 'sometimes', 'son', 'song', 'soon', 'sooo', 'soooooo', 'sore', 'sorry', 'sort', 'sorted', 'sosha', 'sou', 'sought', 'soul', 'sound', 'sounded', 'south', 'sp', 'space', 'speak', 'spear', 'specialty', 'specific', 'spelling', 'spend', 'spending', 'spin', 'spiral', 'spiralling', 'spite', 'spittin', 'spot', 'spray', 'spreading', 'spring', 'squad', 'staked', 'stan', 'stand', 'standup', 'stanworld', 'stare', 'start', 'started', 'starting', 'startup', 'state', 'stats', 'stay', 'stealer', 'stephen', 'sti', 'sticker', 'still', 'stock', 'stone', 'stop', 'stopped', 'stopping', 'stoppp', 'storage', 'store', 'story', 'stream', 'streamer', 'streaming', 'street', 'stress', 'strike', 'striking', 'strong', 'struggle', 'studentswantsjustice', 'studied', 'studio', 'study', 'stuff', 'stunning', 'stupid', 'sub', 'submitting', 'successfully', 'such', 'suck', 'suddenly', 'summer', 'sun', 'sunday', 'sung', 'super', 'superb', 'supply', 'support', 'supporting', 'supportive', 'suppose', 'supposed', 'supposedly', 'sure', 'sustaining', 'swal', 'sweat', 'sweatpants', 'sweden', 'swett', 'swift', 'swifties', 'switch', 'swivel', 'sympathy', 'sza', 't', 'ta', 'taaag', 'table', 'tag', 'tagged', 'tail', 'take', 'taken', 'taking', 'talk', 'talked', 'talking', 'taller', 'tan', 'tanking', 'tap', 'target', 'tartaglia', 'taste', 'tasty', 'tatacaw', 'taunggyi', 'tax', 'tay', 'taylor', 'taylorsversion', 'tco00i1ztnntu', 'tco01msrcmrgz', 'tco05olnmhc4q', 'tco0gq7vd1a9t', 'tco0lcefxgske', 'tco0m7lciudpi', 'tco0oc14s8v8m', 'tco0ug3tzc6aj', 'tco0zxkmcnuc7', 'tco1bkcocgqhv', 'tco1lavrhjsss', 'tco1ndyt1f8im', 'tco1p5boys1tl', 'tco1pnv0pyiyd', 'tco28ghquhaup', 'tco2dglaka0zn', 'tco2y0sm1bgb1', 'tco30ap5o17rn', 'tco38tzzfjwug', 'tco3aoub1qjbm', 'tco3b8ji9mwge', 'tco3hjdxsi4or', 'tco3ltrwppxxe', 'tco3nl8s1pnsr', 'tco3pafvkuujc', 'tco3ulu9sz1d8', 'tco4aizt4vy4e', 'tco4q8eanzu2i', 'tco50xa5nd8rr', 'tco532ez6zy04', 'tco5eime1zcdh', 'tco5idp7vubwj', 'tco5lihnvz6lb', 'tco5mj1mq6fqi', 'tco64qvh2facu', 'tco6amkrgk4ot', 'tco6bj4zdgjcp', 'tco6efmfqe2y0', 'tco6iwoeuxlpu', 'tco6lrnabysii', 'tco6oqp4agqg8', 'tco6pusdtj2vv', 'tco6z3htek6x9', 'tco7gczhybojj', 'tco7haznqlncm', 'tco7ia1jbyrk0', 'tco7iu31gxjlf', 'tco7oa2soqffc', 'tco7pps0s235p', 'tco7trnfajjme', 'tco7xyvhg9buh', 'tco808r5rtwlf', 'tco8fr8ugqf56', 'tco8gjbmbjxxc', 'tco8gonwssnsa', 'tco8gzgqdwvom', 'tco8si9bkmwpa', 'tco8y8gcnt0wa', 'tco9g8tgnfnen', 'tco9gvfzfdrjl', 'tco9kffaeqfma', 'tco9maredbysr', 'tco9outuwx0pb', 'tco9u2nr3fm8x', 'tcoa7las46diy', 'tcoa7xsrrv3ae', 'tcoa7yiscurp4', 'tcoa8vpxjlb5g', 'tcoa9xhoflhpo', 'tcoabblfls3fb', 'tcoacc47ne6up', 'tcoadopdkeyjz', 'tcoadxjiceddh', 'tcoaheaxrt6r7', 'tcoaimjzbt1yt', 'tcoakv7agejb9', 'tcoamlzmxksem', 'tcoaqtlpjpobi', 'tcoaz9nxoojjv', 'tcobbujt7gwim', 'tcobccbjpstvo', 'tcobhfds1ycob', 'tcobk1zc7egik', 'tcoblrdws0pdv', 'tcobmmduy3vv9', 'tcobu3btt90qj', 'tcobxwx2rk37v', 'tcoc7ofpz9pvh', 'tcoce6ecvhb2o', 'tcocex32qhqdy', 'tcocj1ezslwt4', 'tcocjgsu1jvf3', 'tcockyxy4pg6m', 'tcoclggh5bccc', 'tcoclquld77lv', 'tcocn5pzkbyrs', 'tcoco2yrrrw8y', 'tcoctlwjfmlm4', 'tcoctvhgeps34', 'tcocupxnb108n', 'tcocxr5aojkub', 'tcocyeteh8lrh', 'tcoczkyp9dis1', 'tcod02bflsktl', 'tcod9kelnk7gc', 'tcodafududjct', 'tcoddii585imo', 'tcodip6fodd2s', 'tcodnepikw9ts', 'tcodqohkabfjo', 'tcodustvzbayy', 'tcodyx3ifrhmm', 'tcoe14i8cyz3n', 'tcoe5afcwo9ds', 'tcoe7huyi9h9b', 'tcoeaunudh6xt', 'tcoec9yqz3tv3', 'tcoecfrp3iosf', 'tcoegfmjxyzr7', 'tcoehhmdggdqe', 'tcoekm2xdobdp', 'tcoelq7pn6kdq', 'tcoepnvfzqlrw', 'tcoeu2ozz2ksr', 'tcoevyjpenvyv', 'tcoez3qnxaoyp', 'tcof1mlgdhoii', 'tcof2pxhwx7mg', 'tcofcj5gsl8zo', 'tcofefxccye7z', 'tcofer32atwrk', 'tcoffymhdgskx', 'tcofgbndmfeqv', 'tcofpan5jvnsq', 'tcofrf2vlf6hx', 'tcofssydjkvjz', 'tcofwvdqqoiul', 'tcogbhi8yz1f3', 'tcogddxol2gob', 'tcoghhiur8vlr', 'tcogn0hsmgs58', 'tcogqaarqfgwb', 'tcoguebzylvjl', 'tcogvlxl3pxae', 'tcoh6gzyvpgek', 'tcohcncbdov3q', 'tcohjesauwbno', 'tcohr0kyqo20m', 'tcohshpqg3ocs', 'tcohucmydwmen', 'tcohzabpaxcn7', 'tcohzry4l4gky', 'tcoi1rkuendzg', 'tcoi7mjtlstlz', 'tcoiciycmym4e', 'tcoicyw6ruift', 'tcoieiz1cijwd', 'tcoihmmmpw4bl', 'tcoikzyom5rks', 'tcoio8zysc6mp', 'tcoirmufbh8wc', 'tcoitgsljsr5b', 'tcoivjxc3tkb5', 'tcoiypmgerw3v', 'tcojasbcn0hgg', 'tcojesqaiwjfn', 'tcojh5ucc5qlx', 'tcojh8vfqqrn1', 'tcojklbzled3v', 'tcojlkfcfoygq', 'tcojmhyqomumv', 'tcojngrrxw1ey', 'tcojrl3wdramk', 'tcojseqtnh2m9', 'tcojtgi3xi1fm', 'tcojuskvc0ozb', 'tcojvto7q4k6b', 'tcojzcf1vdwjf', 'tcok1qnhk7gwm', 'tcok8j7x0ni6n', 'tcok9xbvkma9j', 'tcok9z6kyplyi', 'tcokbngclddhv', 'tcokkc2f9ydns', 'tcokkneahvtuq', 'tcoknf4nid9bs', 'tcokrb65ezcve', 'tcoks3rrnszyp', 'tcokzqptgtnvm', 'tcol7qdqqkkai', 'tcolbwuvaj5ek', 'tcoldajr4i8du', 'tcole90uoebav', 'tcolghndsggog', 'tcolili0infdo', 'tcolkbgcbpjjx', 'tcolltldvryqz', 'tcolp7n02o6xa', 'tcolsqxt7rd8j', 'tcolvbaw76uzp', 'tcom1trxoiwxb', 'tcom5sjaazlaq', 'tcom8y1mm0yql', 'tcombcylv8qyn', 'tcomcdlureaty', 'tcomdhojplnkc', 'tcomg9bjxi3fe', 'tcomhiroqq3lh', 'tcommosvi8qgy', 'tcomrkjs31eq9', 'tcomtoehgl4fl', 'tcomukk5eaq2d', 'tcomwxnkiqa5v', 'tcomx7u3kibvl', 'tconcaqbi3rwh', 'tcondnoeofikx', 'tconhljt7jx83', 'tconivraoxcvv', 'tconksza3iaz4', 'tconskuytjoe9', 'tconynd4k46mf', 'tconz6er1favb', 'tcoo6lyucokpy', 'tcoo8p09mplnk', 'tcooaxia4bo01', 'tcoocgxzb5fgx', 'tcooerul8gpfz', 'tcooetrdqkknv', 'tcoop7k1ewrrd', 'tcooyjvbflnfc', 'tcop422q7gml3', 'tcop47zteoikl', 'tcop4ulmyu9ad', 'tcopcg9cuqktc', 'tcopcxa2cdfxz', 'tcopexbpx2rzg', 'tcopgwzyr00mb', 'tcopiex8eivmg', 'tcopiqifagrfd', 'tcopj1oipabu6', 'tcopjmfxdnsqm', 'tcopjyq7lr26n', 'tcopkcl8n4b3s', 'tcopkp0yjvupv', 'tcopubsqqhob8', 'tcopuglieisyq', 'tcoq4goskajpc', 'tcoq4n6ftf4ip', 'tcoq6ahxs43jz', 'tcoq7sfj7dgoi', 'tcoqaiyl3rkpg', 'tcoqarcsos87s', 'tcoqc99spubcb', 'tcoqfjty3yrh6', 'tcoqgakeuixfs', 'tcoqilpdwlvq2', 'tcoqq1ypolqwe', 'tcoqq5mq1ttwo', 'tcoqqdukz4wcx', 'tcoqseevuzgip', 'tcoqzagu89t7l', 'tcordqdgbiskm', 'tcorg4ttkeyrr', 'tcorh3y6ucikq', 'tcorilecqaeiq', 'tcoriwlghdpnl', 'tcoru69q7hneq', 'tcorysmdgdzoe', 'tcorzja07togz', 'tcorzjxxmfv3i', 'tcos0cvfhwpip', 'tcos0cx4xsu9o', 'tcos3ztzfqakr', 'tcos6c4dedghm', 'tcosaccoc5ui0', 'tcosgczabpnf2', 'tcosgddcugk05', 'tcosilf6fdmkj', 'tcosk9g3k6x5c', 'tcosn4iwsjqdz', 'tcospxdzkfabn', 'tcosr2iqqqn1s', 'tcost2xbalsxj', 'tcosvuauqq8bh', 'tcosyeimu9clp', 'tcot5muirhoe8', 'tcotafhjluyz8', 'tcotgjco5shsv', 'tcotm5ciwyzks', 'tcotobzai8bte', 'tcotq2gwoypzi', 'tcotrtjxqbtri', 'tcotv9bgpvdd0', 'tcotx2wnsyigd', 'tcotzy5vzh9dq', 'tcou4oxnihwzr', 'tcou4rruchc55', 'tcou8oebpqab0', 'tcoudisxniwst', 'tcoueflnwlfh8', 'tcouhawcvsx1t', 'tcouhkj9ebumu', 'tcouiw0h0hjru', 'tcouqqateiy7v', 'tcouuqm68kyfe', 'tcouvflubzazs', 'tcovhbvgzq7er', 'tcovjujfsfvq4', 'tcovknqxeimbq', 'tcovnomdo0gjp', 'tcovobadwsulw', 'tcovp7covnzoj', 'tcovp9ry6wmph', 'tcovulz8r7on5', 'tcovuptaiszws', 'tcovydgmfyb8p', 'tcovye73ibfge', 'tcow2i0n5byhw', 'tcowcgukqhktg', 'tcowkejzxtdy2', 'tcowluekmzxbw', 'tcown4pznkpci', 'tcowpnjgxq4af', 'tcowtk3fr3mm9', 'tcowvuilkkuam', 'tcox1lz7tqou0', 'tcox1vgx8p1kt', 'tcox2llgkj5el', 'tcox46okeyp6r', 'tcox50cz3sko7', 'tcox9ulynnqju', 'tcoxkpsyqspcm', 'tcoxryfumqgbu', 'tcoxs45auo8js', 'tcoxsnud05yoy', 'tcoxu8vvvhh8d', 'tcoxvtg89xhrh', 'tcoxyiosaurku', 'tcoy0mpjwzppt', 'tcoy3ujrplib5', 'tcoyanyshvato', 'tcoydh8xb3hif', 'tcoynfcp6cw8a', 'tcoyun5keucds', 'tcoyx8ut8jxfx', 'tcoyxdp0paowh', 'tcozalqzj9tej', 'tcozas0f05s7c', 'tcozc60eaghvb', 'tcozdchx6lj3w', 'tcozekdx0xm6v', 'tcozgvuon7s3l', 'tcozhltti0gql', 'tcozkbppfzvm4', 'tcozlwrvsvteq', 'tcozu6fqj7zg2', 'tcozui8jmbrxq', 'tcozvhfp8fbbm', 'tcozzkq0iyafj', 'te', 'tea', 'team', 'teammate', 'tearing', 'technical', 'technisport', 'ted', 'telepathy', 'tell', 'tellement', 'temp32ºc', 'temporada', 'ten', 'tense', 'term', 'terminator', 'terrorist', 'test', 'tf', 'th', 'tha', 'than', 'thank', 'thanks', 'thankyou', 'thankyouu', 'thatcher', 'thats', 'thawra', 'then', 'there', 'thered', 'thereof', 'thetriplethreat', 'theyr', 'thief', 'thing', 'think', 'tho', 'thoes', 'thoug', 'though', 'thought', 'thousand', 'thread', 'threatening', 'threw', 'through', 'throw', 'thud', 'thug', 'thunder', 'ticket', 'tier', 'tight', 'til', 'till', 'tim', 'time', 'timeline', 'timer', 'timing', 'ting', 'tiny', 'tip', 'tired', 'titan', 'title', 'titlebound', 'tj', 'tl', 'to', 'today', 'todd', 'together', 'told', 'tolerate', 'tomato', 'tommyinnit', 'tomorrow', 'tone', 'tonight', 'tony', 'too', 'took', 'toomuchtech', 'top', 'touch', 'tough', 'touring', 'town', 'township', 'tra', 'track', 'trading', 'train', 'training', 'transfer', 'transphobia', 'tras', 'travel', 'treasure', 'treasuremap_ep41', 'treat', 'tree', 'trending', 'trip', 'trippin', 'trolling', 'troy', 'true', 'trueeeee', 'trust', 'truth', 'try', 'trying', 'tryna', 'trynna', 'tshwere', 'tsl', 'tsn', 'tsubame', 'tt', 'ttttt', 'tupa', 'turn', 'turning', 'tv', 'tweet', 'tweeted', 'tweeting', 'twerks', 'twice', 'twitch', 'twitter', 'two', 'ty', 'type', 'u', 'ugh', 'ugly', 'uh', 'uhm', 'uk', 'ult', 'ultimate', 'ultra', 'um', 'umm', 'una', 'uncertain', 'under', 'underage', 'underestimate', 'understanding', 'understood', 'undertale', 'unexpectedly', 'unfixable', 'unintentional', 'universal', 'unlikely', 'unmatched', 'uno', 'unskilled', 'untop', 'up', 'update', 'updated', 'upon', 'uptrend', 'ur', 'urcinemas', 'urge', 'urself', 'use', 'used', 'useful', 'useless', 'user', 'usi', 'using', 'usually', 'utc', 'utopian', 'v', 'vaccinated', 'vaccine', 'vacuum', 'vagina', 'vandalize', 'variety', 've', 'vega', 'venti', 'vers', 'verse', 'version', 'vertion', 'very', 'via', 'vice', 'victorious', 'video', 'view', 'villian', 'vintage', 'violence', 'violently', 'virtual', 'visa', 'vision', 'visiting', 'vivid', 'vocal', 'voice', 'vote', 'voz', 'w', 'wack', 'waffle', 'wage', 'wait', 'waiter', 'waitin', 'waiting', 'wake', 'walked', 'walking', 'wall', 'wan', 'want', 'wanted', 'war1000', 'ward', 'washer', 'wasn', 'waste', 'wasted', 'wasting', 'wat', 'watch', 'watched', 'watching', 'water', 'waterhouse', 'wave', 'way', 'wb', 'wcf', 'weak', 'weapon', 'wear', 'weather', 'week', 'weekend', 'weekendwant', 'weird', 'welcome', 'well', 'went', 'wet', 'wh', 'whataboutism', 'whatever', 'whats', 'whatsapp', 'whatshappeninginmyanmar', 'whej', 'when', 'where', 'white', 'whoever', 'whole', 'whooped', 'whose', 'why', 'whyd', 'wi', 'wierd', 'wife', 'wild', 'will', 'win', 'wind', 'wind2kph0', 'wine', 'winlose', 'winner', 'winning', 'wish', 'wit', 'with', 'within', 'without', 'wo', 'woahhh', 'woke', 'wolf', 'woman', 'won', 'wondering', 'wonen', 'wont', 'woohoo', 'woooooooo', 'word', 'worded', 'work', 'worked', 'worker', 'working', 'world', 'worldfirst', 'worldwide', 'worried', 'worst', 'worth', 'would', 'wouldn', 'wow', 'wreck', 'wrenching', 'writer', 'writerlife', 'writing', 'writt', 'wrong', 'wtf', 'wven', 'x', 'xd', 'xdxd', 'xi', 'xps', 'y', 'ya', 'ya3ne', 'yaa', 'yaar', 'yadav', 'yafantasy', 'yahoo', 'yalit', 'yall', 'yassir', 'yayyy', 'yea', 'yeaaaa', 'yeah', 'yeahh', 'yeait', 'year', 'yedam', 'yellen', 'yen', 'yep', 'yes', 'yessssyessss', 'yet', 'yeu', 'yimbys', 'yin', 'yo', 'yokel', 'young', 'youngboy', 'youre', 'youth', 'youtube', 'youve', 'yr', 'yt', 'ythe', 'yuh', 'yuna', 'yup', 'yuuji', 'zatanna', 'zoe', 'zombie', 'zonajajan', 'zonauang', 'zone', 'ʖ', '٩', '۶goooooooooood', 'जनकरह_जरर_पढ', 'दश_क_शन_मदज', '๑', 'より', 'ㄒoㄒ', '빙방', '스테이_트친소', '재현', '트레저', '𝐋𝐚𝐬𝐭𝐞𝐥𝐥']\n",
            "{'neyo': 1692, 'wife': 3055, 'reveal': 2070, '3rd': 63, 'baby': 280, 's': 2110, 'gender': 1020, 'http': 1192, 'tcofssydjkvjz': 2550, 'tcouhkj9ebumu': 2716, 'wat': 3015, 'happening': 1119, 'on': 1755, 'complaint': 581, '21932638': 47, 'raised': 1997, '6': 85, 'april': 226, 'supposed': 2373, 'to': 2846, 'get': 1031, 'response': 2068, 'within': 3068, '24': 50, 'tcoyun5keucds': 2758, 'welcome': 3033, 'ready': 2014, 'promo': 1945, 'netflix': 1685, 'sharing': 2185, '1': 6, 'bulan': 429, 'only': 1759, '20k': 45, 'zonauang': 3157, 'zonajajan': 3156, 't': 2388, 'jual': 1333, 'cari': 466, 'oblivionx': 1731, 'hey': 1159, 'lacey': 1398, 'tcospxdzkfabn': 2695, 'change': 494, 'omfg': 1753, 'mean': 1556, 'point': 1897, 'can': 450, 'believe': 319, 'anything': 212, 'm': 1508, 'still': 2330, 'not': 1713, 'happy': 1122, 'about': 116, 'tcoabblfls3fb': 2484, 'so': 2261, 'proud': 1953, 'same': 2119, 'anniversary': 201, 'let': 1432, 'thought': 2817, 'there': 2805, 'nothing': 1716, 'better': 329, 'than': 2796, 'taylor': 2413, 'releasing': 2047, 'new': 1687, 'album': 165, 'actually': 134, 'tay': 2412, 'tco3pafvkuujc': 2439, 'hi': 1160, 'need': 1676, 'help': 1152, 'writing': 3100, 'essay': 847, 'place': 1871, 'order': 1775, 'with': 3067, 'mequality': 1575, 'original': 1778, 'content': 601, 'assured': 253, 'please': 1884, 'dm': 751, 'guideline': 1091, 'wish': 3065, 'all': 171, 'hater': 1132, 'very': 2974, 'good': 1055, 'evening': 856, 'real': 2015, 'talk': 2398, 'now': 1720, 'see': 2154, 'when': 3044, 'screen': 2144, 'eddie': 814, 'frustrated': 990, 'wtf': 3103, 'know': 1378, 'why': 3051, 'tree': 2879, 'in': 1235, 'fall': 894, 'side': 2213, 'even': 855, 'wrong': 3102, 'love': 1491, 'yo': 3138, 'tcoqaiyl3rkpg': 2665, '7': 90, 'position': 1910, '70': 91, 'minute': 1606, 'lmk': 1467, 'wit': 3066, 'baee': 286, 'fourteenth': 973, 'entry': 841, 'mv': 1657, 'stream': 2340, '14': 21, 'stanworld': 2317, 'sb19': 2133, '1stsb19whatsary': 32, 'tcooerul8gpfz': 2641, 'yep': 3131, 'josh': 1330, 'allen': 172, 'guy': 1101, 'took': 2859, 'from': 985, 'nj': 1705, 'albeit': 164, 'barely': 293, '2': 33, 'bu': 423, 'tcoe7huyi9h9b': 2529, 'no': 1707, 'teammate': 2777, 'ranked': 2002, 'tcoi1rkuendzg': 2567, 'yall': 3119, 'used': 2951, 'fail': 889, 'test': 2792, 'then': 2804, 'start': 2319, 'looking': 1477, 'around': 233, 'anyone': 211, 'else': 825, 'failed': 890, 'too': 2858, 'lmaoo': 1464, 'wasted': 3013, 'youth': 3143, 'read': 2011, 'tweet': 2903, 'before': 313, 'mind': 1597, 'eye': 883, 'dream': 780, 'once': 1756, 'tcoco2yrrrw8y': 2511, 'tcoffymhdgskx': 2546, 'brought': 414, 'up': 2941, 'under': 2926, 'thatcher': 2801, 'think': 2812, 'enough': 838, 'explanation': 878, 'man': 1524, 'driving': 786, 'rain': 1995, 'bedroom': 310, 'everything': 863, 're': 2009, 'here': 1157, 'gone': 1054, 'cause': 478, 'w': 2993, 'tcost2xbalsxj': 2697, 'hilarious': 1165, 'nt': 1723, 'always': 182, 'specialty': 2298, 'would': 3093, 'like': 1442, 'called': 443, 'certified': 484, 'clini': 538, 'tcohshpqg3ocs': 2563, 'anddddddd': 194, 'feeling': 920, 've': 2967, 'grown': 1086, 'fearless': 912, 'big': 336, 'part': 1815, 'childhood': 515, 'amp': 192, 'list': 1453, 'tcomx7u3kibvl': 2628, 'u': 2913, 'getting': 1033, 'foot': 958, 'wet': 3036, 'more': 1630, 'just': 1344, 'say': 2130, 'mic': 1586, 'drop': 787, 'vote': 2991, 'btsarmy': 421, 'bestfanarmy': 326, '2021': 44, 'iheartawards': 1219, 'quackity': 1975, 'ive': 1299, 'noticed': 1718, 'dont': 768, 'going': 1050, 'crazy': 642, 'friend': 983, 'sent': 2168, 'dead': 688, 'asleep': 246, 'cant': 454, 'find': 934, 'where': 3045, 'found': 972, 'wait': 2997, 'red': 2029, 'scarf': 2136, 'genocide': 1023, 'marleyan': 1538, 'titan': 2841, 'tatacaw': 2409, 'uhm': 2917, 'tcoo6lyucokpy': 2637, 'back': 282, 'ooooooohhh': 1764, 'tcoehhmdggdqe': 2534, 'dave': 680, 'rubin': 2104, 'tim': 2832, 'pool': 1905, 'ultimate': 2920, 'dumbfuck': 796, 'tag': 2392, 'team': 2776, 'thanks': 2798, 'giveaway': 1042, 'became': 306, 'sun': 2363, 'how': 1189, 'dare': 676, 'swift': 2382, 'release': 2045, 'sorry': 2284, 'version': 2972, 'period': 1842, 'sameee': 2120, 'sim': 2219, 'lmaooooo': 1465, 'im': 1226, 'matter': 1551, 'll': 1461, 'two': 2910, 'type': 2912, 'people': 1836, 'living': 1460, 'bubble': 424, 'carr': 469, 'tcoqarcsos87s': 2666, 'cleaned': 533, 'desk': 713, 'tcoblrdws0pdv': 2498, 'honestly': 1180, 'heard': 1143, 'some': 2269, 'track': 2868, 'quite': 1984, 'time': 2833, 'shookt': 2198, 'sti': 2328, 'tcoriwlghdpnl': 2680, 'airport': 159, 'pick': 1858, 'george': 1030, 'refreshing': 2033, 'malefemale': 1520, 'partnership': 1819, 'romantic': 2097, 'entanglement': 839, 'really': 2019, 'waste': 3012, 'vaccine': 2962, 'any': 210, 'sort': 2285, 'expiry': 877, 'date': 678, 'usi': 2955, 'tcoieiz1cijwd': 2571, 'gm': 1045, 'lily': 1443, 'never': 1686, 'talked': 2399, 'dad': 671, 'ordered': 1776, 'brother': 413, 'regular': 2039, 'multicolored': 1649, 'switch': 2384, 'came': 448, 'tcojklbzled3v': 2583, 'absorber': 120, 'also': 179, 'energy': 834, 'store': 2338, 'radioactive': 1992, 'radiation': 1990, 'converted': 611, 'tcopcg9cuqktc': 2648, 'fan': 898, 'god': 1049, 'दश_क_शन_मदज': 3163, 'tcofrf2vlf6hx': 2549, 'boy': 393, 'dynamite': 802, 'bestmusicvideo': 328, 'tcouvflubzazs': 2720, 'jumpman': 1339, 'somethin': 2274, 'improved': 1233, 'draft': 779, 'review': 2072, 'matrix': 1550, 'responding': 2067, 'reviewer': 2073, 'editor': 818, 'comment': 570, 'tcoacc47ne6up': 2485, 'yes': 3132, 'luv': 1504, 'sza': 2387, 'doja': 762, 'wind': 3059, 'sky': 2240, 'reason': 2020, 'fearlesstaylorsversion': 913, 'disgusting': 742, 'latest': 1409, 'mahesh': 1515, 'koukuntla': 1386, 'tcoru69q7hneq': 2681, 'marketing': 1537, 'startup': 2322, 'britney': 410, 'spear': 2297, 'smile': 2253, 'after': 146, 'got': 1065, 'covid19': 635, 'buzzfeed': 435, 'tconksza3iaz4': 2633, 'haruto': 1127, 'lie': 1436, 'said': 2117, 'yedam': 3128, 'most': 1633, 'beautiful': 305, 'bangyedam': 291, 'treasuremap_ep41': 2877, 'tcox2llgkj5el': 2742, 'uh': 2916, 'ca': 438, 'personal': 1844, 'playlist': 1882, 'view': 2979, 'other': 1779, 'weird': 3032, 'video': 2978, 'tcoqqdukz4wcx': 2673, 'right': 2078, 'ohh': 1744, 'sure': 2375, 'thank': 2797, 'q': 1970, 'isso': 1288, 'ngm': 1697, 'p': 1798, 'cv': 667, 'shy': 2210, 'serve': 2173, 'lunch': 1503, 'make': 1517, 'everyone': 862, 'eats': 811, 'trynna': 2892, 'tell': 2783, '32': 58, 'cutie': 664, 'pie': 1859, 'fact': 888, 'aren': 230, 'confirming': 592, 'passed': 1822, 'posting': 1913, 'agnation': 150, 'happens': 1120, 'idk': 1211, 'middle': 1589, 'night': 1703, 'bootstrapping': 380, 'managing': 1525, 'productled': 1942, 'growth': 1087, 'knowing': 1379, 'fundraise': 1003, 'tcole90uoebav': 2607, 'tco1bkcocgqhv': 2424, 'little': 1458, 'scared': 2135, 'much': 1648, 'changed': 495, 'since': 2223, 'day': 682, 'first': 940, 'ever': 858, 'crush': 652, 'avoid': 270, 'tco00i1ztnntu': 2415, 'seems': 2156, 'every': 860, 'lol': 1471, 'lose': 1482, 'lowest': 1497, 'seen': 2157, '10': 7, 'highest': 1163, '25': 52, 'waitin': 2999, 'til': 2830, 'hear': 1142, 'thud': 2824, 'floor': 951, 'ps5share': 1956, 'callofdutyblackopscoldwar': 445, 'tcop47zteoikl': 2646, 'look': 1476, 'glory': 1044, 'roadrunner': 2089, 'will': 3057, 'elris': 824, 'cb': 481, 'cap': 457, 'showed': 2206, 'both': 386, 'nigga': 1702, 'listen': 1454, 'music': 1653, 'single': 2226, 'tcoxsnud05yoy': 2749, 'reel': 2030, 'instagram': 1260, 'galat': 1011, 'check': 506, 'out': 1785, 'link': 1448, 'tcofefxccye7z': 2544, 'posit': 1909, 'tco1ndyt1f8im': 2426, 'speak': 2296, 'shit': 2193, 'disrespect': 746, 'keep': 1349, 'coming': 569, 'lot': 1486, 'prove': 1954, 'ythe': 3148, 'way': 3022, 'loved': 1492, 'screnaing': 2145, 'adam': 135, 'saying': 2132, 'told': 2850, 'gon': 1053, 'na': 1660, 'put': 1966, 'finger': 936, 'as': 240, 'without': 3069, 'selfcontrol': 2161, 'city': 525, 'broken': 412, 'into': 1275, 'left': 1425, 'wall': 3004, '2528': 54, 'correction': 623, 'ten': 2787, 'oops': 1765, 'tcocex32qhqdy': 2504, 'one': 1757, 'note': 1714, 'post': 1912, 'tcoa9xhoflhpo': 2483, 'goodnight': 1058, 'idek': 1207, 'howyoulikethat': 1190, 'youre': 3142, 'thing': 2811, 'hand': 1114, 'louies': 1489, 'best': 324, 'reelected': 2031, 'mayor': 1554, 'green': 1079, 'bay': 298, 'tcoc7ofpz9pvh': 2502, 'tj': 2844, 'trying': 2890, 'cut': 662, 'v': 2960, 'cutting': 665, 'tcouqqateiy7v': 2718, 'modi': 1617, 'urge': 2948, 'state': 2323, 'treat': 2878, 'bring': 409, 'covid': 634, 'positivity': 1911, 'rate': 2005, 'below': 321, '5': 77, 'tcodustvzbayy': 2525, 'via': 2975, 'namo': 1665, 'tco9gvfzfdrjl': 2474, 'taller': 2401, 'another': 205, 'dimension': 728, 'spin': 2303, 'something': 2275, 'tonight': 2856, 'o': 1728, 'ya': 3111, 'sosha': 2287, 'ke': 1348, 'tshwere': 2893, 'visa': 2985, 'boomer': 376, 'lt': 1500, '3': 56, 'annoys': 204, 'bro': 411, 'lmao': 1463, 'tryna': 2891, 'tcopiex8eivmg': 2652, 'gimmie': 1038, 'hour': 1186, 'tcotm5ciwyzks': 2703, 'blown': 364, 'modern': 1616, 'brain': 398, 'evolved': 866, 'recently': 2022, 'tcop422q7gml3': 2645, 'tcoydh8xb3hif': 2756, 'helppppp': 1155, 'tcod02bflsktl': 2518, 'shot': 2200, 'tcojasbcn0hgg': 2579, 'wouldn': 3094, 'expect': 874, 'le': 1415, 'havells': 1133, 'alert': 166, 'binance': 339, 'stare': 2318, 'phone': 1851, 'cute': 663, 'slap': 2245, 'face': 886, 'such': 2359, 'clearly': 536, 'child': 514, 'involved': 1280, 'prostitution': 1950, 'ar': 227, 'tco6pusdtj2vv': 2456, 'kitten': 1369, 'bottle': 388, 'feeding': 918, 'class': 530, 'weekendwant': 3031, 'feed': 917, 'don': 764, 'come': 567, 'r': 1985, 'tco3nl8s1pnsr': 2438, 'ang': 197, 'ganda': 1015, 'ng': 1696, 'instrumentals': 1266, 'forever': 963, 'self': 2160, 'care': 464, 'forgetting': 965, 'set': 2175, 'timer': 2835, 'mask': 1541, 'bughars': 426, 'tcopkcl8n4b3s': 2657, 'football': 959, 'middleaged': 1590, 'mom': 1618, 'happened': 1118, 'send': 2166, 'pls': 1891, 'disagree': 737, 'underestimate': 2928, 'want': 3006, 'feel': 919, 'victorious': 2977, 'film': 932, 'protagonist': 1951, 'despite': 714, 'accomplished': 126, 'life': 1438, 'song': 2279, 'mad': 1510, 'disappointed': 738, 'janet': 1306, 'yellen': 3129, 'prop': 1947, 'government': 1068, 'politician': 1901, 'company': 574, 'countri': 629, 'tcoclggh5bccc': 2508, 'shoutout': 2204, 'swifties': 2383, 'listening': 1456, 'fumbled': 1001, 'bag': 287, 'homie': 1177, 'could': 627, 'gotten': 1067, 'virtual': 2984, 'pussy': 1965, 'dyinggggggg': 801, 'deadlydumbassdonaldtrump': 690, 'supporting': 2370, 'tco50xa5nd8rr': 2443, 'holy': 1174, 'didn': 722, 'solo': 2267, 'tiny': 2838, 'bit': 344, 'taste': 2407, 'tcopgwzyr00mb': 2651, 'cassie': 473, 'book': 372, 'storage': 2337, 'lined': 1447, '__________': 101, 'tcovp9ry6wmph': 2727, 'high': 1161, 'movie': 1641, 'soul': 2290, 'choke': 518, 'death': 692, 'eh': 820, 'aversion': 269, 'tomato': 2852, 'general': 1021, 'sandwich': 2122, 'stay': 2325, 'bitch': 345, 'nobody': 1708, 'beefing': 312, 'follow': 955, 'breaking': 404, 'news': 1690, 'live': 1459, 'update': 2942, '9': 95, 'tcoyxdp0paowh': 2760, 'titlebound': 2843, 'sister': 2229, 'punch': 1960, 'ticket': 2827, '4a': 72, 'title': 2842, 'game': 1012, 'opreps': 1770, 'tcoa8vpxjlb5g': 2482, 'gummy': 1094, 'damn': 673, 'girl': 1039, '10k': 12, 'corner': 621, '٩': 3160, '๑': 3164, '۶goooooooooood': 3161, 'morning': 1631, 'someone': 2273, 'relationship': 2043, 'singing': 2225, 'pretty': 1932, 'loud': 1487, 'breakup': 405, 'tco7trnfajjme': 2464, 'former': 968, 'top': 2861, 'sweden': 2380, 'cool': 613, 'pay': 1826, 'tax': 2411, 'later': 1408, 'year': 3127, 'tcomukk5eaq2d': 2626, 'eth': 850, 'bound': 390, '2500': 53, 'struggle': 2348, 'sustaining': 2376, 'uptrend': 2945, 'coinbase': 556, 'ethusd': 852, 'coingape': 557, 'tcozlwrvsvteq': 2769, 'making': 1518, 'national': 1668, 'nfl': 1693, 'pro': 1938, 'gun': 1095, 'down': 776, 'five': 943, 'south': 2293, 'carolina': 468, 'including': 1238, 'doctor': 756, 'gra': 1069, 'tcopiqifagrfd': 2653, 'dmumt': 752, 'long': 1474, 'term': 2789, 'hold': 1172, 'target': 2405, 'losing': 1483, 'money': 1621, 'blazer': 352, 'wack': 2994, 'starting': 2321, 'melo': 1565, 'go': 1046, 'ring': 2080, 'chase': 502, 'rest': 2069, 'mfckrs': 1584, 'someday': 2271, 'tco64qvh2facu': 2449, 'xdxd': 3107, 'world': 3087, 'reopens': 2053, 'double': 773, 'commitment': 572, 'equitable': 844, 'education': 819, 'increasing': 1242, 'b': 278, 'tcofcj5gsl8zo': 2543, 'karl': 1346, 'bruce': 417, 'nothin': 1715, 'barcelona': 292, 'wierd': 3054, 'watch': 3016, 'madrid': 1513, 'regularly': 2040, 'benzema': 323, 'contender': 600, 'ballon': 289, 'dor': 771, 'tco0gq7vd1a9t': 2418, 'casey': 472, 'hayes': 1138, 'nba': 1671, 'shape': 2183, 'crediting': 644, 'performance': 1841, 'tcojh5ucc5qlx': 2581, 'woahhh': 3071, 'babyy': 281, 'okay': 1748, 'writer': 3098, 'block': 356, 'hit': 1169, 'unexpectedly': 2932, 'tcohzabpaxcn7': 2565, 'treasure': 2876, 'orange': 1773, 'slowmotion': 2248, 'honest': 1179, 'cp': 637, 'smiling': 2254, 'chopping': 520, 'sideline': 2214, 'worried': 3090, 'tcovhbvgzq7er': 2721, 'amongst': 191, 'income': 1239, 'disparity': 743, 'key': 1353, 'human': 1195, 'development': 717, 'index': 1243, 'well': 3034, 'tco6iwoeuxlpu': 2453, 'asked': 244, 'talking': 2400, 'laughing': 1411, 'hard': 1125, 'quacki': 1974, 'tcoirmufbh8wc': 2575, 'cold': 559, 'fren': 979, 'recipe': 2023, 'tv': 2902, 'owns': 1797, 'heart': 1145, 'tcowkejzxtdy2': 2734, 'hahaha': 1105, 'agreed': 153, 'recommend': 2025, 'turning': 2901, 'request': 2060, 'fridaylivestream': 982, 'arashi': 228, 'tcosvuauqq8bh': 2698, 'simple': 2222, 'easy': 808, 'clean': 532, 'break': 403, 'save': 2126, 'kn': 1373, 'tcobmmduy3vv9': 2499, 'member': 1566, 'ifr': 1214, 'learn': 1418, 'firearm': 939, 'safe': 2114, 'judgementfree': 1335, 'space': 2295, 'free': 978, 'perfectly': 1840, 'current': 659, 'wb': 3023, 'stupid': 2355, 'vandalize': 2965, 'own': 1795, 'project': 1944, 'try': 2889, 'tcocyeteh8lrh': 2516, 'haloo': 1112, 'turn': 2900, 'may': 1552, 'idea': 1206, 'sitting': 2231, 'front': 986, 'internet': 1274, 'que': 1978, 'timing': 2836, 'tcovulz8r7on5': 2728, 'physical': 1854, 'copy': 619, 'ago': 151, 'miss': 1608, 'voice': 2990, 'trip': 2881, 'ask': 243, 'juicy': 1337, 'j': 1301, 'playing': 1881, 'aaaaahhhhhhhhhhh': 106, 'angry': 198, 'crab': 639, 'partner': 1817, 'brief': 407, 'mention': 1573, 'disability': 736, 'guess': 1090, 'tho': 2813, 'population': 1907, 'reader': 2012, 'har': 1123, 'tco9outuwx0pb': 2477, 'swett': 2381, 'aned': 196, 'patiently': 1824, 'waiting': 3000, 'last': 1407, 'squad': 2312, 'take': 2395, 'second': 2152, 'win': 3058, 'tcopjyq7lr26n': 2656, '40m': 66, 'scrollingbs': 2146, 'king': 1363, 'complain': 579, 'able': 111, 'finally': 933, 'streaming': 2342, 'goodbye': 1057, 'obligation': 1730, 'cobol': 549, 'compiler': 577, 'linux': 1450, 'luckily': 1501, 'arrived': 235, 'tcohcncbdov3q': 2560, 'tcoihmmmpw4bl': 2572, 'untop': 2940, 'body': 369, 'head': 1139, 'yea': 3122, 'tcoadopdkeyjz': 2486, 'moment': 1619, 'capture': 460, 'remember': 2050, 'ittt': 1294, 'tcombcylv8qyn': 2618, 'burn': 430, 'ʖ': 3159, 'dreaming': 782, 'abou': 115, 'tcobhfds1ycob': 2496, 'jason': 1310, 'todd': 2848, 'introduced': 1277, 'eventually': 857, 'klled': 1372, 'robin': 2091, 'zatanna': 3153, 'literally': 1457, 'hello': 1151, 'funny': 1004, 'tcoguebzylvjl': 2557, 'ay': 274, 'kinda': 1361, 'smooth': 2256, 'increase': 1241, 'acceptance': 124, 'nonanimal': 1710, 'method': 1580, 'safety': 2115, 'evaluation': 854, 'loreal': 1480, 'work': 3083, 'range': 2001, 'scien': 2139, 'tcozkbppfzvm4': 2768, 'wreck': 3096, '500': 79, 'million': 1596, 'linkedin': 1449, 'user': 2954, 'data': 677, 'sale': 2118, 'hacker': 1104, 'site': 2230, 'tco1pnv0pyiyd': 2428, 'tcoqgakeuixfs': 2669, '2009': 38, 'twitter': 2909, 'throw': 2823, 'decide': 693, 'tweeting': 2905, 'open': 1766, 'closed': 542, 'wo': 3070, 'give': 1041, 'tcoivjxc3tkb5': 2577, 'woman': 3074, 'tco1p5boys1tl': 2427, 'scene': 2137, 'favs': 906, 'alex': 167, 'tcozas0f05s7c': 2762, 'zone': 3158, 'tco38tzzfjwug': 2433, 'yeait': 3126, 'lovely': 1493, 'aww': 272, 'breaaaaathhheeee': 402, 'sound': 2291, 'mickey': 1588, 'mouse': 1636, 'lem': 1429, 'ahead': 154, 'extra': 879, 'rib': 2074, 'road': 2088, 'truth': 2888, 'require': 2061, 'others': 1780, 'logical': 1470, 'usually': 2957, 'least': 1420, 'agree': 152, 'wi': 3053, 'tco6amkrgk4ot': 2450, 'leak': 1417, 'water': 3019, 'eveydwhere': 864, 'cabinetsnfbsjdjsn': 439, 'colorado': 564, 'tco7iu31gxjlf': 2461, 'jpy': 1332, 'q2': 1971, 'technical': 2779, 'forecast': 961, 'outlook': 1788, 'havenassociated': 1135, 'japanese': 1309, 'yen': 3130, 'remains': 2049, 'overtly': 1794, 'bearish': 303, 'tcox1vgx8p1kt': 2741, 'guitar': 1092, 'fuck': 993, 'siganme': 2215, 'en': 832, 'mi': 1585, 'main': 1516, 'doy': 778, 'fb': 908, 'iheart': 1218, 'blackpink': 348, 'ga': 1007, 'providence': 1955, 'antagonism': 207, 'ninja': 1704, 'vice': 2976, 'grip': 1084, 'pinching': 1862, 'larynx': 1405, 'already': 177, 'begun': 316, 'supply': 2368, 'purpose': 1961, 'fruit': 988, 'ttttt': 2898, 'jen': 1315, 'shah': 2179, 'car': 461, 'ig': 1215, 'story': 2339, 'wasn': 3011, 'over': 1793, 'week': 3029, 'fraud': 975, 'thats': 2802, 'wh': 3037, 'tco808r5rtwlf': 2466, 'ouch': 1783, 'food': 957, 'qualifying': 1977, 'medium': 1561, 'asking': 245, 'few': 925, 'opposite': 1769, 'iu': 1296, 'rosé': 2101, 'use': 2950, 'cam': 446, 'trust': 2887, 'photographer': 1853, 'selfie': 2163, 'instea': 1263, 'tcojseqtnh2m9': 2588, 'cry': 654, 'clipper': 539, 'clippernation': 540, 'should': 2201, 'disqualified': 745, 'ihc': 1217, 'clear': 535, 'case': 471, 'disqualification': 744, 'article': 238, '62': 86, 'tco4aizt4vy4e': 2441, 'causeee': 480, 'play': 1878, 'daddy': 672, 'whooped': 3049, 'anyway': 213, 'wear': 3027, 'pajama': 1808, 'sweatpants': 2379, 'jean': 1314, 'house': 1187, 'lord': 1479, 'roll': 2094, 'asf': 242, 'lap': 1403, 'rolling': 2095, 'absolutely': 119, 'word': 3081, 'describe': 708, 'mother': 1634, 'exist': 873, 'answer': 206, 'course': 631, 'train': 2870, 'bought': 389, 'cookiescoin': 612, 'forgot': 966, 'th': 2794, 'tcorzja07togz': 2683, 'next': 1691, 'off': 1739, 'school': 2138, 'lifeee': 1439, 'rip': 2082, 'dmx': 753, 'rapper': 2003, 'sad': 2113, 'begging': 314, 'pusssy': 1964, 'knew': 1374, 'expensive': 875, 'wild': 3056, 'frustrating': 991, 'intoxicating': 1276, 'complicated': 584, 'away': 271, 'mistake': 1610, 'tcoicyw6ruift': 2570, 'd': 668, 'tcojuskvc0ozb': 2590, 'ridge': 2077, 'roof': 2099, 'mouth': 1637, 'ole': 1751, 'mama': 1522, 'dd4l': 685, 'tcolghndsggog': 2608, 'outta': 1790, 'natsu': 1670, 'fairy': 892, 'tail': 2394, 'joseph': 1329, 'jonas': 1327, 'prison': 1937, 'acted': 132, 'insane': 1253, 'played': 1879, 'religiously': 2048, 'tconskuytjoe9': 2634, '8000': 93, '34999': 60, 'reg': 2035, '42999': 69, 'fender': 921, 'newporter': 1688, 'player': 1880, 'limitededition': 1445, 'acousticelectric': 131, 'tcowcgukqhktg': 2733, 'breathe': 406, 'tcojvto7q4k6b': 2591, 'tt': 2897, 'laugh': 1410, 'stephen': 2327, 'mentally': 1572, 'prepare': 1928, 'regina': 2036, 'sk': 2235, 'weather': 3028, 'temp32ºc': 2785, 'dew': 719, '21ºc': 48, 'pressure100850hpa': 1931, 'wind2kph0': 3060, 'humdity68': 1196, 'tco0oc14s8v8m': 2421, 'fuckin': 996, 'bop': 381, 'blondie': 359, 'crack': 640, 'istg': 1292, 'yup': 3151, 'trippin': 2882, 'regional': 2037, 'party': 1820, 'tco6efmfqe2y0': 2452, 'tcolbwuvaj5ek': 2605, 'alfa': 168, 'beibi': 318, 'fuckboi': 994, 'aye': 275, 'spot': 2308, 'dipped': 732, 'rondo': 2098, 'ain': 157, 'cp3': 638, 'smoking': 2255, 'ran': 1999, 'scream': 2141, '241beats': 51, 'winning': 3064, 'attacked': 260, 'rogue': 2092, 'group': 1085, 'agent': 149, 'identified': 1208, 'ted': 2781, 'l': 1392, 'gunderson': 1096, 'threatening': 2820, 'tcosgczabpnf2': 2690, 'call': 442, 'isolation': 1287, 'tcovknqxeimbq': 2723, 'deactivate': 687, 'lip': 1451, 'okaysirr': 1749, 'moved': 1639, 'yessssyessss': 3133, 'join': 1325, 'boosterclub': 378, 'today': 2847, 'email': 827, 'iuicfundraisingorg': 1298, 'donate': 765, 'paypal': 1827, 'iuicfundr': 1297, 'tco0m7lciudpi': 2420, 'dub': 791, 'xps': 3109, 'associated': 251, 'hearing': 1144, '31': 57, 'tcoe5afcwo9ds': 2528, 'birthday': 341, 'mr': 1645, 'kiyosake': 1370, 'insight': 1258, 'tco2y0sm1bgb1': 2431, 'force': 960, 'emotion': 828, 'belong': 320, 'vertion': 2973, 'six': 2233, 'tcovp7covnzoj': 2726, 'sometimes': 2277, 'urself': 2949, 'basil': 296, 'saturday': 2125, 'tcosk9g3k6x5c': 2693, 'potato': 1916, 'hope': 1184, 'formica': 969, 'insta': 1259, 'tcoio8zysc6mp': 2574, 'pregnant': 1926, 'male': 1519, 'fucked': 995, 'common': 573, 'ofc': 1738, 'smh': 2252, 'ilym': 1225, 'hacked': 1103, 'app': 219, 'repair': 2055, 'plssss': 1893, '_milk06': 102, 'shuffle': 2207, 'started': 2320, 'riot': 2081, 'pride': 1935, 'month': 1626, 'tcosgddcugk05': 2691, 'avaa': 268, 'hate': 1131, 'spreading': 2310, 'false': 895, 'tcopjmfxdnsqm': 2655, 'updated': 2943, 'qr': 1973, 'code': 553, 'blogwith': 358, 'informative': 1248, 'study': 2352, 'practical': 1922, 'approach': 223, 'elevate': 823, 'tcoqfjty3yrh6': 2668, 'realized': 2017, 'chanyeol': 498, 'producing': 1941, 'chanbar': 491, 'buy': 434, 'level': 1434, 'ac': 122, 'compressor': 587, 'kit': 1368, '1rmd75': 30, 'dodge': 757, 'challenger': 489, '2011': 39, '2012': 40, '2013': 41, 'tcof1mlgdhoii': 2541, 'ebay': 813, 'tcobk1zc7egik': 2497, 'yuuji': 3152, 'fushiguro': 1005, 'shoulder': 2202, 'during': 798, 'refuse': 2034, 'move': 1638, 'wake': 3001, 'tcoclquld77lv': 2509, 'true': 2885, 'japan': 1308, 'ban': 290, 'transfer': 2872, '1975': 28, 'plant': 1877, 'variety': 2966, 'abroad': 118, 'tcovye73ibfge': 2731, 'taaag': 2390, 'excited': 870, 'gupgup': 1098, 'lorealdreamlengthsxgulf': 1481, 'lost': 1485, 'monkey': 1622, 'pong': 1904, 'using': 2956, 'control': 607, 'movement': 1640, 'joysti': 1331, 'tco7xyvhg9buh': 2465, 'goodafternoon': 1056, 'sandawtwin': 2121, 'ward': 3009, 'bago': 288, 'violently': 2983, 'junta': 1343, 'terrorist': 2791, 'rpg': 2103, 'andachine': 193, 'tcoa7xsrrv3ae': 2480, 'mam': 1521, 'cory': 624, 'woke': 3072, 'chose': 521, 'bloody': 362, 'violence': 2982, 'tcoocgxzb5fgx': 2640, 'secret': 2153, 'pet': 1845, 'full': 999, 'ride': 2076, 'pov': 1918, 'universal': 2935, 'studio': 2351, 'hollywood': 1173, '4k': 75, 'tco7gczhybojj': 2458, 'より': 3165, 'ma': 1509, 'bad': 285, 'quit': 1983, 'piece': 1860, 'anime': 200, 'pacing': 1801, 'suck': 2360, 'manga': 1526, 'crine': 649, 'deobis': 705, 'abt': 121, 'commit': 571, 'crime': 647, 'wow': 3095, 'offered': 1741, '50': 78, 'dude': 792, 'jerk': 1318, 'pre': 1924, 'tco28ghquhaup': 2429, 'electric': 822, 'outboard': 1787, 'trolling': 2883, 'motor': 1635, 'fishing': 942, 'boat': 367, 'engine': 835, '660w': 88, '12v': 18, 'tco3ltrwppxxe': 2437, 'tcouiw0h0hjru': 2717, 'antisvslarries': 208, 'tcojmhyqomumv': 2585, 'excuse': 871, 'disrespectful': 747, 'rude': 2105, 'kil': 1355, 'tcolvbaw76uzp': 2614, 'nostalgic': 1712, 'sang': 2123, 'along': 174, 'made': 1511, 'tcocn5pzkbyrs': 2510, 'professional': 1943, 'stand': 2315, 'hair': 1108, 'dryer': 790, '110v': 14, 'swivel': 2385, 'hood': 1182, 'caster': 474, 'adjustable': 138, 'h': 1102, 'tcofer32atwrk': 2545, 'tcoekm2xdobdp': 2535, 'remind': 2052, 'pee': 1832, 'boyfriend': 394, 'bout': 391, 'tcox9ulynnqju': 2745, 'ima': 1227, 'quick': 1981, '40': 65, 'omg': 1754, 'tcopkp0yjvupv': 2658, 'sigh': 2216, 'oh': 1743, 'tcodyx3ifrhmm': 2526, 'great': 1076, 'papaal': 1813, 'ikatancinta': 1221, 'tcoczkyp9dis1': 2517, 'prepstar': 1929, 'college': 563, 'prospect': 1949, 'connect': 593, 'thousand': 2818, 'coach': 548, 'c': 437, 'tcosilf6fdmkj': 2692, 'drinking': 784, 'lonely': 1473, 'beginning': 315, 'joba': 1323, 'verse': 2971, 'light': 1440, 'gut': 1100, 'wrenching': 3097, 'fast': 903, 'knife': 1375, 'joe': 1324, 'jaylor': 1312, 'whatsapp': 3041, 'tcos0cx4xsu9o': 2686, 'chromatica': 523, 'instead': 1264, 'tanking': 2403, '13': 19, 'old': 1750, 'outsold': 1789, 'freak': 977, 'genshin': 1025, 'madeon': 1512, 'somehow': 2272, 'seeing': 2155, 'tcoy3ujrplib5': 2754, 'cherry': 512, 'langa': 1402, 'beef': 311, 'skating': 2236, 'cross': 650, 'line': 1446, 'bc': 301, 'tco7ia1jbyrk0': 2460, 'jaehyun': 1303, '5yearswithnctjaehyun': 84, '재현': 3169, 'nct재현': 1673, 'nct': 1672, 'unlikely': 2936, 'different': 725, 'doesnt': 760, 'appreciate': 221, 'tone': 2855, 'tcoi7mjtlstlz': 2568, 'emtpy': 831, 'tired': 2840, 'layout': 1413, 'become': 307, 'brand': 399, 'tcooaxia4bo01': 2639, 'dumb': 795, 'lucky': 1502, 'soared': 2262, 'brazil': 401, 'tco5lihnvz6lb': 2447, 'nation': 1667, 'behind': 317, 'forward': 970, 'criminal': 648, 'gang': 1016, 'celebrated': 482, 'tcorilecqaeiq': 2679, 'peeing': 1833, 'tcopuglieisyq': 2660, 'worldfirst': 3088, 'laser': 1406, 'shunt': 2208, 'deadly': 689, 'junk': 1342, 'orbit': 1774, 'tcozekdx0xm6v': 2765, 'working': 3086, 'hr': 1191, 'chanel': 493, 'duma': 794, 'quilted': 1982, 'chain': 485, 'mini': 1600, 'backpack': 283, 'purse': 1963, 'black': 347, 'leather': 1421, 'vintage': 2981, '90059': 97, 'tcojngrrxw1ey': 2586, 'tcotafhjluyz8': 2701, 'pensando': 1834, 'mto': 1647, 'em': 826, 'qnd': 1972, 'mitski': 1611, 'disse': 748, 'blame': 350, 'bury': 432, 'memory': 1569, 'ou': 1782, 'tcojtgi3xi1fm': 2589, 'tcopexbpx2rzg': 2650, '139': 20, 'streamer': 2341, 'public': 1958, 'partnered': 1818, 'alt': 180, 'channel': 497, 'worst': 3091, 'kind': 1360, 'capitalist': 458, 'account': 127, 'tcoyx8ut8jxfx': 2759, 'tcomtoehgl4fl': 2625, 'alpha': 176, 'sub': 2356, 'tier': 2828, 'hell': 1150, 'mate': 1548, 'screaming': 2143, 'fighting': 930, 'kissing': 1367, 'cursing': 661, 'name': 1664, 'tco7haznqlncm': 2459, 'visiting': 2987, 'nashville': 1666, 'home': 1176, 'fine': 935, 'collection': 561, 'touring': 2864, 'exhibiti': 872, 'tco8y8gcnt0wa': 2472, 'karnan': 1347, 'donkey': 767, 'idol': 1212, 'metaphor': 1578, 'blowing': 363, 'several': 2177, 'mass': 1543, 'tcotx2wnsyigd': 2708, 'hahahshshha': 1106, 'halluakwudh': 1111, 'yeah': 3124, 'medicare': 1560, 'tcoa7las46diy': 2479, 'sore': 2283, 'leg': 1427, 'striking': 2346, 'wage': 2996, 'theyr': 2809, 'affect': 142, 'tcopj1oipabu6': 2654, 'rec': 2021, 'ong': 1758, 'half': 1109, 'error': 845, 'montage': 1625, 'tcorh3y6ucikq': 2678, 'nowplaying': 1721, 'sheri': 2187, 'jonesmoffett': 1328, 'power': 1919, 'gghradio': 1036, 'gospelgh': 1062, 'download': 777, 'tcoynfcp6cw8a': 2757, 'atop': 259, 'rn': 2086, 'zoe': 3154, 'unskilled': 2939, 'everest': 859, 'calling': 444, 'small': 2250, 'hill': 1166, 'ty': 2911, 'pass': 1821, 'popcorn': 1906, 'chance': 492, 'eat': 809, 'seafood': 2148, 'bye': 436, 'exchange': 869, 'thread': 2819, 'pic': 1857, 'tcovydgmfyb8p': 2730, 'whoever': 3047, 'choose': 519, 'forget': 964, 'comer': 568, 'grab': 1070, '2020': 43, 'mf': 1583, 'wanted': 3007, 'report': 2058, 'wont': 3078, 'grilled': 1083, 'cheese': 509, 'neighbor': 1679, 'end': 833, 'fantastic': 899, 'sir': 2228, 'handle': 1115, 'tcoqzagu89t7l': 2675, 'sm': 2249, 'above': 117, 'beyond': 331, 'dankmemes': 675, 'meme': 1567, 'memesdaily': 1568, 'tcoqilpdwlvq2': 2670, 'tcosyeimu9clp': 2699, 'stoppp': 2336, 'ill': 1223, 'immediately': 1229, 'bruh': 418, 'greatest': 1077, 'weapon': 3026, 'giv': 1040, 'tcoadxjiceddh': 2487, 'ayo': 276, 'puberty': 1957, '20': 34, 'nah': 1661, 'might': 1591, 'taking': 2397, 'vers': 2970, 'click': 537, 'tcokbngclddhv': 2597, 'nearly': 1674, 'tcoq4goskajpc': 2661, 'sod': 2265, 'atone': 258, 'longer': 1475, 'gobshite': 1048, 'plenty': 1890, 'tcomwxnkiqa5v': 2627, 'dios': 731, 'llamen': 1462, 'al': 162, 'intense': 1269, 'transphobia': 2873, 'pdfs': 1829, 'chicago': 513, 'wondering': 3076, 'tco05olnmhc4q': 2417, 'ikr': 1222, 'lawyer': 1412, 'dd': 684, 'dentist': 704, 'office': 1742, 'worker': 3085, 'nerdy': 1683, 'tcosn4iwsjqdz': 2694, 'movin': 1643, 'thug': 2825, 'stan': 2314, 'ohhhh': 1746, 'ku': 1389, 'sp': 2294, 'wine': 3061, 'dine': 730, 'table': 2391, 'fre': 976, 'tcovjujfsfvq4': 2722, 'winner': 3063, 'pulled': 1959, 'martinsville': 1540, 'cup': 657, 'race': 1987, 'stats': 2324, 'graph': 1073, 'um': 2922, 'gaaaat': 1008, 'daaaam': 670, 'rite': 2084, 'natnova': 1669, 'thetriplethreat': 2808, 'cantstophim': 456, 'cantevencontainhim': 455, 'tcotzy5vzh9dq': 2709, 'jackie': 1302, 'roach': 2087, 'ok': 1747, 'umm': 2923, 'doin': 761, 'ion': 1282, 'based': 294, 'horror': 1185, 'gamenight': 1013, 'dawg': 681, 'whole': 3048, 'pandemic': 1810, 'plandemic': 1873, 'doubt': 774, 'neil': 1680, 'fergussen': 923, 'dodgy': 758, 'modelling': 1615, 'shared': 2184, 'worldwide': 3089, 'tcoiciycmym4e': 2569, 'done': 766, 'tcok9z6kyplyi': 2596, 'sipped': 2227, 'drink': 783, 'bed': 309, 'idiot': 1209, 'paused': 1825, 'slackjawed': 2243, 'yokel': 3139, 'mo': 1613, 'tcobu3btt90qj': 2500, 'piano': 1856, 'matou': 1549, 'aaaaaaa': 103, 'ily': 1224, 'tcohzry4l4gky': 2566, 'tcordqdgbiskm': 2676, 'santasallet': 2124, 'nemizzo': 1682, 'msp': 1646, 'photo': 1852, '2008': 37, 'te': 2774, 'dickballscom': 721, 'show': 2205, 'between': 330, 'season': 2151, 'tco30ap5o17rn': 2432, 'kennot': 1351, 'laat': 1395, 'laaa': 1394, 'rindu': 2079, 'chanyeoll': 499, 'pjsekai': 1868, 'oomf': 1761, 'awww': 273, 'gfs': 1035, 'oreo': 1777, 'tra': 2867, 'tcozc60eaghvb': 2763, 'understood': 2930, 'spelling': 2300, 'tartaglia': 2406, 'pretzel': 1933, 'tcowluekmzxbw': 2735, '8': 92, 'trending': 2880, 'peoplementionsusers': 1837, 'pakistan': 1809, '09apr21': 5, '094703': 4, '11': 13, '12': 15, 'tcoy0mpjwzppt': 2753, 'tcotgjco5shsv': 2702, 'bot': 385, 'gamepass': 1014, 'military': 1594, 'invaded': 1279, 'phawtkan': 1848, 'insein': 1254, 'continuously': 604, 'opened': 1767, 'gunfire': 1097, 'abducted': 109, 'innocent': 1252, 'civill': 526, 'tcofgbndmfeqv': 2547, 'google': 1059, 'definition': 698, 'tcozui8jmbrxq': 2771, 'lard': 1404, 'doorknob': 770, 'n': 1659, 'submitting': 2357, 'petition': 1846, 'monster': 1624, 'tcoq7sfj7dgoi': 2664, 'heat': 1147, 'fight': 928, 'walked': 3002, 'ac136b1f': 123, 'battle': 297, 'id': 1205, 'backup': 284, 'lvl': 1505, '200': 35, 'fediel': 916, 'tconz6er1favb': 2636, 'healing': 1141, 'tcocj1ezslwt4': 2505, 'plss': 1892, 'lied': 1437, 'timeline': 2834, 'obvious': 1734, 'tcoaz9nxoojjv': 2493, 'pleased': 1885, 'cancer': 452, 'contribution': 606, 'contemporary': 599, 'art': 237, 'margate': 1533, 'tcotrtjxqbtri': 2706, 'putting': 1967, 'hurt': 1198, 'y': 3110, 'npr': 1722, 'tcorysmdgdzoe': 2682, 'hooked': 1183, 'again': 147, 'watching': 3018, 'resident': 2065, 'evil': 865, 'zombie': 3155, 'door': 769, 'gai': 1009, 'waterhouse': 3020, 'maybe': 1553, 'mobile': 1614, 'device': 718, 'shut': 2209, 'stopping': 2335, 'hyejoooooooo': 1199, 'tcoa7yiscurp4': 2481, 'tcovnomdo0gjp': 2724, 'winlose': 3062, 'pyra': 1969, 'mythra': 1658, 'lmfaoo': 1466, 'colab': 558, 'bloodstain': 361, 'kiss': 1365, 'sejeong': 2159, 'columnist': 566, 'choi': 517, 'hyunjung': 1201, 'writt': 3101, 'tco5mj1mq6fqi': 2448, 'lock': 1468, 'cocky': 551, 'tcoudisxniwst': 2713, 'mine': 1598, 'cousin': 632, 'tcok1qnhk7gwm': 2593, 'fax': 907, 'imagine': 1228, 'dying': 800, 'ugly': 2915, 'asshole': 249, 'claraaaa': 529, 'essek': 848, 'hug': 1193, 'anxiety': 209, 'woohoo': 3079, 'andi': 195, 'boborol': 368, 'ho': 1171, 'tcofpan5jvnsq': 2548, 'havent': 1136, 'tweeted': 2904, 'kill': 1356, 'queen': 1979, 'mummy': 1650, 'instance': 1261, 'bisexual': 342, 'stop': 2333, 'relatable': 2041, 'lyric': 1507, 'inside': 1257, 'vacuum': 2963, 'cleaner': 534, 'nubsib': 1724, 'edition': 817, 'shipping': 2192, 'lazada': 1414, 'tcooyjvbflnfc': 2644, 'tcomdhojplnkc': 2620, '20th': 46, 'june': 1340, 'didnt': 723, 'january': 1307, 'tcoikzyom5rks': 2573, 'hired': 1167, 'tupa': 2899, 'tcoldajr4i8du': 2606, 'neither': 1681, 'tcou4oxnihwzr': 2710, 'perdown': 1838, 'akion': 161, 'operating': 1768, 'continent': 602, 'supposedly': 2374, 'fbi': 910, 'marica': 1535, 'e': 803, 'insuperable': 1267, 'cultural': 656, 'political': 1900, 'social': 2263, 'implication': 1231, 'unfixable': 2933, 'ur': 2946, 'thunder': 2826, 'bhw': 332, 'yafantasy': 3116, 'yalit': 3118, 'newrelease': 1689, 'tcod9kelnk7gc': 2519, 'tcotv9bgpvdd0': 2707, 'cocktail': 550, 'gt': 1088, 'tcoq6ahxs43jz': 2663, 'minseo': 1605, 'die': 724, 'research': 2064, 'involving': 1281, 'animal': 199, 'clue': 547, 'lovey': 1494, 'soon': 2280, 'inshallah': 1256, 'muzzies': 1656, 'rise': 2083, 'nicko': 1700, 'sometime': 2276, 'definitely': 697, 'racing': 1988, 'far': 901, 'taylorsversion': 2414, 'went': 3035, 'deleted': 699, 'tagged': 2393, 'tcom1trxoiwxb': 2615, 'plan': 1872, 'ruined': 2106, 'ㄒoㄒ': 3166, 'cried': 646, 'kissed': 1366, 'emotional': 829, 'tcos6c4dedghm': 2688, 'inch': 1236, 'tcoctlwjfmlm4': 2512, 'christan': 522, 'meeeee': 1562, 'genty': 1027, 'action': 133, 'tomorrow': 2854, '4th': 76, 'coffee': 555, '10am': 11, 'suppose': 2372, 'experience': 876, 'fully': 1000, 'ache': 130, 'wave': 3021, 'farewell': 902, 'optic': 1771, 'direct': 733, 'pointless': 1898, 'nie': 1701, 'amazing': 185, 'grear': 1075, 'coordination': 615, '180': 27, 'outage': 1786, 'address': 137, 'row': 2102, 'taken': 2396, 'though': 2816, 'initial': 1250, 'tco6lrnabysii': 2454, 'si': 2211, 'cambodia': 447, 'discus': 740, 'nam': 1663, 'war1000': 3008, 'ignores': 1216, 'tcooetrdqkknv': 2642, 'lika': 1441, 'centrefold': 483, 'lounge': 1490, 'tcosaccoc5ui0': 2689, 'perfect': 1839, 'crph': 651, 'assemble': 248, 'apr9coup': 225, 'whatshappeninginmyanmar': 3042, 'issueinterimconstitution': 1290, 'mame': 1523, 'paaccept': 1800, 'po': 1895, 'ko': 1381, 'sa': 2112, 'pa': 1799, 'labyuu': 1397, 'chakra': 486, 'bracelet': 397, 'men': 1570, 'genuine': 1028, 'stone': 2332, 'tcojh8vfqqrn1': 2582, 'chakrabracelet': 487, 'tcopubsqqhob8': 2659, 'completely': 582, 'mood': 1627, 'son': 2278, 'sung': 2365, 'deuk': 716, 'favechoreography': 905, 'fblike': 911, 'pinned': 1864, 'gf': 1034, 'tha': 2795, 'tcobxwx2rk37v': 2501, 'unmatched': 2937, 'me': 1555, 'ky': 1390, 'wven': 3104, 'whej': 3043, 'fulani': 998, 'army': 232, 'fledged': 947, 'revenge': 2071, '4': 64, 'kinsman': 1364, 'person': 1843, 'alzheimer': 183, 'ability': 110, 'paint': 1805, 'changing': 496, 'massage_dammam': 1545, 'sex': 2178, 'service': 2174, '966': 100, '540522690': 81, 'jubai': 1334, 'massage': 1544, 'tco8fr8ugqf56': 2467, 'affection': 143, 'ting': 2837, 'abolish': 112, 'abolitionist': 113, 'utopian': 2959, 'comprehensive': 586, 'manner': 1527, 'tcoxkpsyqspcm': 2746, 'ratio': 2007, 'canadian': 451, 'goose': 1060, 'training': 2871, 'needed': 1677, 'instinctively': 1265, 'american': 187, 'parent': 1814, 'everyday': 861, 'tco0ug3tzc6aj': 2422, 'ihip': 1220, 'edge': 815, 'noise': 1709, 'isolating': 1286, 'ear': 805, 'headphone': 1140, 'tcou4rruchc55': 2711, 'tcogvlxl3pxae': 2558, 'aseeekk': 241, 'impostor': 1232, 'ketauan': 1352, 'bby': 300, 'tco3ulu9sz1d8': 2440, 'nicholas': 1699, 'thankyouu': 2800, 'aaaaah': 105, 'lowkey': 1498, 'skipless': 2238, 'realistically': 2016, 'occupied': 1735, 'number': 1725, 'rep': 2054, 'skip': 2237, 'tconynd4k46mf': 2635, 'pant': 1812, 'amiri': 189, 'pandemically': 1811, 'twerks': 2906, 'tcowpnjgxq4af': 2737, 'brown': 416, 'liquor': 1452, 'fly': 953, 'bird': 340, 'close': 541, 'letting': 1433, 'whyd': 3052, 'tcoec9yqz3tv3': 2531, 'vaccinated': 2961, 'yet': 3134, 'aaaahhhhhh': 107, '360': 61, 'audio': 262, 'herald': 1156, 'artist': 239, 'won': 3075, 'bra': 396, 'design': 712, 'compition': 578, 'aboriginal': 114, 'dot': 772, 'painting': 1806, 'tcoegfmjxyzr7': 2533, 'saw': 2129, 'instantly': 1262, 'announced': 202, 'tsn': 2895, 'wcf': 3024, 'sorted': 2286, 'tconhljt7jx83': 2631, 'ooni': 1762, 'koda': 1382, '16': 23, 'pizza': 1867, 'oven': 1792, 'worth': 3092, 'tco4q8eanzu2i': 2442, 'legend': 1428, 'strong': 2347, 'tcomg9bjxi3fe': 2621, 'b076f949': 279, '100': 8, 'grani': 1072, 'tcohjesauwbno': 2561, 'catie': 476, 'spiral': 2304, 'tcoq4n6ftf4ip': 2662, 'friday': 981, 'touch': 2862, 'promotion': 1946, 'run': 2108, 'tcojlkfcfoygq': 2584, '1am': 29, 'argentina': 231, 'early': 806, 'amo': 190, 'yimbys': 3136, 'seething': 2158, 'tco5eime1zcdh': 2445, 'meta': 1577, '16k': 24, 'discord': 739, 'technisport': 2780, 'tcogbhi8yz1f3': 2552, 'spiralling': 2305, 'tcommosvi8qgy': 2623, 'demi': 702, 'saved': 2127, 'industry': 1247, 'dancingwiththedevil': 674, 'tco0zxkmcnuc7': 2423, 'powerfull': 1920, 'lakeyah': 1401, 'shitttttt': 2195, 'juice': 1336, 'bestcoversong': 325, 'youve': 3145, 'town': 2865, 'tcoxs45auo8js': 2748, 'extremely': 881, 'yayyy': 3121, 'problem': 1940, 'offer': 1740, 'currently': 660, 'learning': 1419, 'korean': 1385, 'harder': 1126, 'master': 1546, 'hehehexd': 1149, 'asymptomatic': 254, 'international': 1273, 'travel': 2875, 'tcokkc2f9ydns': 2598, 'stealer': 2326, 'threw': 2821, 'huh': 1194, 'cryying': 655, 'woooooooo': 3080, 'yeahh': 3125, 'digital': 727, 'mental': 1571, 'masturbator': 1547, 'defend': 696, 'grifter': 1082, 'podcast': 1896, 'situation': 2232, 'introduces': 1278, 'ambiguity': 186, 'desi': 711, 'flavor': 946, 'tcoaheaxrt6r7': 2488, 'yr': 3146, 'mentioned': 1574, 'sagittarius': 2116, 'fun': 1002, 'tco6z3htek6x9': 2457, 'notice': 1717, 'pain': 1804, 'twitch': 2908, 'novacaine': 1719, 'tcokkneahvtuq': 2599, 'young': 3140, 'planning': 1876, 'murder': 1652, '4get': 74, 'gotchu': 1066, 'wasting': 3014, 'ahhhh': 155, '3per': 62, 'bootlicking': 379, 'racist': 1989, 'tcojesqaiwjfn': 2580, 'consider': 594, 'trading': 2869, '34': 59, 'size': 2234, 'cuz': 666, 'reach': 2010, 'nxttakeover': 1727, 'grand': 1071, 'slam': 2244, 'tsl': 2894, '913': 98, 'tcow2i0n5byhw': 2732, 'charged': 500, 'arrested': 234, 'prosecuted': 1948, 'tcohucmydwmen': 2564, 'map': 1530, '트레저': 3170, 'tcocupxnb108n': 2514, 'heck': 1148, 'tcoo8p09mplnk': 2638, 'nalin': 1662, 'yadav': 3115, 'staked': 2313, 'standup': 2316, 'career': 465, 'munawarfaruqui': 1651, 'spending': 2302, '57': 83, 'tcodqohkabfjo': 2524, 'tcouuqm68kyfe': 2719, 'tcoqseevuzgip': 2674, 'meanwhile': 1557, 'gupi': 1099, 'tcodnepikw9ts': 2523, 'affording': 145, 'attracting': 261, 'praying': 1923, 'sought': 2289, 'marriage': 1539, 'equality': 842, 'studied': 2350, 'blade': 349, 'doubting': 775, 'playoff': 1883, 'ageless': 148, 'jc': 1313, 'tcown4pznkpci': 2736, 'haven': 1134, 'stopped': 2334, 'wolf': 3073, 'controlling': 608, 'geto': 1032, 'simp': 2221, 'tcozgvuon7s3l': 2766, 'adlibs': 139, 'concert': 589, 'claw': 531, 'tcoknf4nid9bs': 2600, 'rainbow': 1996, 'milk': 1595, 'uncertain': 2925, 'generation': 1022, 'atleast': 257, 'leav': 1422, 'tcolltldvryqz': 2611, 'meet': 1563, 'frozen': 987, 'sticker': 2329, 'deliver': 700, 'hom': 1175, 'tcodafududjct': 2520, '545': 82, 'dropped': 788, 'listened': 1455, 'snow': 2259, 'cope': 617, 'se': 2147, 'tcoce6ecvhb2o': 2503, 'tense': 2788, 'knot': 1377, 'shoulderupper': 2203, 'march': 1531, 'deep': 695, 'tcoctvhgeps34': 2513, 'rlly': 2085, 'pink': 1863, 'cowboy': 636, 'hat': 1130, 'tcoh6gzyvpgek': 2559, 'wan': 3005, 'competition': 576, 'reporting': 2059, 'joke': 1326, 'cooped': 614, 'contact': 598, 'upon': 2944, 'tcoks3rrnszyp': 2602, 'thered': 2806, 'sequal': 2169, 'beat': 304, 'tcom5sjaazlaq': 2616, 'sleep': 2246, '4am': 73, 'cole': 560, 'kyle': 1391, 'boost': 377, 'eu': 853, 'harbouring': 1124, '175196': 26, 'goldusd': 1052, 'troy': 2884, 'ounce': 1784, 'price': 1934, '0446': 0, 'utc': 2958, 'tcok9xbvkma9j': 2595, 'rerecord': 2062, 'shake': 2180, 'camila': 449, 'halsey': 1113, 'pilot': 1861, 'drive': 785, 'plane': 1874, 'flight': 949, 'construction': 596, 'build': 428, 'tcoitgsljsr5b': 2576, 'silly': 2217, 'daylight': 683, 'aki': 160, 'om': 1752, 'dear': 691, 'raghvendra': 1994, 'ji': 1320, 'kindly': 1362, 'recruitment': 2028, 'tco8gzgqdwvom': 2470, 'support': 2369, 'author': 263, 'leave': 1423, 'bookworm': 375, 'booknerd': 373, 'bookreviews': 374, 'authorlife': 265, 'writerlife': 3099, 'tcondnoeofikx': 2630, 'dimitri': 729, 'vega': 2968, 'mike': 1592, 'smash': 2251, 'radio': 1991, '412': 68, 'tcodip6fodd2s': 2522, 'correct': 622, 'cheif': 510, 'clap': 528, 'cheek': 507, 'sunday': 2364, '1200': 16, '1st': 31, '빙방': 3167, 'cat': 475, 'bts': 420, 'cover': 633, 'fix': 944, 'mick': 1587, 'cardboard': 463, 'room': 2100, 'muted': 1655, 'tl': 2845, 'tco5idp7vubwj': 2446, 'aint': 158, 'till': 2831, 'blue': 365, 'fifteen': 927, 'helpin': 1153, 'rule': 2107, 'tcojrl3wdramk': 2587, 'blessing': 355, 'disguise': 741, 'shet': 2188, 'tcok8j7x0ni6n': 2594, 'crawling': 641, 'honey': 1181, 'snowflake': 2260, 'cruz': 653, 'thankyou': 2799, 'ethereal': 851, 'obsessed': 1733, 's5': 2111, 'e15': 804, 'duhhhhhh': 793, 'deserve': 709, 'tco7oa2soqffc': 2462, 'househusband': 1188, 'fait': 893, 'tellement': 2784, 'penser': 1835, 'gto': 1089, 'tcoeu2ozz2ksr': 2538, 'foreplay': 962, 'optional': 1772, 'kramer': 1387, 'assumed': 252, 'confirmed': 591, 'tasty': 2408, 'ipa': 1283, 'pair': 1807, 'raspberry': 2004, 'cotton': 626, 'candy': 453, 'ranboo': 2000, 'caught': 477, '92k': 99, 'ultra': 2921, 'i9': 1204, '10980xe': 10, '46ghz': 71, 'intel': 1268, 'core': 620, 'i7': 1203, '10700k': 9, '50ghz': 80, 'gain': 1010, '15k': 22, 'tcox46okeyp6r': 2743, 'tcolsqxt7rd8j': 2613, 'tcoqq5mq1ttwo': 2672, 'razor': 2008, 'venti': 2969, 'probably': 1939, 'tcokzqptgtnvm': 2603, 'yahoo': 3117, 'tcoop7k1ewrrd': 2643, 'sou': 2288, 'pistola': 1865, 'pjsrola': 1869, 'pjsruly': 1870, 'tsubame': 2896, 'fetus': 924, 'coded': 554, 'pleaseeeeeeeeeeee': 1888, 'tcosr2iqqqn1s': 2696, 'djdnt': 749, 'kniw': 1376, 'ppl': 1921, 'hyperfixations': 1200, 'f': 884, 'fr': 974, 'automate': 266, 'almost': 173, 'neck': 1675, 'complaining': 580, 'tcoueflnwlfh8': 2714, 'differently': 726, 'genuinely': 1029, 'supportive': 2371, 'understanding': 2929, 'tcogqaarqfgwb': 2556, 'tcoaimjzbt1yt': 2489, 'tough': 2863, 'loss': 1484, 'chelsea': 511, 'deserves': 710, 'apology': 218, 'enterprise': 840, 'lower': 1496, 'low': 1495, 'series': 2170, 'phlox': 1850, 'tcomhiroqq3lh': 2622, 'tcogn0hsmgs58': 2555, 'vagina': 2964, 'formal': 967, '27': 55, 'lesbian': 1430, 'tco8gonwssnsa': 2469, 'stock': 2331, 'ocs': 1736, 'jamming': 1304, 'employee': 830, 'slacking': 2242, 'weekend': 3030, 'famili': 896, 'tcokrb65ezcve': 2601, 'weak': 3025, 'mark': 1536, 'lee': 1424, 'compliance': 583, 'competing': 575, 'youngboy': 3141, 'worded': 3082, 'depression': 706, 'tco7pps0s235p': 2463, 'pvp': 1968, 'pokémongo': 1899, 'tcol7qdqqkkai': 2604, 'atlanta': 256, 'partly': 1816, 'cloudy': 546, '69f': 89, 'tcobbujt7gwim': 2494, 'sooo': 2281, 'biden': 335, 'president': 1930, 'impeach': 1230, 'doesn': 759, 'villian': 2980, 'arc': 229, 'posttimeskip': 1915, 'postponed': 1914, 'mpsc': 1644, 'exam': 867, 'minimum': 1602, 'hai': 1107, 'indonesian': 1246, 'english': 836, 'isn': 1285, 'assistance': 250, 'recovery': 2027, 'bestie': 327, 'fucking': 997, 'society': 2264, 'many': 1528, 'itching': 1293, 'biased': 333, 'eno': 837, 'tcozhltti0gql': 2767, 'sick': 2212, 'tco9kffaeqfma': 2475, 'silver': 2218, 'meth': 1579, 'dmxhospitalized': 754, 'dmxupdate': 755, 'jesus': 1319, 'walking': 3003, 'tcopcxa2cdfxz': 2649, 'complimented': 585, 'bothering': 387, 'thoug': 2815, 'tco3hjdxsi4or': 2436, 'tco3aoub1qjbm': 2434, 'hannah': 1117, 'beach': 302, 'july': 1338, 'impulse': 1234, 'bikini': 337, 'screamed': 2142, 'loudly': 1488, 'spring': 2311, 'eating': 810, 'ult': 2919, 'skz': 2241, 'loona': 1478, 'ateez': 255, 'twice': 2907, 'itzy': 1295, 'bp': 395, 'remembering': 2051, 'djfjfj': 750, 'politics': 1902, 'mild': 1593, 'irritant': 1284, 'seriously': 2172, 'ugh': 2914, 'telepathy': 2782, 'indomy': 1245, 'stress': 2344, 'mel': 1564, 'hyx': 1202, 'plus': 1894, 'cheat': 505, 'spend': 2301, 'nice': 1698, 'tcoqc99spubcb': 2667, 'sneakily': 2258, 'sholat': 2196, 'albedo': 163, 'pat': 1823, 'brushing': 419, 'klee': 1371, 'fishe': 941, 'tco0lcefxgske': 2419, 'thawra': 2803, 'slogan': 2247, 'keloun': 1350, 'ya3ne': 3112, 'rather': 2006, 'focus': 954, 'sham': 2181, 'tco9g8tgnfnen': 2473, 'spray': 2309, 'stuff': 2353, '900': 96, '41': 67, 'bored': 383, 'lockdown': 1469, 'solution': 2268, 'tcorg4ttkeyrr': 2677, 'hmmmmm': 1170, 'senate': 2165, 'useful': 2952, 'idiotkkk': 1210, 'tco9u2nr3fm8x': 2478, 'interacted': 1271, 'bish': 343, 'alive': 170, 'aaaaaaaaaa': 104, 'tcoe14i8cyz3n': 2527, 'ab': 108, 'conversation': 609, 'outtttaaaa': 1791, 'kodrea': 1383, 'alwas': 181, 'through': 2822, 'tcoxu8vvvhh8d': 2750, 'homo': 1178, 'tcoaqtlpjpobi': 2492, 'champed': 490, 'alright': 178, 'semblence': 2164, 'flip': 950, 'chart': 501, 'box': 392, 'arrow': 236, 'label': 1396, 'tcoghhiur8vlr': 2554, 'cheer': 508, 'captain': 459, 'bleacher': 353, 'ly': 1506, 'tcozu6fqj7zg2': 2770, '2004': 36, 'moronic': 1632, 'garlic': 1017, '2017': 42, 'superb': 2367, 'amaryllis': 184, 'following': 956, 'sofia': 2266, 'coppola': 618, 'princess': 1936, 'diana': 720, 'challenge': 488, 'purr': 1962, 'tcovuptaiszws': 2729, 'tap': 2404, 'tcojzcf1vdwjf': 2592, 'french': 980, 'summer': 2362, 'masochist': 1542, 'friendship': 984, 'tcocxr5aojkub': 2515, 'gentleness': 1026, 'known': 1380, 'philippian': 1849, '45': 70, 'nkjv': 1706, 'justice': 1345, 'respect': 2066, 'hunmanity': 1197, 'earth': 807, 'country': 630, 'uk': 2918, 'recognizing': 2024, 'tcoxyiosaurku': 2752, 'white': 3046, 'esperando': 846, 'la': 1393, '8va': 94, 'temporada': 2786, 'merry': 1576, 'grief': 1081, 'refrain': 2032, 'waffle': 2995, 'tcolili0infdo': 2609, 'pledis': 1889, 'drum': 789, 'must': 1654, 'dis': 735, 'basic': 295, 'consumerism': 597, 'bright': 408, 'resale': 2063, 'higher': 1162, 'oooh': 1763, 'romaance': 2096, 'tco532ez6zy04': 2444, 'hanger': 1116, 'pack': 1802, 'tcowtk3fr3mm9': 2738, 'closetorganization': 545, 'closetmakeover': 544, 'closetideas': 543, 'tcomrkjs31eq9': 2624, 'vision': 2986, 'board': 366, 'daughter': 679, 'miniature': 1601, 'gay': 1018, 'affordable': 144, 'delivery': 701, 'buhleni': 427, 'manzini': 1529, 'tcoepnvfzqlrw': 2537, 'xd': 3106, 'sweat': 2378, 'bravery': 400, 'collective': 562, 'history': 1168, 'repeat': 2056, 'equip': 843, 'tcozdchx6lj3w': 2764, 'accidental': 125, 'father': 904, 'glad': 1043, 'fruity': 989, 'confess': 590, 'border': 382, 'planet': 1875, 'tconcaqbi3rwh': 2629, 'peace': 1830, 'medical': 1559, 'tcohr0kyqo20m': 2562, 'useless': 2953, 'helpless': 1154, 'whatever': 3039, 'nope': 1711, 'tco8si9bkmwpa': 2471, 'columbia': 565, 'sc': 2134, 'ap': 216, 'robert': 2090, 'lesslie': 1431, 'physician': 1855, 'authority': 264, 'killed': 1357, 'tcowvuilkkuam': 2739, 'added': 136, 'killian': 1358, 'wonen': 3077, 'ta': 2389, 'stunning': 2354, 'jinkook': 1321, 'hearteuuuu': 1146, 'tco6oqp4agqg8': 2455, 'apart': 217, '63rd': 87, 'fbg': 909, 'butta': 433, 'together': 2849, 'odee': 1737, 'tco01msrcmrgz': 2416, 'tcoyanyshvato': 2755, 'leftist': 1426, 'shooter': 2199, 'tcozvhfp8fbbm': 2772, 'admit': 140, 'loli': 1472, 'porn': 1908, 'tcot5muirhoe8': 2700, 'shine': 2190, 'watched': 3017, 'faaaadeee': 885, 'tcovobadwsulw': 2725, 'sheesh': 2186, 'chun': 524, 'li': 1435, 'whats': 3040, 'blocked': 357, 'x': 3105, 'gulf': 1093, 'rajiv': 1998, 'regret': 2038, 'inconvenience': 1240, 'caused': 479, 'query': 1980, 'forwarded': 971, 'concerned': 588, 'tcockyxy4pg6m': 2507, 'limited': 1444, 'sympathy': 2386, 'whose': 3050, 'family': 897, 'directly': 734, 'contributed': 605, 'extreme': 880, 'selfes': 2162, 'tcorzjxxmfv3i': 2684, 'fails': 891, 'figure': 931, 'misplaced': 1607, 'lead': 1416, 'searching': 2150, 'mari': 1534, 'swal': 2377, 'tcox1lz7tqou0': 2740, 'observation': 1732, 'tolerate': 2851, 'waiter': 2998, 'blood': 360, 'boil': 371, 'apparently': 220, 'interacting': 1272, 'mor': 1629, 'tcolkbgcbpjjx': 2610, 'savelelwa': 2128, 'ifake': 1213, 'ey': 882, 'tcoxvtg89xhrh': 2751, 'hasn': 1128, 'tcoakv7agejb9': 2490, 'carole': 467, 'jaylen': 1311, 'gossiping': 1064, 'reading': 2013, 'bible': 334, 'gossip': 1063, 'eavesdropping': 812, 'tcoddii585imo': 2521, 'bb': 299, 'street': 2343, 'fighter': 929, 'tco3b8ji9mwge': 2435, 'jeon': 1316, 'jungkook': 1341, 'gosh': 1061, 'mettaton_ex': 1582, 'undertale': 2931, 'mettaton': 1581, 'tcotobzai8bte': 2704, 'pleaseee': 1886, 'uno': 2938, 'card': 462, 'shinseido': 2191, 'nvm': 1726, 'izone': 1300, 'anywherewithizone': 214, 'grayscale': 1074, 'bitcoin': 346, 'convert': 610, 'etf': 849, 'premium': 1927, 'negative': 1678, 'tcoamlzmxksem': 2491, 'tco2dglaka0zn': 2430, 'lack': 1399, 'thereof': 2807, 'alot': 175, 'included': 1237, 'tony': 2857, 'hawk': 1137, 'af': 141, 'ohhh': 1745, 'shiit': 2189, 'scoorio': 2140, 'similatiry': 2220, 'unintentional': 2934, 'cure': 658, 'ail': 156, 'tcomcdlureaty': 2619, 'riddiculous': 2075, 'issue': 1289, 'fecking': 914, 'calculation': 441, 'toomuchtech': 2860, 'tco8gjbmbjxxc': 2468, 'bog': 370, 'ft': 992, 'dream11': 781, 'prediction': 1925, 'fantasy': 900, 'cricket': 645, 'tip': 2839, 'xi': 3108, 'pitch': 1866, 'injury': 1251, 'tcoez3qnxaoyp': 2540, 'ing': 1249, 'spittin': 2307, 'suddenly': 2361, 'tcouhawcvsx1t': 2715, 'mon': 1620, 'tight': 2829, 'jeopardize': 1317, 'shitter': 2194, 'yassir': 3120, 'finna': 937, 'yt': 3147, 'cod': 552, 'boring': 384, 'vocal': 2989, 'yuh': 3149, 'vivid': 2988, 'flashback': 945, 'specific': 2299, 'thief': 2810, 'announcement': 203, 'becoming': 308, 'coowner': 616, 'chatted': 503, 'tcofwvdqqoiul': 2551, 'hastag': 1129, 'studentswantsjustice': 2349, 'pahlejaanfirexam': 1803, '12noon': 17, 'tcozzkq0iyafj': 2773, 'tearing': 2778, '0547': 1, '09': 3, 'sounded': 2292, 'whataboutism': 3038, 'pedogaetz': 1831, 'accused': 129, 'cking': 527, 'minor': 1604, 'relative': 2044, 'tras': 2874, 'mix': 1612, 'constantly': 595, 'underage': 2927, 'serious': 2171, 'kimmy': 1359, 'blanco': 351, 'tcocjgsu1jvf3': 2506, 'cost': 625, 'benefit': 322, 'worked': 3084, 'grey': 1080, 'tcou8oebpqab0': 2712, 'monsoon': 1623, 'autumn': 267, 'flush': 952, 'indian': 1244, 'tea': 2775, 'missed': 1609, 'bucket': 425, '220': 49, 'sense': 2167, 'dunno': 797, 'shook': 2197, 'btw': 422, 'tcobccbjpstvo': 2495, 'somebody': 2270, 'edit': 816, 'fics': 926, 'ayupkrisxmrsblossom': 277, 'tommyinnit': 2853, '17': 25, 'jkekmwwns': 1322, 'qual': 1976, 'either': 821, 'derp': 707, 'genre': 1024, 'chill': 516, 'creator': 643, 'reply': 2057, 'yeu': 3135, 'township': 2866, 'strike': 2345, 'successfully': 2358, 'marched': 1532, 'protested': 1952, 'federal': 915, 'democrcay': 703, 'apr': 224, 'asse': 247, 'tcozalqzj9tej': 2761, 'yuna': 3150, 'aoty': 215, 'yaar': 3114, 'yeaaaa': 3123, 'durk': 799, 'tco9maredbysr': 2476, 'soooooo': 2282, 'trueeeee': 2886, 'lady': 1400, 'washer': 3010, 'dollar': 763, 'tf': 2793, 'tcox50cz3sko7': 2744, 'tcoiypmgerw3v': 2578, 'smsm': 2257, 'cakep': 440, '𝐋𝐚𝐬𝐭𝐞𝐥𝐥': 3171, 'phase': 1847, 'o1': 1729, 'greatly': 1078, 'appreciated': 222, 'जनकरह_जरर_पढ': 3162, 'jane': 1305, 'ki': 1354, 'raah': 1986, 'ge': 1019, 'tcotq2gwoypzi': 2705, 'hiii': 1164, 'moot': 1628, 'yaa': 3113, 'tcoecfrp3iosf': 2532, 'nft': 1694, 'super': 2366, 'nervous': 1684, 'nftcommunity': 1695, 'kollywood': 1384, 'urcinemas': 2947, 'tcop4ulmyu9ad': 2647, 'thoes': 2814, 'destinationbe': 715, 'decisivebe': 694, 'accurate': 128, 'ali': 169, 'tconivraoxcvv': 2632, 'tcolp7n02o6xa': 2612, 'pleaseeee': 1887, 'tcom8y1mm0yql': 2617, 'owner': 1796, 'facility': 887, 'tcoevyjpenvyv': 2539, 'spite': 2306, 'mechanical': 1558, 'magnifificense': 1514, 'continuous': 603, 'tcoelq7pn6kdq': 2536, '07l': 2, 'terminator': 2790, 'minipuft': 1603, 'ghostbustersafterlife': 1037, 'tco6bj4zdgjcp': 2451, 'intention': 1270, 'count': 628, 'pottery': 1917, 'taunggyi': 2410, 'shan': 2182, 'tcoqq1ypolqwe': 2671, 'realllyy': 2018, 'carry': 470, 'onouter': 1760, 'sevenyearold': 2176, 'ragaaa': 1993, 'sksksksksk': 2239, 'released': 2046, 'happiest': 1121, 'tcoeaunudh6xt': 2530, 'insensitivity': 1255, 'sayin': 2131, 'tcos0cvfhwpip': 2685, '스테이_트친소': 3168, 'kstay': 1388, 'istay': 1291, 'lstay': 1499, 'seamos': 2149, 'amigas': 188, 'tco1lavrhjsss': 2425, 'fire': 938, 'burning': 431, 'roha': 2093, 'tcos3ztzfqakr': 2687, 'polo': 1903, 'g': 1006, 'goated': 1047, 'fer': 922, 'sing': 2224, 'hallelujaaaaaaaaaah': 1110, 'movieseries': 1642, 'recommendation': 2026, 'brow': 415, 'fleek': 948, 'gold': 1051, 'rush': 2109, 'mingyu': 1599, 'cheap': 504, 'oti': 1781, 'yin': 3137, 'tcof2pxhwx7mg': 2542, 'tan': 2402, 'hermosa': 1158, 'da': 669, 'una': 2924, 'paz': 1828, 'voz': 2992, 'de': 686, 'billie': 338, 'youtube': 3144, 'tcogddxol2gob': 2553, 'tcoxryfumqgbu': 2747, 'excellent': 868, 'relate': 2042, 'bless': 354}\n"
          ],
          "name": "stdout"
        }
      ]
    },
    {
      "cell_type": "code",
      "metadata": {
        "id": "CFoIe0avcpVt"
      },
      "source": [
        "#### TF-IDF Vectorize ####\n",
        "\n",
        "# Note that smoothing is done by default\n",
        "tfidf = TfidfTransformer()\n",
        "\n",
        "tfs = tfidf.fit_transform(counts)\n",
        "\n",
        "# Let's use the TFIDF counts for modelling\n",
        "X = tfs.toarray()\n",
        "\n",
        "# Split the data into training and test sets\n",
        "X_train, X_test, y_train, y_test = train_test_split(X, y, test_size = 0.2, random_state = 42)\n",
        "\n",
        "# First three rows of training features and labels"
      ],
      "execution_count": null,
      "outputs": []
    },
    {
      "cell_type": "code",
      "metadata": {
        "id": "pduyxC3-dBxz",
        "colab": {
          "base_uri": "https://localhost:8080/",
          "height": 538
        },
        "outputId": "dadbdabd-a1bb-4bab-9a56-1f1472c3adcc"
      },
      "source": [
        "from sklearn.naive_bayes import MultinomialNB\n",
        "from sklearn.metrics import accuracy_score, roc_curve\n",
        "import matplotlib.pyplot as plt\n",
        "from sklearn.metrics import confusion_matrix\n",
        "from sklearn.metrics import classification_report\n",
        "import matplotlib.pyplot as plt\n",
        "%matplotlib inline\n",
        "\n",
        "# Let's fit the Naive Bayes model to our training data\n",
        "nb = MultinomialNB()\n",
        "# Fit model to training data\n",
        "nb.fit(X_train, y_train)\n",
        "# Predict on test data\n",
        "y_preds = nb.predict(X_test)\n",
        "\n",
        "print('Test accuracy with simple Naive Bayes:',accuracy_score(y_test,y_preds))\n",
        "\n",
        "# fpr, tpr, thresholds = roc_curve(y_test, y_preds, pos_label = 1)\n",
        "\n",
        "# plt.plot(fpr,tpr)\n",
        "# plt.xlabel('False Positive Rate')\n",
        "# plt.ylabel('True Positive Rate')\n",
        "# plt.title('Receiver Operator Characteristic (ROC) Curve for RF')\n",
        "# plt.show()\n",
        "\n",
        "labels = [0,1,2]\n",
        "print(classification_report(y_test, y_preds, labels)) #classification report from sklearn\n",
        "cnf_matrix = confusion_matrix(y_test, y_preds, labels=labels)\n",
        "plt.imshow(cnf_matrix, cmap=plt.cm.Blues) #plot confusion matrix grid\n",
        "threshold = cnf_matrix.max() / 2 #threshold to define text color\n",
        "for i in range(cnf_matrix.shape[0]): #print text in grid\n",
        "    for j in range(cnf_matrix.shape[1]): \n",
        "        plt.text(j, i, cnf_matrix[i,j], color=\"w\" if cnf_matrix[i,j] > threshold else 'black')\n",
        "tick_marks = np.arange(len(labels)) #define labeling spacing based on number of classes\n",
        "plt.xticks(tick_marks, labels, rotation=45)\n",
        "plt.yticks(tick_marks, labels)\n",
        "plt.ylabel('True label')\n",
        "plt.xlabel('Predicted label')\n",
        "plt.colorbar()\n",
        "plt.tight_layout()"
      ],
      "execution_count": null,
      "outputs": [
        {
          "output_type": "stream",
          "text": [
            "Test accuracy with simple Naive Bayes: 0.69\n",
            "              precision    recall  f1-score   support\n",
            "\n",
            "           0       0.00      0.00      0.00        52\n",
            "           1       0.69      1.00      0.82       138\n",
            "           2       0.00      0.00      0.00        10\n",
            "\n",
            "    accuracy                           0.69       200\n",
            "   macro avg       0.23      0.33      0.27       200\n",
            "weighted avg       0.48      0.69      0.56       200\n",
            "\n"
          ],
          "name": "stdout"
        },
        {
          "output_type": "stream",
          "text": [
            "/usr/local/lib/python3.7/dist-packages/sklearn/metrics/_classification.py:1272: UndefinedMetricWarning: Precision and F-score are ill-defined and being set to 0.0 in labels with no predicted samples. Use `zero_division` parameter to control this behavior.\n",
            "  _warn_prf(average, modifier, msg_start, len(result))\n"
          ],
          "name": "stderr"
        },
        {
          "output_type": "display_data",
          "data": {
            "image/png": "[encoded data removed]",
            "text/plain": [
              "<Figure size 432x288 with 2 Axes>"
            ]
          },
          "metadata": {
            "tags": [],
            "needs_background": "light"
          }
        }
      ]
    },
    {
      "cell_type": "code",
      "metadata": {
        "id": "ZZr7Jk_p1IIv",
        "colab": {
          "base_uri": "https://localhost:8080/"
        },
        "outputId": "ba8f8421-2498-42ea-d24b-5149e612272e"
      },
      "source": [
        "from sklearn.ensemble import RandomForestClassifier\n",
        "\n",
        "# Instantiate the model object\n",
        "rfclf = RandomForestClassifier(n_estimators = 50, max_depth = 6, random_state = 10, max_features='log2')\n",
        "\n",
        "# Fit the model to the data\n",
        "rfclf.fit(X_train, y_train)\n",
        "\n",
        "# Get fitted values from test set\n",
        "y_test_preds_rf = rfclf.predict(X_test)\n",
        "\n",
        "test_acc = accuracy_score(y_test, y_test_preds_rf)\n",
        "\n",
        "print('Test Accuracy: ',test_acc)"
      ],
      "execution_count": null,
      "outputs": [
        {
          "output_type": "stream",
          "text": [
            "Test Accuracy:  0.69\n"
          ],
          "name": "stdout"
        }
      ]
    },
    {
      "cell_type": "markdown",
      "metadata": {
        "id": "-PvbvlnVIuIz"
      },
      "source": [
        "**export to csv**"
      ]
    },
    {
      "cell_type": "code",
      "metadata": {
        "id": "ZfwkP7-jINUh"
      },
      "source": [
        "df.to_csv(r'Path where you want to store the exported CSV file\\File Name.csv')"
      ],
      "execution_count": null,
      "outputs": []
    }
  ]
}